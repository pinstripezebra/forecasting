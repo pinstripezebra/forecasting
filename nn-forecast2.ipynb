{
 "cells": [
  {
   "cell_type": "code",
   "execution_count": 1,
   "metadata": {},
   "outputs": [],
   "source": [
    "import datetime\n",
    "\n",
    "import numpy as np\n",
    "import pandas as pd\n",
    "import seaborn as sns\n",
    "import tensorflow as tf\n",
    "import matplotlib.pyplot as plt\n",
    "\n",
    "import tensorflow as tf\n",
    "from tensorflow.keras.models import Sequential\n",
    "from tensorflow.keras.layers import Dense\n",
    "from tensorflow.keras.layers import LSTM\n",
    "from sklearn.preprocessing import MinMaxScaler\n",
    "from sklearn.metrics import mean_squared_error\n",
    "import warnings\n",
    "warnings.filterwarnings('ignore')\n",
    "\n",
    "# Importing custom libraries\n",
    "import sys\n",
    "sys.path.append('/utilities/')\n",
    "from utilities.data_manipulation import pivot_dataframe, convert_to_supervised, rename_dataframe_supervised, plot_results\n",
    "\n",
    "# Random seed for reproducibility\n",
    "tf.random.set_seed(42)\n",
    "\n",
    "REFRESH_DATA = False\n",
    "DATA_QUANTITY = 200"
   ]
  },
  {
   "cell_type": "markdown",
   "metadata": {},
   "source": [
    "### Loading Data"
   ]
  },
  {
   "cell_type": "code",
   "execution_count": 2,
   "metadata": {},
   "outputs": [
    {
     "data": {
      "text/html": [
       "<div>\n",
       "<style scoped>\n",
       "    .dataframe tbody tr th:only-of-type {\n",
       "        vertical-align: middle;\n",
       "    }\n",
       "\n",
       "    .dataframe tbody tr th {\n",
       "        vertical-align: top;\n",
       "    }\n",
       "\n",
       "    .dataframe thead th {\n",
       "        text-align: right;\n",
       "    }\n",
       "</style>\n",
       "<table border=\"1\" class=\"dataframe\">\n",
       "  <thead>\n",
       "    <tr style=\"text-align: right;\">\n",
       "      <th></th>\n",
       "      <th>Value</th>\n",
       "      <th>location</th>\n",
       "      <th>parameter</th>\n",
       "      <th>longitude</th>\n",
       "      <th>latitude</th>\n",
       "      <th>Date</th>\n",
       "    </tr>\n",
       "  </thead>\n",
       "  <tbody>\n",
       "    <tr>\n",
       "      <th>0</th>\n",
       "      <td>2.8</td>\n",
       "      <td>1064</td>\n",
       "      <td>pm25</td>\n",
       "      <td>-122.602877</td>\n",
       "      <td>45.496641</td>\n",
       "      <td>2024-08-22 12:00:00+00:00</td>\n",
       "    </tr>\n",
       "    <tr>\n",
       "      <th>1</th>\n",
       "      <td>2.7</td>\n",
       "      <td>1064</td>\n",
       "      <td>pm25</td>\n",
       "      <td>-122.602877</td>\n",
       "      <td>45.496641</td>\n",
       "      <td>2024-08-22 11:00:00+00:00</td>\n",
       "    </tr>\n",
       "    <tr>\n",
       "      <th>2</th>\n",
       "      <td>2.6</td>\n",
       "      <td>1064</td>\n",
       "      <td>pm25</td>\n",
       "      <td>-122.602877</td>\n",
       "      <td>45.496641</td>\n",
       "      <td>2024-08-22 10:00:00+00:00</td>\n",
       "    </tr>\n",
       "    <tr>\n",
       "      <th>3</th>\n",
       "      <td>2.7</td>\n",
       "      <td>1064</td>\n",
       "      <td>pm25</td>\n",
       "      <td>-122.602877</td>\n",
       "      <td>45.496641</td>\n",
       "      <td>2024-08-22 09:00:00+00:00</td>\n",
       "    </tr>\n",
       "    <tr>\n",
       "      <th>4</th>\n",
       "      <td>2.6</td>\n",
       "      <td>1064</td>\n",
       "      <td>pm25</td>\n",
       "      <td>-122.602877</td>\n",
       "      <td>45.496641</td>\n",
       "      <td>2024-08-22 08:00:00+00:00</td>\n",
       "    </tr>\n",
       "    <tr>\n",
       "      <th>5</th>\n",
       "      <td>2.5</td>\n",
       "      <td>1064</td>\n",
       "      <td>pm25</td>\n",
       "      <td>-122.602877</td>\n",
       "      <td>45.496641</td>\n",
       "      <td>2024-08-22 07:00:00+00:00</td>\n",
       "    </tr>\n",
       "    <tr>\n",
       "      <th>6</th>\n",
       "      <td>2.4</td>\n",
       "      <td>1064</td>\n",
       "      <td>pm25</td>\n",
       "      <td>-122.602877</td>\n",
       "      <td>45.496641</td>\n",
       "      <td>2024-08-22 06:00:00+00:00</td>\n",
       "    </tr>\n",
       "    <tr>\n",
       "      <th>7</th>\n",
       "      <td>2.7</td>\n",
       "      <td>1064</td>\n",
       "      <td>pm25</td>\n",
       "      <td>-122.602877</td>\n",
       "      <td>45.496641</td>\n",
       "      <td>2024-08-22 05:00:00+00:00</td>\n",
       "    </tr>\n",
       "    <tr>\n",
       "      <th>8</th>\n",
       "      <td>2.7</td>\n",
       "      <td>1064</td>\n",
       "      <td>pm25</td>\n",
       "      <td>-122.602877</td>\n",
       "      <td>45.496641</td>\n",
       "      <td>2024-08-22 04:00:00+00:00</td>\n",
       "    </tr>\n",
       "    <tr>\n",
       "      <th>9</th>\n",
       "      <td>2.9</td>\n",
       "      <td>1064</td>\n",
       "      <td>pm25</td>\n",
       "      <td>-122.602877</td>\n",
       "      <td>45.496641</td>\n",
       "      <td>2024-08-22 03:00:00+00:00</td>\n",
       "    </tr>\n",
       "  </tbody>\n",
       "</table>\n",
       "</div>"
      ],
      "text/plain": [
       "   Value location parameter   longitude   latitude                       Date\n",
       "0    2.8     1064      pm25 -122.602877  45.496641  2024-08-22 12:00:00+00:00\n",
       "1    2.7     1064      pm25 -122.602877  45.496641  2024-08-22 11:00:00+00:00\n",
       "2    2.6     1064      pm25 -122.602877  45.496641  2024-08-22 10:00:00+00:00\n",
       "3    2.7     1064      pm25 -122.602877  45.496641  2024-08-22 09:00:00+00:00\n",
       "4    2.6     1064      pm25 -122.602877  45.496641  2024-08-22 08:00:00+00:00\n",
       "5    2.5     1064      pm25 -122.602877  45.496641  2024-08-22 07:00:00+00:00\n",
       "6    2.4     1064      pm25 -122.602877  45.496641  2024-08-22 06:00:00+00:00\n",
       "7    2.7     1064      pm25 -122.602877  45.496641  2024-08-22 05:00:00+00:00\n",
       "8    2.7     1064      pm25 -122.602877  45.496641  2024-08-22 04:00:00+00:00\n",
       "9    2.9     1064      pm25 -122.602877  45.496641  2024-08-22 03:00:00+00:00"
      ]
     },
     "execution_count": 2,
     "metadata": {},
     "output_type": "execute_result"
    }
   ],
   "source": [
    "# Defining city id's\n",
    "ids = ['1064', '1067']\n",
    "\n",
    "\n",
    "# Creating \n",
    "combined_df = []\n",
    "if REFRESH_DATA:\n",
    "    air_measurements = []\n",
    "    # Iterating through sensor locations and creating object to store data for each\n",
    "    for location in ids:\n",
    "        quality = AirQuality(location)\n",
    "        quality.pull_data(DATA_QUANTITY )\n",
    "        air_measurements.append(quality.raw_data)\n",
    "\n",
    "    combined_df = pd.concat(air_measurements)\n",
    "    combined_df.to_csv('./Data/air_polution.csv')\n",
    "else:\n",
    "    combined_df = pd.read_csv('./Data/air_polution.csv')\n",
    "    combined_df = combined_df.drop(columns = ['Unnamed: 0'])\n",
    "\n",
    "combined_df['location'] = combined_df['location'].astype(str)\n",
    "combined_df = combined_df.drop(columns = ['Date'])\n",
    "combined_df = combined_df.rename(columns = {'Data_Converted': 'Date'})\n",
    "combined_df = combined_df[combined_df['location'].isin(ids)].reset_index(drop=True)\n",
    "combined_df.head(10)"
   ]
  },
  {
   "cell_type": "code",
   "execution_count": 3,
   "metadata": {},
   "outputs": [
    {
     "data": {
      "text/html": [
       "<div>\n",
       "<style scoped>\n",
       "    .dataframe tbody tr th:only-of-type {\n",
       "        vertical-align: middle;\n",
       "    }\n",
       "\n",
       "    .dataframe tbody tr th {\n",
       "        vertical-align: top;\n",
       "    }\n",
       "\n",
       "    .dataframe thead th {\n",
       "        text-align: right;\n",
       "    }\n",
       "</style>\n",
       "<table border=\"1\" class=\"dataframe\">\n",
       "  <thead>\n",
       "    <tr style=\"text-align: right;\">\n",
       "      <th></th>\n",
       "      <th>1064</th>\n",
       "      <th>1067</th>\n",
       "      <th>Date</th>\n",
       "    </tr>\n",
       "  </thead>\n",
       "  <tbody>\n",
       "    <tr>\n",
       "      <th>0</th>\n",
       "      <td>2.8</td>\n",
       "      <td>2.8</td>\n",
       "      <td>2024-08-22 12:00:00+00:00</td>\n",
       "    </tr>\n",
       "    <tr>\n",
       "      <th>1</th>\n",
       "      <td>2.7</td>\n",
       "      <td>2.8</td>\n",
       "      <td>2024-08-22 11:00:00+00:00</td>\n",
       "    </tr>\n",
       "    <tr>\n",
       "      <th>2</th>\n",
       "      <td>2.6</td>\n",
       "      <td>2.7</td>\n",
       "      <td>2024-08-22 10:00:00+00:00</td>\n",
       "    </tr>\n",
       "    <tr>\n",
       "      <th>3</th>\n",
       "      <td>2.7</td>\n",
       "      <td>2.6</td>\n",
       "      <td>2024-08-22 09:00:00+00:00</td>\n",
       "    </tr>\n",
       "    <tr>\n",
       "      <th>4</th>\n",
       "      <td>2.6</td>\n",
       "      <td>2.4</td>\n",
       "      <td>2024-08-22 08:00:00+00:00</td>\n",
       "    </tr>\n",
       "    <tr>\n",
       "      <th>5</th>\n",
       "      <td>2.5</td>\n",
       "      <td>2.5</td>\n",
       "      <td>2024-08-22 07:00:00+00:00</td>\n",
       "    </tr>\n",
       "    <tr>\n",
       "      <th>6</th>\n",
       "      <td>2.4</td>\n",
       "      <td>2.3</td>\n",
       "      <td>2024-08-22 06:00:00+00:00</td>\n",
       "    </tr>\n",
       "    <tr>\n",
       "      <th>7</th>\n",
       "      <td>2.7</td>\n",
       "      <td>2.6</td>\n",
       "      <td>2024-08-22 05:00:00+00:00</td>\n",
       "    </tr>\n",
       "    <tr>\n",
       "      <th>8</th>\n",
       "      <td>2.7</td>\n",
       "      <td>2.8</td>\n",
       "      <td>2024-08-22 04:00:00+00:00</td>\n",
       "    </tr>\n",
       "    <tr>\n",
       "      <th>9</th>\n",
       "      <td>2.9</td>\n",
       "      <td>2.9</td>\n",
       "      <td>2024-08-22 03:00:00+00:00</td>\n",
       "    </tr>\n",
       "  </tbody>\n",
       "</table>\n",
       "</div>"
      ],
      "text/plain": [
       "   1064  1067                       Date\n",
       "0   2.8   2.8  2024-08-22 12:00:00+00:00\n",
       "1   2.7   2.8  2024-08-22 11:00:00+00:00\n",
       "2   2.6   2.7  2024-08-22 10:00:00+00:00\n",
       "3   2.7   2.6  2024-08-22 09:00:00+00:00\n",
       "4   2.6   2.4  2024-08-22 08:00:00+00:00\n",
       "5   2.5   2.5  2024-08-22 07:00:00+00:00\n",
       "6   2.4   2.3  2024-08-22 06:00:00+00:00\n",
       "7   2.7   2.6  2024-08-22 05:00:00+00:00\n",
       "8   2.7   2.8  2024-08-22 04:00:00+00:00\n",
       "9   2.9   2.9  2024-08-22 03:00:00+00:00"
      ]
     },
     "execution_count": 3,
     "metadata": {},
     "output_type": "execute_result"
    }
   ],
   "source": [
    "identifier_col = 'location'\n",
    "value_col = 'Value'\n",
    "formatted_df = pivot_dataframe(combined_df, identifier_col, value_col)\n",
    "formatted_df.head(10)"
   ]
  },
  {
   "cell_type": "markdown",
   "metadata": {},
   "source": [
    "### First Trying with Just One Series"
   ]
  },
  {
   "cell_type": "code",
   "execution_count": 4,
   "metadata": {},
   "outputs": [
    {
     "data": {
      "text/html": [
       "<div>\n",
       "<style scoped>\n",
       "    .dataframe tbody tr th:only-of-type {\n",
       "        vertical-align: middle;\n",
       "    }\n",
       "\n",
       "    .dataframe tbody tr th {\n",
       "        vertical-align: top;\n",
       "    }\n",
       "\n",
       "    .dataframe thead th {\n",
       "        text-align: right;\n",
       "    }\n",
       "</style>\n",
       "<table border=\"1\" class=\"dataframe\">\n",
       "  <thead>\n",
       "    <tr style=\"text-align: right;\">\n",
       "      <th></th>\n",
       "      <th>1064</th>\n",
       "      <th>Date</th>\n",
       "    </tr>\n",
       "  </thead>\n",
       "  <tbody>\n",
       "    <tr>\n",
       "      <th>0</th>\n",
       "      <td>0.043478</td>\n",
       "      <td>2024-08-22 12:00:00+00:00</td>\n",
       "    </tr>\n",
       "    <tr>\n",
       "      <th>1</th>\n",
       "      <td>0.034783</td>\n",
       "      <td>2024-08-22 11:00:00+00:00</td>\n",
       "    </tr>\n",
       "    <tr>\n",
       "      <th>2</th>\n",
       "      <td>0.026087</td>\n",
       "      <td>2024-08-22 10:00:00+00:00</td>\n",
       "    </tr>\n",
       "    <tr>\n",
       "      <th>3</th>\n",
       "      <td>0.034783</td>\n",
       "      <td>2024-08-22 09:00:00+00:00</td>\n",
       "    </tr>\n",
       "    <tr>\n",
       "      <th>4</th>\n",
       "      <td>0.026087</td>\n",
       "      <td>2024-08-22 08:00:00+00:00</td>\n",
       "    </tr>\n",
       "    <tr>\n",
       "      <th>5</th>\n",
       "      <td>0.017391</td>\n",
       "      <td>2024-08-22 07:00:00+00:00</td>\n",
       "    </tr>\n",
       "    <tr>\n",
       "      <th>6</th>\n",
       "      <td>0.008696</td>\n",
       "      <td>2024-08-22 06:00:00+00:00</td>\n",
       "    </tr>\n",
       "    <tr>\n",
       "      <th>7</th>\n",
       "      <td>0.034783</td>\n",
       "      <td>2024-08-22 05:00:00+00:00</td>\n",
       "    </tr>\n",
       "    <tr>\n",
       "      <th>8</th>\n",
       "      <td>0.034783</td>\n",
       "      <td>2024-08-22 04:00:00+00:00</td>\n",
       "    </tr>\n",
       "    <tr>\n",
       "      <th>9</th>\n",
       "      <td>0.052174</td>\n",
       "      <td>2024-08-22 03:00:00+00:00</td>\n",
       "    </tr>\n",
       "  </tbody>\n",
       "</table>\n",
       "</div>"
      ],
      "text/plain": [
       "       1064                       Date\n",
       "0  0.043478  2024-08-22 12:00:00+00:00\n",
       "1  0.034783  2024-08-22 11:00:00+00:00\n",
       "2  0.026087  2024-08-22 10:00:00+00:00\n",
       "3  0.034783  2024-08-22 09:00:00+00:00\n",
       "4  0.026087  2024-08-22 08:00:00+00:00\n",
       "5  0.017391  2024-08-22 07:00:00+00:00\n",
       "6  0.008696  2024-08-22 06:00:00+00:00\n",
       "7  0.034783  2024-08-22 05:00:00+00:00\n",
       "8  0.034783  2024-08-22 04:00:00+00:00\n",
       "9  0.052174  2024-08-22 03:00:00+00:00"
      ]
     },
     "execution_count": 4,
     "metadata": {},
     "output_type": "execute_result"
    }
   ],
   "source": [
    "formatted_df = formatted_df[['1064', 'Date']]\n",
    "\n",
    "# creating scalar\n",
    "scaler = MinMaxScaler(feature_range=(0, 1))\n",
    "\n",
    "# Normalizing target column\n",
    "formatted_df ['1064'] = scaler.fit_transform(formatted_df[['1064']])\n",
    "formatted_df.head(10)"
   ]
  },
  {
   "cell_type": "markdown",
   "metadata": {},
   "source": [
    "### Creating Training Set"
   ]
  },
  {
   "cell_type": "code",
   "execution_count": 5,
   "metadata": {},
   "outputs": [
    {
     "name": "stdout",
     "output_type": "stream",
     "text": [
      "140 60\n"
     ]
    }
   ],
   "source": [
    "total_observations = len(formatted_df)\n",
    "train_ratio = 0.7\n",
    "\n",
    "train_df = formatted_df[:int(total_observations * train_ratio)]\n",
    "test_df = formatted_df[int(total_observations * train_ratio):]\n",
    "print(len(train_df), len(test_df))\n"
   ]
  },
  {
   "cell_type": "markdown",
   "metadata": {},
   "source": [
    "### Converting Data to Windowed Format"
   ]
  },
  {
   "cell_type": "code",
   "execution_count": 6,
   "metadata": {},
   "outputs": [],
   "source": [
    "timesteps = 6\n",
    "train_vals, test_vals = train_df['1064'].values, test_df['1064'].values\n",
    "\n",
    "# Transforming to time series                                                                                                                                                       \n",
    "train_data, test_data = convert_to_supervised(train_vals, n_in=timesteps), convert_to_supervised(test_vals, n_in=timesteps)\n",
    "\n",
    "# Converting to dataframe\n",
    "train_df, test_df = rename_dataframe_supervised(pd.DataFrame(train_data)), rename_dataframe_supervised(pd.DataFrame(test_data))\n",
    "\n",
    "# Separating x and y\n",
    "train_y, train_x = train_df['t'].to_numpy(), train_df.drop(columns = ['t']).to_numpy()\n",
    "test_y, test_x = test_df['t'].to_numpy(), test_df.drop(columns = ['t']).to_numpy()\n"
   ]
  },
  {
   "cell_type": "code",
   "execution_count": 7,
   "metadata": {},
   "outputs": [],
   "source": [
    "# reshape input to be [samples, time steps, features]\n",
    "train_x = np.reshape(train_x, (train_x.shape[0], 1, train_x.shape[1]))\n",
    "test_x = np.reshape(test_x, (test_x.shape[0], 1, test_x.shape[1]))\n"
   ]
  },
  {
   "cell_type": "code",
   "execution_count": 8,
   "metadata": {},
   "outputs": [
    {
     "name": "stdout",
     "output_type": "stream",
     "text": [
      "Train X shape: (134, 1, 6)\n",
      "Train y shape: (134,)\n"
     ]
    }
   ],
   "source": [
    "print('Train X shape:', train_x.shape)\n",
    "print('Train y shape:', train_y.shape)"
   ]
  },
  {
   "cell_type": "markdown",
   "metadata": {},
   "source": [
    "### Now we can Make a Model"
   ]
  },
  {
   "cell_type": "code",
   "execution_count": 9,
   "metadata": {},
   "outputs": [
    {
     "name": "stdout",
     "output_type": "stream",
     "text": [
      "Epoch 1/100\n",
      "Epoch 2/100\n",
      "Epoch 3/100\n",
      "Epoch 4/100\n",
      "Epoch 5/100\n",
      "Epoch 6/100\n",
      "Epoch 7/100\n",
      "Epoch 8/100\n",
      "Epoch 9/100\n",
      "Epoch 10/100\n",
      "Epoch 11/100\n",
      "Epoch 12/100\n",
      "Epoch 13/100\n",
      "Epoch 14/100\n",
      "Epoch 15/100\n",
      "Epoch 16/100\n",
      "Epoch 17/100\n",
      "Epoch 18/100\n",
      "Epoch 19/100\n",
      "Epoch 20/100\n",
      "Epoch 21/100\n",
      "Epoch 22/100\n",
      "Epoch 23/100\n",
      "Epoch 24/100\n",
      "Epoch 25/100\n",
      "Epoch 26/100\n",
      "Epoch 27/100\n",
      "Epoch 28/100\n",
      "Epoch 29/100\n",
      "Epoch 30/100\n",
      "Epoch 31/100\n",
      "Epoch 32/100\n",
      "Epoch 33/100\n",
      "Epoch 34/100\n",
      "Epoch 35/100\n",
      "Epoch 36/100\n",
      "Epoch 37/100\n",
      "Epoch 38/100\n",
      "Epoch 39/100\n",
      "Epoch 40/100\n",
      "Epoch 41/100\n",
      "Epoch 42/100\n",
      "Epoch 43/100\n",
      "Epoch 44/100\n",
      "Epoch 45/100\n",
      "Epoch 46/100\n",
      "Epoch 47/100\n",
      "Epoch 48/100\n",
      "Epoch 49/100\n",
      "Epoch 50/100\n",
      "Epoch 51/100\n",
      "Epoch 52/100\n",
      "Epoch 53/100\n",
      "Epoch 54/100\n",
      "Epoch 55/100\n",
      "Epoch 56/100\n",
      "Epoch 57/100\n",
      "Epoch 58/100\n",
      "Epoch 59/100\n",
      "Epoch 60/100\n",
      "Epoch 61/100\n",
      "Epoch 62/100\n",
      "Epoch 63/100\n",
      "Epoch 64/100\n",
      "Epoch 65/100\n",
      "Epoch 66/100\n",
      "Epoch 67/100\n",
      "Epoch 68/100\n",
      "Epoch 69/100\n",
      "Epoch 70/100\n",
      "Epoch 71/100\n",
      "Epoch 72/100\n",
      "Epoch 73/100\n",
      "Epoch 74/100\n",
      "Epoch 75/100\n",
      "Epoch 76/100\n",
      "Epoch 77/100\n",
      "Epoch 78/100\n",
      "Epoch 79/100\n",
      "Epoch 80/100\n",
      "Epoch 81/100\n",
      "Epoch 82/100\n",
      "Epoch 83/100\n",
      "Epoch 84/100\n",
      "Epoch 85/100\n",
      "Epoch 86/100\n",
      "Epoch 87/100\n",
      "Epoch 88/100\n",
      "Epoch 89/100\n",
      "Epoch 90/100\n",
      "Epoch 91/100\n",
      "Epoch 92/100\n",
      "Epoch 93/100\n",
      "Epoch 94/100\n",
      "Epoch 95/100\n",
      "Epoch 96/100\n",
      "Epoch 97/100\n",
      "Epoch 98/100\n",
      "Epoch 99/100\n",
      "Epoch 100/100\n",
      "\u001b[1m5/5\u001b[0m \u001b[32m━━━━━━━━━━━━━━━━━━━━\u001b[0m\u001b[37m\u001b[0m \u001b[1m0s\u001b[0m 17ms/step\n",
      "\u001b[1m2/2\u001b[0m \u001b[32m━━━━━━━━━━━━━━━━━━━━\u001b[0m\u001b[37m\u001b[0m \u001b[1m0s\u001b[0m 1ms/step \n"
     ]
    }
   ],
   "source": [
    "# defining and training model\n",
    "model = Sequential()\n",
    "model.add(LSTM(4, input_shape=(1, timesteps)))\n",
    "model.add(Dense(1))\n",
    "model.compile(loss='mean_squared_error', optimizer='adam')\n",
    "model.fit(train_x, train_y, epochs=100, batch_size=1, verbose=3)\n",
    "\n",
    "# make predictions\n",
    "trainPredict = model.predict(train_x)\n",
    "testPredict = model.predict(test_x)\n",
    "\n",
    "\n",
    "# inverting predictions back to initial scale\n",
    "trainPredict = scaler.inverse_transform(trainPredict)\n",
    "trainY = scaler.inverse_transform([train_y])\n",
    "testPredict = scaler.inverse_transform(testPredict)\n",
    "testY = scaler.inverse_transform([test_y])"
   ]
  },
  {
   "cell_type": "code",
   "execution_count": 10,
   "metadata": {},
   "outputs": [
    {
     "name": "stdout",
     "output_type": "stream",
     "text": [
      "Train Score: 0.64 RMSE\n",
      "Test Score: 0.52 RMSE\n"
     ]
    }
   ],
   "source": [
    "# calculate root mean squared error\n",
    "trainScore = np.sqrt(mean_squared_error(trainY[0], trainPredict[:,0]))\n",
    "print('Train Score: %.2f RMSE' % (trainScore))\n",
    "testScore = np.sqrt(mean_squared_error(testY[0], testPredict[:,0]))\n",
    "print('Test Score: %.2f RMSE' % (testScore))"
   ]
  },
  {
   "cell_type": "markdown",
   "metadata": {},
   "source": [
    "### Plotting Results"
   ]
  },
  {
   "cell_type": "code",
   "execution_count": 11,
   "metadata": {},
   "outputs": [
    {
     "name": "stdout",
     "output_type": "stream",
     "text": [
      "188\n"
     ]
    },
    {
     "data": {
      "text/html": [
       "<div>\n",
       "<style scoped>\n",
       "    .dataframe tbody tr th:only-of-type {\n",
       "        vertical-align: middle;\n",
       "    }\n",
       "\n",
       "    .dataframe tbody tr th {\n",
       "        vertical-align: top;\n",
       "    }\n",
       "\n",
       "    .dataframe thead th {\n",
       "        text-align: right;\n",
       "    }\n",
       "</style>\n",
       "<table border=\"1\" class=\"dataframe\">\n",
       "  <thead>\n",
       "    <tr style=\"text-align: right;\">\n",
       "      <th></th>\n",
       "      <th>Date</th>\n",
       "      <th>1064</th>\n",
       "      <th>Prediction_Type</th>\n",
       "      <th>Prediction</th>\n",
       "    </tr>\n",
       "  </thead>\n",
       "  <tbody>\n",
       "    <tr>\n",
       "      <th>12</th>\n",
       "      <td>2024-08-22 00:00:00+00:00</td>\n",
       "      <td>3.0</td>\n",
       "      <td>Train</td>\n",
       "      <td>2.561520</td>\n",
       "    </tr>\n",
       "    <tr>\n",
       "      <th>13</th>\n",
       "      <td>2024-08-21 23:00:00+00:00</td>\n",
       "      <td>3.6</td>\n",
       "      <td>Train</td>\n",
       "      <td>2.519107</td>\n",
       "    </tr>\n",
       "    <tr>\n",
       "      <th>14</th>\n",
       "      <td>2024-08-21 22:00:00+00:00</td>\n",
       "      <td>4.1</td>\n",
       "      <td>Train</td>\n",
       "      <td>2.697673</td>\n",
       "    </tr>\n",
       "    <tr>\n",
       "      <th>15</th>\n",
       "      <td>2024-08-21 21:00:00+00:00</td>\n",
       "      <td>4.4</td>\n",
       "      <td>Train</td>\n",
       "      <td>2.758020</td>\n",
       "    </tr>\n",
       "    <tr>\n",
       "      <th>16</th>\n",
       "      <td>2024-08-21 20:00:00+00:00</td>\n",
       "      <td>4.3</td>\n",
       "      <td>Train</td>\n",
       "      <td>2.885139</td>\n",
       "    </tr>\n",
       "    <tr>\n",
       "      <th>17</th>\n",
       "      <td>2024-08-21 19:00:00+00:00</td>\n",
       "      <td>4.0</td>\n",
       "      <td>Train</td>\n",
       "      <td>3.024394</td>\n",
       "    </tr>\n",
       "    <tr>\n",
       "      <th>18</th>\n",
       "      <td>2024-08-21 18:00:00+00:00</td>\n",
       "      <td>4.3</td>\n",
       "      <td>Train</td>\n",
       "      <td>2.939740</td>\n",
       "    </tr>\n",
       "    <tr>\n",
       "      <th>19</th>\n",
       "      <td>2024-08-21 17:00:00+00:00</td>\n",
       "      <td>5.1</td>\n",
       "      <td>Train</td>\n",
       "      <td>3.079448</td>\n",
       "    </tr>\n",
       "    <tr>\n",
       "      <th>20</th>\n",
       "      <td>2024-08-21 16:00:00+00:00</td>\n",
       "      <td>4.6</td>\n",
       "      <td>Train</td>\n",
       "      <td>3.563197</td>\n",
       "    </tr>\n",
       "    <tr>\n",
       "      <th>21</th>\n",
       "      <td>2024-08-21 15:00:00+00:00</td>\n",
       "      <td>4.6</td>\n",
       "      <td>Train</td>\n",
       "      <td>4.117681</td>\n",
       "    </tr>\n",
       "  </tbody>\n",
       "</table>\n",
       "</div>"
      ],
      "text/plain": [
       "                         Date  1064 Prediction_Type  Prediction\n",
       "12  2024-08-22 00:00:00+00:00   3.0           Train    2.561520\n",
       "13  2024-08-21 23:00:00+00:00   3.6           Train    2.519107\n",
       "14  2024-08-21 22:00:00+00:00   4.1           Train    2.697673\n",
       "15  2024-08-21 21:00:00+00:00   4.4           Train    2.758020\n",
       "16  2024-08-21 20:00:00+00:00   4.3           Train    2.885139\n",
       "17  2024-08-21 19:00:00+00:00   4.0           Train    3.024394\n",
       "18  2024-08-21 18:00:00+00:00   4.3           Train    2.939740\n",
       "19  2024-08-21 17:00:00+00:00   5.1           Train    3.079448\n",
       "20  2024-08-21 16:00:00+00:00   4.6           Train    3.563197\n",
       "21  2024-08-21 15:00:00+00:00   4.6           Train    4.117681"
      ]
     },
     "execution_count": 11,
     "metadata": {},
     "output_type": "execute_result"
    }
   ],
   "source": [
    "base_df= pivot_dataframe(combined_df, identifier_col, value_col)[['Date', '1064']]\n",
    "predictions = np.append(trainPredict[:,0], testPredict[:,0])\n",
    "prediction_type = ['Train'] * len(trainPredict[:,0]) + ['Test'] * len(testPredict[:,0])\n",
    "\n",
    "eval_df = base_df.iloc[timesteps*2:]\n",
    "print(len(eval_df))\n",
    "eval_df['Prediction_Type'] = prediction_type\n",
    "eval_df['Prediction'] = predictions\n",
    "eval_df.head(10)\n"
   ]
  },
  {
   "cell_type": "code",
   "execution_count": 12,
   "metadata": {},
   "outputs": [
    {
     "data": {
      "application/vnd.plotly.v1+json": {
       "config": {
        "plotlyServerURL": "https://plot.ly"
       },
       "data": [
        {
         "mode": "lines",
         "name": "Actual",
         "type": "scatter",
         "x": [
          "2024-08-22 00:00:00+00:00",
          "2024-08-21 23:00:00+00:00",
          "2024-08-21 22:00:00+00:00",
          "2024-08-21 21:00:00+00:00",
          "2024-08-21 20:00:00+00:00",
          "2024-08-21 19:00:00+00:00",
          "2024-08-21 18:00:00+00:00",
          "2024-08-21 17:00:00+00:00",
          "2024-08-21 16:00:00+00:00",
          "2024-08-21 15:00:00+00:00",
          "2024-08-21 14:00:00+00:00",
          "2024-08-21 13:00:00+00:00",
          "2024-08-21 12:00:00+00:00",
          "2024-08-21 11:00:00+00:00",
          "2024-08-21 10:00:00+00:00",
          "2024-08-21 09:00:00+00:00",
          "2024-08-21 08:00:00+00:00",
          "2024-08-21 07:00:00+00:00",
          "2024-08-21 06:00:00+00:00",
          "2024-08-21 05:00:00+00:00",
          "2024-08-21 04:00:00+00:00",
          "2024-08-21 03:00:00+00:00",
          "2024-08-21 02:00:00+00:00",
          "2024-08-21 01:00:00+00:00",
          "2024-08-21 00:00:00+00:00",
          "2024-08-20 23:00:00+00:00",
          "2024-08-20 22:00:00+00:00",
          "2024-08-20 21:00:00+00:00",
          "2024-08-20 20:00:00+00:00",
          "2024-08-20 19:00:00+00:00",
          "2024-08-20 18:00:00+00:00",
          "2024-08-20 17:00:00+00:00",
          "2024-08-20 16:00:00+00:00",
          "2024-08-20 15:00:00+00:00",
          "2024-08-20 14:00:00+00:00",
          "2024-08-20 13:00:00+00:00",
          "2024-08-20 12:00:00+00:00",
          "2024-08-20 11:00:00+00:00",
          "2024-08-20 10:00:00+00:00",
          "2024-08-20 09:00:00+00:00",
          "2024-08-20 08:00:00+00:00",
          "2024-08-20 07:00:00+00:00",
          "2024-08-20 06:00:00+00:00",
          "2024-08-20 05:00:00+00:00",
          "2024-08-20 04:00:00+00:00",
          "2024-08-20 03:00:00+00:00",
          "2024-08-20 02:00:00+00:00",
          "2024-08-20 01:00:00+00:00",
          "2024-08-20 00:00:00+00:00",
          "2024-08-19 23:00:00+00:00",
          "2024-08-19 22:00:00+00:00",
          "2024-08-19 21:00:00+00:00",
          "2024-08-19 20:00:00+00:00",
          "2024-08-19 19:00:00+00:00",
          "2024-08-19 18:00:00+00:00",
          "2024-08-19 17:00:00+00:00",
          "2024-08-19 16:00:00+00:00",
          "2024-08-19 15:00:00+00:00",
          "2024-08-19 14:00:00+00:00",
          "2024-08-19 13:00:00+00:00",
          "2024-08-19 12:00:00+00:00",
          "2024-08-19 11:00:00+00:00",
          "2024-08-19 10:00:00+00:00",
          "2024-08-19 09:00:00+00:00",
          "2024-08-19 08:00:00+00:00",
          "2024-08-19 07:00:00+00:00",
          "2024-08-19 06:00:00+00:00",
          "2024-08-19 05:00:00+00:00",
          "2024-08-19 04:00:00+00:00",
          "2024-08-19 03:00:00+00:00",
          "2024-08-19 02:00:00+00:00",
          "2024-08-19 01:00:00+00:00",
          "2024-08-19 00:00:00+00:00",
          "2024-08-18 23:00:00+00:00",
          "2024-08-18 22:00:00+00:00",
          "2024-08-18 21:00:00+00:00",
          "2024-08-18 20:00:00+00:00",
          "2024-08-18 19:00:00+00:00",
          "2024-08-18 18:00:00+00:00",
          "2024-08-18 17:00:00+00:00",
          "2024-08-18 16:00:00+00:00",
          "2024-08-18 15:00:00+00:00",
          "2024-08-18 14:00:00+00:00",
          "2024-08-18 13:00:00+00:00",
          "2024-08-18 12:00:00+00:00",
          "2024-08-18 11:00:00+00:00",
          "2024-08-18 10:00:00+00:00",
          "2024-08-18 09:00:00+00:00",
          "2024-08-18 08:00:00+00:00",
          "2024-08-18 07:00:00+00:00",
          "2024-08-18 06:00:00+00:00",
          "2024-08-18 05:00:00+00:00",
          "2024-08-18 04:00:00+00:00",
          "2024-08-18 03:00:00+00:00",
          "2024-08-18 02:00:00+00:00",
          "2024-08-18 01:00:00+00:00",
          "2024-08-18 00:00:00+00:00",
          "2024-08-17 23:00:00+00:00",
          "2024-08-17 22:00:00+00:00",
          "2024-08-17 21:00:00+00:00",
          "2024-08-17 20:00:00+00:00",
          "2024-08-17 19:00:00+00:00",
          "2024-08-17 18:00:00+00:00",
          "2024-08-17 17:00:00+00:00",
          "2024-08-17 16:00:00+00:00",
          "2024-08-17 15:00:00+00:00",
          "2024-08-17 14:00:00+00:00",
          "2024-08-17 13:00:00+00:00",
          "2024-08-17 12:00:00+00:00",
          "2024-08-17 11:00:00+00:00",
          "2024-08-17 10:00:00+00:00",
          "2024-08-17 09:00:00+00:00",
          "2024-08-17 08:00:00+00:00",
          "2024-08-17 07:00:00+00:00",
          "2024-08-17 06:00:00+00:00",
          "2024-08-17 05:00:00+00:00",
          "2024-08-17 04:00:00+00:00",
          "2024-08-17 03:00:00+00:00",
          "2024-08-17 02:00:00+00:00",
          "2024-08-17 01:00:00+00:00",
          "2024-08-17 00:00:00+00:00",
          "2024-08-16 23:00:00+00:00",
          "2024-08-16 22:00:00+00:00",
          "2024-08-16 21:00:00+00:00",
          "2024-08-16 20:00:00+00:00",
          "2024-08-16 19:00:00+00:00",
          "2024-08-16 18:00:00+00:00",
          "2024-08-16 17:00:00+00:00",
          "2024-08-16 16:00:00+00:00",
          "2024-08-16 15:00:00+00:00",
          "2024-08-16 14:00:00+00:00",
          "2024-08-16 13:00:00+00:00",
          "2024-08-16 12:00:00+00:00",
          "2024-08-16 11:00:00+00:00",
          "2024-08-16 10:00:00+00:00",
          "2024-08-16 09:00:00+00:00",
          "2024-08-16 08:00:00+00:00",
          "2024-08-16 07:00:00+00:00",
          "2024-08-16 06:00:00+00:00",
          "2024-08-16 05:00:00+00:00",
          "2024-08-16 04:00:00+00:00",
          "2024-08-16 03:00:00+00:00",
          "2024-08-16 02:00:00+00:00",
          "2024-08-16 01:00:00+00:00",
          "2024-08-16 00:00:00+00:00",
          "2024-08-15 23:00:00+00:00",
          "2024-08-15 22:00:00+00:00",
          "2024-08-15 21:00:00+00:00",
          "2024-08-15 20:00:00+00:00",
          "2024-08-15 19:00:00+00:00",
          "2024-08-15 18:00:00+00:00",
          "2024-08-15 17:00:00+00:00",
          "2024-08-15 16:00:00+00:00",
          "2024-08-15 15:00:00+00:00",
          "2024-08-15 14:00:00+00:00",
          "2024-08-15 13:00:00+00:00",
          "2024-08-15 12:00:00+00:00",
          "2024-08-15 11:00:00+00:00",
          "2024-08-15 10:00:00+00:00",
          "2024-08-15 09:00:00+00:00",
          "2024-08-15 08:00:00+00:00",
          "2024-08-15 07:00:00+00:00",
          "2024-08-15 06:00:00+00:00",
          "2024-08-15 05:00:00+00:00",
          "2024-08-15 04:00:00+00:00",
          "2024-08-15 03:00:00+00:00",
          "2024-08-15 02:00:00+00:00",
          "2024-08-15 01:00:00+00:00",
          "2024-08-15 00:00:00+00:00",
          "2024-08-14 23:00:00+00:00",
          "2024-08-14 22:00:00+00:00",
          "2024-08-14 21:00:00+00:00",
          "2024-08-14 20:00:00+00:00",
          "2024-08-14 19:00:00+00:00",
          "2024-08-14 18:00:00+00:00",
          "2024-08-14 17:00:00+00:00",
          "2024-08-14 16:00:00+00:00",
          "2024-08-14 15:00:00+00:00",
          "2024-08-14 14:00:00+00:00",
          "2024-08-14 13:00:00+00:00",
          "2024-08-14 12:00:00+00:00",
          "2024-08-14 11:00:00+00:00",
          "2024-08-14 10:00:00+00:00",
          "2024-08-14 09:00:00+00:00",
          "2024-08-14 08:00:00+00:00",
          "2024-08-14 07:00:00+00:00",
          "2024-08-14 06:00:00+00:00",
          "2024-08-14 05:00:00+00:00"
         ],
         "y": [
          3,
          3.6,
          4.1,
          4.4,
          4.3,
          4,
          4.3,
          5.1,
          4.6,
          4.6,
          4.7,
          5.4,
          5.3,
          5.2,
          5.2,
          5.7,
          6.2,
          6,
          5.9,
          5.9,
          9.1,
          9.3,
          8.6,
          7.6,
          8.4,
          7.9,
          7,
          7,
          5.7,
          4.7,
          4.8,
          5,
          4.5,
          4.5,
          4.5,
          4.7,
          4.8,
          5,
          5.1,
          5.2,
          5.4,
          5.6,
          5.4,
          5.8,
          4.3,
          3.9,
          4,
          3.7,
          3.9,
          3.8,
          3.6,
          4,
          4.4,
          4.3,
          4.6,
          4.8,
          5.2,
          5.5,
          5.3,
          5.9,
          5.8,
          5.4,
          5.2,
          5.3,
          5.2,
          5,
          4.7,
          4.4,
          4.3,
          3.6,
          3.3,
          3.2,
          2.8,
          3,
          2.8,
          3,
          3.2,
          3.1,
          4.8,
          5.1,
          5.5,
          6.2,
          7,
          6.1,
          7.5,
          9.5,
          11.3,
          11.7,
          11.5,
          13.8,
          13.5,
          11.3,
          9.8,
          9.2,
          8.8,
          7.6,
          8.3,
          9.4,
          10.2,
          9.6,
          9.2,
          8.3,
          6.5,
          6.2,
          6,
          6,
          5.9,
          5.7,
          5.6,
          5.6,
          5.6,
          5.2,
          5,
          4.8,
          4.5,
          3.6,
          3.5,
          3.5,
          3.6,
          3.5,
          3.4,
          3.3,
          3.4,
          3.3,
          3,
          2.9,
          2.7,
          2.7,
          2.6,
          3,
          3.3,
          2.7,
          3,
          2.6,
          2.6,
          2.4,
          2.6,
          2.5,
          2.3,
          2.8,
          3.3,
          3.9,
          4.2,
          3.9,
          4.8,
          6.6,
          7.5,
          7.2,
          7.1,
          7,
          6.9,
          6.8,
          5,
          4.6,
          4.5,
          4.5,
          4.4,
          4.6,
          4.8,
          5.7,
          6.3,
          6.8,
          7.2,
          6.8,
          6.9,
          7.2,
          7.3,
          7.8,
          7.5,
          7.5,
          6.9,
          6.9,
          7.4,
          6.8,
          6.6,
          6.6,
          6.7,
          6.4,
          6.2,
          6.1,
          6,
          6.3,
          6,
          5.6,
          5.4,
          5.3,
          5.4,
          5.2
         ]
        },
        {
         "mode": "lines+markers",
         "name": "Train Prediction",
         "type": "scatter",
         "x": [
          "2024-08-22 00:00:00+00:00",
          "2024-08-21 23:00:00+00:00",
          "2024-08-21 22:00:00+00:00",
          "2024-08-21 21:00:00+00:00",
          "2024-08-21 20:00:00+00:00",
          "2024-08-21 19:00:00+00:00",
          "2024-08-21 18:00:00+00:00",
          "2024-08-21 17:00:00+00:00",
          "2024-08-21 16:00:00+00:00",
          "2024-08-21 15:00:00+00:00",
          "2024-08-21 14:00:00+00:00",
          "2024-08-21 13:00:00+00:00",
          "2024-08-21 12:00:00+00:00",
          "2024-08-21 11:00:00+00:00",
          "2024-08-21 10:00:00+00:00",
          "2024-08-21 09:00:00+00:00",
          "2024-08-21 08:00:00+00:00",
          "2024-08-21 07:00:00+00:00",
          "2024-08-21 06:00:00+00:00",
          "2024-08-21 05:00:00+00:00",
          "2024-08-21 04:00:00+00:00",
          "2024-08-21 03:00:00+00:00",
          "2024-08-21 02:00:00+00:00",
          "2024-08-21 01:00:00+00:00",
          "2024-08-21 00:00:00+00:00",
          "2024-08-20 23:00:00+00:00",
          "2024-08-20 22:00:00+00:00",
          "2024-08-20 21:00:00+00:00",
          "2024-08-20 20:00:00+00:00",
          "2024-08-20 19:00:00+00:00",
          "2024-08-20 18:00:00+00:00",
          "2024-08-20 17:00:00+00:00",
          "2024-08-20 16:00:00+00:00",
          "2024-08-20 15:00:00+00:00",
          "2024-08-20 14:00:00+00:00",
          "2024-08-20 13:00:00+00:00",
          "2024-08-20 12:00:00+00:00",
          "2024-08-20 11:00:00+00:00",
          "2024-08-20 10:00:00+00:00",
          "2024-08-20 09:00:00+00:00",
          "2024-08-20 08:00:00+00:00",
          "2024-08-20 07:00:00+00:00",
          "2024-08-20 06:00:00+00:00",
          "2024-08-20 05:00:00+00:00",
          "2024-08-20 04:00:00+00:00",
          "2024-08-20 03:00:00+00:00",
          "2024-08-20 02:00:00+00:00",
          "2024-08-20 01:00:00+00:00",
          "2024-08-20 00:00:00+00:00",
          "2024-08-19 23:00:00+00:00",
          "2024-08-19 22:00:00+00:00",
          "2024-08-19 21:00:00+00:00",
          "2024-08-19 20:00:00+00:00",
          "2024-08-19 19:00:00+00:00",
          "2024-08-19 18:00:00+00:00",
          "2024-08-19 17:00:00+00:00",
          "2024-08-19 16:00:00+00:00",
          "2024-08-19 15:00:00+00:00",
          "2024-08-19 14:00:00+00:00",
          "2024-08-19 13:00:00+00:00",
          "2024-08-19 12:00:00+00:00",
          "2024-08-19 11:00:00+00:00",
          "2024-08-19 10:00:00+00:00",
          "2024-08-19 09:00:00+00:00",
          "2024-08-19 08:00:00+00:00",
          "2024-08-19 07:00:00+00:00",
          "2024-08-19 06:00:00+00:00",
          "2024-08-19 05:00:00+00:00",
          "2024-08-19 04:00:00+00:00",
          "2024-08-19 03:00:00+00:00",
          "2024-08-19 02:00:00+00:00",
          "2024-08-19 01:00:00+00:00",
          "2024-08-19 00:00:00+00:00",
          "2024-08-18 23:00:00+00:00",
          "2024-08-18 22:00:00+00:00",
          "2024-08-18 21:00:00+00:00",
          "2024-08-18 20:00:00+00:00",
          "2024-08-18 19:00:00+00:00",
          "2024-08-18 18:00:00+00:00",
          "2024-08-18 17:00:00+00:00",
          "2024-08-18 16:00:00+00:00",
          "2024-08-18 15:00:00+00:00",
          "2024-08-18 14:00:00+00:00",
          "2024-08-18 13:00:00+00:00",
          "2024-08-18 12:00:00+00:00",
          "2024-08-18 11:00:00+00:00",
          "2024-08-18 10:00:00+00:00",
          "2024-08-18 09:00:00+00:00",
          "2024-08-18 08:00:00+00:00",
          "2024-08-18 07:00:00+00:00",
          "2024-08-18 06:00:00+00:00",
          "2024-08-18 05:00:00+00:00",
          "2024-08-18 04:00:00+00:00",
          "2024-08-18 03:00:00+00:00",
          "2024-08-18 02:00:00+00:00",
          "2024-08-18 01:00:00+00:00",
          "2024-08-18 00:00:00+00:00",
          "2024-08-17 23:00:00+00:00",
          "2024-08-17 22:00:00+00:00",
          "2024-08-17 21:00:00+00:00",
          "2024-08-17 20:00:00+00:00",
          "2024-08-17 19:00:00+00:00",
          "2024-08-17 18:00:00+00:00",
          "2024-08-17 17:00:00+00:00",
          "2024-08-17 16:00:00+00:00",
          "2024-08-17 15:00:00+00:00",
          "2024-08-17 14:00:00+00:00",
          "2024-08-17 13:00:00+00:00",
          "2024-08-17 12:00:00+00:00",
          "2024-08-17 11:00:00+00:00",
          "2024-08-17 10:00:00+00:00",
          "2024-08-17 09:00:00+00:00",
          "2024-08-17 08:00:00+00:00",
          "2024-08-17 07:00:00+00:00",
          "2024-08-17 06:00:00+00:00",
          "2024-08-17 05:00:00+00:00",
          "2024-08-17 04:00:00+00:00",
          "2024-08-17 03:00:00+00:00",
          "2024-08-17 02:00:00+00:00",
          "2024-08-17 01:00:00+00:00",
          "2024-08-17 00:00:00+00:00",
          "2024-08-16 23:00:00+00:00",
          "2024-08-16 22:00:00+00:00",
          "2024-08-16 21:00:00+00:00",
          "2024-08-16 20:00:00+00:00",
          "2024-08-16 19:00:00+00:00",
          "2024-08-16 18:00:00+00:00",
          "2024-08-16 17:00:00+00:00",
          "2024-08-16 16:00:00+00:00",
          "2024-08-16 15:00:00+00:00",
          "2024-08-16 14:00:00+00:00",
          "2024-08-16 13:00:00+00:00",
          "2024-08-16 12:00:00+00:00",
          "2024-08-16 11:00:00+00:00"
         ],
         "y": [
          3,
          3.6,
          4.1,
          4.4,
          4.3,
          4,
          4.3,
          5.1,
          4.6,
          4.6,
          4.7,
          5.4,
          5.3,
          5.2,
          5.2,
          5.7,
          6.2,
          6,
          5.9,
          5.9,
          9.1,
          9.3,
          8.6,
          7.6,
          8.4,
          7.9,
          7,
          7,
          5.7,
          4.7,
          4.8,
          5,
          4.5,
          4.5,
          4.5,
          4.7,
          4.8,
          5,
          5.1,
          5.2,
          5.4,
          5.6,
          5.4,
          5.8,
          4.3,
          3.9,
          4,
          3.7,
          3.9,
          3.8,
          3.6,
          4,
          4.4,
          4.3,
          4.6,
          4.8,
          5.2,
          5.5,
          5.3,
          5.9,
          5.8,
          5.4,
          5.2,
          5.3,
          5.2,
          5,
          4.7,
          4.4,
          4.3,
          3.6,
          3.3,
          3.2,
          2.8,
          3,
          2.8,
          3,
          3.2,
          3.1,
          4.8,
          5.1,
          5.5,
          6.2,
          7,
          6.1,
          7.5,
          9.5,
          11.3,
          11.7,
          11.5,
          13.8,
          13.5,
          11.3,
          9.8,
          9.2,
          8.8,
          7.6,
          8.3,
          9.4,
          10.2,
          9.6,
          9.2,
          8.3,
          6.5,
          6.2,
          6,
          6,
          5.9,
          5.7,
          5.6,
          5.6,
          5.6,
          5.2,
          5,
          4.8,
          4.5,
          3.6,
          3.5,
          3.5,
          3.6,
          3.5,
          3.4,
          3.3,
          3.4,
          3.3,
          3,
          2.9,
          2.7,
          2.7,
          2.6,
          3,
          3.3,
          2.7,
          3,
          2.6
         ]
        },
        {
         "mode": "markers",
         "name": "Test Prediction",
         "type": "scatter",
         "x": [
          "2024-08-16 10:00:00+00:00",
          "2024-08-16 09:00:00+00:00",
          "2024-08-16 08:00:00+00:00",
          "2024-08-16 07:00:00+00:00",
          "2024-08-16 06:00:00+00:00",
          "2024-08-16 05:00:00+00:00",
          "2024-08-16 04:00:00+00:00",
          "2024-08-16 03:00:00+00:00",
          "2024-08-16 02:00:00+00:00",
          "2024-08-16 01:00:00+00:00",
          "2024-08-16 00:00:00+00:00",
          "2024-08-15 23:00:00+00:00",
          "2024-08-15 22:00:00+00:00",
          "2024-08-15 21:00:00+00:00",
          "2024-08-15 20:00:00+00:00",
          "2024-08-15 19:00:00+00:00",
          "2024-08-15 18:00:00+00:00",
          "2024-08-15 17:00:00+00:00",
          "2024-08-15 16:00:00+00:00",
          "2024-08-15 15:00:00+00:00",
          "2024-08-15 14:00:00+00:00",
          "2024-08-15 13:00:00+00:00",
          "2024-08-15 12:00:00+00:00",
          "2024-08-15 11:00:00+00:00",
          "2024-08-15 10:00:00+00:00",
          "2024-08-15 09:00:00+00:00",
          "2024-08-15 08:00:00+00:00",
          "2024-08-15 07:00:00+00:00",
          "2024-08-15 06:00:00+00:00",
          "2024-08-15 05:00:00+00:00",
          "2024-08-15 04:00:00+00:00",
          "2024-08-15 03:00:00+00:00",
          "2024-08-15 02:00:00+00:00",
          "2024-08-15 01:00:00+00:00",
          "2024-08-15 00:00:00+00:00",
          "2024-08-14 23:00:00+00:00",
          "2024-08-14 22:00:00+00:00",
          "2024-08-14 21:00:00+00:00",
          "2024-08-14 20:00:00+00:00",
          "2024-08-14 19:00:00+00:00",
          "2024-08-14 18:00:00+00:00",
          "2024-08-14 17:00:00+00:00",
          "2024-08-14 16:00:00+00:00",
          "2024-08-14 15:00:00+00:00",
          "2024-08-14 14:00:00+00:00",
          "2024-08-14 13:00:00+00:00",
          "2024-08-14 12:00:00+00:00",
          "2024-08-14 11:00:00+00:00",
          "2024-08-14 10:00:00+00:00",
          "2024-08-14 09:00:00+00:00",
          "2024-08-14 08:00:00+00:00",
          "2024-08-14 07:00:00+00:00",
          "2024-08-14 06:00:00+00:00",
          "2024-08-14 05:00:00+00:00"
         ],
         "y": [
          2.6,
          2.4,
          2.6,
          2.5,
          2.3,
          2.8,
          3.3,
          3.9,
          4.2,
          3.9,
          4.8,
          6.6,
          7.5,
          7.2,
          7.1,
          7,
          6.9,
          6.8,
          5,
          4.6,
          4.5,
          4.5,
          4.4,
          4.6,
          4.8,
          5.7,
          6.3,
          6.8,
          7.2,
          6.8,
          6.9,
          7.2,
          7.3,
          7.8,
          7.5,
          7.5,
          6.9,
          6.9,
          7.4,
          6.8,
          6.6,
          6.6,
          6.7,
          6.4,
          6.2,
          6.1,
          6,
          6.3,
          6,
          5.6,
          5.4,
          5.3,
          5.4,
          5.2
         ]
        }
       ],
       "layout": {
        "template": {
         "data": {
          "bar": [
           {
            "error_x": {
             "color": "#2a3f5f"
            },
            "error_y": {
             "color": "#2a3f5f"
            },
            "marker": {
             "line": {
              "color": "#E5ECF6",
              "width": 0.5
             },
             "pattern": {
              "fillmode": "overlay",
              "size": 10,
              "solidity": 0.2
             }
            },
            "type": "bar"
           }
          ],
          "barpolar": [
           {
            "marker": {
             "line": {
              "color": "#E5ECF6",
              "width": 0.5
             },
             "pattern": {
              "fillmode": "overlay",
              "size": 10,
              "solidity": 0.2
             }
            },
            "type": "barpolar"
           }
          ],
          "carpet": [
           {
            "aaxis": {
             "endlinecolor": "#2a3f5f",
             "gridcolor": "white",
             "linecolor": "white",
             "minorgridcolor": "white",
             "startlinecolor": "#2a3f5f"
            },
            "baxis": {
             "endlinecolor": "#2a3f5f",
             "gridcolor": "white",
             "linecolor": "white",
             "minorgridcolor": "white",
             "startlinecolor": "#2a3f5f"
            },
            "type": "carpet"
           }
          ],
          "choropleth": [
           {
            "colorbar": {
             "outlinewidth": 0,
             "ticks": ""
            },
            "type": "choropleth"
           }
          ],
          "contour": [
           {
            "colorbar": {
             "outlinewidth": 0,
             "ticks": ""
            },
            "colorscale": [
             [
              0,
              "#0d0887"
             ],
             [
              0.1111111111111111,
              "#46039f"
             ],
             [
              0.2222222222222222,
              "#7201a8"
             ],
             [
              0.3333333333333333,
              "#9c179e"
             ],
             [
              0.4444444444444444,
              "#bd3786"
             ],
             [
              0.5555555555555556,
              "#d8576b"
             ],
             [
              0.6666666666666666,
              "#ed7953"
             ],
             [
              0.7777777777777778,
              "#fb9f3a"
             ],
             [
              0.8888888888888888,
              "#fdca26"
             ],
             [
              1,
              "#f0f921"
             ]
            ],
            "type": "contour"
           }
          ],
          "contourcarpet": [
           {
            "colorbar": {
             "outlinewidth": 0,
             "ticks": ""
            },
            "type": "contourcarpet"
           }
          ],
          "heatmap": [
           {
            "colorbar": {
             "outlinewidth": 0,
             "ticks": ""
            },
            "colorscale": [
             [
              0,
              "#0d0887"
             ],
             [
              0.1111111111111111,
              "#46039f"
             ],
             [
              0.2222222222222222,
              "#7201a8"
             ],
             [
              0.3333333333333333,
              "#9c179e"
             ],
             [
              0.4444444444444444,
              "#bd3786"
             ],
             [
              0.5555555555555556,
              "#d8576b"
             ],
             [
              0.6666666666666666,
              "#ed7953"
             ],
             [
              0.7777777777777778,
              "#fb9f3a"
             ],
             [
              0.8888888888888888,
              "#fdca26"
             ],
             [
              1,
              "#f0f921"
             ]
            ],
            "type": "heatmap"
           }
          ],
          "heatmapgl": [
           {
            "colorbar": {
             "outlinewidth": 0,
             "ticks": ""
            },
            "colorscale": [
             [
              0,
              "#0d0887"
             ],
             [
              0.1111111111111111,
              "#46039f"
             ],
             [
              0.2222222222222222,
              "#7201a8"
             ],
             [
              0.3333333333333333,
              "#9c179e"
             ],
             [
              0.4444444444444444,
              "#bd3786"
             ],
             [
              0.5555555555555556,
              "#d8576b"
             ],
             [
              0.6666666666666666,
              "#ed7953"
             ],
             [
              0.7777777777777778,
              "#fb9f3a"
             ],
             [
              0.8888888888888888,
              "#fdca26"
             ],
             [
              1,
              "#f0f921"
             ]
            ],
            "type": "heatmapgl"
           }
          ],
          "histogram": [
           {
            "marker": {
             "pattern": {
              "fillmode": "overlay",
              "size": 10,
              "solidity": 0.2
             }
            },
            "type": "histogram"
           }
          ],
          "histogram2d": [
           {
            "colorbar": {
             "outlinewidth": 0,
             "ticks": ""
            },
            "colorscale": [
             [
              0,
              "#0d0887"
             ],
             [
              0.1111111111111111,
              "#46039f"
             ],
             [
              0.2222222222222222,
              "#7201a8"
             ],
             [
              0.3333333333333333,
              "#9c179e"
             ],
             [
              0.4444444444444444,
              "#bd3786"
             ],
             [
              0.5555555555555556,
              "#d8576b"
             ],
             [
              0.6666666666666666,
              "#ed7953"
             ],
             [
              0.7777777777777778,
              "#fb9f3a"
             ],
             [
              0.8888888888888888,
              "#fdca26"
             ],
             [
              1,
              "#f0f921"
             ]
            ],
            "type": "histogram2d"
           }
          ],
          "histogram2dcontour": [
           {
            "colorbar": {
             "outlinewidth": 0,
             "ticks": ""
            },
            "colorscale": [
             [
              0,
              "#0d0887"
             ],
             [
              0.1111111111111111,
              "#46039f"
             ],
             [
              0.2222222222222222,
              "#7201a8"
             ],
             [
              0.3333333333333333,
              "#9c179e"
             ],
             [
              0.4444444444444444,
              "#bd3786"
             ],
             [
              0.5555555555555556,
              "#d8576b"
             ],
             [
              0.6666666666666666,
              "#ed7953"
             ],
             [
              0.7777777777777778,
              "#fb9f3a"
             ],
             [
              0.8888888888888888,
              "#fdca26"
             ],
             [
              1,
              "#f0f921"
             ]
            ],
            "type": "histogram2dcontour"
           }
          ],
          "mesh3d": [
           {
            "colorbar": {
             "outlinewidth": 0,
             "ticks": ""
            },
            "type": "mesh3d"
           }
          ],
          "parcoords": [
           {
            "line": {
             "colorbar": {
              "outlinewidth": 0,
              "ticks": ""
             }
            },
            "type": "parcoords"
           }
          ],
          "pie": [
           {
            "automargin": true,
            "type": "pie"
           }
          ],
          "scatter": [
           {
            "fillpattern": {
             "fillmode": "overlay",
             "size": 10,
             "solidity": 0.2
            },
            "type": "scatter"
           }
          ],
          "scatter3d": [
           {
            "line": {
             "colorbar": {
              "outlinewidth": 0,
              "ticks": ""
             }
            },
            "marker": {
             "colorbar": {
              "outlinewidth": 0,
              "ticks": ""
             }
            },
            "type": "scatter3d"
           }
          ],
          "scattercarpet": [
           {
            "marker": {
             "colorbar": {
              "outlinewidth": 0,
              "ticks": ""
             }
            },
            "type": "scattercarpet"
           }
          ],
          "scattergeo": [
           {
            "marker": {
             "colorbar": {
              "outlinewidth": 0,
              "ticks": ""
             }
            },
            "type": "scattergeo"
           }
          ],
          "scattergl": [
           {
            "marker": {
             "colorbar": {
              "outlinewidth": 0,
              "ticks": ""
             }
            },
            "type": "scattergl"
           }
          ],
          "scattermapbox": [
           {
            "marker": {
             "colorbar": {
              "outlinewidth": 0,
              "ticks": ""
             }
            },
            "type": "scattermapbox"
           }
          ],
          "scatterpolar": [
           {
            "marker": {
             "colorbar": {
              "outlinewidth": 0,
              "ticks": ""
             }
            },
            "type": "scatterpolar"
           }
          ],
          "scatterpolargl": [
           {
            "marker": {
             "colorbar": {
              "outlinewidth": 0,
              "ticks": ""
             }
            },
            "type": "scatterpolargl"
           }
          ],
          "scatterternary": [
           {
            "marker": {
             "colorbar": {
              "outlinewidth": 0,
              "ticks": ""
             }
            },
            "type": "scatterternary"
           }
          ],
          "surface": [
           {
            "colorbar": {
             "outlinewidth": 0,
             "ticks": ""
            },
            "colorscale": [
             [
              0,
              "#0d0887"
             ],
             [
              0.1111111111111111,
              "#46039f"
             ],
             [
              0.2222222222222222,
              "#7201a8"
             ],
             [
              0.3333333333333333,
              "#9c179e"
             ],
             [
              0.4444444444444444,
              "#bd3786"
             ],
             [
              0.5555555555555556,
              "#d8576b"
             ],
             [
              0.6666666666666666,
              "#ed7953"
             ],
             [
              0.7777777777777778,
              "#fb9f3a"
             ],
             [
              0.8888888888888888,
              "#fdca26"
             ],
             [
              1,
              "#f0f921"
             ]
            ],
            "type": "surface"
           }
          ],
          "table": [
           {
            "cells": {
             "fill": {
              "color": "#EBF0F8"
             },
             "line": {
              "color": "white"
             }
            },
            "header": {
             "fill": {
              "color": "#C8D4E3"
             },
             "line": {
              "color": "white"
             }
            },
            "type": "table"
           }
          ]
         },
         "layout": {
          "annotationdefaults": {
           "arrowcolor": "#2a3f5f",
           "arrowhead": 0,
           "arrowwidth": 1
          },
          "autotypenumbers": "strict",
          "coloraxis": {
           "colorbar": {
            "outlinewidth": 0,
            "ticks": ""
           }
          },
          "colorscale": {
           "diverging": [
            [
             0,
             "#8e0152"
            ],
            [
             0.1,
             "#c51b7d"
            ],
            [
             0.2,
             "#de77ae"
            ],
            [
             0.3,
             "#f1b6da"
            ],
            [
             0.4,
             "#fde0ef"
            ],
            [
             0.5,
             "#f7f7f7"
            ],
            [
             0.6,
             "#e6f5d0"
            ],
            [
             0.7,
             "#b8e186"
            ],
            [
             0.8,
             "#7fbc41"
            ],
            [
             0.9,
             "#4d9221"
            ],
            [
             1,
             "#276419"
            ]
           ],
           "sequential": [
            [
             0,
             "#0d0887"
            ],
            [
             0.1111111111111111,
             "#46039f"
            ],
            [
             0.2222222222222222,
             "#7201a8"
            ],
            [
             0.3333333333333333,
             "#9c179e"
            ],
            [
             0.4444444444444444,
             "#bd3786"
            ],
            [
             0.5555555555555556,
             "#d8576b"
            ],
            [
             0.6666666666666666,
             "#ed7953"
            ],
            [
             0.7777777777777778,
             "#fb9f3a"
            ],
            [
             0.8888888888888888,
             "#fdca26"
            ],
            [
             1,
             "#f0f921"
            ]
           ],
           "sequentialminus": [
            [
             0,
             "#0d0887"
            ],
            [
             0.1111111111111111,
             "#46039f"
            ],
            [
             0.2222222222222222,
             "#7201a8"
            ],
            [
             0.3333333333333333,
             "#9c179e"
            ],
            [
             0.4444444444444444,
             "#bd3786"
            ],
            [
             0.5555555555555556,
             "#d8576b"
            ],
            [
             0.6666666666666666,
             "#ed7953"
            ],
            [
             0.7777777777777778,
             "#fb9f3a"
            ],
            [
             0.8888888888888888,
             "#fdca26"
            ],
            [
             1,
             "#f0f921"
            ]
           ]
          },
          "colorway": [
           "#636efa",
           "#EF553B",
           "#00cc96",
           "#ab63fa",
           "#FFA15A",
           "#19d3f3",
           "#FF6692",
           "#B6E880",
           "#FF97FF",
           "#FECB52"
          ],
          "font": {
           "color": "#2a3f5f"
          },
          "geo": {
           "bgcolor": "white",
           "lakecolor": "white",
           "landcolor": "#E5ECF6",
           "showlakes": true,
           "showland": true,
           "subunitcolor": "white"
          },
          "hoverlabel": {
           "align": "left"
          },
          "hovermode": "closest",
          "mapbox": {
           "style": "light"
          },
          "paper_bgcolor": "white",
          "plot_bgcolor": "#E5ECF6",
          "polar": {
           "angularaxis": {
            "gridcolor": "white",
            "linecolor": "white",
            "ticks": ""
           },
           "bgcolor": "#E5ECF6",
           "radialaxis": {
            "gridcolor": "white",
            "linecolor": "white",
            "ticks": ""
           }
          },
          "scene": {
           "xaxis": {
            "backgroundcolor": "#E5ECF6",
            "gridcolor": "white",
            "gridwidth": 2,
            "linecolor": "white",
            "showbackground": true,
            "ticks": "",
            "zerolinecolor": "white"
           },
           "yaxis": {
            "backgroundcolor": "#E5ECF6",
            "gridcolor": "white",
            "gridwidth": 2,
            "linecolor": "white",
            "showbackground": true,
            "ticks": "",
            "zerolinecolor": "white"
           },
           "zaxis": {
            "backgroundcolor": "#E5ECF6",
            "gridcolor": "white",
            "gridwidth": 2,
            "linecolor": "white",
            "showbackground": true,
            "ticks": "",
            "zerolinecolor": "white"
           }
          },
          "shapedefaults": {
           "line": {
            "color": "#2a3f5f"
           }
          },
          "ternary": {
           "aaxis": {
            "gridcolor": "white",
            "linecolor": "white",
            "ticks": ""
           },
           "baxis": {
            "gridcolor": "white",
            "linecolor": "white",
            "ticks": ""
           },
           "bgcolor": "#E5ECF6",
           "caxis": {
            "gridcolor": "white",
            "linecolor": "white",
            "ticks": ""
           }
          },
          "title": {
           "x": 0.05
          },
          "xaxis": {
           "automargin": true,
           "gridcolor": "white",
           "linecolor": "white",
           "ticks": "",
           "title": {
            "standoff": 15
           },
           "zerolinecolor": "white",
           "zerolinewidth": 2
          },
          "yaxis": {
           "automargin": true,
           "gridcolor": "white",
           "linecolor": "white",
           "ticks": "",
           "title": {
            "standoff": 15
           },
           "zerolinecolor": "white",
           "zerolinewidth": 2
          }
         }
        },
        "title": {
         "text": "Predicted vs. Actual, LSTM"
        }
       }
      }
     },
     "metadata": {},
     "output_type": "display_data"
    }
   ],
   "source": [
    "plot_results(eval_df, '1064', 'LSTM')"
   ]
  }
 ],
 "metadata": {
  "kernelspec": {
   "display_name": ".venv",
   "language": "python",
   "name": "python3"
  },
  "language_info": {
   "codemirror_mode": {
    "name": "ipython",
    "version": 3
   },
   "file_extension": ".py",
   "mimetype": "text/x-python",
   "name": "python",
   "nbconvert_exporter": "python",
   "pygments_lexer": "ipython3",
   "version": "3.12.5"
  }
 },
 "nbformat": 4,
 "nbformat_minor": 2
}
