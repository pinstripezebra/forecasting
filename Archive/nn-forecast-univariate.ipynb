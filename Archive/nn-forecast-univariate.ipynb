{
 "cells": [
  {
   "cell_type": "code",
   "execution_count": 1,
   "metadata": {},
   "outputs": [],
   "source": [
    "import datetime\n",
    "\n",
    "import numpy as np\n",
    "import pandas as pd\n",
    "import seaborn as sns\n",
    "import tensorflow as tf\n",
    "import matplotlib.pyplot as plt\n",
    "\n",
    "import tensorflow as tf\n",
    "from tensorflow.keras.models import Sequential\n",
    "from tensorflow.keras.layers import Dense\n",
    "from tensorflow.keras.layers import LSTM\n",
    "from sklearn.preprocessing import MinMaxScaler\n",
    "from sklearn.metrics import mean_absolute_percentage_error\n",
    "import warnings\n",
    "warnings.filterwarnings('ignore')\n",
    "\n",
    "# Importing custom libraries\n",
    "import sys\n",
    "sys.path.append('/utilities/')\n",
    "from utilities.data_manipulation import pivot_dataframe, convert_to_supervised, rename_dataframe_supervised, plot_results\n",
    "\n",
    "# Random seed for reproducibility\n",
    "tf.random.set_seed(42)\n",
    "\n",
    "REFRESH_DATA = False\n",
    "DATA_QUANTITY = 200"
   ]
  },
  {
   "cell_type": "markdown",
   "metadata": {},
   "source": [
    "### Loading Data"
   ]
  },
  {
   "cell_type": "code",
   "execution_count": 2,
   "metadata": {},
   "outputs": [
    {
     "data": {
      "text/html": [
       "<div>\n",
       "<style scoped>\n",
       "    .dataframe tbody tr th:only-of-type {\n",
       "        vertical-align: middle;\n",
       "    }\n",
       "\n",
       "    .dataframe tbody tr th {\n",
       "        vertical-align: top;\n",
       "    }\n",
       "\n",
       "    .dataframe thead th {\n",
       "        text-align: right;\n",
       "    }\n",
       "</style>\n",
       "<table border=\"1\" class=\"dataframe\">\n",
       "  <thead>\n",
       "    <tr style=\"text-align: right;\">\n",
       "      <th></th>\n",
       "      <th>Value</th>\n",
       "      <th>location</th>\n",
       "      <th>parameter</th>\n",
       "      <th>longitude</th>\n",
       "      <th>latitude</th>\n",
       "      <th>Date</th>\n",
       "    </tr>\n",
       "  </thead>\n",
       "  <tbody>\n",
       "    <tr>\n",
       "      <th>0</th>\n",
       "      <td>2.8</td>\n",
       "      <td>1064</td>\n",
       "      <td>pm25</td>\n",
       "      <td>-122.602877</td>\n",
       "      <td>45.496641</td>\n",
       "      <td>2024-08-22 12:00:00+00:00</td>\n",
       "    </tr>\n",
       "    <tr>\n",
       "      <th>1</th>\n",
       "      <td>2.7</td>\n",
       "      <td>1064</td>\n",
       "      <td>pm25</td>\n",
       "      <td>-122.602877</td>\n",
       "      <td>45.496641</td>\n",
       "      <td>2024-08-22 11:00:00+00:00</td>\n",
       "    </tr>\n",
       "    <tr>\n",
       "      <th>2</th>\n",
       "      <td>2.6</td>\n",
       "      <td>1064</td>\n",
       "      <td>pm25</td>\n",
       "      <td>-122.602877</td>\n",
       "      <td>45.496641</td>\n",
       "      <td>2024-08-22 10:00:00+00:00</td>\n",
       "    </tr>\n",
       "    <tr>\n",
       "      <th>3</th>\n",
       "      <td>2.7</td>\n",
       "      <td>1064</td>\n",
       "      <td>pm25</td>\n",
       "      <td>-122.602877</td>\n",
       "      <td>45.496641</td>\n",
       "      <td>2024-08-22 09:00:00+00:00</td>\n",
       "    </tr>\n",
       "    <tr>\n",
       "      <th>4</th>\n",
       "      <td>2.6</td>\n",
       "      <td>1064</td>\n",
       "      <td>pm25</td>\n",
       "      <td>-122.602877</td>\n",
       "      <td>45.496641</td>\n",
       "      <td>2024-08-22 08:00:00+00:00</td>\n",
       "    </tr>\n",
       "    <tr>\n",
       "      <th>5</th>\n",
       "      <td>2.5</td>\n",
       "      <td>1064</td>\n",
       "      <td>pm25</td>\n",
       "      <td>-122.602877</td>\n",
       "      <td>45.496641</td>\n",
       "      <td>2024-08-22 07:00:00+00:00</td>\n",
       "    </tr>\n",
       "    <tr>\n",
       "      <th>6</th>\n",
       "      <td>2.4</td>\n",
       "      <td>1064</td>\n",
       "      <td>pm25</td>\n",
       "      <td>-122.602877</td>\n",
       "      <td>45.496641</td>\n",
       "      <td>2024-08-22 06:00:00+00:00</td>\n",
       "    </tr>\n",
       "    <tr>\n",
       "      <th>7</th>\n",
       "      <td>2.7</td>\n",
       "      <td>1064</td>\n",
       "      <td>pm25</td>\n",
       "      <td>-122.602877</td>\n",
       "      <td>45.496641</td>\n",
       "      <td>2024-08-22 05:00:00+00:00</td>\n",
       "    </tr>\n",
       "    <tr>\n",
       "      <th>8</th>\n",
       "      <td>2.7</td>\n",
       "      <td>1064</td>\n",
       "      <td>pm25</td>\n",
       "      <td>-122.602877</td>\n",
       "      <td>45.496641</td>\n",
       "      <td>2024-08-22 04:00:00+00:00</td>\n",
       "    </tr>\n",
       "    <tr>\n",
       "      <th>9</th>\n",
       "      <td>2.9</td>\n",
       "      <td>1064</td>\n",
       "      <td>pm25</td>\n",
       "      <td>-122.602877</td>\n",
       "      <td>45.496641</td>\n",
       "      <td>2024-08-22 03:00:00+00:00</td>\n",
       "    </tr>\n",
       "  </tbody>\n",
       "</table>\n",
       "</div>"
      ],
      "text/plain": [
       "   Value location parameter   longitude   latitude                       Date\n",
       "0    2.8     1064      pm25 -122.602877  45.496641  2024-08-22 12:00:00+00:00\n",
       "1    2.7     1064      pm25 -122.602877  45.496641  2024-08-22 11:00:00+00:00\n",
       "2    2.6     1064      pm25 -122.602877  45.496641  2024-08-22 10:00:00+00:00\n",
       "3    2.7     1064      pm25 -122.602877  45.496641  2024-08-22 09:00:00+00:00\n",
       "4    2.6     1064      pm25 -122.602877  45.496641  2024-08-22 08:00:00+00:00\n",
       "5    2.5     1064      pm25 -122.602877  45.496641  2024-08-22 07:00:00+00:00\n",
       "6    2.4     1064      pm25 -122.602877  45.496641  2024-08-22 06:00:00+00:00\n",
       "7    2.7     1064      pm25 -122.602877  45.496641  2024-08-22 05:00:00+00:00\n",
       "8    2.7     1064      pm25 -122.602877  45.496641  2024-08-22 04:00:00+00:00\n",
       "9    2.9     1064      pm25 -122.602877  45.496641  2024-08-22 03:00:00+00:00"
      ]
     },
     "execution_count": 2,
     "metadata": {},
     "output_type": "execute_result"
    }
   ],
   "source": [
    "# Defining city id's\n",
    "ids = ['1064', '1067']\n",
    "\n",
    "\n",
    "# Creating \n",
    "combined_df = []\n",
    "if REFRESH_DATA:\n",
    "    air_measurements = []\n",
    "    # Iterating through sensor locations and creating object to store data for each\n",
    "    for location in ids:\n",
    "        quality = AirQuality(location)\n",
    "        quality.pull_data(DATA_QUANTITY )\n",
    "        air_measurements.append(quality.raw_data)\n",
    "\n",
    "    combined_df = pd.concat(air_measurements)\n",
    "    combined_df.to_csv('./Data/air_polution.csv')\n",
    "else:\n",
    "    combined_df = pd.read_csv('./Data/air_polution.csv')\n",
    "    combined_df = combined_df.drop(columns = ['Unnamed: 0'])\n",
    "\n",
    "combined_df['location'] = combined_df['location'].astype(str)\n",
    "combined_df = combined_df.drop(columns = ['Date'])\n",
    "combined_df = combined_df.rename(columns = {'Data_Converted': 'Date'})\n",
    "combined_df = combined_df[combined_df['location'].isin(ids)].reset_index(drop=True)\n",
    "combined_df.head(10)"
   ]
  },
  {
   "cell_type": "code",
   "execution_count": 3,
   "metadata": {},
   "outputs": [
    {
     "data": {
      "text/html": [
       "<div>\n",
       "<style scoped>\n",
       "    .dataframe tbody tr th:only-of-type {\n",
       "        vertical-align: middle;\n",
       "    }\n",
       "\n",
       "    .dataframe tbody tr th {\n",
       "        vertical-align: top;\n",
       "    }\n",
       "\n",
       "    .dataframe thead th {\n",
       "        text-align: right;\n",
       "    }\n",
       "</style>\n",
       "<table border=\"1\" class=\"dataframe\">\n",
       "  <thead>\n",
       "    <tr style=\"text-align: right;\">\n",
       "      <th></th>\n",
       "      <th>1064</th>\n",
       "      <th>1067</th>\n",
       "      <th>Date</th>\n",
       "    </tr>\n",
       "  </thead>\n",
       "  <tbody>\n",
       "    <tr>\n",
       "      <th>0</th>\n",
       "      <td>5.2</td>\n",
       "      <td>5.0</td>\n",
       "      <td>2024-08-14 05:00:00+00:00</td>\n",
       "    </tr>\n",
       "    <tr>\n",
       "      <th>1</th>\n",
       "      <td>5.4</td>\n",
       "      <td>5.0</td>\n",
       "      <td>2024-08-14 06:00:00+00:00</td>\n",
       "    </tr>\n",
       "    <tr>\n",
       "      <th>2</th>\n",
       "      <td>5.3</td>\n",
       "      <td>5.2</td>\n",
       "      <td>2024-08-14 07:00:00+00:00</td>\n",
       "    </tr>\n",
       "    <tr>\n",
       "      <th>3</th>\n",
       "      <td>5.4</td>\n",
       "      <td>5.3</td>\n",
       "      <td>2024-08-14 08:00:00+00:00</td>\n",
       "    </tr>\n",
       "    <tr>\n",
       "      <th>4</th>\n",
       "      <td>5.6</td>\n",
       "      <td>5.3</td>\n",
       "      <td>2024-08-14 09:00:00+00:00</td>\n",
       "    </tr>\n",
       "    <tr>\n",
       "      <th>5</th>\n",
       "      <td>6.0</td>\n",
       "      <td>5.5</td>\n",
       "      <td>2024-08-14 10:00:00+00:00</td>\n",
       "    </tr>\n",
       "    <tr>\n",
       "      <th>6</th>\n",
       "      <td>6.3</td>\n",
       "      <td>5.6</td>\n",
       "      <td>2024-08-14 11:00:00+00:00</td>\n",
       "    </tr>\n",
       "    <tr>\n",
       "      <th>7</th>\n",
       "      <td>6.0</td>\n",
       "      <td>5.6</td>\n",
       "      <td>2024-08-14 12:00:00+00:00</td>\n",
       "    </tr>\n",
       "    <tr>\n",
       "      <th>8</th>\n",
       "      <td>6.1</td>\n",
       "      <td>5.8</td>\n",
       "      <td>2024-08-14 13:00:00+00:00</td>\n",
       "    </tr>\n",
       "    <tr>\n",
       "      <th>9</th>\n",
       "      <td>6.2</td>\n",
       "      <td>5.8</td>\n",
       "      <td>2024-08-14 14:00:00+00:00</td>\n",
       "    </tr>\n",
       "  </tbody>\n",
       "</table>\n",
       "</div>"
      ],
      "text/plain": [
       "   1064  1067                       Date\n",
       "0   5.2   5.0  2024-08-14 05:00:00+00:00\n",
       "1   5.4   5.0  2024-08-14 06:00:00+00:00\n",
       "2   5.3   5.2  2024-08-14 07:00:00+00:00\n",
       "3   5.4   5.3  2024-08-14 08:00:00+00:00\n",
       "4   5.6   5.3  2024-08-14 09:00:00+00:00\n",
       "5   6.0   5.5  2024-08-14 10:00:00+00:00\n",
       "6   6.3   5.6  2024-08-14 11:00:00+00:00\n",
       "7   6.0   5.6  2024-08-14 12:00:00+00:00\n",
       "8   6.1   5.8  2024-08-14 13:00:00+00:00\n",
       "9   6.2   5.8  2024-08-14 14:00:00+00:00"
      ]
     },
     "execution_count": 3,
     "metadata": {},
     "output_type": "execute_result"
    }
   ],
   "source": [
    "identifier_col = 'location'\n",
    "value_col = 'Value'\n",
    "formatted_df = pivot_dataframe(combined_df, identifier_col, value_col)\n",
    "formatted_df.head(10)"
   ]
  },
  {
   "cell_type": "markdown",
   "metadata": {},
   "source": [
    "### First Trying with Just One Series"
   ]
  },
  {
   "cell_type": "code",
   "execution_count": 4,
   "metadata": {},
   "outputs": [
    {
     "data": {
      "text/html": [
       "<div>\n",
       "<style scoped>\n",
       "    .dataframe tbody tr th:only-of-type {\n",
       "        vertical-align: middle;\n",
       "    }\n",
       "\n",
       "    .dataframe tbody tr th {\n",
       "        vertical-align: top;\n",
       "    }\n",
       "\n",
       "    .dataframe thead th {\n",
       "        text-align: right;\n",
       "    }\n",
       "</style>\n",
       "<table border=\"1\" class=\"dataframe\">\n",
       "  <thead>\n",
       "    <tr style=\"text-align: right;\">\n",
       "      <th></th>\n",
       "      <th>1064</th>\n",
       "      <th>Date</th>\n",
       "    </tr>\n",
       "  </thead>\n",
       "  <tbody>\n",
       "    <tr>\n",
       "      <th>0</th>\n",
       "      <td>0.252174</td>\n",
       "      <td>2024-08-14 05:00:00+00:00</td>\n",
       "    </tr>\n",
       "    <tr>\n",
       "      <th>1</th>\n",
       "      <td>0.269565</td>\n",
       "      <td>2024-08-14 06:00:00+00:00</td>\n",
       "    </tr>\n",
       "    <tr>\n",
       "      <th>2</th>\n",
       "      <td>0.260870</td>\n",
       "      <td>2024-08-14 07:00:00+00:00</td>\n",
       "    </tr>\n",
       "    <tr>\n",
       "      <th>3</th>\n",
       "      <td>0.269565</td>\n",
       "      <td>2024-08-14 08:00:00+00:00</td>\n",
       "    </tr>\n",
       "    <tr>\n",
       "      <th>4</th>\n",
       "      <td>0.286957</td>\n",
       "      <td>2024-08-14 09:00:00+00:00</td>\n",
       "    </tr>\n",
       "    <tr>\n",
       "      <th>5</th>\n",
       "      <td>0.321739</td>\n",
       "      <td>2024-08-14 10:00:00+00:00</td>\n",
       "    </tr>\n",
       "    <tr>\n",
       "      <th>6</th>\n",
       "      <td>0.347826</td>\n",
       "      <td>2024-08-14 11:00:00+00:00</td>\n",
       "    </tr>\n",
       "    <tr>\n",
       "      <th>7</th>\n",
       "      <td>0.321739</td>\n",
       "      <td>2024-08-14 12:00:00+00:00</td>\n",
       "    </tr>\n",
       "    <tr>\n",
       "      <th>8</th>\n",
       "      <td>0.330435</td>\n",
       "      <td>2024-08-14 13:00:00+00:00</td>\n",
       "    </tr>\n",
       "    <tr>\n",
       "      <th>9</th>\n",
       "      <td>0.339130</td>\n",
       "      <td>2024-08-14 14:00:00+00:00</td>\n",
       "    </tr>\n",
       "  </tbody>\n",
       "</table>\n",
       "</div>"
      ],
      "text/plain": [
       "       1064                       Date\n",
       "0  0.252174  2024-08-14 05:00:00+00:00\n",
       "1  0.269565  2024-08-14 06:00:00+00:00\n",
       "2  0.260870  2024-08-14 07:00:00+00:00\n",
       "3  0.269565  2024-08-14 08:00:00+00:00\n",
       "4  0.286957  2024-08-14 09:00:00+00:00\n",
       "5  0.321739  2024-08-14 10:00:00+00:00\n",
       "6  0.347826  2024-08-14 11:00:00+00:00\n",
       "7  0.321739  2024-08-14 12:00:00+00:00\n",
       "8  0.330435  2024-08-14 13:00:00+00:00\n",
       "9  0.339130  2024-08-14 14:00:00+00:00"
      ]
     },
     "execution_count": 4,
     "metadata": {},
     "output_type": "execute_result"
    }
   ],
   "source": [
    "formatted_df = formatted_df[['1064', 'Date']]\n",
    "\n",
    "# creating scalar\n",
    "scaler = MinMaxScaler(feature_range=(0, 1))\n",
    "\n",
    "# Normalizing target column\n",
    "formatted_df ['1064'] = scaler.fit_transform(formatted_df[['1064']])\n",
    "formatted_df.head(10)"
   ]
  },
  {
   "cell_type": "markdown",
   "metadata": {},
   "source": [
    "### Creating Training Set"
   ]
  },
  {
   "cell_type": "code",
   "execution_count": 5,
   "metadata": {},
   "outputs": [
    {
     "name": "stdout",
     "output_type": "stream",
     "text": [
      "140 60\n"
     ]
    }
   ],
   "source": [
    "total_observations = len(formatted_df)\n",
    "train_ratio = 0.7\n",
    "\n",
    "train_df = formatted_df[:int(total_observations * train_ratio)]\n",
    "test_df = formatted_df[int(total_observations * train_ratio):]\n",
    "print(len(train_df), len(test_df))\n"
   ]
  },
  {
   "cell_type": "markdown",
   "metadata": {},
   "source": [
    "### Converting Data to Windowed Format"
   ]
  },
  {
   "cell_type": "code",
   "execution_count": 6,
   "metadata": {},
   "outputs": [],
   "source": [
    "timesteps = 6\n",
    "train_vals, test_vals = train_df['1064'].values, test_df['1064'].values\n",
    "\n",
    "# Transforming to time series                                                                                                                                                       \n",
    "train_data, test_data = convert_to_supervised(train_vals, n_in=timesteps), convert_to_supervised(test_vals, n_in=timesteps)\n",
    "\n",
    "# Converting to dataframe\n",
    "train_df, test_df = rename_dataframe_supervised(pd.DataFrame(train_data)), rename_dataframe_supervised(pd.DataFrame(test_data))\n",
    "\n",
    "# Separating x and y\n",
    "train_y, train_x = train_df['t'].to_numpy(), train_df.drop(columns = ['t']).to_numpy()\n",
    "test_y, test_x = test_df['t'].to_numpy(), test_df.drop(columns = ['t']).to_numpy()\n"
   ]
  },
  {
   "cell_type": "code",
   "execution_count": 7,
   "metadata": {},
   "outputs": [],
   "source": [
    "# reshape input to be [samples, time steps, features]\n",
    "train_x = np.reshape(train_x, (train_x.shape[0], 1, train_x.shape[1]))\n",
    "test_x = np.reshape(test_x, (test_x.shape[0], 1, test_x.shape[1]))\n"
   ]
  },
  {
   "cell_type": "code",
   "execution_count": 8,
   "metadata": {},
   "outputs": [
    {
     "name": "stdout",
     "output_type": "stream",
     "text": [
      "Train X shape: (134, 1, 6)\n",
      "Train y shape: (134,)\n"
     ]
    }
   ],
   "source": [
    "print('Train X shape:', train_x.shape)\n",
    "print('Train y shape:', train_y.shape)"
   ]
  },
  {
   "cell_type": "markdown",
   "metadata": {},
   "source": [
    "### Now we can Make a Model"
   ]
  },
  {
   "cell_type": "code",
   "execution_count": 9,
   "metadata": {},
   "outputs": [
    {
     "name": "stdout",
     "output_type": "stream",
     "text": [
      "Epoch 1/100\n",
      "Epoch 2/100\n",
      "Epoch 3/100\n",
      "Epoch 4/100\n",
      "Epoch 5/100\n",
      "Epoch 6/100\n",
      "Epoch 7/100\n",
      "Epoch 8/100\n",
      "Epoch 9/100\n",
      "Epoch 10/100\n",
      "Epoch 11/100\n",
      "Epoch 12/100\n",
      "Epoch 13/100\n",
      "Epoch 14/100\n",
      "Epoch 15/100\n",
      "Epoch 16/100\n",
      "Epoch 17/100\n",
      "Epoch 18/100\n",
      "Epoch 19/100\n",
      "Epoch 20/100\n",
      "Epoch 21/100\n",
      "Epoch 22/100\n",
      "Epoch 23/100\n",
      "Epoch 24/100\n",
      "Epoch 25/100\n",
      "Epoch 26/100\n",
      "Epoch 27/100\n",
      "Epoch 28/100\n",
      "Epoch 29/100\n",
      "Epoch 30/100\n",
      "Epoch 31/100\n",
      "Epoch 32/100\n",
      "Epoch 33/100\n",
      "Epoch 34/100\n",
      "Epoch 35/100\n",
      "Epoch 36/100\n",
      "Epoch 37/100\n",
      "Epoch 38/100\n",
      "Epoch 39/100\n",
      "Epoch 40/100\n",
      "Epoch 41/100\n",
      "Epoch 42/100\n",
      "Epoch 43/100\n",
      "Epoch 44/100\n",
      "Epoch 45/100\n",
      "Epoch 46/100\n",
      "Epoch 47/100\n",
      "Epoch 48/100\n",
      "Epoch 49/100\n",
      "Epoch 50/100\n",
      "Epoch 51/100\n",
      "Epoch 52/100\n",
      "Epoch 53/100\n",
      "Epoch 54/100\n",
      "Epoch 55/100\n",
      "Epoch 56/100\n",
      "Epoch 57/100\n",
      "Epoch 58/100\n",
      "Epoch 59/100\n",
      "Epoch 60/100\n",
      "Epoch 61/100\n",
      "Epoch 62/100\n",
      "Epoch 63/100\n",
      "Epoch 64/100\n",
      "Epoch 65/100\n",
      "Epoch 66/100\n",
      "Epoch 67/100\n",
      "Epoch 68/100\n",
      "Epoch 69/100\n",
      "Epoch 70/100\n",
      "Epoch 71/100\n",
      "Epoch 72/100\n",
      "Epoch 73/100\n",
      "Epoch 74/100\n",
      "Epoch 75/100\n",
      "Epoch 76/100\n",
      "Epoch 77/100\n",
      "Epoch 78/100\n",
      "Epoch 79/100\n",
      "Epoch 80/100\n",
      "Epoch 81/100\n",
      "Epoch 82/100\n",
      "Epoch 83/100\n",
      "Epoch 84/100\n",
      "Epoch 85/100\n",
      "Epoch 86/100\n",
      "Epoch 87/100\n",
      "Epoch 88/100\n",
      "Epoch 89/100\n",
      "Epoch 90/100\n",
      "Epoch 91/100\n",
      "Epoch 92/100\n",
      "Epoch 93/100\n",
      "Epoch 94/100\n",
      "Epoch 95/100\n",
      "Epoch 96/100\n",
      "Epoch 97/100\n",
      "Epoch 98/100\n",
      "Epoch 99/100\n",
      "Epoch 100/100\n",
      "\u001b[1m5/5\u001b[0m \u001b[32m━━━━━━━━━━━━━━━━━━━━\u001b[0m\u001b[37m\u001b[0m \u001b[1m0s\u001b[0m 16ms/step\n",
      "\u001b[1m2/2\u001b[0m \u001b[32m━━━━━━━━━━━━━━━━━━━━\u001b[0m\u001b[37m\u001b[0m \u001b[1m0s\u001b[0m 2ms/step\n"
     ]
    }
   ],
   "source": [
    "# defining and training model\n",
    "model = Sequential()\n",
    "model.add(LSTM(4, input_shape=(1, timesteps)))\n",
    "model.add(Dense(1))\n",
    "model.compile(loss='mean_squared_error', optimizer='adam')\n",
    "model.fit(train_x, train_y, epochs=100, batch_size=1, verbose=3)\n",
    "\n",
    "# make predictions\n",
    "trainPredict = model.predict(train_x)\n",
    "testPredict = model.predict(test_x)\n",
    "\n",
    "\n",
    "# inverting predictions back to initial scale\n",
    "trainPredict = scaler.inverse_transform(trainPredict)\n",
    "trainY = scaler.inverse_transform([train_y])\n",
    "testPredict = scaler.inverse_transform(testPredict)\n",
    "testY = scaler.inverse_transform([test_y])"
   ]
  },
  {
   "cell_type": "code",
   "execution_count": 10,
   "metadata": {},
   "outputs": [
    {
     "name": "stdout",
     "output_type": "stream",
     "text": [
      "Train Score: 0.071 MAPE\n",
      "Test Score: 0.078 MAPE\n"
     ]
    }
   ],
   "source": [
    "# calculate root mean squared error\n",
    "trainScore = mean_absolute_percentage_error(trainY[0], trainPredict[:,0])\n",
    "print('Train Score: %.3f MAPE' % (trainScore))\n",
    "testScore = mean_absolute_percentage_error(testY[0], testPredict[:,0])\n",
    "print('Test Score: %.3f MAPE' % (testScore))"
   ]
  },
  {
   "cell_type": "markdown",
   "metadata": {},
   "source": [
    "### Comparing to Naive Approach\n",
    "The simplest approach would be predicting the future value is equal to the previous value. We'll do this and evaluate its performance."
   ]
  },
  {
   "cell_type": "code",
   "execution_count": 11,
   "metadata": {},
   "outputs": [
    {
     "name": "stdout",
     "output_type": "stream",
     "text": [
      "Test Score: 0.073 MAPE\n"
     ]
    }
   ],
   "source": [
    "base_df= pivot_dataframe(combined_df, identifier_col, value_col)[['Date', '1064']]\n",
    "future_y = base_df['1064'].iloc[1:]\n",
    "naive_pred = base_df['1064'].iloc[:-1]\n",
    "\n",
    "# calculating mape with naive approach\n",
    "naive_mape =  mean_absolute_percentage_error(future_y, naive_pred)\n",
    "print('Test Score: %.3f MAPE' % (naive_mape))\n"
   ]
  },
  {
   "cell_type": "markdown",
   "metadata": {},
   "source": [
    "Can see that LSTM performs just slightly better than our naive approach although the naive approach works surprisingly well in this case."
   ]
  },
  {
   "cell_type": "markdown",
   "metadata": {},
   "source": [
    "### Plotting Results"
   ]
  },
  {
   "cell_type": "code",
   "execution_count": 12,
   "metadata": {},
   "outputs": [
    {
     "name": "stdout",
     "output_type": "stream",
     "text": [
      "188\n"
     ]
    },
    {
     "data": {
      "text/html": [
       "<div>\n",
       "<style scoped>\n",
       "    .dataframe tbody tr th:only-of-type {\n",
       "        vertical-align: middle;\n",
       "    }\n",
       "\n",
       "    .dataframe tbody tr th {\n",
       "        vertical-align: top;\n",
       "    }\n",
       "\n",
       "    .dataframe thead th {\n",
       "        text-align: right;\n",
       "    }\n",
       "</style>\n",
       "<table border=\"1\" class=\"dataframe\">\n",
       "  <thead>\n",
       "    <tr style=\"text-align: right;\">\n",
       "      <th></th>\n",
       "      <th>Date</th>\n",
       "      <th>1064</th>\n",
       "      <th>Prediction_Type</th>\n",
       "      <th>Prediction</th>\n",
       "    </tr>\n",
       "  </thead>\n",
       "  <tbody>\n",
       "    <tr>\n",
       "      <th>12</th>\n",
       "      <td>2024-08-14 17:00:00+00:00</td>\n",
       "      <td>6.6</td>\n",
       "      <td>Train</td>\n",
       "      <td>6.067657</td>\n",
       "    </tr>\n",
       "    <tr>\n",
       "      <th>13</th>\n",
       "      <td>2024-08-14 18:00:00+00:00</td>\n",
       "      <td>6.6</td>\n",
       "      <td>Train</td>\n",
       "      <td>6.413223</td>\n",
       "    </tr>\n",
       "    <tr>\n",
       "      <th>14</th>\n",
       "      <td>2024-08-14 19:00:00+00:00</td>\n",
       "      <td>6.8</td>\n",
       "      <td>Train</td>\n",
       "      <td>6.226355</td>\n",
       "    </tr>\n",
       "    <tr>\n",
       "      <th>15</th>\n",
       "      <td>2024-08-14 20:00:00+00:00</td>\n",
       "      <td>7.4</td>\n",
       "      <td>Train</td>\n",
       "      <td>6.203573</td>\n",
       "    </tr>\n",
       "    <tr>\n",
       "      <th>16</th>\n",
       "      <td>2024-08-14 21:00:00+00:00</td>\n",
       "      <td>6.9</td>\n",
       "      <td>Train</td>\n",
       "      <td>6.305706</td>\n",
       "    </tr>\n",
       "    <tr>\n",
       "      <th>17</th>\n",
       "      <td>2024-08-14 22:00:00+00:00</td>\n",
       "      <td>6.9</td>\n",
       "      <td>Train</td>\n",
       "      <td>6.503018</td>\n",
       "    </tr>\n",
       "    <tr>\n",
       "      <th>18</th>\n",
       "      <td>2024-08-14 23:00:00+00:00</td>\n",
       "      <td>7.5</td>\n",
       "      <td>Train</td>\n",
       "      <td>6.774612</td>\n",
       "    </tr>\n",
       "    <tr>\n",
       "      <th>19</th>\n",
       "      <td>2024-08-15 00:00:00+00:00</td>\n",
       "      <td>7.5</td>\n",
       "      <td>Train</td>\n",
       "      <td>6.802349</td>\n",
       "    </tr>\n",
       "    <tr>\n",
       "      <th>20</th>\n",
       "      <td>2024-08-15 01:00:00+00:00</td>\n",
       "      <td>7.8</td>\n",
       "      <td>Train</td>\n",
       "      <td>6.751216</td>\n",
       "    </tr>\n",
       "    <tr>\n",
       "      <th>21</th>\n",
       "      <td>2024-08-15 02:00:00+00:00</td>\n",
       "      <td>7.3</td>\n",
       "      <td>Train</td>\n",
       "      <td>6.910307</td>\n",
       "    </tr>\n",
       "  </tbody>\n",
       "</table>\n",
       "</div>"
      ],
      "text/plain": [
       "                         Date  1064 Prediction_Type  Prediction\n",
       "12  2024-08-14 17:00:00+00:00   6.6           Train    6.067657\n",
       "13  2024-08-14 18:00:00+00:00   6.6           Train    6.413223\n",
       "14  2024-08-14 19:00:00+00:00   6.8           Train    6.226355\n",
       "15  2024-08-14 20:00:00+00:00   7.4           Train    6.203573\n",
       "16  2024-08-14 21:00:00+00:00   6.9           Train    6.305706\n",
       "17  2024-08-14 22:00:00+00:00   6.9           Train    6.503018\n",
       "18  2024-08-14 23:00:00+00:00   7.5           Train    6.774612\n",
       "19  2024-08-15 00:00:00+00:00   7.5           Train    6.802349\n",
       "20  2024-08-15 01:00:00+00:00   7.8           Train    6.751216\n",
       "21  2024-08-15 02:00:00+00:00   7.3           Train    6.910307"
      ]
     },
     "execution_count": 12,
     "metadata": {},
     "output_type": "execute_result"
    }
   ],
   "source": [
    "predictions = np.append(trainPredict[:,0], testPredict[:,0])\n",
    "prediction_type = ['Train'] * len(trainPredict[:,0]) + ['Test'] * len(testPredict[:,0])\n",
    "\n",
    "eval_df = base_df.iloc[timesteps*2:]\n",
    "print(len(eval_df))\n",
    "eval_df['Prediction_Type'] = prediction_type\n",
    "eval_df['Prediction'] = predictions\n",
    "eval_df.head(10)\n"
   ]
  },
  {
   "cell_type": "code",
   "execution_count": 13,
   "metadata": {},
   "outputs": [
    {
     "data": {
      "application/vnd.plotly.v1+json": {
       "config": {
        "plotlyServerURL": "https://plot.ly"
       },
       "data": [
        {
         "mode": "lines",
         "name": "Actual",
         "type": "scatter",
         "x": [
          "2024-08-14 17:00:00+00:00",
          "2024-08-14 18:00:00+00:00",
          "2024-08-14 19:00:00+00:00",
          "2024-08-14 20:00:00+00:00",
          "2024-08-14 21:00:00+00:00",
          "2024-08-14 22:00:00+00:00",
          "2024-08-14 23:00:00+00:00",
          "2024-08-15 00:00:00+00:00",
          "2024-08-15 01:00:00+00:00",
          "2024-08-15 02:00:00+00:00",
          "2024-08-15 03:00:00+00:00",
          "2024-08-15 04:00:00+00:00",
          "2024-08-15 05:00:00+00:00",
          "2024-08-15 06:00:00+00:00",
          "2024-08-15 07:00:00+00:00",
          "2024-08-15 08:00:00+00:00",
          "2024-08-15 09:00:00+00:00",
          "2024-08-15 10:00:00+00:00",
          "2024-08-15 11:00:00+00:00",
          "2024-08-15 12:00:00+00:00",
          "2024-08-15 13:00:00+00:00",
          "2024-08-15 14:00:00+00:00",
          "2024-08-15 15:00:00+00:00",
          "2024-08-15 16:00:00+00:00",
          "2024-08-15 17:00:00+00:00",
          "2024-08-15 18:00:00+00:00",
          "2024-08-15 19:00:00+00:00",
          "2024-08-15 20:00:00+00:00",
          "2024-08-15 21:00:00+00:00",
          "2024-08-15 22:00:00+00:00",
          "2024-08-15 23:00:00+00:00",
          "2024-08-16 00:00:00+00:00",
          "2024-08-16 01:00:00+00:00",
          "2024-08-16 02:00:00+00:00",
          "2024-08-16 03:00:00+00:00",
          "2024-08-16 04:00:00+00:00",
          "2024-08-16 05:00:00+00:00",
          "2024-08-16 06:00:00+00:00",
          "2024-08-16 07:00:00+00:00",
          "2024-08-16 08:00:00+00:00",
          "2024-08-16 09:00:00+00:00",
          "2024-08-16 10:00:00+00:00",
          "2024-08-16 11:00:00+00:00",
          "2024-08-16 12:00:00+00:00",
          "2024-08-16 13:00:00+00:00",
          "2024-08-16 14:00:00+00:00",
          "2024-08-16 15:00:00+00:00",
          "2024-08-16 16:00:00+00:00",
          "2024-08-16 17:00:00+00:00",
          "2024-08-16 18:00:00+00:00",
          "2024-08-16 19:00:00+00:00",
          "2024-08-16 20:00:00+00:00",
          "2024-08-16 21:00:00+00:00",
          "2024-08-16 22:00:00+00:00",
          "2024-08-16 23:00:00+00:00",
          "2024-08-17 00:00:00+00:00",
          "2024-08-17 01:00:00+00:00",
          "2024-08-17 02:00:00+00:00",
          "2024-08-17 03:00:00+00:00",
          "2024-08-17 04:00:00+00:00",
          "2024-08-17 05:00:00+00:00",
          "2024-08-17 06:00:00+00:00",
          "2024-08-17 07:00:00+00:00",
          "2024-08-17 08:00:00+00:00",
          "2024-08-17 09:00:00+00:00",
          "2024-08-17 10:00:00+00:00",
          "2024-08-17 11:00:00+00:00",
          "2024-08-17 12:00:00+00:00",
          "2024-08-17 13:00:00+00:00",
          "2024-08-17 14:00:00+00:00",
          "2024-08-17 15:00:00+00:00",
          "2024-08-17 16:00:00+00:00",
          "2024-08-17 17:00:00+00:00",
          "2024-08-17 18:00:00+00:00",
          "2024-08-17 19:00:00+00:00",
          "2024-08-17 20:00:00+00:00",
          "2024-08-17 21:00:00+00:00",
          "2024-08-17 22:00:00+00:00",
          "2024-08-17 23:00:00+00:00",
          "2024-08-18 00:00:00+00:00",
          "2024-08-18 01:00:00+00:00",
          "2024-08-18 02:00:00+00:00",
          "2024-08-18 03:00:00+00:00",
          "2024-08-18 04:00:00+00:00",
          "2024-08-18 05:00:00+00:00",
          "2024-08-18 06:00:00+00:00",
          "2024-08-18 07:00:00+00:00",
          "2024-08-18 08:00:00+00:00",
          "2024-08-18 09:00:00+00:00",
          "2024-08-18 10:00:00+00:00",
          "2024-08-18 11:00:00+00:00",
          "2024-08-18 12:00:00+00:00",
          "2024-08-18 13:00:00+00:00",
          "2024-08-18 14:00:00+00:00",
          "2024-08-18 15:00:00+00:00",
          "2024-08-18 16:00:00+00:00",
          "2024-08-18 17:00:00+00:00",
          "2024-08-18 18:00:00+00:00",
          "2024-08-18 19:00:00+00:00",
          "2024-08-18 20:00:00+00:00",
          "2024-08-18 21:00:00+00:00",
          "2024-08-18 22:00:00+00:00",
          "2024-08-18 23:00:00+00:00",
          "2024-08-19 00:00:00+00:00",
          "2024-08-19 01:00:00+00:00",
          "2024-08-19 02:00:00+00:00",
          "2024-08-19 03:00:00+00:00",
          "2024-08-19 04:00:00+00:00",
          "2024-08-19 05:00:00+00:00",
          "2024-08-19 06:00:00+00:00",
          "2024-08-19 07:00:00+00:00",
          "2024-08-19 08:00:00+00:00",
          "2024-08-19 09:00:00+00:00",
          "2024-08-19 10:00:00+00:00",
          "2024-08-19 11:00:00+00:00",
          "2024-08-19 12:00:00+00:00",
          "2024-08-19 13:00:00+00:00",
          "2024-08-19 14:00:00+00:00",
          "2024-08-19 15:00:00+00:00",
          "2024-08-19 16:00:00+00:00",
          "2024-08-19 17:00:00+00:00",
          "2024-08-19 18:00:00+00:00",
          "2024-08-19 19:00:00+00:00",
          "2024-08-19 20:00:00+00:00",
          "2024-08-19 21:00:00+00:00",
          "2024-08-19 22:00:00+00:00",
          "2024-08-19 23:00:00+00:00",
          "2024-08-20 00:00:00+00:00",
          "2024-08-20 01:00:00+00:00",
          "2024-08-20 02:00:00+00:00",
          "2024-08-20 03:00:00+00:00",
          "2024-08-20 04:00:00+00:00",
          "2024-08-20 05:00:00+00:00",
          "2024-08-20 06:00:00+00:00",
          "2024-08-20 07:00:00+00:00",
          "2024-08-20 08:00:00+00:00",
          "2024-08-20 09:00:00+00:00",
          "2024-08-20 10:00:00+00:00",
          "2024-08-20 11:00:00+00:00",
          "2024-08-20 12:00:00+00:00",
          "2024-08-20 13:00:00+00:00",
          "2024-08-20 14:00:00+00:00",
          "2024-08-20 15:00:00+00:00",
          "2024-08-20 16:00:00+00:00",
          "2024-08-20 17:00:00+00:00",
          "2024-08-20 18:00:00+00:00",
          "2024-08-20 19:00:00+00:00",
          "2024-08-20 20:00:00+00:00",
          "2024-08-20 21:00:00+00:00",
          "2024-08-20 22:00:00+00:00",
          "2024-08-20 23:00:00+00:00",
          "2024-08-21 00:00:00+00:00",
          "2024-08-21 01:00:00+00:00",
          "2024-08-21 02:00:00+00:00",
          "2024-08-21 03:00:00+00:00",
          "2024-08-21 04:00:00+00:00",
          "2024-08-21 05:00:00+00:00",
          "2024-08-21 06:00:00+00:00",
          "2024-08-21 07:00:00+00:00",
          "2024-08-21 08:00:00+00:00",
          "2024-08-21 09:00:00+00:00",
          "2024-08-21 10:00:00+00:00",
          "2024-08-21 11:00:00+00:00",
          "2024-08-21 12:00:00+00:00",
          "2024-08-21 13:00:00+00:00",
          "2024-08-21 14:00:00+00:00",
          "2024-08-21 15:00:00+00:00",
          "2024-08-21 16:00:00+00:00",
          "2024-08-21 17:00:00+00:00",
          "2024-08-21 18:00:00+00:00",
          "2024-08-21 19:00:00+00:00",
          "2024-08-21 20:00:00+00:00",
          "2024-08-21 21:00:00+00:00",
          "2024-08-21 22:00:00+00:00",
          "2024-08-21 23:00:00+00:00",
          "2024-08-22 00:00:00+00:00",
          "2024-08-22 01:00:00+00:00",
          "2024-08-22 02:00:00+00:00",
          "2024-08-22 03:00:00+00:00",
          "2024-08-22 04:00:00+00:00",
          "2024-08-22 05:00:00+00:00",
          "2024-08-22 06:00:00+00:00",
          "2024-08-22 07:00:00+00:00",
          "2024-08-22 08:00:00+00:00",
          "2024-08-22 09:00:00+00:00",
          "2024-08-22 10:00:00+00:00",
          "2024-08-22 11:00:00+00:00",
          "2024-08-22 12:00:00+00:00"
         ],
         "y": [
          6.6,
          6.6,
          6.8,
          7.4,
          6.9,
          6.9,
          7.5,
          7.5,
          7.8,
          7.3,
          7.2,
          6.9,
          6.8,
          7.2,
          6.8,
          6.3,
          5.7,
          4.8,
          4.6,
          4.4,
          4.5,
          4.5,
          4.6,
          5,
          6.8,
          6.9,
          7,
          7.1,
          7.2,
          7.5,
          6.6,
          4.8,
          3.9,
          4.2,
          3.9,
          3.3,
          2.8,
          2.3,
          2.5,
          2.6,
          2.4,
          2.6,
          2.6,
          3,
          2.7,
          3.3,
          3,
          2.6,
          2.7,
          2.7,
          2.9,
          3,
          3.3,
          3.4,
          3.3,
          3.4,
          3.5,
          3.6,
          3.5,
          3.5,
          3.6,
          4.5,
          4.8,
          5,
          5.2,
          5.6,
          5.6,
          5.6,
          5.7,
          5.9,
          6,
          6,
          6.2,
          6.5,
          8.3,
          9.2,
          9.6,
          10.2,
          9.4,
          8.3,
          7.6,
          8.8,
          9.2,
          9.8,
          11.3,
          13.5,
          13.8,
          11.5,
          11.7,
          11.3,
          9.5,
          7.5,
          6.1,
          7,
          6.2,
          5.5,
          5.1,
          4.8,
          3.1,
          3.2,
          3,
          2.8,
          3,
          2.8,
          3.2,
          3.3,
          3.6,
          4.3,
          4.4,
          4.7,
          5,
          5.2,
          5.3,
          5.2,
          5.4,
          5.8,
          5.9,
          5.3,
          5.5,
          5.2,
          4.8,
          4.6,
          4.3,
          4.4,
          4,
          3.6,
          3.8,
          3.9,
          3.7,
          4,
          3.9,
          4.3,
          5.8,
          5.4,
          5.6,
          5.4,
          5.2,
          5.1,
          5,
          4.8,
          4.7,
          4.5,
          4.5,
          4.5,
          5,
          4.8,
          4.7,
          5.7,
          7,
          7,
          7.9,
          8.4,
          7.6,
          8.6,
          9.3,
          9.1,
          5.9,
          5.9,
          6,
          6.2,
          5.7,
          5.2,
          5.2,
          5.3,
          5.4,
          4.7,
          4.6,
          4.6,
          5.1,
          4.3,
          4,
          4.3,
          4.4,
          4.1,
          3.6,
          3,
          2.9,
          2.9,
          2.9,
          2.7,
          2.7,
          2.4,
          2.5,
          2.6,
          2.7,
          2.6,
          2.7,
          2.8
         ]
        },
        {
         "mode": "markers",
         "name": "Train Prediction",
         "type": "scatter",
         "x": [
          "2024-08-14 17:00:00+00:00",
          "2024-08-14 18:00:00+00:00",
          "2024-08-14 19:00:00+00:00",
          "2024-08-14 20:00:00+00:00",
          "2024-08-14 21:00:00+00:00",
          "2024-08-14 22:00:00+00:00",
          "2024-08-14 23:00:00+00:00",
          "2024-08-15 00:00:00+00:00",
          "2024-08-15 01:00:00+00:00",
          "2024-08-15 02:00:00+00:00",
          "2024-08-15 03:00:00+00:00",
          "2024-08-15 04:00:00+00:00",
          "2024-08-15 05:00:00+00:00",
          "2024-08-15 06:00:00+00:00",
          "2024-08-15 07:00:00+00:00",
          "2024-08-15 08:00:00+00:00",
          "2024-08-15 09:00:00+00:00",
          "2024-08-15 10:00:00+00:00",
          "2024-08-15 11:00:00+00:00",
          "2024-08-15 12:00:00+00:00",
          "2024-08-15 13:00:00+00:00",
          "2024-08-15 14:00:00+00:00",
          "2024-08-15 15:00:00+00:00",
          "2024-08-15 16:00:00+00:00",
          "2024-08-15 17:00:00+00:00",
          "2024-08-15 18:00:00+00:00",
          "2024-08-15 19:00:00+00:00",
          "2024-08-15 20:00:00+00:00",
          "2024-08-15 21:00:00+00:00",
          "2024-08-15 22:00:00+00:00",
          "2024-08-15 23:00:00+00:00",
          "2024-08-16 00:00:00+00:00",
          "2024-08-16 01:00:00+00:00",
          "2024-08-16 02:00:00+00:00",
          "2024-08-16 03:00:00+00:00",
          "2024-08-16 04:00:00+00:00",
          "2024-08-16 05:00:00+00:00",
          "2024-08-16 06:00:00+00:00",
          "2024-08-16 07:00:00+00:00",
          "2024-08-16 08:00:00+00:00",
          "2024-08-16 09:00:00+00:00",
          "2024-08-16 10:00:00+00:00",
          "2024-08-16 11:00:00+00:00",
          "2024-08-16 12:00:00+00:00",
          "2024-08-16 13:00:00+00:00",
          "2024-08-16 14:00:00+00:00",
          "2024-08-16 15:00:00+00:00",
          "2024-08-16 16:00:00+00:00",
          "2024-08-16 17:00:00+00:00",
          "2024-08-16 18:00:00+00:00",
          "2024-08-16 19:00:00+00:00",
          "2024-08-16 20:00:00+00:00",
          "2024-08-16 21:00:00+00:00",
          "2024-08-16 22:00:00+00:00",
          "2024-08-16 23:00:00+00:00",
          "2024-08-17 00:00:00+00:00",
          "2024-08-17 01:00:00+00:00",
          "2024-08-17 02:00:00+00:00",
          "2024-08-17 03:00:00+00:00",
          "2024-08-17 04:00:00+00:00",
          "2024-08-17 05:00:00+00:00",
          "2024-08-17 06:00:00+00:00",
          "2024-08-17 07:00:00+00:00",
          "2024-08-17 08:00:00+00:00",
          "2024-08-17 09:00:00+00:00",
          "2024-08-17 10:00:00+00:00",
          "2024-08-17 11:00:00+00:00",
          "2024-08-17 12:00:00+00:00",
          "2024-08-17 13:00:00+00:00",
          "2024-08-17 14:00:00+00:00",
          "2024-08-17 15:00:00+00:00",
          "2024-08-17 16:00:00+00:00",
          "2024-08-17 17:00:00+00:00",
          "2024-08-17 18:00:00+00:00",
          "2024-08-17 19:00:00+00:00",
          "2024-08-17 20:00:00+00:00",
          "2024-08-17 21:00:00+00:00",
          "2024-08-17 22:00:00+00:00",
          "2024-08-17 23:00:00+00:00",
          "2024-08-18 00:00:00+00:00",
          "2024-08-18 01:00:00+00:00",
          "2024-08-18 02:00:00+00:00",
          "2024-08-18 03:00:00+00:00",
          "2024-08-18 04:00:00+00:00",
          "2024-08-18 05:00:00+00:00",
          "2024-08-18 06:00:00+00:00",
          "2024-08-18 07:00:00+00:00",
          "2024-08-18 08:00:00+00:00",
          "2024-08-18 09:00:00+00:00",
          "2024-08-18 10:00:00+00:00",
          "2024-08-18 11:00:00+00:00",
          "2024-08-18 12:00:00+00:00",
          "2024-08-18 13:00:00+00:00",
          "2024-08-18 14:00:00+00:00",
          "2024-08-18 15:00:00+00:00",
          "2024-08-18 16:00:00+00:00",
          "2024-08-18 17:00:00+00:00",
          "2024-08-18 18:00:00+00:00",
          "2024-08-18 19:00:00+00:00",
          "2024-08-18 20:00:00+00:00",
          "2024-08-18 21:00:00+00:00",
          "2024-08-18 22:00:00+00:00",
          "2024-08-18 23:00:00+00:00",
          "2024-08-19 00:00:00+00:00",
          "2024-08-19 01:00:00+00:00",
          "2024-08-19 02:00:00+00:00",
          "2024-08-19 03:00:00+00:00",
          "2024-08-19 04:00:00+00:00",
          "2024-08-19 05:00:00+00:00",
          "2024-08-19 06:00:00+00:00",
          "2024-08-19 07:00:00+00:00",
          "2024-08-19 08:00:00+00:00",
          "2024-08-19 09:00:00+00:00",
          "2024-08-19 10:00:00+00:00",
          "2024-08-19 11:00:00+00:00",
          "2024-08-19 12:00:00+00:00",
          "2024-08-19 13:00:00+00:00",
          "2024-08-19 14:00:00+00:00",
          "2024-08-19 15:00:00+00:00",
          "2024-08-19 16:00:00+00:00",
          "2024-08-19 17:00:00+00:00",
          "2024-08-19 18:00:00+00:00",
          "2024-08-19 19:00:00+00:00",
          "2024-08-19 20:00:00+00:00",
          "2024-08-19 21:00:00+00:00",
          "2024-08-19 22:00:00+00:00",
          "2024-08-19 23:00:00+00:00",
          "2024-08-20 00:00:00+00:00",
          "2024-08-20 01:00:00+00:00",
          "2024-08-20 02:00:00+00:00",
          "2024-08-20 03:00:00+00:00",
          "2024-08-20 04:00:00+00:00",
          "2024-08-20 05:00:00+00:00",
          "2024-08-20 06:00:00+00:00"
         ],
         "y": [
          6.067656993865967,
          6.4132232666015625,
          6.226354598999023,
          6.203572750091553,
          6.305706024169922,
          6.503017902374268,
          6.7746124267578125,
          6.802349090576172,
          6.751216411590576,
          6.910306930541992,
          7.508163928985596,
          7.184969425201416,
          7.038199424743652,
          7.545840740203857,
          7.749706745147705,
          7.929497241973877,
          7.5800395011901855,
          7.36776876449585,
          6.9547529220581055,
          6.824033737182617,
          7.11389684677124,
          6.955072402954102,
          6.3906989097595215,
          5.699836254119873,
          4.780968189239502,
          4.319477081298828,
          4.177037239074707,
          4.302885055541992,
          4.375856399536133,
          4.58225154876709,
          4.9639692306518555,
          6.698300838470459,
          7.257543563842773,
          7.313640594482422,
          7.352533340454102,
          7.541604518890381,
          7.641355037689209,
          6.891386985778809,
          4.965531349182129,
          3.6770055294036865,
          3.775395154953003,
          3.617452621459961,
          3.108243465423584,
          2.7896831035614014,
          2.5264337062835693,
          2.5262629985809326,
          2.6831445693969727,
          2.6101818084716797,
          2.7297158241271973,
          2.891489267349243,
          3.1376490592956543,
          2.9816854000091553,
          3.3641231060028076,
          3.275629997253418,
          2.91041898727417,
          2.8107638359069824,
          2.970444917678833,
          2.9899675846099854,
          3.1208436489105225,
          3.423640251159668,
          3.5482563972473145,
          3.4934213161468506,
          3.511023998260498,
          3.629610776901245,
          3.6943540573120117,
          3.6090939044952393,
          3.598625659942627,
          3.6742091178894043,
          4.425770282745361,
          4.893001079559326,
          5.113275051116943,
          5.300628185272217,
          5.750451564788818,
          5.769870758056641,
          5.729419708251953,
          5.785974502563477,
          5.996943473815918,
          6.093921661376953,
          6.1134467124938965,
          6.28730583190918,
          6.610308647155762,
          8.286806106567383,
          9.489776611328125,
          9.976299285888672,
          10.41567611694336,
          9.927469253540039,
          8.609827995300293,
          7.456042766571045,
          8.301176071166992,
          9.01196002960205,
          9.81715202331543,
          11.126936912536621,
          12.795464515686035,
          13.158568382263184,
          11.756625175476074,
          11.14941692352295,
          10.527848243713379,
          8.83448600769043,
          6.6152663230896,
          5.304385185241699,
          5.775876045227051,
          5.598607063293457,
          5.1742472648620605,
          4.823798656463623,
          4.758248805999756,
          3.11948823928833,
          2.8896281719207764,
          2.9246368408203125,
          2.8067195415496826,
          2.8276734352111816,
          3.025355815887451,
          3.227618932723999,
          3.424107074737549,
          3.703800678253174,
          4.274224758148193,
          4.5851545333862305,
          4.775214195251465,
          5.0955376625061035,
          5.36064338684082,
          5.405554294586182,
          5.335755825042725,
          5.457580089569092,
          5.845409393310547,
          6.033337116241455,
          5.482260704040527,
          5.492767333984375,
          5.282709121704102,
          4.827949523925781,
          4.483270645141602,
          4.295614719390869,
          4.277334213256836,
          3.9993534088134766,
          3.6175167560577393,
          3.696808338165283
         ]
        },
        {
         "mode": "markers",
         "name": "Test Prediction",
         "type": "scatter",
         "x": [
          "2024-08-20 07:00:00+00:00",
          "2024-08-20 08:00:00+00:00",
          "2024-08-20 09:00:00+00:00",
          "2024-08-20 10:00:00+00:00",
          "2024-08-20 11:00:00+00:00",
          "2024-08-20 12:00:00+00:00",
          "2024-08-20 13:00:00+00:00",
          "2024-08-20 14:00:00+00:00",
          "2024-08-20 15:00:00+00:00",
          "2024-08-20 16:00:00+00:00",
          "2024-08-20 17:00:00+00:00",
          "2024-08-20 18:00:00+00:00",
          "2024-08-20 19:00:00+00:00",
          "2024-08-20 20:00:00+00:00",
          "2024-08-20 21:00:00+00:00",
          "2024-08-20 22:00:00+00:00",
          "2024-08-20 23:00:00+00:00",
          "2024-08-21 00:00:00+00:00",
          "2024-08-21 01:00:00+00:00",
          "2024-08-21 02:00:00+00:00",
          "2024-08-21 03:00:00+00:00",
          "2024-08-21 04:00:00+00:00",
          "2024-08-21 05:00:00+00:00",
          "2024-08-21 06:00:00+00:00",
          "2024-08-21 07:00:00+00:00",
          "2024-08-21 08:00:00+00:00",
          "2024-08-21 09:00:00+00:00",
          "2024-08-21 10:00:00+00:00",
          "2024-08-21 11:00:00+00:00",
          "2024-08-21 12:00:00+00:00",
          "2024-08-21 13:00:00+00:00",
          "2024-08-21 14:00:00+00:00",
          "2024-08-21 15:00:00+00:00",
          "2024-08-21 16:00:00+00:00",
          "2024-08-21 17:00:00+00:00",
          "2024-08-21 18:00:00+00:00",
          "2024-08-21 19:00:00+00:00",
          "2024-08-21 20:00:00+00:00",
          "2024-08-21 21:00:00+00:00",
          "2024-08-21 22:00:00+00:00",
          "2024-08-21 23:00:00+00:00",
          "2024-08-22 00:00:00+00:00",
          "2024-08-22 01:00:00+00:00",
          "2024-08-22 02:00:00+00:00",
          "2024-08-22 03:00:00+00:00",
          "2024-08-22 04:00:00+00:00",
          "2024-08-22 05:00:00+00:00",
          "2024-08-22 06:00:00+00:00",
          "2024-08-22 07:00:00+00:00",
          "2024-08-22 08:00:00+00:00",
          "2024-08-22 09:00:00+00:00",
          "2024-08-22 10:00:00+00:00",
          "2024-08-22 11:00:00+00:00",
          "2024-08-22 12:00:00+00:00"
         ],
         "y": [
          5.754018783569336,
          5.706844329833984,
          5.567354202270508,
          5.422969818115234,
          5.047614097595215,
          5.014218330383301,
          4.782510757446289,
          4.6620025634765625,
          4.492390155792236,
          4.45818567276001,
          4.468863487243652,
          4.932872295379639,
          4.8944878578186035,
          4.76267147064209,
          5.5948896408081055,
          7.080260753631592,
          7.359045505523682,
          8.070775032043457,
          8.737115859985352,
          8.178362846374512,
          8.635040283203125,
          9.473675727844238,
          9.459970474243164,
          6.404608726501465,
          5.555920600891113,
          5.46368932723999,
          5.810818672180176,
          5.383972644805908,
          5.258294582366943,
          5.116194248199463,
          5.241519927978516,
          5.334774494171143,
          4.77349853515625,
          4.554326057434082,
          4.546231746673584,
          5.016219615936279,
          4.397097110748291,
          4.001399517059326,
          4.193708419799805,
          4.442713737487793,
          4.08542537689209,
          3.66806697845459,
          3.15187406539917,
          2.9324631690979004,
          2.9173688888549805,
          2.9423892498016357,
          2.8256213665008545,
          2.865797519683838,
          2.6870548725128174,
          2.689629554748535,
          2.7884035110473633,
          2.9088141918182373,
          2.825160503387451,
          2.920262575149536
         ]
        }
       ],
       "layout": {
        "template": {
         "data": {
          "bar": [
           {
            "error_x": {
             "color": "#2a3f5f"
            },
            "error_y": {
             "color": "#2a3f5f"
            },
            "marker": {
             "line": {
              "color": "#E5ECF6",
              "width": 0.5
             },
             "pattern": {
              "fillmode": "overlay",
              "size": 10,
              "solidity": 0.2
             }
            },
            "type": "bar"
           }
          ],
          "barpolar": [
           {
            "marker": {
             "line": {
              "color": "#E5ECF6",
              "width": 0.5
             },
             "pattern": {
              "fillmode": "overlay",
              "size": 10,
              "solidity": 0.2
             }
            },
            "type": "barpolar"
           }
          ],
          "carpet": [
           {
            "aaxis": {
             "endlinecolor": "#2a3f5f",
             "gridcolor": "white",
             "linecolor": "white",
             "minorgridcolor": "white",
             "startlinecolor": "#2a3f5f"
            },
            "baxis": {
             "endlinecolor": "#2a3f5f",
             "gridcolor": "white",
             "linecolor": "white",
             "minorgridcolor": "white",
             "startlinecolor": "#2a3f5f"
            },
            "type": "carpet"
           }
          ],
          "choropleth": [
           {
            "colorbar": {
             "outlinewidth": 0,
             "ticks": ""
            },
            "type": "choropleth"
           }
          ],
          "contour": [
           {
            "colorbar": {
             "outlinewidth": 0,
             "ticks": ""
            },
            "colorscale": [
             [
              0,
              "#0d0887"
             ],
             [
              0.1111111111111111,
              "#46039f"
             ],
             [
              0.2222222222222222,
              "#7201a8"
             ],
             [
              0.3333333333333333,
              "#9c179e"
             ],
             [
              0.4444444444444444,
              "#bd3786"
             ],
             [
              0.5555555555555556,
              "#d8576b"
             ],
             [
              0.6666666666666666,
              "#ed7953"
             ],
             [
              0.7777777777777778,
              "#fb9f3a"
             ],
             [
              0.8888888888888888,
              "#fdca26"
             ],
             [
              1,
              "#f0f921"
             ]
            ],
            "type": "contour"
           }
          ],
          "contourcarpet": [
           {
            "colorbar": {
             "outlinewidth": 0,
             "ticks": ""
            },
            "type": "contourcarpet"
           }
          ],
          "heatmap": [
           {
            "colorbar": {
             "outlinewidth": 0,
             "ticks": ""
            },
            "colorscale": [
             [
              0,
              "#0d0887"
             ],
             [
              0.1111111111111111,
              "#46039f"
             ],
             [
              0.2222222222222222,
              "#7201a8"
             ],
             [
              0.3333333333333333,
              "#9c179e"
             ],
             [
              0.4444444444444444,
              "#bd3786"
             ],
             [
              0.5555555555555556,
              "#d8576b"
             ],
             [
              0.6666666666666666,
              "#ed7953"
             ],
             [
              0.7777777777777778,
              "#fb9f3a"
             ],
             [
              0.8888888888888888,
              "#fdca26"
             ],
             [
              1,
              "#f0f921"
             ]
            ],
            "type": "heatmap"
           }
          ],
          "heatmapgl": [
           {
            "colorbar": {
             "outlinewidth": 0,
             "ticks": ""
            },
            "colorscale": [
             [
              0,
              "#0d0887"
             ],
             [
              0.1111111111111111,
              "#46039f"
             ],
             [
              0.2222222222222222,
              "#7201a8"
             ],
             [
              0.3333333333333333,
              "#9c179e"
             ],
             [
              0.4444444444444444,
              "#bd3786"
             ],
             [
              0.5555555555555556,
              "#d8576b"
             ],
             [
              0.6666666666666666,
              "#ed7953"
             ],
             [
              0.7777777777777778,
              "#fb9f3a"
             ],
             [
              0.8888888888888888,
              "#fdca26"
             ],
             [
              1,
              "#f0f921"
             ]
            ],
            "type": "heatmapgl"
           }
          ],
          "histogram": [
           {
            "marker": {
             "pattern": {
              "fillmode": "overlay",
              "size": 10,
              "solidity": 0.2
             }
            },
            "type": "histogram"
           }
          ],
          "histogram2d": [
           {
            "colorbar": {
             "outlinewidth": 0,
             "ticks": ""
            },
            "colorscale": [
             [
              0,
              "#0d0887"
             ],
             [
              0.1111111111111111,
              "#46039f"
             ],
             [
              0.2222222222222222,
              "#7201a8"
             ],
             [
              0.3333333333333333,
              "#9c179e"
             ],
             [
              0.4444444444444444,
              "#bd3786"
             ],
             [
              0.5555555555555556,
              "#d8576b"
             ],
             [
              0.6666666666666666,
              "#ed7953"
             ],
             [
              0.7777777777777778,
              "#fb9f3a"
             ],
             [
              0.8888888888888888,
              "#fdca26"
             ],
             [
              1,
              "#f0f921"
             ]
            ],
            "type": "histogram2d"
           }
          ],
          "histogram2dcontour": [
           {
            "colorbar": {
             "outlinewidth": 0,
             "ticks": ""
            },
            "colorscale": [
             [
              0,
              "#0d0887"
             ],
             [
              0.1111111111111111,
              "#46039f"
             ],
             [
              0.2222222222222222,
              "#7201a8"
             ],
             [
              0.3333333333333333,
              "#9c179e"
             ],
             [
              0.4444444444444444,
              "#bd3786"
             ],
             [
              0.5555555555555556,
              "#d8576b"
             ],
             [
              0.6666666666666666,
              "#ed7953"
             ],
             [
              0.7777777777777778,
              "#fb9f3a"
             ],
             [
              0.8888888888888888,
              "#fdca26"
             ],
             [
              1,
              "#f0f921"
             ]
            ],
            "type": "histogram2dcontour"
           }
          ],
          "mesh3d": [
           {
            "colorbar": {
             "outlinewidth": 0,
             "ticks": ""
            },
            "type": "mesh3d"
           }
          ],
          "parcoords": [
           {
            "line": {
             "colorbar": {
              "outlinewidth": 0,
              "ticks": ""
             }
            },
            "type": "parcoords"
           }
          ],
          "pie": [
           {
            "automargin": true,
            "type": "pie"
           }
          ],
          "scatter": [
           {
            "fillpattern": {
             "fillmode": "overlay",
             "size": 10,
             "solidity": 0.2
            },
            "type": "scatter"
           }
          ],
          "scatter3d": [
           {
            "line": {
             "colorbar": {
              "outlinewidth": 0,
              "ticks": ""
             }
            },
            "marker": {
             "colorbar": {
              "outlinewidth": 0,
              "ticks": ""
             }
            },
            "type": "scatter3d"
           }
          ],
          "scattercarpet": [
           {
            "marker": {
             "colorbar": {
              "outlinewidth": 0,
              "ticks": ""
             }
            },
            "type": "scattercarpet"
           }
          ],
          "scattergeo": [
           {
            "marker": {
             "colorbar": {
              "outlinewidth": 0,
              "ticks": ""
             }
            },
            "type": "scattergeo"
           }
          ],
          "scattergl": [
           {
            "marker": {
             "colorbar": {
              "outlinewidth": 0,
              "ticks": ""
             }
            },
            "type": "scattergl"
           }
          ],
          "scattermapbox": [
           {
            "marker": {
             "colorbar": {
              "outlinewidth": 0,
              "ticks": ""
             }
            },
            "type": "scattermapbox"
           }
          ],
          "scatterpolar": [
           {
            "marker": {
             "colorbar": {
              "outlinewidth": 0,
              "ticks": ""
             }
            },
            "type": "scatterpolar"
           }
          ],
          "scatterpolargl": [
           {
            "marker": {
             "colorbar": {
              "outlinewidth": 0,
              "ticks": ""
             }
            },
            "type": "scatterpolargl"
           }
          ],
          "scatterternary": [
           {
            "marker": {
             "colorbar": {
              "outlinewidth": 0,
              "ticks": ""
             }
            },
            "type": "scatterternary"
           }
          ],
          "surface": [
           {
            "colorbar": {
             "outlinewidth": 0,
             "ticks": ""
            },
            "colorscale": [
             [
              0,
              "#0d0887"
             ],
             [
              0.1111111111111111,
              "#46039f"
             ],
             [
              0.2222222222222222,
              "#7201a8"
             ],
             [
              0.3333333333333333,
              "#9c179e"
             ],
             [
              0.4444444444444444,
              "#bd3786"
             ],
             [
              0.5555555555555556,
              "#d8576b"
             ],
             [
              0.6666666666666666,
              "#ed7953"
             ],
             [
              0.7777777777777778,
              "#fb9f3a"
             ],
             [
              0.8888888888888888,
              "#fdca26"
             ],
             [
              1,
              "#f0f921"
             ]
            ],
            "type": "surface"
           }
          ],
          "table": [
           {
            "cells": {
             "fill": {
              "color": "#EBF0F8"
             },
             "line": {
              "color": "white"
             }
            },
            "header": {
             "fill": {
              "color": "#C8D4E3"
             },
             "line": {
              "color": "white"
             }
            },
            "type": "table"
           }
          ]
         },
         "layout": {
          "annotationdefaults": {
           "arrowcolor": "#2a3f5f",
           "arrowhead": 0,
           "arrowwidth": 1
          },
          "autotypenumbers": "strict",
          "coloraxis": {
           "colorbar": {
            "outlinewidth": 0,
            "ticks": ""
           }
          },
          "colorscale": {
           "diverging": [
            [
             0,
             "#8e0152"
            ],
            [
             0.1,
             "#c51b7d"
            ],
            [
             0.2,
             "#de77ae"
            ],
            [
             0.3,
             "#f1b6da"
            ],
            [
             0.4,
             "#fde0ef"
            ],
            [
             0.5,
             "#f7f7f7"
            ],
            [
             0.6,
             "#e6f5d0"
            ],
            [
             0.7,
             "#b8e186"
            ],
            [
             0.8,
             "#7fbc41"
            ],
            [
             0.9,
             "#4d9221"
            ],
            [
             1,
             "#276419"
            ]
           ],
           "sequential": [
            [
             0,
             "#0d0887"
            ],
            [
             0.1111111111111111,
             "#46039f"
            ],
            [
             0.2222222222222222,
             "#7201a8"
            ],
            [
             0.3333333333333333,
             "#9c179e"
            ],
            [
             0.4444444444444444,
             "#bd3786"
            ],
            [
             0.5555555555555556,
             "#d8576b"
            ],
            [
             0.6666666666666666,
             "#ed7953"
            ],
            [
             0.7777777777777778,
             "#fb9f3a"
            ],
            [
             0.8888888888888888,
             "#fdca26"
            ],
            [
             1,
             "#f0f921"
            ]
           ],
           "sequentialminus": [
            [
             0,
             "#0d0887"
            ],
            [
             0.1111111111111111,
             "#46039f"
            ],
            [
             0.2222222222222222,
             "#7201a8"
            ],
            [
             0.3333333333333333,
             "#9c179e"
            ],
            [
             0.4444444444444444,
             "#bd3786"
            ],
            [
             0.5555555555555556,
             "#d8576b"
            ],
            [
             0.6666666666666666,
             "#ed7953"
            ],
            [
             0.7777777777777778,
             "#fb9f3a"
            ],
            [
             0.8888888888888888,
             "#fdca26"
            ],
            [
             1,
             "#f0f921"
            ]
           ]
          },
          "colorway": [
           "#636efa",
           "#EF553B",
           "#00cc96",
           "#ab63fa",
           "#FFA15A",
           "#19d3f3",
           "#FF6692",
           "#B6E880",
           "#FF97FF",
           "#FECB52"
          ],
          "font": {
           "color": "#2a3f5f"
          },
          "geo": {
           "bgcolor": "white",
           "lakecolor": "white",
           "landcolor": "#E5ECF6",
           "showlakes": true,
           "showland": true,
           "subunitcolor": "white"
          },
          "hoverlabel": {
           "align": "left"
          },
          "hovermode": "closest",
          "mapbox": {
           "style": "light"
          },
          "paper_bgcolor": "white",
          "plot_bgcolor": "#E5ECF6",
          "polar": {
           "angularaxis": {
            "gridcolor": "white",
            "linecolor": "white",
            "ticks": ""
           },
           "bgcolor": "#E5ECF6",
           "radialaxis": {
            "gridcolor": "white",
            "linecolor": "white",
            "ticks": ""
           }
          },
          "scene": {
           "xaxis": {
            "backgroundcolor": "#E5ECF6",
            "gridcolor": "white",
            "gridwidth": 2,
            "linecolor": "white",
            "showbackground": true,
            "ticks": "",
            "zerolinecolor": "white"
           },
           "yaxis": {
            "backgroundcolor": "#E5ECF6",
            "gridcolor": "white",
            "gridwidth": 2,
            "linecolor": "white",
            "showbackground": true,
            "ticks": "",
            "zerolinecolor": "white"
           },
           "zaxis": {
            "backgroundcolor": "#E5ECF6",
            "gridcolor": "white",
            "gridwidth": 2,
            "linecolor": "white",
            "showbackground": true,
            "ticks": "",
            "zerolinecolor": "white"
           }
          },
          "shapedefaults": {
           "line": {
            "color": "#2a3f5f"
           }
          },
          "ternary": {
           "aaxis": {
            "gridcolor": "white",
            "linecolor": "white",
            "ticks": ""
           },
           "baxis": {
            "gridcolor": "white",
            "linecolor": "white",
            "ticks": ""
           },
           "bgcolor": "#E5ECF6",
           "caxis": {
            "gridcolor": "white",
            "linecolor": "white",
            "ticks": ""
           }
          },
          "title": {
           "x": 0.05
          },
          "xaxis": {
           "automargin": true,
           "gridcolor": "white",
           "linecolor": "white",
           "ticks": "",
           "title": {
            "standoff": 15
           },
           "zerolinecolor": "white",
           "zerolinewidth": 2
          },
          "yaxis": {
           "automargin": true,
           "gridcolor": "white",
           "linecolor": "white",
           "ticks": "",
           "title": {
            "standoff": 15
           },
           "zerolinecolor": "white",
           "zerolinewidth": 2
          }
         }
        },
        "title": {
         "text": "Predicted vs. Actual, LSTM"
        }
       }
      }
     },
     "metadata": {},
     "output_type": "display_data"
    }
   ],
   "source": [
    "plot_results(eval_df, '1064', 'LSTM')"
   ]
  }
 ],
 "metadata": {
  "kernelspec": {
   "display_name": ".venv",
   "language": "python",
   "name": "python3"
  },
  "language_info": {
   "codemirror_mode": {
    "name": "ipython",
    "version": 3
   },
   "file_extension": ".py",
   "mimetype": "text/x-python",
   "name": "python",
   "nbconvert_exporter": "python",
   "pygments_lexer": "ipython3",
   "version": "3.12.5"
  }
 },
 "nbformat": 4,
 "nbformat_minor": 2
}
