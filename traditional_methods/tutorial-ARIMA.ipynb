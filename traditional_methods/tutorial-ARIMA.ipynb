{
 "cells": [
  {
   "cell_type": "code",
   "execution_count": 1,
   "metadata": {},
   "outputs": [],
   "source": [
    "import pandas as pd\n",
    "import plotly.express as px\n",
    "\n",
    "# For investigating timeseries data\n",
    "from statsmodels.tsa.seasonal import seasonal_decompose\n",
    "from statsmodels.graphics.tsaplots import plot_acf\n",
    "from statsmodels.graphics.tsaplots import plot_pacf\n",
    "from statsmodels.tsa.stattools import adfuller\n",
    "from statsmodels.tsa.statespace.sarimax import SARIMAX\n",
    "from sklearn.metrics import mean_absolute_percentage_error\n",
    "import matplotlib.pyplot as plt\n",
    "\n",
    "# Modeling\n",
    "from tqdm import tqdm\n",
    "from itertools import product"
   ]
  },
  {
   "cell_type": "markdown",
   "metadata": {},
   "source": [
    "### Importing + Visualizing Data"
   ]
  },
  {
   "cell_type": "code",
   "execution_count": 2,
   "metadata": {},
   "outputs": [
    {
     "data": {
      "text/html": [
       "<div>\n",
       "<style scoped>\n",
       "    .dataframe tbody tr th:only-of-type {\n",
       "        vertical-align: middle;\n",
       "    }\n",
       "\n",
       "    .dataframe tbody tr th {\n",
       "        vertical-align: top;\n",
       "    }\n",
       "\n",
       "    .dataframe thead th {\n",
       "        text-align: right;\n",
       "    }\n",
       "</style>\n",
       "<table border=\"1\" class=\"dataframe\">\n",
       "  <thead>\n",
       "    <tr style=\"text-align: right;\">\n",
       "      <th></th>\n",
       "      <th>Revenue</th>\n",
       "      <th>US GDP</th>\n",
       "      <th>Europe GDP</th>\n",
       "      <th>CHN GDP US</th>\n",
       "      <th>Price Index</th>\n",
       "      <th>NIKE</th>\n",
       "      <th>quarter</th>\n",
       "    </tr>\n",
       "  </thead>\n",
       "  <tbody>\n",
       "    <tr>\n",
       "      <th>0</th>\n",
       "      <td>1517</td>\n",
       "      <td>12359.095</td>\n",
       "      <td>1728.2440</td>\n",
       "      <td>257.649148</td>\n",
       "      <td>246.5</td>\n",
       "      <td>2161.6</td>\n",
       "      <td>12/31/2006</td>\n",
       "    </tr>\n",
       "    <tr>\n",
       "      <th>1</th>\n",
       "      <td>1248</td>\n",
       "      <td>12592.530</td>\n",
       "      <td>1749.6000</td>\n",
       "      <td>290.437535</td>\n",
       "      <td>326.4</td>\n",
       "      <td>2272.7</td>\n",
       "      <td>3/31/2007</td>\n",
       "    </tr>\n",
       "    <tr>\n",
       "      <th>2</th>\n",
       "      <td>1677</td>\n",
       "      <td>12607.676</td>\n",
       "      <td>1769.2586</td>\n",
       "      <td>310.550979</td>\n",
       "      <td>322.5</td>\n",
       "      <td>2636.7</td>\n",
       "      <td>6/30/2007</td>\n",
       "    </tr>\n",
       "    <tr>\n",
       "      <th>3</th>\n",
       "      <td>1393</td>\n",
       "      <td>12679.338</td>\n",
       "      <td>1789.2533</td>\n",
       "      <td>352.695291</td>\n",
       "      <td>321.0</td>\n",
       "      <td>2198.7</td>\n",
       "      <td>9/30/2007</td>\n",
       "    </tr>\n",
       "    <tr>\n",
       "      <th>4</th>\n",
       "      <td>1558</td>\n",
       "      <td>12643.283</td>\n",
       "      <td>1819.1398</td>\n",
       "      <td>290.974546</td>\n",
       "      <td>329.4</td>\n",
       "      <td>2170.1</td>\n",
       "      <td>12/31/2007</td>\n",
       "    </tr>\n",
       "  </tbody>\n",
       "</table>\n",
       "</div>"
      ],
      "text/plain": [
       "   Revenue     US GDP  Europe GDP  CHN GDP US  Price Index    NIKE     quarter\n",
       "0     1517  12359.095   1728.2440  257.649148        246.5  2161.6  12/31/2006\n",
       "1     1248  12592.530   1749.6000  290.437535        326.4  2272.7   3/31/2007\n",
       "2     1677  12607.676   1769.2586  310.550979        322.5  2636.7   6/30/2007\n",
       "3     1393  12679.338   1789.2533  352.695291        321.0  2198.7   9/30/2007\n",
       "4     1558  12643.283   1819.1398  290.974546        329.4  2170.1  12/31/2007"
      ]
     },
     "execution_count": 2,
     "metadata": {},
     "output_type": "execute_result"
    }
   ],
   "source": [
    "df = pd.read_csv('./Data/adidas_revenue1.csv')\n",
    "target_varaible = 'Revenue'\n",
    "df.head(5)"
   ]
  },
  {
   "cell_type": "code",
   "execution_count": 3,
   "metadata": {},
   "outputs": [
    {
     "data": {
      "application/vnd.plotly.v1+json": {
       "config": {
        "plotlyServerURL": "https://plot.ly"
       },
       "data": [
        {
         "hovertemplate": "quarter=%{x}<br>Revenue=%{y}<extra></extra>",
         "legendgroup": "",
         "line": {
          "color": "#636efa",
          "dash": "solid"
         },
         "marker": {
          "symbol": "circle"
         },
         "mode": "lines",
         "name": "",
         "orientation": "v",
         "showlegend": false,
         "type": "scatter",
         "x": [
          "12/31/2006",
          "3/31/2007",
          "6/30/2007",
          "9/30/2007",
          "12/31/2007",
          "3/31/2008",
          "6/30/2008",
          "9/30/2008",
          "12/31/2008",
          "3/31/2009",
          "6/30/2009",
          "9/30/2009",
          "12/31/2009",
          "3/31/2010",
          "6/30/2010",
          "9/30/2010",
          "12/31/2010",
          "3/31/2011",
          "6/30/2011",
          "9/30/2011",
          "12/31/2011",
          "3/31/2012",
          "6/30/2012",
          "9/30/2012",
          "12/31/2012",
          "3/31/2013",
          "6/30/2013",
          "9/30/2013",
          "12/31/2013",
          "3/31/2014",
          "6/30/2014",
          "9/30/2014",
          "12/31/2014",
          "3/31/2015",
          "6/30/2015",
          "9/30/2015",
          "12/31/2015",
          "3/31/2016",
          "6/30/2016",
          "9/30/2016",
          "12/31/2016",
          "3/31/2017",
          "6/30/2017",
          "9/30/2017",
          "12/31/2017",
          "3/31/2018",
          "6/30/2018",
          "9/30/2018",
          "12/31/2018",
          "3/31/2019",
          "6/30/2019",
          "9/30/2019",
          "12/31/2019",
          "3/31/2020",
          "6/30/2020",
          "9/30/2020",
          "12/31/2020",
          "3/31/2021",
          "6/30/2021",
          "9/30/2021",
          "12/31/2021",
          "3/31/2022",
          "6/30/2022",
          "9/30/2022",
          "12/31/2022",
          "3/31/2023",
          "6/30/2023",
          "9/30/2023",
          "12/31/2023"
         ],
         "xaxis": "x",
         "y": [
          1517,
          1248,
          1677,
          1393,
          1558,
          1368,
          1790,
          1396,
          1638,
          1507,
          1868,
          1510,
          1669,
          1392,
          1853,
          1353,
          1623,
          1401,
          1758,
          1078,
          1674,
          1516,
          1924,
          1522,
          2459,
          2428,
          2949,
          2248,
          2538,
          2400,
          2941,
          2420,
          2621,
          2521,
          3083,
          2574,
          2577,
          2457,
          2888,
          2458,
          2674,
          2917,
          3468,
          2931,
          3273,
          3064,
          3744,
          3241,
          3824,
          3517,
          4173,
          3369,
          3751,
          3383,
          3879,
          3391,
          3480,
          3400,
          4044,
          3610,
          4083,
          3907,
          4758,
          4167,
          4769,
          4199,
          5413,
          4687,
          5671
         ],
         "yaxis": "y"
        }
       ],
       "layout": {
        "legend": {
         "tracegroupgap": 0
        },
        "template": {
         "data": {
          "bar": [
           {
            "error_x": {
             "color": "#2a3f5f"
            },
            "error_y": {
             "color": "#2a3f5f"
            },
            "marker": {
             "line": {
              "color": "#E5ECF6",
              "width": 0.5
             },
             "pattern": {
              "fillmode": "overlay",
              "size": 10,
              "solidity": 0.2
             }
            },
            "type": "bar"
           }
          ],
          "barpolar": [
           {
            "marker": {
             "line": {
              "color": "#E5ECF6",
              "width": 0.5
             },
             "pattern": {
              "fillmode": "overlay",
              "size": 10,
              "solidity": 0.2
             }
            },
            "type": "barpolar"
           }
          ],
          "carpet": [
           {
            "aaxis": {
             "endlinecolor": "#2a3f5f",
             "gridcolor": "white",
             "linecolor": "white",
             "minorgridcolor": "white",
             "startlinecolor": "#2a3f5f"
            },
            "baxis": {
             "endlinecolor": "#2a3f5f",
             "gridcolor": "white",
             "linecolor": "white",
             "minorgridcolor": "white",
             "startlinecolor": "#2a3f5f"
            },
            "type": "carpet"
           }
          ],
          "choropleth": [
           {
            "colorbar": {
             "outlinewidth": 0,
             "ticks": ""
            },
            "type": "choropleth"
           }
          ],
          "contour": [
           {
            "colorbar": {
             "outlinewidth": 0,
             "ticks": ""
            },
            "colorscale": [
             [
              0,
              "#0d0887"
             ],
             [
              0.1111111111111111,
              "#46039f"
             ],
             [
              0.2222222222222222,
              "#7201a8"
             ],
             [
              0.3333333333333333,
              "#9c179e"
             ],
             [
              0.4444444444444444,
              "#bd3786"
             ],
             [
              0.5555555555555556,
              "#d8576b"
             ],
             [
              0.6666666666666666,
              "#ed7953"
             ],
             [
              0.7777777777777778,
              "#fb9f3a"
             ],
             [
              0.8888888888888888,
              "#fdca26"
             ],
             [
              1,
              "#f0f921"
             ]
            ],
            "type": "contour"
           }
          ],
          "contourcarpet": [
           {
            "colorbar": {
             "outlinewidth": 0,
             "ticks": ""
            },
            "type": "contourcarpet"
           }
          ],
          "heatmap": [
           {
            "colorbar": {
             "outlinewidth": 0,
             "ticks": ""
            },
            "colorscale": [
             [
              0,
              "#0d0887"
             ],
             [
              0.1111111111111111,
              "#46039f"
             ],
             [
              0.2222222222222222,
              "#7201a8"
             ],
             [
              0.3333333333333333,
              "#9c179e"
             ],
             [
              0.4444444444444444,
              "#bd3786"
             ],
             [
              0.5555555555555556,
              "#d8576b"
             ],
             [
              0.6666666666666666,
              "#ed7953"
             ],
             [
              0.7777777777777778,
              "#fb9f3a"
             ],
             [
              0.8888888888888888,
              "#fdca26"
             ],
             [
              1,
              "#f0f921"
             ]
            ],
            "type": "heatmap"
           }
          ],
          "heatmapgl": [
           {
            "colorbar": {
             "outlinewidth": 0,
             "ticks": ""
            },
            "colorscale": [
             [
              0,
              "#0d0887"
             ],
             [
              0.1111111111111111,
              "#46039f"
             ],
             [
              0.2222222222222222,
              "#7201a8"
             ],
             [
              0.3333333333333333,
              "#9c179e"
             ],
             [
              0.4444444444444444,
              "#bd3786"
             ],
             [
              0.5555555555555556,
              "#d8576b"
             ],
             [
              0.6666666666666666,
              "#ed7953"
             ],
             [
              0.7777777777777778,
              "#fb9f3a"
             ],
             [
              0.8888888888888888,
              "#fdca26"
             ],
             [
              1,
              "#f0f921"
             ]
            ],
            "type": "heatmapgl"
           }
          ],
          "histogram": [
           {
            "marker": {
             "pattern": {
              "fillmode": "overlay",
              "size": 10,
              "solidity": 0.2
             }
            },
            "type": "histogram"
           }
          ],
          "histogram2d": [
           {
            "colorbar": {
             "outlinewidth": 0,
             "ticks": ""
            },
            "colorscale": [
             [
              0,
              "#0d0887"
             ],
             [
              0.1111111111111111,
              "#46039f"
             ],
             [
              0.2222222222222222,
              "#7201a8"
             ],
             [
              0.3333333333333333,
              "#9c179e"
             ],
             [
              0.4444444444444444,
              "#bd3786"
             ],
             [
              0.5555555555555556,
              "#d8576b"
             ],
             [
              0.6666666666666666,
              "#ed7953"
             ],
             [
              0.7777777777777778,
              "#fb9f3a"
             ],
             [
              0.8888888888888888,
              "#fdca26"
             ],
             [
              1,
              "#f0f921"
             ]
            ],
            "type": "histogram2d"
           }
          ],
          "histogram2dcontour": [
           {
            "colorbar": {
             "outlinewidth": 0,
             "ticks": ""
            },
            "colorscale": [
             [
              0,
              "#0d0887"
             ],
             [
              0.1111111111111111,
              "#46039f"
             ],
             [
              0.2222222222222222,
              "#7201a8"
             ],
             [
              0.3333333333333333,
              "#9c179e"
             ],
             [
              0.4444444444444444,
              "#bd3786"
             ],
             [
              0.5555555555555556,
              "#d8576b"
             ],
             [
              0.6666666666666666,
              "#ed7953"
             ],
             [
              0.7777777777777778,
              "#fb9f3a"
             ],
             [
              0.8888888888888888,
              "#fdca26"
             ],
             [
              1,
              "#f0f921"
             ]
            ],
            "type": "histogram2dcontour"
           }
          ],
          "mesh3d": [
           {
            "colorbar": {
             "outlinewidth": 0,
             "ticks": ""
            },
            "type": "mesh3d"
           }
          ],
          "parcoords": [
           {
            "line": {
             "colorbar": {
              "outlinewidth": 0,
              "ticks": ""
             }
            },
            "type": "parcoords"
           }
          ],
          "pie": [
           {
            "automargin": true,
            "type": "pie"
           }
          ],
          "scatter": [
           {
            "fillpattern": {
             "fillmode": "overlay",
             "size": 10,
             "solidity": 0.2
            },
            "type": "scatter"
           }
          ],
          "scatter3d": [
           {
            "line": {
             "colorbar": {
              "outlinewidth": 0,
              "ticks": ""
             }
            },
            "marker": {
             "colorbar": {
              "outlinewidth": 0,
              "ticks": ""
             }
            },
            "type": "scatter3d"
           }
          ],
          "scattercarpet": [
           {
            "marker": {
             "colorbar": {
              "outlinewidth": 0,
              "ticks": ""
             }
            },
            "type": "scattercarpet"
           }
          ],
          "scattergeo": [
           {
            "marker": {
             "colorbar": {
              "outlinewidth": 0,
              "ticks": ""
             }
            },
            "type": "scattergeo"
           }
          ],
          "scattergl": [
           {
            "marker": {
             "colorbar": {
              "outlinewidth": 0,
              "ticks": ""
             }
            },
            "type": "scattergl"
           }
          ],
          "scattermapbox": [
           {
            "marker": {
             "colorbar": {
              "outlinewidth": 0,
              "ticks": ""
             }
            },
            "type": "scattermapbox"
           }
          ],
          "scatterpolar": [
           {
            "marker": {
             "colorbar": {
              "outlinewidth": 0,
              "ticks": ""
             }
            },
            "type": "scatterpolar"
           }
          ],
          "scatterpolargl": [
           {
            "marker": {
             "colorbar": {
              "outlinewidth": 0,
              "ticks": ""
             }
            },
            "type": "scatterpolargl"
           }
          ],
          "scatterternary": [
           {
            "marker": {
             "colorbar": {
              "outlinewidth": 0,
              "ticks": ""
             }
            },
            "type": "scatterternary"
           }
          ],
          "surface": [
           {
            "colorbar": {
             "outlinewidth": 0,
             "ticks": ""
            },
            "colorscale": [
             [
              0,
              "#0d0887"
             ],
             [
              0.1111111111111111,
              "#46039f"
             ],
             [
              0.2222222222222222,
              "#7201a8"
             ],
             [
              0.3333333333333333,
              "#9c179e"
             ],
             [
              0.4444444444444444,
              "#bd3786"
             ],
             [
              0.5555555555555556,
              "#d8576b"
             ],
             [
              0.6666666666666666,
              "#ed7953"
             ],
             [
              0.7777777777777778,
              "#fb9f3a"
             ],
             [
              0.8888888888888888,
              "#fdca26"
             ],
             [
              1,
              "#f0f921"
             ]
            ],
            "type": "surface"
           }
          ],
          "table": [
           {
            "cells": {
             "fill": {
              "color": "#EBF0F8"
             },
             "line": {
              "color": "white"
             }
            },
            "header": {
             "fill": {
              "color": "#C8D4E3"
             },
             "line": {
              "color": "white"
             }
            },
            "type": "table"
           }
          ]
         },
         "layout": {
          "annotationdefaults": {
           "arrowcolor": "#2a3f5f",
           "arrowhead": 0,
           "arrowwidth": 1
          },
          "autotypenumbers": "strict",
          "coloraxis": {
           "colorbar": {
            "outlinewidth": 0,
            "ticks": ""
           }
          },
          "colorscale": {
           "diverging": [
            [
             0,
             "#8e0152"
            ],
            [
             0.1,
             "#c51b7d"
            ],
            [
             0.2,
             "#de77ae"
            ],
            [
             0.3,
             "#f1b6da"
            ],
            [
             0.4,
             "#fde0ef"
            ],
            [
             0.5,
             "#f7f7f7"
            ],
            [
             0.6,
             "#e6f5d0"
            ],
            [
             0.7,
             "#b8e186"
            ],
            [
             0.8,
             "#7fbc41"
            ],
            [
             0.9,
             "#4d9221"
            ],
            [
             1,
             "#276419"
            ]
           ],
           "sequential": [
            [
             0,
             "#0d0887"
            ],
            [
             0.1111111111111111,
             "#46039f"
            ],
            [
             0.2222222222222222,
             "#7201a8"
            ],
            [
             0.3333333333333333,
             "#9c179e"
            ],
            [
             0.4444444444444444,
             "#bd3786"
            ],
            [
             0.5555555555555556,
             "#d8576b"
            ],
            [
             0.6666666666666666,
             "#ed7953"
            ],
            [
             0.7777777777777778,
             "#fb9f3a"
            ],
            [
             0.8888888888888888,
             "#fdca26"
            ],
            [
             1,
             "#f0f921"
            ]
           ],
           "sequentialminus": [
            [
             0,
             "#0d0887"
            ],
            [
             0.1111111111111111,
             "#46039f"
            ],
            [
             0.2222222222222222,
             "#7201a8"
            ],
            [
             0.3333333333333333,
             "#9c179e"
            ],
            [
             0.4444444444444444,
             "#bd3786"
            ],
            [
             0.5555555555555556,
             "#d8576b"
            ],
            [
             0.6666666666666666,
             "#ed7953"
            ],
            [
             0.7777777777777778,
             "#fb9f3a"
            ],
            [
             0.8888888888888888,
             "#fdca26"
            ],
            [
             1,
             "#f0f921"
            ]
           ]
          },
          "colorway": [
           "#636efa",
           "#EF553B",
           "#00cc96",
           "#ab63fa",
           "#FFA15A",
           "#19d3f3",
           "#FF6692",
           "#B6E880",
           "#FF97FF",
           "#FECB52"
          ],
          "font": {
           "color": "#2a3f5f"
          },
          "geo": {
           "bgcolor": "white",
           "lakecolor": "white",
           "landcolor": "#E5ECF6",
           "showlakes": true,
           "showland": true,
           "subunitcolor": "white"
          },
          "hoverlabel": {
           "align": "left"
          },
          "hovermode": "closest",
          "mapbox": {
           "style": "light"
          },
          "paper_bgcolor": "white",
          "plot_bgcolor": "#E5ECF6",
          "polar": {
           "angularaxis": {
            "gridcolor": "white",
            "linecolor": "white",
            "ticks": ""
           },
           "bgcolor": "#E5ECF6",
           "radialaxis": {
            "gridcolor": "white",
            "linecolor": "white",
            "ticks": ""
           }
          },
          "scene": {
           "xaxis": {
            "backgroundcolor": "#E5ECF6",
            "gridcolor": "white",
            "gridwidth": 2,
            "linecolor": "white",
            "showbackground": true,
            "ticks": "",
            "zerolinecolor": "white"
           },
           "yaxis": {
            "backgroundcolor": "#E5ECF6",
            "gridcolor": "white",
            "gridwidth": 2,
            "linecolor": "white",
            "showbackground": true,
            "ticks": "",
            "zerolinecolor": "white"
           },
           "zaxis": {
            "backgroundcolor": "#E5ECF6",
            "gridcolor": "white",
            "gridwidth": 2,
            "linecolor": "white",
            "showbackground": true,
            "ticks": "",
            "zerolinecolor": "white"
           }
          },
          "shapedefaults": {
           "line": {
            "color": "#2a3f5f"
           }
          },
          "ternary": {
           "aaxis": {
            "gridcolor": "white",
            "linecolor": "white",
            "ticks": ""
           },
           "baxis": {
            "gridcolor": "white",
            "linecolor": "white",
            "ticks": ""
           },
           "bgcolor": "#E5ECF6",
           "caxis": {
            "gridcolor": "white",
            "linecolor": "white",
            "ticks": ""
           }
          },
          "title": {
           "x": 0.05
          },
          "xaxis": {
           "automargin": true,
           "gridcolor": "white",
           "linecolor": "white",
           "ticks": "",
           "title": {
            "standoff": 15
           },
           "zerolinecolor": "white",
           "zerolinewidth": 2
          },
          "yaxis": {
           "automargin": true,
           "gridcolor": "white",
           "linecolor": "white",
           "ticks": "",
           "title": {
            "standoff": 15
           },
           "zerolinecolor": "white",
           "zerolinewidth": 2
          }
         }
        },
        "title": {
         "text": "Customer Inventory Over Time"
        },
        "xaxis": {
         "anchor": "y",
         "domain": [
          0,
          1
         ],
         "title": {
          "text": "quarter"
         }
        },
        "yaxis": {
         "anchor": "x",
         "domain": [
          0,
          1
         ],
         "title": {
          "text": "Revenue"
         }
        }
       }
      }
     },
     "metadata": {},
     "output_type": "display_data"
    }
   ],
   "source": [
    "# Graphing data\n",
    "fig = px.line(df, x = 'quarter', y = target_varaible,\n",
    "              title = 'Customer Inventory Over Time')\n",
    "fig.show()"
   ]
  },
  {
   "cell_type": "markdown",
   "metadata": {},
   "source": [
    "### Checking if Data is Stationary"
   ]
  },
  {
   "cell_type": "code",
   "execution_count": 4,
   "metadata": {},
   "outputs": [
    {
     "name": "stdout",
     "output_type": "stream",
     "text": [
      "ADF Statistic: 1.258540\n",
      "p-value: 0.996366\n",
      "Critical Values:\n",
      "\t1%: -3.541\n",
      "\t5%: -2.909\n",
      "\t10%: -2.592\n"
     ]
    }
   ],
   "source": [
    "dftest = adfuller(df[target_varaible])\n",
    "\n",
    "# Printing results\n",
    "print('ADF Statistic: %f' % dftest[0])\n",
    "print('p-value: %f' % dftest[1])\n",
    "print('Critical Values:')\n",
    "for key, value in dftest[4].items():\n",
    " print('\\t%s: %.3f' % (key, value))\n"
   ]
  },
  {
   "cell_type": "markdown",
   "metadata": {},
   "source": [
    "P-value is greater than 0.05 so data is not stationary, need to difference"
   ]
  },
  {
   "cell_type": "code",
   "execution_count": 5,
   "metadata": {},
   "outputs": [
    {
     "data": {
      "application/vnd.plotly.v1+json": {
       "config": {
        "plotlyServerURL": "https://plot.ly"
       },
       "data": [
        {
         "hovertemplate": "quarter=%{x}<br>Revenue=%{y}<extra></extra>",
         "legendgroup": "",
         "line": {
          "color": "#636efa",
          "dash": "solid"
         },
         "marker": {
          "symbol": "circle"
         },
         "mode": "lines",
         "name": "",
         "orientation": "v",
         "showlegend": false,
         "type": "scatter",
         "x": [
          "12/31/2006",
          "3/31/2007",
          "6/30/2007",
          "9/30/2007",
          "12/31/2007",
          "3/31/2008",
          "6/30/2008",
          "9/30/2008",
          "12/31/2008",
          "3/31/2009",
          "6/30/2009",
          "9/30/2009",
          "12/31/2009",
          "3/31/2010",
          "6/30/2010",
          "9/30/2010",
          "12/31/2010",
          "3/31/2011",
          "6/30/2011",
          "9/30/2011",
          "12/31/2011",
          "3/31/2012",
          "6/30/2012",
          "9/30/2012",
          "12/31/2012",
          "3/31/2013",
          "6/30/2013",
          "9/30/2013",
          "12/31/2013",
          "3/31/2014",
          "6/30/2014",
          "9/30/2014",
          "12/31/2014",
          "3/31/2015",
          "6/30/2015",
          "9/30/2015",
          "12/31/2015",
          "3/31/2016",
          "6/30/2016",
          "9/30/2016",
          "12/31/2016",
          "3/31/2017",
          "6/30/2017",
          "9/30/2017",
          "12/31/2017",
          "3/31/2018",
          "6/30/2018",
          "9/30/2018",
          "12/31/2018",
          "3/31/2019",
          "6/30/2019",
          "9/30/2019",
          "12/31/2019",
          "3/31/2020",
          "6/30/2020",
          "9/30/2020",
          "12/31/2020",
          "3/31/2021",
          "6/30/2021",
          "9/30/2021",
          "12/31/2021",
          "3/31/2022",
          "6/30/2022",
          "9/30/2022",
          "12/31/2022",
          "3/31/2023",
          "6/30/2023",
          "9/30/2023",
          "12/31/2023"
         ],
         "xaxis": "x",
         "y": [
          1517,
          1248,
          1677,
          1393,
          1558,
          1368,
          1790,
          1396,
          1638,
          1507,
          1868,
          1510,
          1669,
          1392,
          1853,
          1353,
          1623,
          1401,
          1758,
          1078,
          1674,
          1516,
          1924,
          1522,
          2459,
          2428,
          2949,
          2248,
          2538,
          2400,
          2941,
          2420,
          2621,
          2521,
          3083,
          2574,
          2577,
          2457,
          2888,
          2458,
          2674,
          2917,
          3468,
          2931,
          3273,
          3064,
          3744,
          3241,
          3824,
          3517,
          4173,
          3369,
          3751,
          3383,
          3879,
          3391,
          3480,
          3400,
          4044,
          3610,
          4083,
          3907,
          4758,
          4167,
          4769,
          4199,
          5413,
          4687,
          5671
         ],
         "yaxis": "y"
        }
       ],
       "layout": {
        "legend": {
         "tracegroupgap": 0
        },
        "template": {
         "data": {
          "bar": [
           {
            "error_x": {
             "color": "#2a3f5f"
            },
            "error_y": {
             "color": "#2a3f5f"
            },
            "marker": {
             "line": {
              "color": "#E5ECF6",
              "width": 0.5
             },
             "pattern": {
              "fillmode": "overlay",
              "size": 10,
              "solidity": 0.2
             }
            },
            "type": "bar"
           }
          ],
          "barpolar": [
           {
            "marker": {
             "line": {
              "color": "#E5ECF6",
              "width": 0.5
             },
             "pattern": {
              "fillmode": "overlay",
              "size": 10,
              "solidity": 0.2
             }
            },
            "type": "barpolar"
           }
          ],
          "carpet": [
           {
            "aaxis": {
             "endlinecolor": "#2a3f5f",
             "gridcolor": "white",
             "linecolor": "white",
             "minorgridcolor": "white",
             "startlinecolor": "#2a3f5f"
            },
            "baxis": {
             "endlinecolor": "#2a3f5f",
             "gridcolor": "white",
             "linecolor": "white",
             "minorgridcolor": "white",
             "startlinecolor": "#2a3f5f"
            },
            "type": "carpet"
           }
          ],
          "choropleth": [
           {
            "colorbar": {
             "outlinewidth": 0,
             "ticks": ""
            },
            "type": "choropleth"
           }
          ],
          "contour": [
           {
            "colorbar": {
             "outlinewidth": 0,
             "ticks": ""
            },
            "colorscale": [
             [
              0,
              "#0d0887"
             ],
             [
              0.1111111111111111,
              "#46039f"
             ],
             [
              0.2222222222222222,
              "#7201a8"
             ],
             [
              0.3333333333333333,
              "#9c179e"
             ],
             [
              0.4444444444444444,
              "#bd3786"
             ],
             [
              0.5555555555555556,
              "#d8576b"
             ],
             [
              0.6666666666666666,
              "#ed7953"
             ],
             [
              0.7777777777777778,
              "#fb9f3a"
             ],
             [
              0.8888888888888888,
              "#fdca26"
             ],
             [
              1,
              "#f0f921"
             ]
            ],
            "type": "contour"
           }
          ],
          "contourcarpet": [
           {
            "colorbar": {
             "outlinewidth": 0,
             "ticks": ""
            },
            "type": "contourcarpet"
           }
          ],
          "heatmap": [
           {
            "colorbar": {
             "outlinewidth": 0,
             "ticks": ""
            },
            "colorscale": [
             [
              0,
              "#0d0887"
             ],
             [
              0.1111111111111111,
              "#46039f"
             ],
             [
              0.2222222222222222,
              "#7201a8"
             ],
             [
              0.3333333333333333,
              "#9c179e"
             ],
             [
              0.4444444444444444,
              "#bd3786"
             ],
             [
              0.5555555555555556,
              "#d8576b"
             ],
             [
              0.6666666666666666,
              "#ed7953"
             ],
             [
              0.7777777777777778,
              "#fb9f3a"
             ],
             [
              0.8888888888888888,
              "#fdca26"
             ],
             [
              1,
              "#f0f921"
             ]
            ],
            "type": "heatmap"
           }
          ],
          "heatmapgl": [
           {
            "colorbar": {
             "outlinewidth": 0,
             "ticks": ""
            },
            "colorscale": [
             [
              0,
              "#0d0887"
             ],
             [
              0.1111111111111111,
              "#46039f"
             ],
             [
              0.2222222222222222,
              "#7201a8"
             ],
             [
              0.3333333333333333,
              "#9c179e"
             ],
             [
              0.4444444444444444,
              "#bd3786"
             ],
             [
              0.5555555555555556,
              "#d8576b"
             ],
             [
              0.6666666666666666,
              "#ed7953"
             ],
             [
              0.7777777777777778,
              "#fb9f3a"
             ],
             [
              0.8888888888888888,
              "#fdca26"
             ],
             [
              1,
              "#f0f921"
             ]
            ],
            "type": "heatmapgl"
           }
          ],
          "histogram": [
           {
            "marker": {
             "pattern": {
              "fillmode": "overlay",
              "size": 10,
              "solidity": 0.2
             }
            },
            "type": "histogram"
           }
          ],
          "histogram2d": [
           {
            "colorbar": {
             "outlinewidth": 0,
             "ticks": ""
            },
            "colorscale": [
             [
              0,
              "#0d0887"
             ],
             [
              0.1111111111111111,
              "#46039f"
             ],
             [
              0.2222222222222222,
              "#7201a8"
             ],
             [
              0.3333333333333333,
              "#9c179e"
             ],
             [
              0.4444444444444444,
              "#bd3786"
             ],
             [
              0.5555555555555556,
              "#d8576b"
             ],
             [
              0.6666666666666666,
              "#ed7953"
             ],
             [
              0.7777777777777778,
              "#fb9f3a"
             ],
             [
              0.8888888888888888,
              "#fdca26"
             ],
             [
              1,
              "#f0f921"
             ]
            ],
            "type": "histogram2d"
           }
          ],
          "histogram2dcontour": [
           {
            "colorbar": {
             "outlinewidth": 0,
             "ticks": ""
            },
            "colorscale": [
             [
              0,
              "#0d0887"
             ],
             [
              0.1111111111111111,
              "#46039f"
             ],
             [
              0.2222222222222222,
              "#7201a8"
             ],
             [
              0.3333333333333333,
              "#9c179e"
             ],
             [
              0.4444444444444444,
              "#bd3786"
             ],
             [
              0.5555555555555556,
              "#d8576b"
             ],
             [
              0.6666666666666666,
              "#ed7953"
             ],
             [
              0.7777777777777778,
              "#fb9f3a"
             ],
             [
              0.8888888888888888,
              "#fdca26"
             ],
             [
              1,
              "#f0f921"
             ]
            ],
            "type": "histogram2dcontour"
           }
          ],
          "mesh3d": [
           {
            "colorbar": {
             "outlinewidth": 0,
             "ticks": ""
            },
            "type": "mesh3d"
           }
          ],
          "parcoords": [
           {
            "line": {
             "colorbar": {
              "outlinewidth": 0,
              "ticks": ""
             }
            },
            "type": "parcoords"
           }
          ],
          "pie": [
           {
            "automargin": true,
            "type": "pie"
           }
          ],
          "scatter": [
           {
            "fillpattern": {
             "fillmode": "overlay",
             "size": 10,
             "solidity": 0.2
            },
            "type": "scatter"
           }
          ],
          "scatter3d": [
           {
            "line": {
             "colorbar": {
              "outlinewidth": 0,
              "ticks": ""
             }
            },
            "marker": {
             "colorbar": {
              "outlinewidth": 0,
              "ticks": ""
             }
            },
            "type": "scatter3d"
           }
          ],
          "scattercarpet": [
           {
            "marker": {
             "colorbar": {
              "outlinewidth": 0,
              "ticks": ""
             }
            },
            "type": "scattercarpet"
           }
          ],
          "scattergeo": [
           {
            "marker": {
             "colorbar": {
              "outlinewidth": 0,
              "ticks": ""
             }
            },
            "type": "scattergeo"
           }
          ],
          "scattergl": [
           {
            "marker": {
             "colorbar": {
              "outlinewidth": 0,
              "ticks": ""
             }
            },
            "type": "scattergl"
           }
          ],
          "scattermapbox": [
           {
            "marker": {
             "colorbar": {
              "outlinewidth": 0,
              "ticks": ""
             }
            },
            "type": "scattermapbox"
           }
          ],
          "scatterpolar": [
           {
            "marker": {
             "colorbar": {
              "outlinewidth": 0,
              "ticks": ""
             }
            },
            "type": "scatterpolar"
           }
          ],
          "scatterpolargl": [
           {
            "marker": {
             "colorbar": {
              "outlinewidth": 0,
              "ticks": ""
             }
            },
            "type": "scatterpolargl"
           }
          ],
          "scatterternary": [
           {
            "marker": {
             "colorbar": {
              "outlinewidth": 0,
              "ticks": ""
             }
            },
            "type": "scatterternary"
           }
          ],
          "surface": [
           {
            "colorbar": {
             "outlinewidth": 0,
             "ticks": ""
            },
            "colorscale": [
             [
              0,
              "#0d0887"
             ],
             [
              0.1111111111111111,
              "#46039f"
             ],
             [
              0.2222222222222222,
              "#7201a8"
             ],
             [
              0.3333333333333333,
              "#9c179e"
             ],
             [
              0.4444444444444444,
              "#bd3786"
             ],
             [
              0.5555555555555556,
              "#d8576b"
             ],
             [
              0.6666666666666666,
              "#ed7953"
             ],
             [
              0.7777777777777778,
              "#fb9f3a"
             ],
             [
              0.8888888888888888,
              "#fdca26"
             ],
             [
              1,
              "#f0f921"
             ]
            ],
            "type": "surface"
           }
          ],
          "table": [
           {
            "cells": {
             "fill": {
              "color": "#EBF0F8"
             },
             "line": {
              "color": "white"
             }
            },
            "header": {
             "fill": {
              "color": "#C8D4E3"
             },
             "line": {
              "color": "white"
             }
            },
            "type": "table"
           }
          ]
         },
         "layout": {
          "annotationdefaults": {
           "arrowcolor": "#2a3f5f",
           "arrowhead": 0,
           "arrowwidth": 1
          },
          "autotypenumbers": "strict",
          "coloraxis": {
           "colorbar": {
            "outlinewidth": 0,
            "ticks": ""
           }
          },
          "colorscale": {
           "diverging": [
            [
             0,
             "#8e0152"
            ],
            [
             0.1,
             "#c51b7d"
            ],
            [
             0.2,
             "#de77ae"
            ],
            [
             0.3,
             "#f1b6da"
            ],
            [
             0.4,
             "#fde0ef"
            ],
            [
             0.5,
             "#f7f7f7"
            ],
            [
             0.6,
             "#e6f5d0"
            ],
            [
             0.7,
             "#b8e186"
            ],
            [
             0.8,
             "#7fbc41"
            ],
            [
             0.9,
             "#4d9221"
            ],
            [
             1,
             "#276419"
            ]
           ],
           "sequential": [
            [
             0,
             "#0d0887"
            ],
            [
             0.1111111111111111,
             "#46039f"
            ],
            [
             0.2222222222222222,
             "#7201a8"
            ],
            [
             0.3333333333333333,
             "#9c179e"
            ],
            [
             0.4444444444444444,
             "#bd3786"
            ],
            [
             0.5555555555555556,
             "#d8576b"
            ],
            [
             0.6666666666666666,
             "#ed7953"
            ],
            [
             0.7777777777777778,
             "#fb9f3a"
            ],
            [
             0.8888888888888888,
             "#fdca26"
            ],
            [
             1,
             "#f0f921"
            ]
           ],
           "sequentialminus": [
            [
             0,
             "#0d0887"
            ],
            [
             0.1111111111111111,
             "#46039f"
            ],
            [
             0.2222222222222222,
             "#7201a8"
            ],
            [
             0.3333333333333333,
             "#9c179e"
            ],
            [
             0.4444444444444444,
             "#bd3786"
            ],
            [
             0.5555555555555556,
             "#d8576b"
            ],
            [
             0.6666666666666666,
             "#ed7953"
            ],
            [
             0.7777777777777778,
             "#fb9f3a"
            ],
            [
             0.8888888888888888,
             "#fdca26"
            ],
            [
             1,
             "#f0f921"
            ]
           ]
          },
          "colorway": [
           "#636efa",
           "#EF553B",
           "#00cc96",
           "#ab63fa",
           "#FFA15A",
           "#19d3f3",
           "#FF6692",
           "#B6E880",
           "#FF97FF",
           "#FECB52"
          ],
          "font": {
           "color": "#2a3f5f"
          },
          "geo": {
           "bgcolor": "white",
           "lakecolor": "white",
           "landcolor": "#E5ECF6",
           "showlakes": true,
           "showland": true,
           "subunitcolor": "white"
          },
          "hoverlabel": {
           "align": "left"
          },
          "hovermode": "closest",
          "mapbox": {
           "style": "light"
          },
          "paper_bgcolor": "white",
          "plot_bgcolor": "#E5ECF6",
          "polar": {
           "angularaxis": {
            "gridcolor": "white",
            "linecolor": "white",
            "ticks": ""
           },
           "bgcolor": "#E5ECF6",
           "radialaxis": {
            "gridcolor": "white",
            "linecolor": "white",
            "ticks": ""
           }
          },
          "scene": {
           "xaxis": {
            "backgroundcolor": "#E5ECF6",
            "gridcolor": "white",
            "gridwidth": 2,
            "linecolor": "white",
            "showbackground": true,
            "ticks": "",
            "zerolinecolor": "white"
           },
           "yaxis": {
            "backgroundcolor": "#E5ECF6",
            "gridcolor": "white",
            "gridwidth": 2,
            "linecolor": "white",
            "showbackground": true,
            "ticks": "",
            "zerolinecolor": "white"
           },
           "zaxis": {
            "backgroundcolor": "#E5ECF6",
            "gridcolor": "white",
            "gridwidth": 2,
            "linecolor": "white",
            "showbackground": true,
            "ticks": "",
            "zerolinecolor": "white"
           }
          },
          "shapedefaults": {
           "line": {
            "color": "#2a3f5f"
           }
          },
          "ternary": {
           "aaxis": {
            "gridcolor": "white",
            "linecolor": "white",
            "ticks": ""
           },
           "baxis": {
            "gridcolor": "white",
            "linecolor": "white",
            "ticks": ""
           },
           "bgcolor": "#E5ECF6",
           "caxis": {
            "gridcolor": "white",
            "linecolor": "white",
            "ticks": ""
           }
          },
          "title": {
           "x": 0.05
          },
          "xaxis": {
           "automargin": true,
           "gridcolor": "white",
           "linecolor": "white",
           "ticks": "",
           "title": {
            "standoff": 15
           },
           "zerolinecolor": "white",
           "zerolinewidth": 2
          },
          "yaxis": {
           "automargin": true,
           "gridcolor": "white",
           "linecolor": "white",
           "ticks": "",
           "title": {
            "standoff": 15
           },
           "zerolinecolor": "white",
           "zerolinewidth": 2
          }
         }
        },
        "title": {
         "text": "transformed_inventory Over Time"
        },
        "xaxis": {
         "anchor": "y",
         "domain": [
          0,
          1
         ],
         "title": {
          "text": "quarter"
         }
        },
        "yaxis": {
         "anchor": "x",
         "domain": [
          0,
          1
         ],
         "title": {
          "text": "Revenue"
         }
        }
       }
      }
     },
     "metadata": {},
     "output_type": "display_data"
    }
   ],
   "source": [
    "target_variable_transformed = target_varaible\n",
    "df[target_variable_transformed] = df[target_varaible]\n",
    "# Graphing data\n",
    "fig = px.line(df, x = 'quarter', y = target_variable_transformed,\n",
    "              title = 'transformed_inventory Over Time')\n",
    "fig.show()"
   ]
  },
  {
   "cell_type": "code",
   "execution_count": 6,
   "metadata": {},
   "outputs": [
    {
     "name": "stdout",
     "output_type": "stream",
     "text": [
      "ADF Statistic: 1.258540\n",
      "p-value: 0.996366\n",
      "Critical Values:\n",
      "\t1%: -3.541\n",
      "\t5%: -2.909\n",
      "\t10%: -2.592\n"
     ]
    }
   ],
   "source": [
    "dftest = adfuller(df[target_variable_transformed].dropna())\n",
    "\n",
    "# Printing results\n",
    "print('ADF Statistic: %f' % dftest[0])\n",
    "print('p-value: %f' % dftest[1])\n",
    "print('Critical Values:')\n",
    "for key, value in dftest[4].items():\n",
    " print('\\t%s: %.3f' % (key, value))\n"
   ]
  },
  {
   "cell_type": "markdown",
   "metadata": {},
   "source": [
    "### Now Fitting Moving Average (MA) model"
   ]
  },
  {
   "cell_type": "code",
   "execution_count": 7,
   "metadata": {},
   "outputs": [
    {
     "data": {
      "image/png": "[encoded data removed]",
      "text/plain": [
       "<Figure size 640x480 with 1 Axes>"
      ]
     },
     "execution_count": 7,
     "metadata": {},
     "output_type": "execute_result"
    },
    {
     "data": {
      "image/png": "[encoded data removed]",
      "text/plain": [
       "<Figure size 640x480 with 1 Axes>"
      ]
     },
     "metadata": {},
     "output_type": "display_data"
    }
   ],
   "source": [
    "plot_acf(df[target_variable_transformed].dropna(), lags= 20)"
   ]
  },
  {
   "cell_type": "markdown",
   "metadata": {},
   "source": [
    "### Now Training MA Model"
   ]
  },
  {
   "cell_type": "code",
   "execution_count": 8,
   "metadata": {},
   "outputs": [
    {
     "name": "stderr",
     "output_type": "stream",
     "text": [
      "c:\\Users\\seelc\\OneDrive\\Desktop\\Lucas Desktop Items\\Projects\\forecasting\\.venv\\Lib\\site-packages\\statsmodels\\tsa\\statespace\\sarimax.py:978: UserWarning:\n",
      "\n",
      "Non-invertible starting MA parameters found. Using zeros as starting parameters.\n",
      "\n",
      "c:\\Users\\seelc\\OneDrive\\Desktop\\Lucas Desktop Items\\Projects\\forecasting\\.venv\\Lib\\site-packages\\statsmodels\\base\\model.py:607: ConvergenceWarning:\n",
      "\n",
      "Maximum Likelihood optimization failed to converge. Check mle_retvals\n",
      "\n",
      "c:\\Users\\seelc\\OneDrive\\Desktop\\Lucas Desktop Items\\Projects\\forecasting\\.venv\\Lib\\site-packages\\statsmodels\\tsa\\statespace\\sarimax.py:978: UserWarning:\n",
      "\n",
      "Non-invertible starting MA parameters found. Using zeros as starting parameters.\n",
      "\n",
      "c:\\Users\\seelc\\OneDrive\\Desktop\\Lucas Desktop Items\\Projects\\forecasting\\.venv\\Lib\\site-packages\\statsmodels\\base\\model.py:607: ConvergenceWarning:\n",
      "\n",
      "Maximum Likelihood optimization failed to converge. Check mle_retvals\n",
      "\n",
      "c:\\Users\\seelc\\OneDrive\\Desktop\\Lucas Desktop Items\\Projects\\forecasting\\.venv\\Lib\\site-packages\\statsmodels\\tsa\\statespace\\sarimax.py:978: UserWarning:\n",
      "\n",
      "Non-invertible starting MA parameters found. Using zeros as starting parameters.\n",
      "\n",
      "c:\\Users\\seelc\\OneDrive\\Desktop\\Lucas Desktop Items\\Projects\\forecasting\\.venv\\Lib\\site-packages\\statsmodels\\base\\model.py:607: ConvergenceWarning:\n",
      "\n",
      "Maximum Likelihood optimization failed to converge. Check mle_retvals\n",
      "\n",
      "c:\\Users\\seelc\\OneDrive\\Desktop\\Lucas Desktop Items\\Projects\\forecasting\\.venv\\Lib\\site-packages\\statsmodels\\tsa\\statespace\\sarimax.py:978: UserWarning:\n",
      "\n",
      "Non-invertible starting MA parameters found. Using zeros as starting parameters.\n",
      "\n",
      "c:\\Users\\seelc\\OneDrive\\Desktop\\Lucas Desktop Items\\Projects\\forecasting\\.venv\\Lib\\site-packages\\statsmodels\\base\\model.py:607: ConvergenceWarning:\n",
      "\n",
      "Maximum Likelihood optimization failed to converge. Check mle_retvals\n",
      "\n",
      "c:\\Users\\seelc\\OneDrive\\Desktop\\Lucas Desktop Items\\Projects\\forecasting\\.venv\\Lib\\site-packages\\statsmodels\\tsa\\statespace\\sarimax.py:978: UserWarning:\n",
      "\n",
      "Non-invertible starting MA parameters found. Using zeros as starting parameters.\n",
      "\n",
      "c:\\Users\\seelc\\OneDrive\\Desktop\\Lucas Desktop Items\\Projects\\forecasting\\.venv\\Lib\\site-packages\\statsmodels\\base\\model.py:607: ConvergenceWarning:\n",
      "\n",
      "Maximum Likelihood optimization failed to converge. Check mle_retvals\n",
      "\n",
      "c:\\Users\\seelc\\OneDrive\\Desktop\\Lucas Desktop Items\\Projects\\forecasting\\.venv\\Lib\\site-packages\\statsmodels\\tsa\\statespace\\sarimax.py:978: UserWarning:\n",
      "\n",
      "Non-invertible starting MA parameters found. Using zeros as starting parameters.\n",
      "\n",
      "c:\\Users\\seelc\\OneDrive\\Desktop\\Lucas Desktop Items\\Projects\\forecasting\\.venv\\Lib\\site-packages\\statsmodels\\base\\model.py:607: ConvergenceWarning:\n",
      "\n",
      "Maximum Likelihood optimization failed to converge. Check mle_retvals\n",
      "\n",
      "c:\\Users\\seelc\\OneDrive\\Desktop\\Lucas Desktop Items\\Projects\\forecasting\\.venv\\Lib\\site-packages\\statsmodels\\base\\model.py:607: ConvergenceWarning:\n",
      "\n",
      "Maximum Likelihood optimization failed to converge. Check mle_retvals\n",
      "\n",
      "c:\\Users\\seelc\\OneDrive\\Desktop\\Lucas Desktop Items\\Projects\\forecasting\\.venv\\Lib\\site-packages\\statsmodels\\tsa\\statespace\\sarimax.py:978: UserWarning:\n",
      "\n",
      "Non-invertible starting MA parameters found. Using zeros as starting parameters.\n",
      "\n",
      "c:\\Users\\seelc\\OneDrive\\Desktop\\Lucas Desktop Items\\Projects\\forecasting\\.venv\\Lib\\site-packages\\statsmodels\\base\\model.py:607: ConvergenceWarning:\n",
      "\n",
      "Maximum Likelihood optimization failed to converge. Check mle_retvals\n",
      "\n",
      "c:\\Users\\seelc\\OneDrive\\Desktop\\Lucas Desktop Items\\Projects\\forecasting\\.venv\\Lib\\site-packages\\statsmodels\\tsa\\statespace\\sarimax.py:978: UserWarning:\n",
      "\n",
      "Non-invertible starting MA parameters found. Using zeros as starting parameters.\n",
      "\n",
      "c:\\Users\\seelc\\OneDrive\\Desktop\\Lucas Desktop Items\\Projects\\forecasting\\.venv\\Lib\\site-packages\\statsmodels\\base\\model.py:607: ConvergenceWarning:\n",
      "\n",
      "Maximum Likelihood optimization failed to converge. Check mle_retvals\n",
      "\n",
      "c:\\Users\\seelc\\OneDrive\\Desktop\\Lucas Desktop Items\\Projects\\forecasting\\.venv\\Lib\\site-packages\\statsmodels\\tsa\\statespace\\sarimax.py:978: UserWarning:\n",
      "\n",
      "Non-invertible starting MA parameters found. Using zeros as starting parameters.\n",
      "\n",
      "c:\\Users\\seelc\\OneDrive\\Desktop\\Lucas Desktop Items\\Projects\\forecasting\\.venv\\Lib\\site-packages\\statsmodels\\base\\model.py:607: ConvergenceWarning:\n",
      "\n",
      "Maximum Likelihood optimization failed to converge. Check mle_retvals\n",
      "\n",
      "c:\\Users\\seelc\\OneDrive\\Desktop\\Lucas Desktop Items\\Projects\\forecasting\\.venv\\Lib\\site-packages\\statsmodels\\tsa\\statespace\\sarimax.py:978: UserWarning:\n",
      "\n",
      "Non-invertible starting MA parameters found. Using zeros as starting parameters.\n",
      "\n",
      "c:\\Users\\seelc\\OneDrive\\Desktop\\Lucas Desktop Items\\Projects\\forecasting\\.venv\\Lib\\site-packages\\statsmodels\\base\\model.py:607: ConvergenceWarning:\n",
      "\n",
      "Maximum Likelihood optimization failed to converge. Check mle_retvals\n",
      "\n"
     ]
    },
    {
     "name": "stdout",
     "output_type": "stream",
     "text": [
      "[55    2913.797086\n",
      "dtype: float64, 56    2432.246647\n",
      "dtype: float64, 57    2578.096416\n",
      "dtype: float64, 58    2761.838536\n",
      "dtype: float64, 59    3602.970658\n",
      "dtype: float64, 60    2181.315705\n",
      "dtype: float64, 61    3470.584474\n",
      "dtype: float64, 62    3342.7488\n",
      "dtype: float64, 63    3738.890291\n",
      "dtype: float64, 64    2709.654466\n",
      "dtype: float64, 65    3976.381976\n",
      "dtype: float64, 66    3165.22869\n",
      "dtype: float64, 67    4551.867392\n",
      "dtype: float64, 68    3124.442718\n",
      "dtype: float64]\n"
     ]
    }
   ],
   "source": [
    "def train_MA(df, train_length, steps):\n",
    "\n",
    "    # Initializing list to store predictions\n",
    "    pred_MA = []\n",
    "    test = df[train_length:]\n",
    "\n",
    "    predictions = []\n",
    "    for month in range(len(test)):\n",
    "        model = SARIMAX(df[:train_length + month], order= (0, 0, steps))\n",
    "        model_fit = model.fit()\n",
    "        output = model_fit.forecast()\n",
    "        pred_MA.append(output)\n",
    "\n",
    "    return pred_MA\n",
    "\n",
    "# Defining train and test lengths\n",
    "train_len = int(0.8 * len(df))\n",
    "test_len = len(df) - train_len\n",
    "\n",
    "# Calling function\n",
    "steps = 3\n",
    "MA_predictions = train_MA(df[target_variable_transformed], train_len, steps)\n",
    "print(MA_predictions)"
   ]
  },
  {
   "cell_type": "code",
   "execution_count": 9,
   "metadata": {},
   "outputs": [],
   "source": [
    "def graph_results(df, target_varaible, train_len, MA_predictions, model_type):\n",
    "      fig, ax = plt.subplots(figsize=(8, 6))\n",
    "      MA_mape = mean_absolute_percentage_error(df[target_varaible][train_len:], MA_predictions)\n",
    "\n",
    "      # Actual Values\n",
    "      ax.plot(df['quarter'][train_len:], \n",
    "            df[target_varaible][train_len:], color='RED')\n",
    "\n",
    "      # Predicted values\n",
    "      ax.plot(df['quarter'][train_len:],\n",
    "            MA_predictions, color='BLUE')\n",
    "\n",
    "      ax.set_title(\"Predicted versus Actual {model}-Model \".format(model = model_type) + str(round(MA_mape, 2)))\n",
    "      plt.show()"
   ]
  },
  {
   "cell_type": "code",
   "execution_count": 10,
   "metadata": {},
   "outputs": [
    {
     "data": {
      "image/png": "[encoded data removed]",
      "text/plain": [
       "<Figure size 800x600 with 1 Axes>"
      ]
     },
     "metadata": {},
     "output_type": "display_data"
    }
   ],
   "source": [
    "graph_results(df, target_variable_transformed, train_len, MA_predictions, 'MA')"
   ]
  },
  {
   "cell_type": "markdown",
   "metadata": {},
   "source": [
    "### Now Finding Best MA Model"
   ]
  },
  {
   "cell_type": "code",
   "execution_count": 11,
   "metadata": {},
   "outputs": [
    {
     "name": "stderr",
     "output_type": "stream",
     "text": [
      "c:\\Users\\seelc\\OneDrive\\Desktop\\Lucas Desktop Items\\Projects\\forecasting\\.venv\\Lib\\site-packages\\statsmodels\\tsa\\statespace\\sarimax.py:978: UserWarning:\n",
      "\n",
      "Non-invertible starting MA parameters found. Using zeros as starting parameters.\n",
      "\n",
      "c:\\Users\\seelc\\OneDrive\\Desktop\\Lucas Desktop Items\\Projects\\forecasting\\.venv\\Lib\\site-packages\\statsmodels\\base\\model.py:607: ConvergenceWarning:\n",
      "\n",
      "Maximum Likelihood optimization failed to converge. Check mle_retvals\n",
      "\n",
      "c:\\Users\\seelc\\OneDrive\\Desktop\\Lucas Desktop Items\\Projects\\forecasting\\.venv\\Lib\\site-packages\\statsmodels\\tsa\\statespace\\sarimax.py:978: UserWarning:\n",
      "\n",
      "Non-invertible starting MA parameters found. Using zeros as starting parameters.\n",
      "\n",
      "c:\\Users\\seelc\\OneDrive\\Desktop\\Lucas Desktop Items\\Projects\\forecasting\\.venv\\Lib\\site-packages\\statsmodels\\tsa\\statespace\\sarimax.py:978: UserWarning:\n",
      "\n",
      "Non-invertible starting MA parameters found. Using zeros as starting parameters.\n",
      "\n",
      "c:\\Users\\seelc\\OneDrive\\Desktop\\Lucas Desktop Items\\Projects\\forecasting\\.venv\\Lib\\site-packages\\statsmodels\\tsa\\statespace\\sarimax.py:978: UserWarning:\n",
      "\n",
      "Non-invertible starting MA parameters found. Using zeros as starting parameters.\n",
      "\n",
      "c:\\Users\\seelc\\OneDrive\\Desktop\\Lucas Desktop Items\\Projects\\forecasting\\.venv\\Lib\\site-packages\\statsmodels\\base\\model.py:607: ConvergenceWarning:\n",
      "\n",
      "Maximum Likelihood optimization failed to converge. Check mle_retvals\n",
      "\n",
      "c:\\Users\\seelc\\OneDrive\\Desktop\\Lucas Desktop Items\\Projects\\forecasting\\.venv\\Lib\\site-packages\\statsmodels\\tsa\\statespace\\sarimax.py:978: UserWarning:\n",
      "\n",
      "Non-invertible starting MA parameters found. Using zeros as starting parameters.\n",
      "\n",
      "c:\\Users\\seelc\\OneDrive\\Desktop\\Lucas Desktop Items\\Projects\\forecasting\\.venv\\Lib\\site-packages\\statsmodels\\base\\model.py:607: ConvergenceWarning:\n",
      "\n",
      "Maximum Likelihood optimization failed to converge. Check mle_retvals\n",
      "\n",
      "c:\\Users\\seelc\\OneDrive\\Desktop\\Lucas Desktop Items\\Projects\\forecasting\\.venv\\Lib\\site-packages\\statsmodels\\base\\model.py:607: ConvergenceWarning:\n",
      "\n",
      "Maximum Likelihood optimization failed to converge. Check mle_retvals\n",
      "\n",
      "c:\\Users\\seelc\\OneDrive\\Desktop\\Lucas Desktop Items\\Projects\\forecasting\\.venv\\Lib\\site-packages\\statsmodels\\tsa\\statespace\\sarimax.py:978: UserWarning:\n",
      "\n",
      "Non-invertible starting MA parameters found. Using zeros as starting parameters.\n",
      "\n",
      "c:\\Users\\seelc\\OneDrive\\Desktop\\Lucas Desktop Items\\Projects\\forecasting\\.venv\\Lib\\site-packages\\statsmodels\\base\\model.py:607: ConvergenceWarning:\n",
      "\n",
      "Maximum Likelihood optimization failed to converge. Check mle_retvals\n",
      "\n"
     ]
    },
    {
     "data": {
      "text/html": [
       "<div>\n",
       "<style scoped>\n",
       "    .dataframe tbody tr th:only-of-type {\n",
       "        vertical-align: middle;\n",
       "    }\n",
       "\n",
       "    .dataframe tbody tr th {\n",
       "        vertical-align: top;\n",
       "    }\n",
       "\n",
       "    .dataframe thead th {\n",
       "        text-align: right;\n",
       "    }\n",
       "</style>\n",
       "<table border=\"1\" class=\"dataframe\">\n",
       "  <thead>\n",
       "    <tr style=\"text-align: right;\">\n",
       "      <th></th>\n",
       "      <th>Steps Back</th>\n",
       "      <th>AIC</th>\n",
       "    </tr>\n",
       "  </thead>\n",
       "  <tbody>\n",
       "    <tr>\n",
       "      <th>0</th>\n",
       "      <td>9</td>\n",
       "      <td>1030.654646</td>\n",
       "    </tr>\n",
       "    <tr>\n",
       "      <th>1</th>\n",
       "      <td>6</td>\n",
       "      <td>1046.614382</td>\n",
       "    </tr>\n",
       "    <tr>\n",
       "      <th>2</th>\n",
       "      <td>7</td>\n",
       "      <td>1048.308294</td>\n",
       "    </tr>\n",
       "    <tr>\n",
       "      <th>3</th>\n",
       "      <td>5</td>\n",
       "      <td>1101.076675</td>\n",
       "    </tr>\n",
       "    <tr>\n",
       "      <th>4</th>\n",
       "      <td>4</td>\n",
       "      <td>1110.254884</td>\n",
       "    </tr>\n",
       "    <tr>\n",
       "      <th>5</th>\n",
       "      <td>3</td>\n",
       "      <td>1141.128091</td>\n",
       "    </tr>\n",
       "    <tr>\n",
       "      <th>6</th>\n",
       "      <td>8</td>\n",
       "      <td>1149.978311</td>\n",
       "    </tr>\n",
       "    <tr>\n",
       "      <th>7</th>\n",
       "      <td>2</td>\n",
       "      <td>1162.646153</td>\n",
       "    </tr>\n",
       "    <tr>\n",
       "      <th>8</th>\n",
       "      <td>1</td>\n",
       "      <td>1242.087845</td>\n",
       "    </tr>\n",
       "  </tbody>\n",
       "</table>\n",
       "</div>"
      ],
      "text/plain": [
       "   Steps Back          AIC\n",
       "0           9  1030.654646\n",
       "1           6  1046.614382\n",
       "2           7  1048.308294\n",
       "3           5  1101.076675\n",
       "4           4  1110.254884\n",
       "5           3  1141.128091\n",
       "6           8  1149.978311\n",
       "7           2  1162.646153\n",
       "8           1  1242.087845"
      ]
     },
     "execution_count": 11,
     "metadata": {},
     "output_type": "execute_result"
    }
   ],
   "source": [
    "def find_best_ma(df, timesteps_back):\n",
    "\n",
    "    results = []\n",
    "\n",
    "    for i in timesteps_back:\n",
    "        model = SARIMAX(df, order= (0, 0, i))\n",
    "        model_fit = model.fit()\n",
    "        results.append(model_fit.aic)\n",
    "    \n",
    "    results_df = pd.DataFrame({'Steps Back': timesteps_back,\n",
    "                               'AIC': results}).sort_values(by = 'AIC', ascending=True).reset_index(drop=True)\n",
    "    return results_df\n",
    "\n",
    "# calling function\n",
    "timesteps_back = range(1,10)\n",
    "ma_model_compare = find_best_ma(df[target_variable_transformed], timesteps_back)\n",
    "ma_model_compare.head(10)"
   ]
  },
  {
   "cell_type": "markdown",
   "metadata": {},
   "source": [
    "### Now Fitting Best MA Model"
   ]
  },
  {
   "cell_type": "code",
   "execution_count": 12,
   "metadata": {},
   "outputs": [
    {
     "name": "stderr",
     "output_type": "stream",
     "text": [
      "c:\\Users\\seelc\\OneDrive\\Desktop\\Lucas Desktop Items\\Projects\\forecasting\\.venv\\Lib\\site-packages\\statsmodels\\tsa\\statespace\\sarimax.py:978: UserWarning:\n",
      "\n",
      "Non-invertible starting MA parameters found. Using zeros as starting parameters.\n",
      "\n",
      "c:\\Users\\seelc\\OneDrive\\Desktop\\Lucas Desktop Items\\Projects\\forecasting\\.venv\\Lib\\site-packages\\statsmodels\\base\\model.py:607: ConvergenceWarning:\n",
      "\n",
      "Maximum Likelihood optimization failed to converge. Check mle_retvals\n",
      "\n",
      "c:\\Users\\seelc\\OneDrive\\Desktop\\Lucas Desktop Items\\Projects\\forecasting\\.venv\\Lib\\site-packages\\statsmodels\\tsa\\statespace\\sarimax.py:978: UserWarning:\n",
      "\n",
      "Non-invertible starting MA parameters found. Using zeros as starting parameters.\n",
      "\n",
      "c:\\Users\\seelc\\OneDrive\\Desktop\\Lucas Desktop Items\\Projects\\forecasting\\.venv\\Lib\\site-packages\\statsmodels\\base\\model.py:607: ConvergenceWarning:\n",
      "\n",
      "Maximum Likelihood optimization failed to converge. Check mle_retvals\n",
      "\n",
      "c:\\Users\\seelc\\OneDrive\\Desktop\\Lucas Desktop Items\\Projects\\forecasting\\.venv\\Lib\\site-packages\\statsmodels\\tsa\\statespace\\sarimax.py:978: UserWarning:\n",
      "\n",
      "Non-invertible starting MA parameters found. Using zeros as starting parameters.\n",
      "\n",
      "c:\\Users\\seelc\\OneDrive\\Desktop\\Lucas Desktop Items\\Projects\\forecasting\\.venv\\Lib\\site-packages\\statsmodels\\base\\model.py:607: ConvergenceWarning:\n",
      "\n",
      "Maximum Likelihood optimization failed to converge. Check mle_retvals\n",
      "\n",
      "c:\\Users\\seelc\\OneDrive\\Desktop\\Lucas Desktop Items\\Projects\\forecasting\\.venv\\Lib\\site-packages\\statsmodels\\tsa\\statespace\\sarimax.py:978: UserWarning:\n",
      "\n",
      "Non-invertible starting MA parameters found. Using zeros as starting parameters.\n",
      "\n",
      "c:\\Users\\seelc\\OneDrive\\Desktop\\Lucas Desktop Items\\Projects\\forecasting\\.venv\\Lib\\site-packages\\statsmodels\\base\\model.py:607: ConvergenceWarning:\n",
      "\n",
      "Maximum Likelihood optimization failed to converge. Check mle_retvals\n",
      "\n",
      "c:\\Users\\seelc\\OneDrive\\Desktop\\Lucas Desktop Items\\Projects\\forecasting\\.venv\\Lib\\site-packages\\statsmodels\\tsa\\statespace\\sarimax.py:978: UserWarning:\n",
      "\n",
      "Non-invertible starting MA parameters found. Using zeros as starting parameters.\n",
      "\n",
      "c:\\Users\\seelc\\OneDrive\\Desktop\\Lucas Desktop Items\\Projects\\forecasting\\.venv\\Lib\\site-packages\\statsmodels\\base\\model.py:607: ConvergenceWarning:\n",
      "\n",
      "Maximum Likelihood optimization failed to converge. Check mle_retvals\n",
      "\n",
      "c:\\Users\\seelc\\OneDrive\\Desktop\\Lucas Desktop Items\\Projects\\forecasting\\.venv\\Lib\\site-packages\\statsmodels\\tsa\\statespace\\sarimax.py:978: UserWarning:\n",
      "\n",
      "Non-invertible starting MA parameters found. Using zeros as starting parameters.\n",
      "\n",
      "c:\\Users\\seelc\\OneDrive\\Desktop\\Lucas Desktop Items\\Projects\\forecasting\\.venv\\Lib\\site-packages\\statsmodels\\base\\model.py:607: ConvergenceWarning:\n",
      "\n",
      "Maximum Likelihood optimization failed to converge. Check mle_retvals\n",
      "\n",
      "c:\\Users\\seelc\\OneDrive\\Desktop\\Lucas Desktop Items\\Projects\\forecasting\\.venv\\Lib\\site-packages\\statsmodels\\tsa\\statespace\\sarimax.py:978: UserWarning:\n",
      "\n",
      "Non-invertible starting MA parameters found. Using zeros as starting parameters.\n",
      "\n",
      "c:\\Users\\seelc\\OneDrive\\Desktop\\Lucas Desktop Items\\Projects\\forecasting\\.venv\\Lib\\site-packages\\statsmodels\\base\\model.py:607: ConvergenceWarning:\n",
      "\n",
      "Maximum Likelihood optimization failed to converge. Check mle_retvals\n",
      "\n",
      "c:\\Users\\seelc\\OneDrive\\Desktop\\Lucas Desktop Items\\Projects\\forecasting\\.venv\\Lib\\site-packages\\statsmodels\\tsa\\statespace\\sarimax.py:978: UserWarning:\n",
      "\n",
      "Non-invertible starting MA parameters found. Using zeros as starting parameters.\n",
      "\n",
      "c:\\Users\\seelc\\OneDrive\\Desktop\\Lucas Desktop Items\\Projects\\forecasting\\.venv\\Lib\\site-packages\\statsmodels\\base\\model.py:607: ConvergenceWarning:\n",
      "\n",
      "Maximum Likelihood optimization failed to converge. Check mle_retvals\n",
      "\n",
      "c:\\Users\\seelc\\OneDrive\\Desktop\\Lucas Desktop Items\\Projects\\forecasting\\.venv\\Lib\\site-packages\\statsmodels\\tsa\\statespace\\sarimax.py:978: UserWarning:\n",
      "\n",
      "Non-invertible starting MA parameters found. Using zeros as starting parameters.\n",
      "\n",
      "c:\\Users\\seelc\\OneDrive\\Desktop\\Lucas Desktop Items\\Projects\\forecasting\\.venv\\Lib\\site-packages\\statsmodels\\base\\model.py:607: ConvergenceWarning:\n",
      "\n",
      "Maximum Likelihood optimization failed to converge. Check mle_retvals\n",
      "\n",
      "c:\\Users\\seelc\\OneDrive\\Desktop\\Lucas Desktop Items\\Projects\\forecasting\\.venv\\Lib\\site-packages\\statsmodels\\tsa\\statespace\\sarimax.py:978: UserWarning:\n",
      "\n",
      "Non-invertible starting MA parameters found. Using zeros as starting parameters.\n",
      "\n",
      "c:\\Users\\seelc\\OneDrive\\Desktop\\Lucas Desktop Items\\Projects\\forecasting\\.venv\\Lib\\site-packages\\statsmodels\\base\\model.py:607: ConvergenceWarning:\n",
      "\n",
      "Maximum Likelihood optimization failed to converge. Check mle_retvals\n",
      "\n",
      "c:\\Users\\seelc\\OneDrive\\Desktop\\Lucas Desktop Items\\Projects\\forecasting\\.venv\\Lib\\site-packages\\statsmodels\\tsa\\statespace\\sarimax.py:978: UserWarning:\n",
      "\n",
      "Non-invertible starting MA parameters found. Using zeros as starting parameters.\n",
      "\n",
      "c:\\Users\\seelc\\OneDrive\\Desktop\\Lucas Desktop Items\\Projects\\forecasting\\.venv\\Lib\\site-packages\\statsmodels\\base\\model.py:607: ConvergenceWarning:\n",
      "\n",
      "Maximum Likelihood optimization failed to converge. Check mle_retvals\n",
      "\n",
      "c:\\Users\\seelc\\OneDrive\\Desktop\\Lucas Desktop Items\\Projects\\forecasting\\.venv\\Lib\\site-packages\\statsmodels\\tsa\\statespace\\sarimax.py:978: UserWarning:\n",
      "\n",
      "Non-invertible starting MA parameters found. Using zeros as starting parameters.\n",
      "\n",
      "c:\\Users\\seelc\\OneDrive\\Desktop\\Lucas Desktop Items\\Projects\\forecasting\\.venv\\Lib\\site-packages\\statsmodels\\base\\model.py:607: ConvergenceWarning:\n",
      "\n",
      "Maximum Likelihood optimization failed to converge. Check mle_retvals\n",
      "\n",
      "c:\\Users\\seelc\\OneDrive\\Desktop\\Lucas Desktop Items\\Projects\\forecasting\\.venv\\Lib\\site-packages\\statsmodels\\tsa\\statespace\\sarimax.py:978: UserWarning:\n",
      "\n",
      "Non-invertible starting MA parameters found. Using zeros as starting parameters.\n",
      "\n",
      "c:\\Users\\seelc\\OneDrive\\Desktop\\Lucas Desktop Items\\Projects\\forecasting\\.venv\\Lib\\site-packages\\statsmodels\\base\\model.py:607: ConvergenceWarning:\n",
      "\n",
      "Maximum Likelihood optimization failed to converge. Check mle_retvals\n",
      "\n",
      "c:\\Users\\seelc\\OneDrive\\Desktop\\Lucas Desktop Items\\Projects\\forecasting\\.venv\\Lib\\site-packages\\statsmodels\\tsa\\statespace\\sarimax.py:978: UserWarning:\n",
      "\n",
      "Non-invertible starting MA parameters found. Using zeros as starting parameters.\n",
      "\n",
      "c:\\Users\\seelc\\OneDrive\\Desktop\\Lucas Desktop Items\\Projects\\forecasting\\.venv\\Lib\\site-packages\\statsmodels\\base\\model.py:607: ConvergenceWarning:\n",
      "\n",
      "Maximum Likelihood optimization failed to converge. Check mle_retvals\n",
      "\n"
     ]
    }
   ],
   "source": [
    "best_steps = ma_model_compare['Steps Back'][0]\n",
    "best_MA_predictions = train_MA(df[target_variable_transformed], train_len, best_steps)"
   ]
  },
  {
   "cell_type": "code",
   "execution_count": 13,
   "metadata": {},
   "outputs": [
    {
     "data": {
      "image/png": "[encoded data removed]",
      "text/plain": [
       "<Figure size 800x600 with 1 Axes>"
      ]
     },
     "metadata": {},
     "output_type": "display_data"
    }
   ],
   "source": [
    "graph_results(df, target_variable_transformed, train_len, best_MA_predictions, 'MA')"
   ]
  },
  {
   "cell_type": "markdown",
   "metadata": {},
   "source": [
    "### First Autoregressor Approach"
   ]
  },
  {
   "cell_type": "code",
   "execution_count": 14,
   "metadata": {},
   "outputs": [
    {
     "data": {
      "image/png": "[encoded data removed]",
      "text/plain": [
       "<Figure size 640x480 with 1 Axes>"
      ]
     },
     "execution_count": 14,
     "metadata": {},
     "output_type": "execute_result"
    },
    {
     "data": {
      "image/png": "[encoded data removed]",
      "text/plain": [
       "<Figure size 640x480 with 1 Axes>"
      ]
     },
     "metadata": {},
     "output_type": "display_data"
    }
   ],
   "source": [
    "plot_pacf(df[target_variable_transformed].dropna(), lags= 20)"
   ]
  },
  {
   "cell_type": "code",
   "execution_count": 15,
   "metadata": {},
   "outputs": [],
   "source": [
    "def train_AR(df, train_length, steps):\n",
    "\n",
    "    # Initializing list to store predictions\n",
    "    pred_AR = []\n",
    "    test = df[train_length:]\n",
    "\n",
    "    predictions = []\n",
    "    for month in range(len(test)):\n",
    "        model = SARIMAX(df[:train_length + month], order= (steps, 0, 0))\n",
    "        model_fit = model.fit()\n",
    "        output = model_fit.forecast()\n",
    "        pred_AR.append(output)\n",
    "\n",
    "    return pred_AR"
   ]
  },
  {
   "cell_type": "code",
   "execution_count": 16,
   "metadata": {},
   "outputs": [
    {
     "name": "stderr",
     "output_type": "stream",
     "text": [
      "c:\\Users\\seelc\\OneDrive\\Desktop\\Lucas Desktop Items\\Projects\\forecasting\\.venv\\Lib\\site-packages\\statsmodels\\tsa\\statespace\\sarimax.py:966: UserWarning:\n",
      "\n",
      "Non-stationary starting autoregressive parameters found. Using zeros as starting parameters.\n",
      "\n",
      "c:\\Users\\seelc\\OneDrive\\Desktop\\Lucas Desktop Items\\Projects\\forecasting\\.venv\\Lib\\site-packages\\statsmodels\\tsa\\statespace\\sarimax.py:966: UserWarning:\n",
      "\n",
      "Non-stationary starting autoregressive parameters found. Using zeros as starting parameters.\n",
      "\n",
      "c:\\Users\\seelc\\OneDrive\\Desktop\\Lucas Desktop Items\\Projects\\forecasting\\.venv\\Lib\\site-packages\\statsmodels\\tsa\\statespace\\sarimax.py:966: UserWarning:\n",
      "\n",
      "Non-stationary starting autoregressive parameters found. Using zeros as starting parameters.\n",
      "\n",
      "c:\\Users\\seelc\\OneDrive\\Desktop\\Lucas Desktop Items\\Projects\\forecasting\\.venv\\Lib\\site-packages\\statsmodels\\tsa\\statespace\\sarimax.py:966: UserWarning:\n",
      "\n",
      "Non-stationary starting autoregressive parameters found. Using zeros as starting parameters.\n",
      "\n",
      "c:\\Users\\seelc\\OneDrive\\Desktop\\Lucas Desktop Items\\Projects\\forecasting\\.venv\\Lib\\site-packages\\statsmodels\\tsa\\statespace\\sarimax.py:966: UserWarning:\n",
      "\n",
      "Non-stationary starting autoregressive parameters found. Using zeros as starting parameters.\n",
      "\n",
      "c:\\Users\\seelc\\OneDrive\\Desktop\\Lucas Desktop Items\\Projects\\forecasting\\.venv\\Lib\\site-packages\\statsmodels\\tsa\\statespace\\sarimax.py:966: UserWarning:\n",
      "\n",
      "Non-stationary starting autoregressive parameters found. Using zeros as starting parameters.\n",
      "\n",
      "c:\\Users\\seelc\\OneDrive\\Desktop\\Lucas Desktop Items\\Projects\\forecasting\\.venv\\Lib\\site-packages\\statsmodels\\tsa\\statespace\\sarimax.py:966: UserWarning:\n",
      "\n",
      "Non-stationary starting autoregressive parameters found. Using zeros as starting parameters.\n",
      "\n",
      "c:\\Users\\seelc\\OneDrive\\Desktop\\Lucas Desktop Items\\Projects\\forecasting\\.venv\\Lib\\site-packages\\statsmodels\\tsa\\statespace\\sarimax.py:966: UserWarning:\n",
      "\n",
      "Non-stationary starting autoregressive parameters found. Using zeros as starting parameters.\n",
      "\n",
      "c:\\Users\\seelc\\OneDrive\\Desktop\\Lucas Desktop Items\\Projects\\forecasting\\.venv\\Lib\\site-packages\\statsmodels\\tsa\\statespace\\sarimax.py:966: UserWarning:\n",
      "\n",
      "Non-stationary starting autoregressive parameters found. Using zeros as starting parameters.\n",
      "\n",
      "c:\\Users\\seelc\\OneDrive\\Desktop\\Lucas Desktop Items\\Projects\\forecasting\\.venv\\Lib\\site-packages\\statsmodels\\tsa\\statespace\\sarimax.py:966: UserWarning:\n",
      "\n",
      "Non-stationary starting autoregressive parameters found. Using zeros as starting parameters.\n",
      "\n",
      "c:\\Users\\seelc\\OneDrive\\Desktop\\Lucas Desktop Items\\Projects\\forecasting\\.venv\\Lib\\site-packages\\statsmodels\\tsa\\statespace\\sarimax.py:966: UserWarning:\n",
      "\n",
      "Non-stationary starting autoregressive parameters found. Using zeros as starting parameters.\n",
      "\n",
      "c:\\Users\\seelc\\OneDrive\\Desktop\\Lucas Desktop Items\\Projects\\forecasting\\.venv\\Lib\\site-packages\\statsmodels\\tsa\\statespace\\sarimax.py:966: UserWarning:\n",
      "\n",
      "Non-stationary starting autoregressive parameters found. Using zeros as starting parameters.\n",
      "\n",
      "c:\\Users\\seelc\\OneDrive\\Desktop\\Lucas Desktop Items\\Projects\\forecasting\\.venv\\Lib\\site-packages\\statsmodels\\tsa\\statespace\\sarimax.py:966: UserWarning:\n",
      "\n",
      "Non-stationary starting autoregressive parameters found. Using zeros as starting parameters.\n",
      "\n",
      "c:\\Users\\seelc\\OneDrive\\Desktop\\Lucas Desktop Items\\Projects\\forecasting\\.venv\\Lib\\site-packages\\statsmodels\\tsa\\statespace\\sarimax.py:966: UserWarning:\n",
      "\n",
      "Non-stationary starting autoregressive parameters found. Using zeros as starting parameters.\n",
      "\n"
     ]
    },
    {
     "name": "stdout",
     "output_type": "stream",
     "text": [
      "[55    3493.621574\n",
      "dtype: float64, 56    3751.063671\n",
      "dtype: float64, 57    3402.301621\n",
      "dtype: float64, 58    3448.845776\n",
      "dtype: float64, 59    3548.890006\n",
      "dtype: float64, 60    3924.132488\n",
      "dtype: float64, 61    3715.589976\n",
      "dtype: float64, 62    4028.364847\n",
      "dtype: float64, 63    4103.130264\n",
      "dtype: float64, 64    4602.188152\n",
      "dtype: float64, 65    4301.006388\n",
      "dtype: float64, 66    4625.956017\n",
      "dtype: float64, 67    4434.670171\n",
      "dtype: float64, 68    5242.328444\n",
      "dtype: float64]\n"
     ]
    }
   ],
   "source": [
    "# Calling AR function\n",
    "steps = 2\n",
    "AR_predictions = train_AR(df[target_variable_transformed], train_len, steps)\n",
    "print(AR_predictions)"
   ]
  },
  {
   "cell_type": "code",
   "execution_count": 17,
   "metadata": {},
   "outputs": [
    {
     "data": {
      "image/png": "[encoded data removed]",
      "text/plain": [
       "<Figure size 800x600 with 1 Axes>"
      ]
     },
     "metadata": {},
     "output_type": "display_data"
    }
   ],
   "source": [
    "graph_results(df, target_variable_transformed, train_len, AR_predictions, 'AR')"
   ]
  },
  {
   "cell_type": "code",
   "execution_count": 18,
   "metadata": {},
   "outputs": [
    {
     "name": "stderr",
     "output_type": "stream",
     "text": [
      "c:\\Users\\seelc\\OneDrive\\Desktop\\Lucas Desktop Items\\Projects\\forecasting\\.venv\\Lib\\site-packages\\statsmodels\\tsa\\statespace\\sarimax.py:966: UserWarning:\n",
      "\n",
      "Non-stationary starting autoregressive parameters found. Using zeros as starting parameters.\n",
      "\n",
      "c:\\Users\\seelc\\OneDrive\\Desktop\\Lucas Desktop Items\\Projects\\forecasting\\.venv\\Lib\\site-packages\\statsmodels\\tsa\\statespace\\sarimax.py:966: UserWarning:\n",
      "\n",
      "Non-stationary starting autoregressive parameters found. Using zeros as starting parameters.\n",
      "\n",
      "c:\\Users\\seelc\\OneDrive\\Desktop\\Lucas Desktop Items\\Projects\\forecasting\\.venv\\Lib\\site-packages\\statsmodels\\tsa\\statespace\\sarimax.py:966: UserWarning:\n",
      "\n",
      "Non-stationary starting autoregressive parameters found. Using zeros as starting parameters.\n",
      "\n",
      "c:\\Users\\seelc\\OneDrive\\Desktop\\Lucas Desktop Items\\Projects\\forecasting\\.venv\\Lib\\site-packages\\statsmodels\\tsa\\statespace\\sarimax.py:966: UserWarning:\n",
      "\n",
      "Non-stationary starting autoregressive parameters found. Using zeros as starting parameters.\n",
      "\n",
      "c:\\Users\\seelc\\OneDrive\\Desktop\\Lucas Desktop Items\\Projects\\forecasting\\.venv\\Lib\\site-packages\\statsmodels\\tsa\\statespace\\sarimax.py:966: UserWarning:\n",
      "\n",
      "Non-stationary starting autoregressive parameters found. Using zeros as starting parameters.\n",
      "\n",
      "c:\\Users\\seelc\\OneDrive\\Desktop\\Lucas Desktop Items\\Projects\\forecasting\\.venv\\Lib\\site-packages\\statsmodels\\base\\model.py:607: ConvergenceWarning:\n",
      "\n",
      "Maximum Likelihood optimization failed to converge. Check mle_retvals\n",
      "\n",
      "c:\\Users\\seelc\\OneDrive\\Desktop\\Lucas Desktop Items\\Projects\\forecasting\\.venv\\Lib\\site-packages\\statsmodels\\tsa\\statespace\\sarimax.py:966: UserWarning:\n",
      "\n",
      "Non-stationary starting autoregressive parameters found. Using zeros as starting parameters.\n",
      "\n",
      "c:\\Users\\seelc\\OneDrive\\Desktop\\Lucas Desktop Items\\Projects\\forecasting\\.venv\\Lib\\site-packages\\statsmodels\\base\\model.py:607: ConvergenceWarning:\n",
      "\n",
      "Maximum Likelihood optimization failed to converge. Check mle_retvals\n",
      "\n",
      "c:\\Users\\seelc\\OneDrive\\Desktop\\Lucas Desktop Items\\Projects\\forecasting\\.venv\\Lib\\site-packages\\statsmodels\\tsa\\statespace\\sarimax.py:966: UserWarning:\n",
      "\n",
      "Non-stationary starting autoregressive parameters found. Using zeros as starting parameters.\n",
      "\n",
      "c:\\Users\\seelc\\OneDrive\\Desktop\\Lucas Desktop Items\\Projects\\forecasting\\.venv\\Lib\\site-packages\\statsmodels\\base\\model.py:607: ConvergenceWarning:\n",
      "\n",
      "Maximum Likelihood optimization failed to converge. Check mle_retvals\n",
      "\n",
      "c:\\Users\\seelc\\OneDrive\\Desktop\\Lucas Desktop Items\\Projects\\forecasting\\.venv\\Lib\\site-packages\\statsmodels\\tsa\\statespace\\sarimax.py:966: UserWarning:\n",
      "\n",
      "Non-stationary starting autoregressive parameters found. Using zeros as starting parameters.\n",
      "\n",
      "c:\\Users\\seelc\\OneDrive\\Desktop\\Lucas Desktop Items\\Projects\\forecasting\\.venv\\Lib\\site-packages\\statsmodels\\base\\model.py:607: ConvergenceWarning:\n",
      "\n",
      "Maximum Likelihood optimization failed to converge. Check mle_retvals\n",
      "\n",
      "c:\\Users\\seelc\\OneDrive\\Desktop\\Lucas Desktop Items\\Projects\\forecasting\\.venv\\Lib\\site-packages\\statsmodels\\tsa\\statespace\\sarimax.py:966: UserWarning:\n",
      "\n",
      "Non-stationary starting autoregressive parameters found. Using zeros as starting parameters.\n",
      "\n",
      "c:\\Users\\seelc\\OneDrive\\Desktop\\Lucas Desktop Items\\Projects\\forecasting\\.venv\\Lib\\site-packages\\statsmodels\\base\\model.py:607: ConvergenceWarning:\n",
      "\n",
      "Maximum Likelihood optimization failed to converge. Check mle_retvals\n",
      "\n"
     ]
    },
    {
     "data": {
      "text/html": [
       "<div>\n",
       "<style scoped>\n",
       "    .dataframe tbody tr th:only-of-type {\n",
       "        vertical-align: middle;\n",
       "    }\n",
       "\n",
       "    .dataframe tbody tr th {\n",
       "        vertical-align: top;\n",
       "    }\n",
       "\n",
       "    .dataframe thead th {\n",
       "        text-align: right;\n",
       "    }\n",
       "</style>\n",
       "<table border=\"1\" class=\"dataframe\">\n",
       "  <thead>\n",
       "    <tr style=\"text-align: right;\">\n",
       "      <th></th>\n",
       "      <th>Steps Back</th>\n",
       "      <th>AIC</th>\n",
       "    </tr>\n",
       "  </thead>\n",
       "  <tbody>\n",
       "    <tr>\n",
       "      <th>0</th>\n",
       "      <td>7</td>\n",
       "      <td>941.866946</td>\n",
       "    </tr>\n",
       "    <tr>\n",
       "      <th>1</th>\n",
       "      <td>8</td>\n",
       "      <td>942.571902</td>\n",
       "    </tr>\n",
       "    <tr>\n",
       "      <th>2</th>\n",
       "      <td>5</td>\n",
       "      <td>942.738517</td>\n",
       "    </tr>\n",
       "    <tr>\n",
       "      <th>3</th>\n",
       "      <td>9</td>\n",
       "      <td>944.326800</td>\n",
       "    </tr>\n",
       "    <tr>\n",
       "      <th>4</th>\n",
       "      <td>6</td>\n",
       "      <td>944.682659</td>\n",
       "    </tr>\n",
       "    <tr>\n",
       "      <th>5</th>\n",
       "      <td>4</td>\n",
       "      <td>977.332147</td>\n",
       "    </tr>\n",
       "    <tr>\n",
       "      <th>6</th>\n",
       "      <td>3</td>\n",
       "      <td>990.046232</td>\n",
       "    </tr>\n",
       "    <tr>\n",
       "      <th>7</th>\n",
       "      <td>2</td>\n",
       "      <td>994.858039</td>\n",
       "    </tr>\n",
       "    <tr>\n",
       "      <th>8</th>\n",
       "      <td>1</td>\n",
       "      <td>1056.420647</td>\n",
       "    </tr>\n",
       "  </tbody>\n",
       "</table>\n",
       "</div>"
      ],
      "text/plain": [
       "   Steps Back          AIC\n",
       "0           7   941.866946\n",
       "1           8   942.571902\n",
       "2           5   942.738517\n",
       "3           9   944.326800\n",
       "4           6   944.682659\n",
       "5           4   977.332147\n",
       "6           3   990.046232\n",
       "7           2   994.858039\n",
       "8           1  1056.420647"
      ]
     },
     "execution_count": 18,
     "metadata": {},
     "output_type": "execute_result"
    }
   ],
   "source": [
    "# Finding best AR Model\n",
    "def find_best_ar(df, timesteps_back):\n",
    "\n",
    "    results = []\n",
    "\n",
    "    for i in timesteps_back:\n",
    "        model = SARIMAX(df, order= (i, 0, 0))\n",
    "        model_fit = model.fit()\n",
    "        results.append(model_fit.aic)\n",
    "    \n",
    "    results_df = pd.DataFrame({'Steps Back': timesteps_back,\n",
    "                               'AIC': results}).sort_values(by = 'AIC', ascending=True).reset_index(drop=True)\n",
    "    return results_df\n",
    "\n",
    "# calling function\n",
    "ar_model_compare = find_best_ar(df[target_variable_transformed], timesteps_back)\n",
    "ar_model_compare.head(10)"
   ]
  },
  {
   "cell_type": "code",
   "execution_count": 19,
   "metadata": {},
   "outputs": [
    {
     "name": "stderr",
     "output_type": "stream",
     "text": [
      "c:\\Users\\seelc\\OneDrive\\Desktop\\Lucas Desktop Items\\Projects\\forecasting\\.venv\\Lib\\site-packages\\statsmodels\\tsa\\statespace\\sarimax.py:966: UserWarning:\n",
      "\n",
      "Non-stationary starting autoregressive parameters found. Using zeros as starting parameters.\n",
      "\n",
      "c:\\Users\\seelc\\OneDrive\\Desktop\\Lucas Desktop Items\\Projects\\forecasting\\.venv\\Lib\\site-packages\\statsmodels\\base\\model.py:607: ConvergenceWarning:\n",
      "\n",
      "Maximum Likelihood optimization failed to converge. Check mle_retvals\n",
      "\n",
      "c:\\Users\\seelc\\OneDrive\\Desktop\\Lucas Desktop Items\\Projects\\forecasting\\.venv\\Lib\\site-packages\\statsmodels\\tsa\\statespace\\sarimax.py:966: UserWarning:\n",
      "\n",
      "Non-stationary starting autoregressive parameters found. Using zeros as starting parameters.\n",
      "\n",
      "c:\\Users\\seelc\\OneDrive\\Desktop\\Lucas Desktop Items\\Projects\\forecasting\\.venv\\Lib\\site-packages\\statsmodels\\tsa\\statespace\\sarimax.py:966: UserWarning:\n",
      "\n",
      "Non-stationary starting autoregressive parameters found. Using zeros as starting parameters.\n",
      "\n",
      "c:\\Users\\seelc\\OneDrive\\Desktop\\Lucas Desktop Items\\Projects\\forecasting\\.venv\\Lib\\site-packages\\statsmodels\\base\\model.py:607: ConvergenceWarning:\n",
      "\n",
      "Maximum Likelihood optimization failed to converge. Check mle_retvals\n",
      "\n",
      "c:\\Users\\seelc\\OneDrive\\Desktop\\Lucas Desktop Items\\Projects\\forecasting\\.venv\\Lib\\site-packages\\statsmodels\\tsa\\statespace\\sarimax.py:966: UserWarning:\n",
      "\n",
      "Non-stationary starting autoregressive parameters found. Using zeros as starting parameters.\n",
      "\n",
      "c:\\Users\\seelc\\OneDrive\\Desktop\\Lucas Desktop Items\\Projects\\forecasting\\.venv\\Lib\\site-packages\\statsmodels\\tsa\\statespace\\sarimax.py:966: UserWarning:\n",
      "\n",
      "Non-stationary starting autoregressive parameters found. Using zeros as starting parameters.\n",
      "\n",
      "c:\\Users\\seelc\\OneDrive\\Desktop\\Lucas Desktop Items\\Projects\\forecasting\\.venv\\Lib\\site-packages\\statsmodels\\tsa\\statespace\\sarimax.py:966: UserWarning:\n",
      "\n",
      "Non-stationary starting autoregressive parameters found. Using zeros as starting parameters.\n",
      "\n",
      "c:\\Users\\seelc\\OneDrive\\Desktop\\Lucas Desktop Items\\Projects\\forecasting\\.venv\\Lib\\site-packages\\statsmodels\\tsa\\statespace\\sarimax.py:966: UserWarning:\n",
      "\n",
      "Non-stationary starting autoregressive parameters found. Using zeros as starting parameters.\n",
      "\n",
      "c:\\Users\\seelc\\OneDrive\\Desktop\\Lucas Desktop Items\\Projects\\forecasting\\.venv\\Lib\\site-packages\\statsmodels\\tsa\\statespace\\sarimax.py:966: UserWarning:\n",
      "\n",
      "Non-stationary starting autoregressive parameters found. Using zeros as starting parameters.\n",
      "\n",
      "c:\\Users\\seelc\\OneDrive\\Desktop\\Lucas Desktop Items\\Projects\\forecasting\\.venv\\Lib\\site-packages\\statsmodels\\tsa\\statespace\\sarimax.py:966: UserWarning:\n",
      "\n",
      "Non-stationary starting autoregressive parameters found. Using zeros as starting parameters.\n",
      "\n",
      "c:\\Users\\seelc\\OneDrive\\Desktop\\Lucas Desktop Items\\Projects\\forecasting\\.venv\\Lib\\site-packages\\statsmodels\\base\\model.py:607: ConvergenceWarning:\n",
      "\n",
      "Maximum Likelihood optimization failed to converge. Check mle_retvals\n",
      "\n",
      "c:\\Users\\seelc\\OneDrive\\Desktop\\Lucas Desktop Items\\Projects\\forecasting\\.venv\\Lib\\site-packages\\statsmodels\\tsa\\statespace\\sarimax.py:966: UserWarning:\n",
      "\n",
      "Non-stationary starting autoregressive parameters found. Using zeros as starting parameters.\n",
      "\n",
      "c:\\Users\\seelc\\OneDrive\\Desktop\\Lucas Desktop Items\\Projects\\forecasting\\.venv\\Lib\\site-packages\\statsmodels\\tsa\\statespace\\sarimax.py:966: UserWarning:\n",
      "\n",
      "Non-stationary starting autoregressive parameters found. Using zeros as starting parameters.\n",
      "\n",
      "c:\\Users\\seelc\\OneDrive\\Desktop\\Lucas Desktop Items\\Projects\\forecasting\\.venv\\Lib\\site-packages\\statsmodels\\base\\model.py:607: ConvergenceWarning:\n",
      "\n",
      "Maximum Likelihood optimization failed to converge. Check mle_retvals\n",
      "\n",
      "c:\\Users\\seelc\\OneDrive\\Desktop\\Lucas Desktop Items\\Projects\\forecasting\\.venv\\Lib\\site-packages\\statsmodels\\tsa\\statespace\\sarimax.py:966: UserWarning:\n",
      "\n",
      "Non-stationary starting autoregressive parameters found. Using zeros as starting parameters.\n",
      "\n",
      "c:\\Users\\seelc\\OneDrive\\Desktop\\Lucas Desktop Items\\Projects\\forecasting\\.venv\\Lib\\site-packages\\statsmodels\\base\\model.py:607: ConvergenceWarning:\n",
      "\n",
      "Maximum Likelihood optimization failed to converge. Check mle_retvals\n",
      "\n",
      "c:\\Users\\seelc\\OneDrive\\Desktop\\Lucas Desktop Items\\Projects\\forecasting\\.venv\\Lib\\site-packages\\statsmodels\\tsa\\statespace\\sarimax.py:966: UserWarning:\n",
      "\n",
      "Non-stationary starting autoregressive parameters found. Using zeros as starting parameters.\n",
      "\n",
      "c:\\Users\\seelc\\OneDrive\\Desktop\\Lucas Desktop Items\\Projects\\forecasting\\.venv\\Lib\\site-packages\\statsmodels\\base\\model.py:607: ConvergenceWarning:\n",
      "\n",
      "Maximum Likelihood optimization failed to converge. Check mle_retvals\n",
      "\n",
      "c:\\Users\\seelc\\OneDrive\\Desktop\\Lucas Desktop Items\\Projects\\forecasting\\.venv\\Lib\\site-packages\\statsmodels\\tsa\\statespace\\sarimax.py:966: UserWarning:\n",
      "\n",
      "Non-stationary starting autoregressive parameters found. Using zeros as starting parameters.\n",
      "\n",
      "c:\\Users\\seelc\\OneDrive\\Desktop\\Lucas Desktop Items\\Projects\\forecasting\\.venv\\Lib\\site-packages\\statsmodels\\base\\model.py:607: ConvergenceWarning:\n",
      "\n",
      "Maximum Likelihood optimization failed to converge. Check mle_retvals\n",
      "\n"
     ]
    }
   ],
   "source": [
    "best_steps = ar_model_compare['Steps Back'][0]\n",
    "best_AR_predictions = train_AR(df[target_variable_transformed], train_len, best_steps)"
   ]
  },
  {
   "cell_type": "code",
   "execution_count": 20,
   "metadata": {},
   "outputs": [
    {
     "data": {
      "image/png": "[encoded data removed]",
      "text/plain": [
       "<Figure size 800x600 with 1 Axes>"
      ]
     },
     "metadata": {},
     "output_type": "display_data"
    }
   ],
   "source": [
    "graph_results(df, target_variable_transformed, train_len, best_AR_predictions, 'AR')"
   ]
  },
  {
   "cell_type": "markdown",
   "metadata": {},
   "source": [
    "### ARIMA Modeling Approach"
   ]
  },
  {
   "cell_type": "code",
   "execution_count": 21,
   "metadata": {},
   "outputs": [],
   "source": [
    "# Defining modeling function\n",
    "def optimize_ARMA(endog,  order_list):\n",
    "    results = []\n",
    "    for order in tqdm(order_list):\n",
    "        try:\n",
    "            model = SARIMAX(\n",
    "                endog,\n",
    "                order = (order[0], order[1], order[2]),\n",
    "                simple_differencing=False).fit(disp = False)\n",
    "            aic = model.aic\n",
    "            results.append([order, aic])\n",
    "        except:\n",
    "            continue\n",
    "    results_df = pd.DataFrame(results)\n",
    "    results_df.columns = ['(p,d,q)', 'AIC']\n",
    "    # sorting results\n",
    "    results_df = results_df.sort_values(by = 'AIC', ascending = True).reset_index(drop = True)\n",
    "\n",
    "    return results_df"
   ]
  },
  {
   "cell_type": "code",
   "execution_count": 22,
   "metadata": {},
   "outputs": [
    {
     "name": "stderr",
     "output_type": "stream",
     "text": [
      "2it [00:00, 18.72it/s]c:\\Users\\seelc\\OneDrive\\Desktop\\Lucas Desktop Items\\Projects\\forecasting\\.venv\\Lib\\site-packages\\statsmodels\\tsa\\statespace\\sarimax.py:978: UserWarning:\n",
      "\n",
      "Non-invertible starting MA parameters found. Using zeros as starting parameters.\n",
      "\n",
      "c:\\Users\\seelc\\OneDrive\\Desktop\\Lucas Desktop Items\\Projects\\forecasting\\.venv\\Lib\\site-packages\\statsmodels\\base\\model.py:607: ConvergenceWarning:\n",
      "\n",
      "Maximum Likelihood optimization failed to converge. Check mle_retvals\n",
      "\n",
      "4it [00:00,  9.91it/s]c:\\Users\\seelc\\OneDrive\\Desktop\\Lucas Desktop Items\\Projects\\forecasting\\.venv\\Lib\\site-packages\\statsmodels\\tsa\\statespace\\sarimax.py:966: UserWarning:\n",
      "\n",
      "Non-stationary starting autoregressive parameters found. Using zeros as starting parameters.\n",
      "\n",
      "c:\\Users\\seelc\\OneDrive\\Desktop\\Lucas Desktop Items\\Projects\\forecasting\\.venv\\Lib\\site-packages\\statsmodels\\tsa\\statespace\\sarimax.py:966: UserWarning:\n",
      "\n",
      "Non-stationary starting autoregressive parameters found. Using zeros as starting parameters.\n",
      "\n",
      "c:\\Users\\seelc\\OneDrive\\Desktop\\Lucas Desktop Items\\Projects\\forecasting\\.venv\\Lib\\site-packages\\statsmodels\\tsa\\statespace\\sarimax.py:966: UserWarning:\n",
      "\n",
      "Non-stationary starting autoregressive parameters found. Using zeros as starting parameters.\n",
      "\n",
      "c:\\Users\\seelc\\OneDrive\\Desktop\\Lucas Desktop Items\\Projects\\forecasting\\.venv\\Lib\\site-packages\\statsmodels\\base\\model.py:607: ConvergenceWarning:\n",
      "\n",
      "Maximum Likelihood optimization failed to converge. Check mle_retvals\n",
      "\n",
      "7it [00:00, 12.17it/s]c:\\Users\\seelc\\OneDrive\\Desktop\\Lucas Desktop Items\\Projects\\forecasting\\.venv\\Lib\\site-packages\\statsmodels\\tsa\\statespace\\sarimax.py:966: UserWarning:\n",
      "\n",
      "Non-stationary starting autoregressive parameters found. Using zeros as starting parameters.\n",
      "\n",
      "c:\\Users\\seelc\\OneDrive\\Desktop\\Lucas Desktop Items\\Projects\\forecasting\\.venv\\Lib\\site-packages\\statsmodels\\base\\model.py:607: ConvergenceWarning:\n",
      "\n",
      "Maximum Likelihood optimization failed to converge. Check mle_retvals\n",
      "\n",
      "c:\\Users\\seelc\\OneDrive\\Desktop\\Lucas Desktop Items\\Projects\\forecasting\\.venv\\Lib\\site-packages\\statsmodels\\tsa\\statespace\\sarimax.py:966: UserWarning:\n",
      "\n",
      "Non-stationary starting autoregressive parameters found. Using zeros as starting parameters.\n",
      "\n",
      "9it [00:00, 11.72it/s]c:\\Users\\seelc\\OneDrive\\Desktop\\Lucas Desktop Items\\Projects\\forecasting\\.venv\\Lib\\site-packages\\statsmodels\\tsa\\statespace\\sarimax.py:966: UserWarning:\n",
      "\n",
      "Non-stationary starting autoregressive parameters found. Using zeros as starting parameters.\n",
      "\n",
      "c:\\Users\\seelc\\OneDrive\\Desktop\\Lucas Desktop Items\\Projects\\forecasting\\.venv\\Lib\\site-packages\\statsmodels\\tsa\\statespace\\sarimax.py:966: UserWarning:\n",
      "\n",
      "Non-stationary starting autoregressive parameters found. Using zeros as starting parameters.\n",
      "\n",
      "c:\\Users\\seelc\\OneDrive\\Desktop\\Lucas Desktop Items\\Projects\\forecasting\\.venv\\Lib\\site-packages\\statsmodels\\tsa\\statespace\\sarimax.py:978: UserWarning:\n",
      "\n",
      "Non-invertible starting MA parameters found. Using zeros as starting parameters.\n",
      "\n",
      "11it [00:00, 11.33it/s]c:\\Users\\seelc\\OneDrive\\Desktop\\Lucas Desktop Items\\Projects\\forecasting\\.venv\\Lib\\site-packages\\statsmodels\\tsa\\statespace\\sarimax.py:966: UserWarning:\n",
      "\n",
      "Non-stationary starting autoregressive parameters found. Using zeros as starting parameters.\n",
      "\n",
      "c:\\Users\\seelc\\OneDrive\\Desktop\\Lucas Desktop Items\\Projects\\forecasting\\.venv\\Lib\\site-packages\\statsmodels\\tsa\\statespace\\sarimax.py:966: UserWarning:\n",
      "\n",
      "Non-stationary starting autoregressive parameters found. Using zeros as starting parameters.\n",
      "\n",
      "13it [00:01, 10.84it/s]c:\\Users\\seelc\\OneDrive\\Desktop\\Lucas Desktop Items\\Projects\\forecasting\\.venv\\Lib\\site-packages\\statsmodels\\tsa\\statespace\\sarimax.py:966: UserWarning:\n",
      "\n",
      "Non-stationary starting autoregressive parameters found. Using zeros as starting parameters.\n",
      "\n",
      "c:\\Users\\seelc\\OneDrive\\Desktop\\Lucas Desktop Items\\Projects\\forecasting\\.venv\\Lib\\site-packages\\statsmodels\\tsa\\statespace\\sarimax.py:966: UserWarning:\n",
      "\n",
      "Non-stationary starting autoregressive parameters found. Using zeros as starting parameters.\n",
      "\n",
      "c:\\Users\\seelc\\OneDrive\\Desktop\\Lucas Desktop Items\\Projects\\forecasting\\.venv\\Lib\\site-packages\\statsmodels\\tsa\\statespace\\sarimax.py:978: UserWarning:\n",
      "\n",
      "Non-invertible starting MA parameters found. Using zeros as starting parameters.\n",
      "\n",
      "15it [00:01, 10.05it/s]c:\\Users\\seelc\\OneDrive\\Desktop\\Lucas Desktop Items\\Projects\\forecasting\\.venv\\Lib\\site-packages\\statsmodels\\tsa\\statespace\\sarimax.py:966: UserWarning:\n",
      "\n",
      "Non-stationary starting autoregressive parameters found. Using zeros as starting parameters.\n",
      "\n",
      "c:\\Users\\seelc\\OneDrive\\Desktop\\Lucas Desktop Items\\Projects\\forecasting\\.venv\\Lib\\site-packages\\statsmodels\\base\\model.py:607: ConvergenceWarning:\n",
      "\n",
      "Maximum Likelihood optimization failed to converge. Check mle_retvals\n",
      "\n",
      "16it [00:01, 10.24it/s]\n"
     ]
    },
    {
     "name": "stdout",
     "output_type": "stream",
     "text": [
      "      (p,d,q)          AIC\n",
      "0   (2, 0, 3)   955.572854\n",
      "1   (3, 0, 3)   957.895313\n",
      "2   (3, 0, 2)   959.833414\n",
      "3   (2, 0, 2)   966.823217\n",
      "4   (2, 0, 1)   969.159256\n",
      "5   (3, 0, 1)   971.146053\n",
      "6   (3, 0, 0)   990.046232\n",
      "7   (2, 0, 0)   994.858039\n",
      "8   (1, 0, 2)  1008.911111\n",
      "9   (1, 0, 3)  1019.141369\n",
      "10  (1, 0, 1)  1026.773687\n",
      "11  (1, 0, 0)  1056.420647\n",
      "12  (0, 0, 3)  1141.128091\n",
      "13  (0, 0, 2)  1162.646153\n",
      "14  (0, 0, 1)  1242.087845\n",
      "15  (0, 0, 0)  1300.899310\n"
     ]
    }
   ],
   "source": [
    "# normal variables\n",
    "p = range(0, 4, 1)\n",
    "d = range(0,1,1)\n",
    "q = range(0, 4, 1)\n",
    "# Combining parameters\n",
    "parameters = product(p,d, q)\n",
    "\n",
    "# Training models\n",
    "results_df = optimize_ARMA(df[target_variable_transformed], parameters)\n",
    "\n",
    "# viewing results\n",
    "print(results_df.sort_values(by = ['AIC']))"
   ]
  },
  {
   "cell_type": "markdown",
   "metadata": {},
   "source": [
    "### Training Optimal ARIMA"
   ]
  },
  {
   "cell_type": "code",
   "execution_count": 23,
   "metadata": {},
   "outputs": [
    {
     "name": "stderr",
     "output_type": "stream",
     "text": [
      "c:\\Users\\seelc\\OneDrive\\Desktop\\Lucas Desktop Items\\Projects\\forecasting\\.venv\\Lib\\site-packages\\statsmodels\\tsa\\statespace\\sarimax.py:966: UserWarning:\n",
      "\n",
      "Non-stationary starting autoregressive parameters found. Using zeros as starting parameters.\n",
      "\n",
      "c:\\Users\\seelc\\OneDrive\\Desktop\\Lucas Desktop Items\\Projects\\forecasting\\.venv\\Lib\\site-packages\\statsmodels\\tsa\\statespace\\sarimax.py:978: UserWarning:\n",
      "\n",
      "Non-invertible starting MA parameters found. Using zeros as starting parameters.\n",
      "\n",
      "c:\\Users\\seelc\\OneDrive\\Desktop\\Lucas Desktop Items\\Projects\\forecasting\\.venv\\Lib\\site-packages\\statsmodels\\tsa\\statespace\\sarimax.py:966: UserWarning:\n",
      "\n",
      "Non-stationary starting autoregressive parameters found. Using zeros as starting parameters.\n",
      "\n",
      "c:\\Users\\seelc\\OneDrive\\Desktop\\Lucas Desktop Items\\Projects\\forecasting\\.venv\\Lib\\site-packages\\statsmodels\\tsa\\statespace\\sarimax.py:978: UserWarning:\n",
      "\n",
      "Non-invertible starting MA parameters found. Using zeros as starting parameters.\n",
      "\n",
      "c:\\Users\\seelc\\OneDrive\\Desktop\\Lucas Desktop Items\\Projects\\forecasting\\.venv\\Lib\\site-packages\\statsmodels\\tsa\\statespace\\sarimax.py:966: UserWarning:\n",
      "\n",
      "Non-stationary starting autoregressive parameters found. Using zeros as starting parameters.\n",
      "\n",
      "c:\\Users\\seelc\\OneDrive\\Desktop\\Lucas Desktop Items\\Projects\\forecasting\\.venv\\Lib\\site-packages\\statsmodels\\tsa\\statespace\\sarimax.py:978: UserWarning:\n",
      "\n",
      "Non-invertible starting MA parameters found. Using zeros as starting parameters.\n",
      "\n",
      "c:\\Users\\seelc\\OneDrive\\Desktop\\Lucas Desktop Items\\Projects\\forecasting\\.venv\\Lib\\site-packages\\statsmodels\\tsa\\statespace\\sarimax.py:966: UserWarning:\n",
      "\n",
      "Non-stationary starting autoregressive parameters found. Using zeros as starting parameters.\n",
      "\n",
      "c:\\Users\\seelc\\OneDrive\\Desktop\\Lucas Desktop Items\\Projects\\forecasting\\.venv\\Lib\\site-packages\\statsmodels\\tsa\\statespace\\sarimax.py:978: UserWarning:\n",
      "\n",
      "Non-invertible starting MA parameters found. Using zeros as starting parameters.\n",
      "\n",
      "c:\\Users\\seelc\\OneDrive\\Desktop\\Lucas Desktop Items\\Projects\\forecasting\\.venv\\Lib\\site-packages\\statsmodels\\tsa\\statespace\\sarimax.py:966: UserWarning:\n",
      "\n",
      "Non-stationary starting autoregressive parameters found. Using zeros as starting parameters.\n",
      "\n",
      "c:\\Users\\seelc\\OneDrive\\Desktop\\Lucas Desktop Items\\Projects\\forecasting\\.venv\\Lib\\site-packages\\statsmodels\\tsa\\statespace\\sarimax.py:978: UserWarning:\n",
      "\n",
      "Non-invertible starting MA parameters found. Using zeros as starting parameters.\n",
      "\n",
      "c:\\Users\\seelc\\OneDrive\\Desktop\\Lucas Desktop Items\\Projects\\forecasting\\.venv\\Lib\\site-packages\\statsmodels\\tsa\\statespace\\sarimax.py:966: UserWarning:\n",
      "\n",
      "Non-stationary starting autoregressive parameters found. Using zeros as starting parameters.\n",
      "\n",
      "c:\\Users\\seelc\\OneDrive\\Desktop\\Lucas Desktop Items\\Projects\\forecasting\\.venv\\Lib\\site-packages\\statsmodels\\tsa\\statespace\\sarimax.py:978: UserWarning:\n",
      "\n",
      "Non-invertible starting MA parameters found. Using zeros as starting parameters.\n",
      "\n",
      "c:\\Users\\seelc\\OneDrive\\Desktop\\Lucas Desktop Items\\Projects\\forecasting\\.venv\\Lib\\site-packages\\statsmodels\\tsa\\statespace\\sarimax.py:966: UserWarning:\n",
      "\n",
      "Non-stationary starting autoregressive parameters found. Using zeros as starting parameters.\n",
      "\n",
      "c:\\Users\\seelc\\OneDrive\\Desktop\\Lucas Desktop Items\\Projects\\forecasting\\.venv\\Lib\\site-packages\\statsmodels\\tsa\\statespace\\sarimax.py:978: UserWarning:\n",
      "\n",
      "Non-invertible starting MA parameters found. Using zeros as starting parameters.\n",
      "\n",
      "c:\\Users\\seelc\\OneDrive\\Desktop\\Lucas Desktop Items\\Projects\\forecasting\\.venv\\Lib\\site-packages\\statsmodels\\tsa\\statespace\\sarimax.py:966: UserWarning:\n",
      "\n",
      "Non-stationary starting autoregressive parameters found. Using zeros as starting parameters.\n",
      "\n",
      "c:\\Users\\seelc\\OneDrive\\Desktop\\Lucas Desktop Items\\Projects\\forecasting\\.venv\\Lib\\site-packages\\statsmodels\\tsa\\statespace\\sarimax.py:978: UserWarning:\n",
      "\n",
      "Non-invertible starting MA parameters found. Using zeros as starting parameters.\n",
      "\n",
      "c:\\Users\\seelc\\OneDrive\\Desktop\\Lucas Desktop Items\\Projects\\forecasting\\.venv\\Lib\\site-packages\\statsmodels\\tsa\\statespace\\sarimax.py:966: UserWarning:\n",
      "\n",
      "Non-stationary starting autoregressive parameters found. Using zeros as starting parameters.\n",
      "\n",
      "c:\\Users\\seelc\\OneDrive\\Desktop\\Lucas Desktop Items\\Projects\\forecasting\\.venv\\Lib\\site-packages\\statsmodels\\tsa\\statespace\\sarimax.py:978: UserWarning:\n",
      "\n",
      "Non-invertible starting MA parameters found. Using zeros as starting parameters.\n",
      "\n",
      "c:\\Users\\seelc\\OneDrive\\Desktop\\Lucas Desktop Items\\Projects\\forecasting\\.venv\\Lib\\site-packages\\statsmodels\\tsa\\statespace\\sarimax.py:966: UserWarning:\n",
      "\n",
      "Non-stationary starting autoregressive parameters found. Using zeros as starting parameters.\n",
      "\n",
      "c:\\Users\\seelc\\OneDrive\\Desktop\\Lucas Desktop Items\\Projects\\forecasting\\.venv\\Lib\\site-packages\\statsmodels\\tsa\\statespace\\sarimax.py:978: UserWarning:\n",
      "\n",
      "Non-invertible starting MA parameters found. Using zeros as starting parameters.\n",
      "\n",
      "c:\\Users\\seelc\\OneDrive\\Desktop\\Lucas Desktop Items\\Projects\\forecasting\\.venv\\Lib\\site-packages\\statsmodels\\tsa\\statespace\\sarimax.py:966: UserWarning:\n",
      "\n",
      "Non-stationary starting autoregressive parameters found. Using zeros as starting parameters.\n",
      "\n",
      "c:\\Users\\seelc\\OneDrive\\Desktop\\Lucas Desktop Items\\Projects\\forecasting\\.venv\\Lib\\site-packages\\statsmodels\\tsa\\statespace\\sarimax.py:978: UserWarning:\n",
      "\n",
      "Non-invertible starting MA parameters found. Using zeros as starting parameters.\n",
      "\n",
      "c:\\Users\\seelc\\OneDrive\\Desktop\\Lucas Desktop Items\\Projects\\forecasting\\.venv\\Lib\\site-packages\\statsmodels\\tsa\\statespace\\sarimax.py:966: UserWarning:\n",
      "\n",
      "Non-stationary starting autoregressive parameters found. Using zeros as starting parameters.\n",
      "\n",
      "c:\\Users\\seelc\\OneDrive\\Desktop\\Lucas Desktop Items\\Projects\\forecasting\\.venv\\Lib\\site-packages\\statsmodels\\tsa\\statespace\\sarimax.py:978: UserWarning:\n",
      "\n",
      "Non-invertible starting MA parameters found. Using zeros as starting parameters.\n",
      "\n",
      "c:\\Users\\seelc\\OneDrive\\Desktop\\Lucas Desktop Items\\Projects\\forecasting\\.venv\\Lib\\site-packages\\statsmodels\\tsa\\statespace\\sarimax.py:966: UserWarning:\n",
      "\n",
      "Non-stationary starting autoregressive parameters found. Using zeros as starting parameters.\n",
      "\n",
      "c:\\Users\\seelc\\OneDrive\\Desktop\\Lucas Desktop Items\\Projects\\forecasting\\.venv\\Lib\\site-packages\\statsmodels\\tsa\\statespace\\sarimax.py:978: UserWarning:\n",
      "\n",
      "Non-invertible starting MA parameters found. Using zeros as starting parameters.\n",
      "\n",
      "c:\\Users\\seelc\\OneDrive\\Desktop\\Lucas Desktop Items\\Projects\\forecasting\\.venv\\Lib\\site-packages\\statsmodels\\tsa\\statespace\\sarimax.py:966: UserWarning:\n",
      "\n",
      "Non-stationary starting autoregressive parameters found. Using zeros as starting parameters.\n",
      "\n",
      "c:\\Users\\seelc\\OneDrive\\Desktop\\Lucas Desktop Items\\Projects\\forecasting\\.venv\\Lib\\site-packages\\statsmodels\\tsa\\statespace\\sarimax.py:978: UserWarning:\n",
      "\n",
      "Non-invertible starting MA parameters found. Using zeros as starting parameters.\n",
      "\n"
     ]
    }
   ],
   "source": [
    "# defining function for model training\n",
    "def train_ARIMA_optimal(df,  train_length, order):\n",
    "\n",
    "    # Initializing list to store predictions\n",
    "    pred_arima = []\n",
    "    predictions = []\n",
    "\n",
    "    test = df[train_length:]\n",
    "\n",
    "    for month in range(len(test)):\n",
    "        model = SARIMAX(df[:train_len + month], \n",
    "                        order= order)\n",
    "        model_fit = model.fit()\n",
    "        output = model_fit.forecast()\n",
    "        pred_arima.append(output)\n",
    "        actual_val = list(df)[train_len + month]\n",
    "\n",
    "    return pred_arima\n",
    "\n",
    "# calling function and returning predictions\n",
    "order = (3, 0, 2)\n",
    "optimal_ARMA_predictions = train_ARIMA_optimal(df[target_variable_transformed], train_len, order)"
   ]
  },
  {
   "cell_type": "code",
   "execution_count": 24,
   "metadata": {},
   "outputs": [
    {
     "data": {
      "image/png": "[encoded data removed]",
      "text/plain": [
       "<Figure size 800x600 with 1 Axes>"
      ]
     },
     "metadata": {},
     "output_type": "display_data"
    }
   ],
   "source": [
    "graph_results(df, target_variable_transformed, train_len, optimal_ARMA_predictions, 'ARIMA')"
   ]
  },
  {
   "cell_type": "markdown",
   "metadata": {},
   "source": [
    "### Optimizing SARIMA"
   ]
  },
  {
   "cell_type": "code",
   "execution_count": 25,
   "metadata": {},
   "outputs": [
    {
     "name": "stderr",
     "output_type": "stream",
     "text": [
      "2it [00:00, 18.90it/s]c:\\Users\\seelc\\OneDrive\\Desktop\\Lucas Desktop Items\\Projects\\forecasting\\.venv\\Lib\\site-packages\\statsmodels\\tsa\\statespace\\sarimax.py:1009: UserWarning:\n",
      "\n",
      "Non-invertible starting seasonal moving average Using zeros as starting parameters.\n",
      "\n",
      "4it [00:00,  8.44it/s]c:\\Users\\seelc\\OneDrive\\Desktop\\Lucas Desktop Items\\Projects\\forecasting\\.venv\\Lib\\site-packages\\statsmodels\\tsa\\statespace\\sarimax.py:997: UserWarning:\n",
      "\n",
      "Non-stationary starting seasonal autoregressive Using zeros as starting parameters.\n",
      "\n",
      "c:\\Users\\seelc\\OneDrive\\Desktop\\Lucas Desktop Items\\Projects\\forecasting\\.venv\\Lib\\site-packages\\statsmodels\\tsa\\statespace\\sarimax.py:997: UserWarning:\n",
      "\n",
      "Non-stationary starting seasonal autoregressive Using zeros as starting parameters.\n",
      "\n",
      "c:\\Users\\seelc\\OneDrive\\Desktop\\Lucas Desktop Items\\Projects\\forecasting\\.venv\\Lib\\site-packages\\statsmodels\\tsa\\statespace\\sarimax.py:997: UserWarning:\n",
      "\n",
      "Non-stationary starting seasonal autoregressive Using zeros as starting parameters.\n",
      "\n",
      "7it [00:00, 10.33it/s]c:\\Users\\seelc\\OneDrive\\Desktop\\Lucas Desktop Items\\Projects\\forecasting\\.venv\\Lib\\site-packages\\statsmodels\\tsa\\statespace\\sarimax.py:997: UserWarning:\n",
      "\n",
      "Non-stationary starting seasonal autoregressive Using zeros as starting parameters.\n",
      "\n",
      "c:\\Users\\seelc\\OneDrive\\Desktop\\Lucas Desktop Items\\Projects\\forecasting\\.venv\\Lib\\site-packages\\statsmodels\\tsa\\statespace\\sarimax.py:997: UserWarning:\n",
      "\n",
      "Non-stationary starting seasonal autoregressive Using zeros as starting parameters.\n",
      "\n",
      "9it [00:00,  9.72it/s]c:\\Users\\seelc\\OneDrive\\Desktop\\Lucas Desktop Items\\Projects\\forecasting\\.venv\\Lib\\site-packages\\statsmodels\\tsa\\statespace\\sarimax.py:997: UserWarning:\n",
      "\n",
      "Non-stationary starting seasonal autoregressive Using zeros as starting parameters.\n",
      "\n",
      "c:\\Users\\seelc\\OneDrive\\Desktop\\Lucas Desktop Items\\Projects\\forecasting\\.venv\\Lib\\site-packages\\statsmodels\\tsa\\statespace\\sarimax.py:997: UserWarning:\n",
      "\n",
      "Non-stationary starting seasonal autoregressive Using zeros as starting parameters.\n",
      "\n",
      "11it [00:01,  9.52it/s]c:\\Users\\seelc\\OneDrive\\Desktop\\Lucas Desktop Items\\Projects\\forecasting\\.venv\\Lib\\site-packages\\statsmodels\\tsa\\statespace\\sarimax.py:997: UserWarning:\n",
      "\n",
      "Non-stationary starting seasonal autoregressive Using zeros as starting parameters.\n",
      "\n",
      "c:\\Users\\seelc\\OneDrive\\Desktop\\Lucas Desktop Items\\Projects\\forecasting\\.venv\\Lib\\site-packages\\statsmodels\\tsa\\statespace\\sarimax.py:997: UserWarning:\n",
      "\n",
      "Non-stationary starting seasonal autoregressive Using zeros as starting parameters.\n",
      "\n",
      "13it [00:01,  8.77it/s]c:\\Users\\seelc\\OneDrive\\Desktop\\Lucas Desktop Items\\Projects\\forecasting\\.venv\\Lib\\site-packages\\statsmodels\\tsa\\statespace\\sarimax.py:997: UserWarning:\n",
      "\n",
      "Non-stationary starting seasonal autoregressive Using zeros as starting parameters.\n",
      "\n",
      "14it [00:01,  8.22it/s]c:\\Users\\seelc\\OneDrive\\Desktop\\Lucas Desktop Items\\Projects\\forecasting\\.venv\\Lib\\site-packages\\statsmodels\\tsa\\statespace\\sarimax.py:997: UserWarning:\n",
      "\n",
      "Non-stationary starting seasonal autoregressive Using zeros as starting parameters.\n",
      "\n",
      "15it [00:01,  7.58it/s]c:\\Users\\seelc\\OneDrive\\Desktop\\Lucas Desktop Items\\Projects\\forecasting\\.venv\\Lib\\site-packages\\statsmodels\\tsa\\statespace\\sarimax.py:997: UserWarning:\n",
      "\n",
      "Non-stationary starting seasonal autoregressive Using zeros as starting parameters.\n",
      "\n",
      "c:\\Users\\seelc\\OneDrive\\Desktop\\Lucas Desktop Items\\Projects\\forecasting\\.venv\\Lib\\site-packages\\statsmodels\\base\\model.py:607: ConvergenceWarning:\n",
      "\n",
      "Maximum Likelihood optimization failed to converge. Check mle_retvals\n",
      "\n",
      "16it [00:02,  5.83it/s]c:\\Users\\seelc\\OneDrive\\Desktop\\Lucas Desktop Items\\Projects\\forecasting\\.venv\\Lib\\site-packages\\statsmodels\\base\\model.py:607: ConvergenceWarning:\n",
      "\n",
      "Maximum Likelihood optimization failed to converge. Check mle_retvals\n",
      "\n",
      "19it [00:02,  8.07it/s]c:\\Users\\seelc\\OneDrive\\Desktop\\Lucas Desktop Items\\Projects\\forecasting\\.venv\\Lib\\site-packages\\statsmodels\\tsa\\statespace\\sarimax.py:1009: UserWarning:\n",
      "\n",
      "Non-invertible starting seasonal moving average Using zeros as starting parameters.\n",
      "\n",
      "c:\\Users\\seelc\\OneDrive\\Desktop\\Lucas Desktop Items\\Projects\\forecasting\\.venv\\Lib\\site-packages\\statsmodels\\base\\model.py:607: ConvergenceWarning:\n",
      "\n",
      "Maximum Likelihood optimization failed to converge. Check mle_retvals\n",
      "\n",
      "20it [00:02,  6.84it/s]c:\\Users\\seelc\\OneDrive\\Desktop\\Lucas Desktop Items\\Projects\\forecasting\\.venv\\Lib\\site-packages\\statsmodels\\tsa\\statespace\\sarimax.py:997: UserWarning:\n",
      "\n",
      "Non-stationary starting seasonal autoregressive Using zeros as starting parameters.\n",
      "\n",
      "21it [00:02,  7.16it/s]c:\\Users\\seelc\\OneDrive\\Desktop\\Lucas Desktop Items\\Projects\\forecasting\\.venv\\Lib\\site-packages\\statsmodels\\tsa\\statespace\\sarimax.py:997: UserWarning:\n",
      "\n",
      "Non-stationary starting seasonal autoregressive Using zeros as starting parameters.\n",
      "\n",
      "22it [00:02,  6.99it/s]c:\\Users\\seelc\\OneDrive\\Desktop\\Lucas Desktop Items\\Projects\\forecasting\\.venv\\Lib\\site-packages\\statsmodels\\tsa\\statespace\\sarimax.py:997: UserWarning:\n",
      "\n",
      "Non-stationary starting seasonal autoregressive Using zeros as starting parameters.\n",
      "\n",
      "c:\\Users\\seelc\\OneDrive\\Desktop\\Lucas Desktop Items\\Projects\\forecasting\\.venv\\Lib\\site-packages\\statsmodels\\base\\model.py:607: ConvergenceWarning:\n",
      "\n",
      "Maximum Likelihood optimization failed to converge. Check mle_retvals\n",
      "\n",
      "23it [00:03,  5.66it/s]c:\\Users\\seelc\\OneDrive\\Desktop\\Lucas Desktop Items\\Projects\\forecasting\\.venv\\Lib\\site-packages\\statsmodels\\tsa\\statespace\\sarimax.py:997: UserWarning:\n",
      "\n",
      "Non-stationary starting seasonal autoregressive Using zeros as starting parameters.\n",
      "\n",
      "c:\\Users\\seelc\\OneDrive\\Desktop\\Lucas Desktop Items\\Projects\\forecasting\\.venv\\Lib\\site-packages\\statsmodels\\base\\model.py:607: ConvergenceWarning:\n",
      "\n",
      "Maximum Likelihood optimization failed to converge. Check mle_retvals\n",
      "\n",
      "24it [00:03,  4.91it/s]c:\\Users\\seelc\\OneDrive\\Desktop\\Lucas Desktop Items\\Projects\\forecasting\\.venv\\Lib\\site-packages\\statsmodels\\tsa\\statespace\\sarimax.py:997: UserWarning:\n",
      "\n",
      "Non-stationary starting seasonal autoregressive Using zeros as starting parameters.\n",
      "\n",
      "c:\\Users\\seelc\\OneDrive\\Desktop\\Lucas Desktop Items\\Projects\\forecasting\\.venv\\Lib\\site-packages\\statsmodels\\base\\model.py:607: ConvergenceWarning:\n",
      "\n",
      "Maximum Likelihood optimization failed to converge. Check mle_retvals\n",
      "\n",
      "25it [00:03,  4.86it/s]c:\\Users\\seelc\\OneDrive\\Desktop\\Lucas Desktop Items\\Projects\\forecasting\\.venv\\Lib\\site-packages\\statsmodels\\tsa\\statespace\\sarimax.py:997: UserWarning:\n",
      "\n",
      "Non-stationary starting seasonal autoregressive Using zeros as starting parameters.\n",
      "\n",
      "27it [00:03,  5.02it/s]c:\\Users\\seelc\\OneDrive\\Desktop\\Lucas Desktop Items\\Projects\\forecasting\\.venv\\Lib\\site-packages\\statsmodels\\tsa\\statespace\\sarimax.py:997: UserWarning:\n",
      "\n",
      "Non-stationary starting seasonal autoregressive Using zeros as starting parameters.\n",
      "\n",
      "c:\\Users\\seelc\\OneDrive\\Desktop\\Lucas Desktop Items\\Projects\\forecasting\\.venv\\Lib\\site-packages\\statsmodels\\base\\model.py:607: ConvergenceWarning:\n",
      "\n",
      "Maximum Likelihood optimization failed to converge. Check mle_retvals\n",
      "\n",
      "28it [00:04,  3.87it/s]c:\\Users\\seelc\\OneDrive\\Desktop\\Lucas Desktop Items\\Projects\\forecasting\\.venv\\Lib\\site-packages\\statsmodels\\tsa\\statespace\\sarimax.py:997: UserWarning:\n",
      "\n",
      "Non-stationary starting seasonal autoregressive Using zeros as starting parameters.\n",
      "\n",
      "c:\\Users\\seelc\\OneDrive\\Desktop\\Lucas Desktop Items\\Projects\\forecasting\\.venv\\Lib\\site-packages\\statsmodels\\base\\model.py:607: ConvergenceWarning:\n",
      "\n",
      "Maximum Likelihood optimization failed to converge. Check mle_retvals\n",
      "\n",
      "29it [00:04,  3.98it/s]c:\\Users\\seelc\\OneDrive\\Desktop\\Lucas Desktop Items\\Projects\\forecasting\\.venv\\Lib\\site-packages\\statsmodels\\tsa\\statespace\\sarimax.py:997: UserWarning:\n",
      "\n",
      "Non-stationary starting seasonal autoregressive Using zeros as starting parameters.\n",
      "\n",
      "c:\\Users\\seelc\\OneDrive\\Desktop\\Lucas Desktop Items\\Projects\\forecasting\\.venv\\Lib\\site-packages\\statsmodels\\base\\model.py:607: ConvergenceWarning:\n",
      "\n",
      "Maximum Likelihood optimization failed to converge. Check mle_retvals\n",
      "\n",
      "30it [00:04,  3.29it/s]c:\\Users\\seelc\\OneDrive\\Desktop\\Lucas Desktop Items\\Projects\\forecasting\\.venv\\Lib\\site-packages\\statsmodels\\tsa\\statespace\\sarimax.py:997: UserWarning:\n",
      "\n",
      "Non-stationary starting seasonal autoregressive Using zeros as starting parameters.\n",
      "\n",
      "31it [00:05,  2.74it/s]c:\\Users\\seelc\\OneDrive\\Desktop\\Lucas Desktop Items\\Projects\\forecasting\\.venv\\Lib\\site-packages\\statsmodels\\tsa\\statespace\\sarimax.py:997: UserWarning:\n",
      "\n",
      "Non-stationary starting seasonal autoregressive Using zeros as starting parameters.\n",
      "\n",
      "34it [00:05,  4.67it/s]c:\\Users\\seelc\\OneDrive\\Desktop\\Lucas Desktop Items\\Projects\\forecasting\\.venv\\Lib\\site-packages\\statsmodels\\base\\model.py:607: ConvergenceWarning:\n",
      "\n",
      "Maximum Likelihood optimization failed to converge. Check mle_retvals\n",
      "\n",
      "35it [00:06,  4.64it/s]c:\\Users\\seelc\\OneDrive\\Desktop\\Lucas Desktop Items\\Projects\\forecasting\\.venv\\Lib\\site-packages\\statsmodels\\tsa\\statespace\\sarimax.py:1009: UserWarning:\n",
      "\n",
      "Non-invertible starting seasonal moving average Using zeros as starting parameters.\n",
      "\n",
      "36it [00:06,  4.23it/s]c:\\Users\\seelc\\OneDrive\\Desktop\\Lucas Desktop Items\\Projects\\forecasting\\.venv\\Lib\\site-packages\\statsmodels\\tsa\\statespace\\sarimax.py:997: UserWarning:\n",
      "\n",
      "Non-stationary starting seasonal autoregressive Using zeros as starting parameters.\n",
      "\n",
      "c:\\Users\\seelc\\OneDrive\\Desktop\\Lucas Desktop Items\\Projects\\forecasting\\.venv\\Lib\\site-packages\\statsmodels\\base\\model.py:607: ConvergenceWarning:\n",
      "\n",
      "Maximum Likelihood optimization failed to converge. Check mle_retvals\n",
      "\n",
      "37it [00:06,  4.45it/s]c:\\Users\\seelc\\OneDrive\\Desktop\\Lucas Desktop Items\\Projects\\forecasting\\.venv\\Lib\\site-packages\\statsmodels\\tsa\\statespace\\sarimax.py:997: UserWarning:\n",
      "\n",
      "Non-stationary starting seasonal autoregressive Using zeros as starting parameters.\n",
      "\n",
      "c:\\Users\\seelc\\OneDrive\\Desktop\\Lucas Desktop Items\\Projects\\forecasting\\.venv\\Lib\\site-packages\\statsmodels\\base\\model.py:607: ConvergenceWarning:\n",
      "\n",
      "Maximum Likelihood optimization failed to converge. Check mle_retvals\n",
      "\n",
      "38it [00:06,  4.55it/s]c:\\Users\\seelc\\OneDrive\\Desktop\\Lucas Desktop Items\\Projects\\forecasting\\.venv\\Lib\\site-packages\\statsmodels\\tsa\\statespace\\sarimax.py:997: UserWarning:\n",
      "\n",
      "Non-stationary starting seasonal autoregressive Using zeros as starting parameters.\n",
      "\n",
      "c:\\Users\\seelc\\OneDrive\\Desktop\\Lucas Desktop Items\\Projects\\forecasting\\.venv\\Lib\\site-packages\\statsmodels\\base\\model.py:607: ConvergenceWarning:\n",
      "\n",
      "Maximum Likelihood optimization failed to converge. Check mle_retvals\n",
      "\n",
      "39it [00:07,  4.12it/s]c:\\Users\\seelc\\OneDrive\\Desktop\\Lucas Desktop Items\\Projects\\forecasting\\.venv\\Lib\\site-packages\\statsmodels\\tsa\\statespace\\sarimax.py:997: UserWarning:\n",
      "\n",
      "Non-stationary starting seasonal autoregressive Using zeros as starting parameters.\n",
      "\n",
      "c:\\Users\\seelc\\OneDrive\\Desktop\\Lucas Desktop Items\\Projects\\forecasting\\.venv\\Lib\\site-packages\\statsmodels\\base\\model.py:607: ConvergenceWarning:\n",
      "\n",
      "Maximum Likelihood optimization failed to converge. Check mle_retvals\n",
      "\n",
      "40it [00:07,  3.88it/s]c:\\Users\\seelc\\OneDrive\\Desktop\\Lucas Desktop Items\\Projects\\forecasting\\.venv\\Lib\\site-packages\\statsmodels\\tsa\\statespace\\sarimax.py:997: UserWarning:\n",
      "\n",
      "Non-stationary starting seasonal autoregressive Using zeros as starting parameters.\n",
      "\n",
      "42it [00:07,  4.42it/s]c:\\Users\\seelc\\OneDrive\\Desktop\\Lucas Desktop Items\\Projects\\forecasting\\.venv\\Lib\\site-packages\\statsmodels\\tsa\\statespace\\sarimax.py:997: UserWarning:\n",
      "\n",
      "Non-stationary starting seasonal autoregressive Using zeros as starting parameters.\n",
      "\n",
      "c:\\Users\\seelc\\OneDrive\\Desktop\\Lucas Desktop Items\\Projects\\forecasting\\.venv\\Lib\\site-packages\\statsmodels\\base\\model.py:607: ConvergenceWarning:\n",
      "\n",
      "Maximum Likelihood optimization failed to converge. Check mle_retvals\n",
      "\n",
      "43it [00:08,  4.07it/s]c:\\Users\\seelc\\OneDrive\\Desktop\\Lucas Desktop Items\\Projects\\forecasting\\.venv\\Lib\\site-packages\\statsmodels\\tsa\\statespace\\sarimax.py:997: UserWarning:\n",
      "\n",
      "Non-stationary starting seasonal autoregressive Using zeros as starting parameters.\n",
      "\n",
      "44it [00:08,  3.05it/s]c:\\Users\\seelc\\OneDrive\\Desktop\\Lucas Desktop Items\\Projects\\forecasting\\.venv\\Lib\\site-packages\\statsmodels\\tsa\\statespace\\sarimax.py:997: UserWarning:\n",
      "\n",
      "Non-stationary starting seasonal autoregressive Using zeros as starting parameters.\n",
      "\n",
      "c:\\Users\\seelc\\OneDrive\\Desktop\\Lucas Desktop Items\\Projects\\forecasting\\.venv\\Lib\\site-packages\\statsmodels\\base\\model.py:607: ConvergenceWarning:\n",
      "\n",
      "Maximum Likelihood optimization failed to converge. Check mle_retvals\n",
      "\n",
      "45it [00:08,  3.07it/s]c:\\Users\\seelc\\OneDrive\\Desktop\\Lucas Desktop Items\\Projects\\forecasting\\.venv\\Lib\\site-packages\\statsmodels\\tsa\\statespace\\sarimax.py:997: UserWarning:\n",
      "\n",
      "Non-stationary starting seasonal autoregressive Using zeros as starting parameters.\n",
      "\n",
      "46it [00:09,  3.25it/s]c:\\Users\\seelc\\OneDrive\\Desktop\\Lucas Desktop Items\\Projects\\forecasting\\.venv\\Lib\\site-packages\\statsmodels\\base\\model.py:607: ConvergenceWarning:\n",
      "\n",
      "Maximum Likelihood optimization failed to converge. Check mle_retvals\n",
      "\n",
      "47it [00:09,  3.19it/s]c:\\Users\\seelc\\OneDrive\\Desktop\\Lucas Desktop Items\\Projects\\forecasting\\.venv\\Lib\\site-packages\\statsmodels\\tsa\\statespace\\sarimax.py:997: UserWarning:\n",
      "\n",
      "Non-stationary starting seasonal autoregressive Using zeros as starting parameters.\n",
      "\n",
      "48it [00:09,  3.18it/s]c:\\Users\\seelc\\OneDrive\\Desktop\\Lucas Desktop Items\\Projects\\forecasting\\.venv\\Lib\\site-packages\\statsmodels\\tsa\\statespace\\sarimax.py:978: UserWarning:\n",
      "\n",
      "Non-invertible starting MA parameters found. Using zeros as starting parameters.\n",
      "\n",
      "c:\\Users\\seelc\\OneDrive\\Desktop\\Lucas Desktop Items\\Projects\\forecasting\\.venv\\Lib\\site-packages\\statsmodels\\base\\model.py:607: ConvergenceWarning:\n",
      "\n",
      "Maximum Likelihood optimization failed to converge. Check mle_retvals\n",
      "\n",
      "49it [00:09,  3.89it/s]c:\\Users\\seelc\\OneDrive\\Desktop\\Lucas Desktop Items\\Projects\\forecasting\\.venv\\Lib\\site-packages\\statsmodels\\tsa\\statespace\\sarimax.py:978: UserWarning:\n",
      "\n",
      "Non-invertible starting MA parameters found. Using zeros as starting parameters.\n",
      "\n",
      "c:\\Users\\seelc\\OneDrive\\Desktop\\Lucas Desktop Items\\Projects\\forecasting\\.venv\\Lib\\site-packages\\statsmodels\\base\\model.py:607: ConvergenceWarning:\n",
      "\n",
      "Maximum Likelihood optimization failed to converge. Check mle_retvals\n",
      "\n",
      "50it [00:10,  4.30it/s]c:\\Users\\seelc\\OneDrive\\Desktop\\Lucas Desktop Items\\Projects\\forecasting\\.venv\\Lib\\site-packages\\statsmodels\\tsa\\statespace\\sarimax.py:978: UserWarning:\n",
      "\n",
      "Non-invertible starting MA parameters found. Using zeros as starting parameters.\n",
      "\n",
      "c:\\Users\\seelc\\OneDrive\\Desktop\\Lucas Desktop Items\\Projects\\forecasting\\.venv\\Lib\\site-packages\\statsmodels\\base\\model.py:607: ConvergenceWarning:\n",
      "\n",
      "Maximum Likelihood optimization failed to converge. Check mle_retvals\n",
      "\n",
      "51it [00:10,  4.11it/s]c:\\Users\\seelc\\OneDrive\\Desktop\\Lucas Desktop Items\\Projects\\forecasting\\.venv\\Lib\\site-packages\\statsmodels\\tsa\\statespace\\sarimax.py:978: UserWarning:\n",
      "\n",
      "Non-invertible starting MA parameters found. Using zeros as starting parameters.\n",
      "\n",
      "c:\\Users\\seelc\\OneDrive\\Desktop\\Lucas Desktop Items\\Projects\\forecasting\\.venv\\Lib\\site-packages\\statsmodels\\tsa\\statespace\\sarimax.py:1009: UserWarning:\n",
      "\n",
      "Non-invertible starting seasonal moving average Using zeros as starting parameters.\n",
      "\n",
      "c:\\Users\\seelc\\OneDrive\\Desktop\\Lucas Desktop Items\\Projects\\forecasting\\.venv\\Lib\\site-packages\\statsmodels\\base\\model.py:607: ConvergenceWarning:\n",
      "\n",
      "Maximum Likelihood optimization failed to converge. Check mle_retvals\n",
      "\n",
      "52it [00:10,  3.94it/s]c:\\Users\\seelc\\OneDrive\\Desktop\\Lucas Desktop Items\\Projects\\forecasting\\.venv\\Lib\\site-packages\\statsmodels\\tsa\\statespace\\sarimax.py:978: UserWarning:\n",
      "\n",
      "Non-invertible starting MA parameters found. Using zeros as starting parameters.\n",
      "\n",
      "c:\\Users\\seelc\\OneDrive\\Desktop\\Lucas Desktop Items\\Projects\\forecasting\\.venv\\Lib\\site-packages\\statsmodels\\tsa\\statespace\\sarimax.py:997: UserWarning:\n",
      "\n",
      "Non-stationary starting seasonal autoregressive Using zeros as starting parameters.\n",
      "\n",
      "53it [00:10,  4.42it/s]c:\\Users\\seelc\\OneDrive\\Desktop\\Lucas Desktop Items\\Projects\\forecasting\\.venv\\Lib\\site-packages\\statsmodels\\tsa\\statespace\\sarimax.py:978: UserWarning:\n",
      "\n",
      "Non-invertible starting MA parameters found. Using zeros as starting parameters.\n",
      "\n",
      "c:\\Users\\seelc\\OneDrive\\Desktop\\Lucas Desktop Items\\Projects\\forecasting\\.venv\\Lib\\site-packages\\statsmodels\\tsa\\statespace\\sarimax.py:997: UserWarning:\n",
      "\n",
      "Non-stationary starting seasonal autoregressive Using zeros as starting parameters.\n",
      "\n",
      "c:\\Users\\seelc\\OneDrive\\Desktop\\Lucas Desktop Items\\Projects\\forecasting\\.venv\\Lib\\site-packages\\statsmodels\\base\\model.py:607: ConvergenceWarning:\n",
      "\n",
      "Maximum Likelihood optimization failed to converge. Check mle_retvals\n",
      "\n",
      "54it [00:11,  4.07it/s]c:\\Users\\seelc\\OneDrive\\Desktop\\Lucas Desktop Items\\Projects\\forecasting\\.venv\\Lib\\site-packages\\statsmodels\\tsa\\statespace\\sarimax.py:978: UserWarning:\n",
      "\n",
      "Non-invertible starting MA parameters found. Using zeros as starting parameters.\n",
      "\n",
      "c:\\Users\\seelc\\OneDrive\\Desktop\\Lucas Desktop Items\\Projects\\forecasting\\.venv\\Lib\\site-packages\\statsmodels\\tsa\\statespace\\sarimax.py:997: UserWarning:\n",
      "\n",
      "Non-stationary starting seasonal autoregressive Using zeros as starting parameters.\n",
      "\n",
      "c:\\Users\\seelc\\OneDrive\\Desktop\\Lucas Desktop Items\\Projects\\forecasting\\.venv\\Lib\\site-packages\\statsmodels\\base\\model.py:607: ConvergenceWarning:\n",
      "\n",
      "Maximum Likelihood optimization failed to converge. Check mle_retvals\n",
      "\n",
      "55it [00:11,  3.67it/s]c:\\Users\\seelc\\OneDrive\\Desktop\\Lucas Desktop Items\\Projects\\forecasting\\.venv\\Lib\\site-packages\\statsmodels\\tsa\\statespace\\sarimax.py:978: UserWarning:\n",
      "\n",
      "Non-invertible starting MA parameters found. Using zeros as starting parameters.\n",
      "\n",
      "c:\\Users\\seelc\\OneDrive\\Desktop\\Lucas Desktop Items\\Projects\\forecasting\\.venv\\Lib\\site-packages\\statsmodels\\tsa\\statespace\\sarimax.py:997: UserWarning:\n",
      "\n",
      "Non-stationary starting seasonal autoregressive Using zeros as starting parameters.\n",
      "\n",
      "c:\\Users\\seelc\\OneDrive\\Desktop\\Lucas Desktop Items\\Projects\\forecasting\\.venv\\Lib\\site-packages\\statsmodels\\base\\model.py:607: ConvergenceWarning:\n",
      "\n",
      "Maximum Likelihood optimization failed to converge. Check mle_retvals\n",
      "\n",
      "56it [00:11,  3.11it/s]c:\\Users\\seelc\\OneDrive\\Desktop\\Lucas Desktop Items\\Projects\\forecasting\\.venv\\Lib\\site-packages\\statsmodels\\tsa\\statespace\\sarimax.py:978: UserWarning:\n",
      "\n",
      "Non-invertible starting MA parameters found. Using zeros as starting parameters.\n",
      "\n",
      "c:\\Users\\seelc\\OneDrive\\Desktop\\Lucas Desktop Items\\Projects\\forecasting\\.venv\\Lib\\site-packages\\statsmodels\\tsa\\statespace\\sarimax.py:997: UserWarning:\n",
      "\n",
      "Non-stationary starting seasonal autoregressive Using zeros as starting parameters.\n",
      "\n",
      "57it [00:12,  3.27it/s]c:\\Users\\seelc\\OneDrive\\Desktop\\Lucas Desktop Items\\Projects\\forecasting\\.venv\\Lib\\site-packages\\statsmodels\\tsa\\statespace\\sarimax.py:978: UserWarning:\n",
      "\n",
      "Non-invertible starting MA parameters found. Using zeros as starting parameters.\n",
      "\n",
      "c:\\Users\\seelc\\OneDrive\\Desktop\\Lucas Desktop Items\\Projects\\forecasting\\.venv\\Lib\\site-packages\\statsmodels\\tsa\\statespace\\sarimax.py:997: UserWarning:\n",
      "\n",
      "Non-stationary starting seasonal autoregressive Using zeros as starting parameters.\n",
      "\n",
      "58it [00:12,  3.75it/s]c:\\Users\\seelc\\OneDrive\\Desktop\\Lucas Desktop Items\\Projects\\forecasting\\.venv\\Lib\\site-packages\\statsmodels\\tsa\\statespace\\sarimax.py:978: UserWarning:\n",
      "\n",
      "Non-invertible starting MA parameters found. Using zeros as starting parameters.\n",
      "\n",
      "c:\\Users\\seelc\\OneDrive\\Desktop\\Lucas Desktop Items\\Projects\\forecasting\\.venv\\Lib\\site-packages\\statsmodels\\tsa\\statespace\\sarimax.py:997: UserWarning:\n",
      "\n",
      "Non-stationary starting seasonal autoregressive Using zeros as starting parameters.\n",
      "\n",
      "c:\\Users\\seelc\\OneDrive\\Desktop\\Lucas Desktop Items\\Projects\\forecasting\\.venv\\Lib\\site-packages\\statsmodels\\base\\model.py:607: ConvergenceWarning:\n",
      "\n",
      "Maximum Likelihood optimization failed to converge. Check mle_retvals\n",
      "\n",
      "59it [00:12,  3.01it/s]c:\\Users\\seelc\\OneDrive\\Desktop\\Lucas Desktop Items\\Projects\\forecasting\\.venv\\Lib\\site-packages\\statsmodels\\tsa\\statespace\\sarimax.py:978: UserWarning:\n",
      "\n",
      "Non-invertible starting MA parameters found. Using zeros as starting parameters.\n",
      "\n",
      "c:\\Users\\seelc\\OneDrive\\Desktop\\Lucas Desktop Items\\Projects\\forecasting\\.venv\\Lib\\site-packages\\statsmodels\\tsa\\statespace\\sarimax.py:997: UserWarning:\n",
      "\n",
      "Non-stationary starting seasonal autoregressive Using zeros as starting parameters.\n",
      "\n",
      "60it [00:13,  2.80it/s]c:\\Users\\seelc\\OneDrive\\Desktop\\Lucas Desktop Items\\Projects\\forecasting\\.venv\\Lib\\site-packages\\statsmodels\\tsa\\statespace\\sarimax.py:978: UserWarning:\n",
      "\n",
      "Non-invertible starting MA parameters found. Using zeros as starting parameters.\n",
      "\n",
      "c:\\Users\\seelc\\OneDrive\\Desktop\\Lucas Desktop Items\\Projects\\forecasting\\.venv\\Lib\\site-packages\\statsmodels\\tsa\\statespace\\sarimax.py:997: UserWarning:\n",
      "\n",
      "Non-stationary starting seasonal autoregressive Using zeros as starting parameters.\n",
      "\n",
      "61it [00:13,  3.42it/s]c:\\Users\\seelc\\OneDrive\\Desktop\\Lucas Desktop Items\\Projects\\forecasting\\.venv\\Lib\\site-packages\\statsmodels\\tsa\\statespace\\sarimax.py:978: UserWarning:\n",
      "\n",
      "Non-invertible starting MA parameters found. Using zeros as starting parameters.\n",
      "\n",
      "c:\\Users\\seelc\\OneDrive\\Desktop\\Lucas Desktop Items\\Projects\\forecasting\\.venv\\Lib\\site-packages\\statsmodels\\tsa\\statespace\\sarimax.py:997: UserWarning:\n",
      "\n",
      "Non-stationary starting seasonal autoregressive Using zeros as starting parameters.\n",
      "\n",
      "63it [00:13,  3.54it/s]c:\\Users\\seelc\\OneDrive\\Desktop\\Lucas Desktop Items\\Projects\\forecasting\\.venv\\Lib\\site-packages\\statsmodels\\tsa\\statespace\\sarimax.py:978: UserWarning:\n",
      "\n",
      "Non-invertible starting MA parameters found. Using zeros as starting parameters.\n",
      "\n",
      "c:\\Users\\seelc\\OneDrive\\Desktop\\Lucas Desktop Items\\Projects\\forecasting\\.venv\\Lib\\site-packages\\statsmodels\\tsa\\statespace\\sarimax.py:997: UserWarning:\n",
      "\n",
      "Non-stationary starting seasonal autoregressive Using zeros as starting parameters.\n",
      "\n",
      "64it [00:14,  3.67it/s]c:\\Users\\seelc\\OneDrive\\Desktop\\Lucas Desktop Items\\Projects\\forecasting\\.venv\\Lib\\site-packages\\statsmodels\\tsa\\statespace\\sarimax.py:966: UserWarning:\n",
      "\n",
      "Non-stationary starting autoregressive parameters found. Using zeros as starting parameters.\n",
      "\n",
      "c:\\Users\\seelc\\OneDrive\\Desktop\\Lucas Desktop Items\\Projects\\forecasting\\.venv\\Lib\\site-packages\\statsmodels\\tsa\\statespace\\sarimax.py:966: UserWarning:\n",
      "\n",
      "Non-stationary starting autoregressive parameters found. Using zeros as starting parameters.\n",
      "\n",
      "c:\\Users\\seelc\\OneDrive\\Desktop\\Lucas Desktop Items\\Projects\\forecasting\\.venv\\Lib\\site-packages\\statsmodels\\tsa\\statespace\\sarimax.py:966: UserWarning:\n",
      "\n",
      "Non-stationary starting autoregressive parameters found. Using zeros as starting parameters.\n",
      "\n",
      "67it [00:14,  6.03it/s]c:\\Users\\seelc\\OneDrive\\Desktop\\Lucas Desktop Items\\Projects\\forecasting\\.venv\\Lib\\site-packages\\statsmodels\\tsa\\statespace\\sarimax.py:966: UserWarning:\n",
      "\n",
      "Non-stationary starting autoregressive parameters found. Using zeros as starting parameters.\n",
      "\n",
      "c:\\Users\\seelc\\OneDrive\\Desktop\\Lucas Desktop Items\\Projects\\forecasting\\.venv\\Lib\\site-packages\\statsmodels\\tsa\\statespace\\sarimax.py:1009: UserWarning:\n",
      "\n",
      "Non-invertible starting seasonal moving average Using zeros as starting parameters.\n",
      "\n",
      "c:\\Users\\seelc\\OneDrive\\Desktop\\Lucas Desktop Items\\Projects\\forecasting\\.venv\\Lib\\site-packages\\statsmodels\\base\\model.py:607: ConvergenceWarning:\n",
      "\n",
      "Maximum Likelihood optimization failed to converge. Check mle_retvals\n",
      "\n",
      "68it [00:14,  5.65it/s]c:\\Users\\seelc\\OneDrive\\Desktop\\Lucas Desktop Items\\Projects\\forecasting\\.venv\\Lib\\site-packages\\statsmodels\\tsa\\statespace\\sarimax.py:966: UserWarning:\n",
      "\n",
      "Non-stationary starting autoregressive parameters found. Using zeros as starting parameters.\n",
      "\n",
      "c:\\Users\\seelc\\OneDrive\\Desktop\\Lucas Desktop Items\\Projects\\forecasting\\.venv\\Lib\\site-packages\\statsmodels\\tsa\\statespace\\sarimax.py:997: UserWarning:\n",
      "\n",
      "Non-stationary starting seasonal autoregressive Using zeros as starting parameters.\n",
      "\n",
      "69it [00:14,  6.16it/s]c:\\Users\\seelc\\OneDrive\\Desktop\\Lucas Desktop Items\\Projects\\forecasting\\.venv\\Lib\\site-packages\\statsmodels\\tsa\\statespace\\sarimax.py:966: UserWarning:\n",
      "\n",
      "Non-stationary starting autoregressive parameters found. Using zeros as starting parameters.\n",
      "\n",
      "c:\\Users\\seelc\\OneDrive\\Desktop\\Lucas Desktop Items\\Projects\\forecasting\\.venv\\Lib\\site-packages\\statsmodels\\tsa\\statespace\\sarimax.py:997: UserWarning:\n",
      "\n",
      "Non-stationary starting seasonal autoregressive Using zeros as starting parameters.\n",
      "\n",
      "70it [00:14,  6.49it/s]c:\\Users\\seelc\\OneDrive\\Desktop\\Lucas Desktop Items\\Projects\\forecasting\\.venv\\Lib\\site-packages\\statsmodels\\tsa\\statespace\\sarimax.py:966: UserWarning:\n",
      "\n",
      "Non-stationary starting autoregressive parameters found. Using zeros as starting parameters.\n",
      "\n",
      "c:\\Users\\seelc\\OneDrive\\Desktop\\Lucas Desktop Items\\Projects\\forecasting\\.venv\\Lib\\site-packages\\statsmodels\\tsa\\statespace\\sarimax.py:997: UserWarning:\n",
      "\n",
      "Non-stationary starting seasonal autoregressive Using zeros as starting parameters.\n",
      "\n",
      "71it [00:15,  6.34it/s]c:\\Users\\seelc\\OneDrive\\Desktop\\Lucas Desktop Items\\Projects\\forecasting\\.venv\\Lib\\site-packages\\statsmodels\\tsa\\statespace\\sarimax.py:966: UserWarning:\n",
      "\n",
      "Non-stationary starting autoregressive parameters found. Using zeros as starting parameters.\n",
      "\n",
      "c:\\Users\\seelc\\OneDrive\\Desktop\\Lucas Desktop Items\\Projects\\forecasting\\.venv\\Lib\\site-packages\\statsmodels\\tsa\\statespace\\sarimax.py:997: UserWarning:\n",
      "\n",
      "Non-stationary starting seasonal autoregressive Using zeros as starting parameters.\n",
      "\n",
      "72it [00:15,  5.75it/s]c:\\Users\\seelc\\OneDrive\\Desktop\\Lucas Desktop Items\\Projects\\forecasting\\.venv\\Lib\\site-packages\\statsmodels\\tsa\\statespace\\sarimax.py:966: UserWarning:\n",
      "\n",
      "Non-stationary starting autoregressive parameters found. Using zeros as starting parameters.\n",
      "\n",
      "c:\\Users\\seelc\\OneDrive\\Desktop\\Lucas Desktop Items\\Projects\\forecasting\\.venv\\Lib\\site-packages\\statsmodels\\tsa\\statespace\\sarimax.py:997: UserWarning:\n",
      "\n",
      "Non-stationary starting seasonal autoregressive Using zeros as starting parameters.\n",
      "\n",
      "73it [00:15,  5.76it/s]c:\\Users\\seelc\\OneDrive\\Desktop\\Lucas Desktop Items\\Projects\\forecasting\\.venv\\Lib\\site-packages\\statsmodels\\tsa\\statespace\\sarimax.py:966: UserWarning:\n",
      "\n",
      "Non-stationary starting autoregressive parameters found. Using zeros as starting parameters.\n",
      "\n",
      "c:\\Users\\seelc\\OneDrive\\Desktop\\Lucas Desktop Items\\Projects\\forecasting\\.venv\\Lib\\site-packages\\statsmodels\\tsa\\statespace\\sarimax.py:997: UserWarning:\n",
      "\n",
      "Non-stationary starting seasonal autoregressive Using zeros as starting parameters.\n",
      "\n",
      "74it [00:15,  6.47it/s]c:\\Users\\seelc\\OneDrive\\Desktop\\Lucas Desktop Items\\Projects\\forecasting\\.venv\\Lib\\site-packages\\statsmodels\\tsa\\statespace\\sarimax.py:966: UserWarning:\n",
      "\n",
      "Non-stationary starting autoregressive parameters found. Using zeros as starting parameters.\n",
      "\n",
      "c:\\Users\\seelc\\OneDrive\\Desktop\\Lucas Desktop Items\\Projects\\forecasting\\.venv\\Lib\\site-packages\\statsmodels\\tsa\\statespace\\sarimax.py:997: UserWarning:\n",
      "\n",
      "Non-stationary starting seasonal autoregressive Using zeros as starting parameters.\n",
      "\n",
      "c:\\Users\\seelc\\OneDrive\\Desktop\\Lucas Desktop Items\\Projects\\forecasting\\.venv\\Lib\\site-packages\\statsmodels\\base\\model.py:607: ConvergenceWarning:\n",
      "\n",
      "Maximum Likelihood optimization failed to converge. Check mle_retvals\n",
      "\n",
      "75it [00:15,  4.97it/s]c:\\Users\\seelc\\OneDrive\\Desktop\\Lucas Desktop Items\\Projects\\forecasting\\.venv\\Lib\\site-packages\\statsmodels\\tsa\\statespace\\sarimax.py:966: UserWarning:\n",
      "\n",
      "Non-stationary starting autoregressive parameters found. Using zeros as starting parameters.\n",
      "\n",
      "c:\\Users\\seelc\\OneDrive\\Desktop\\Lucas Desktop Items\\Projects\\forecasting\\.venv\\Lib\\site-packages\\statsmodels\\tsa\\statespace\\sarimax.py:997: UserWarning:\n",
      "\n",
      "Non-stationary starting seasonal autoregressive Using zeros as starting parameters.\n",
      "\n",
      "77it [00:16,  4.16it/s]c:\\Users\\seelc\\OneDrive\\Desktop\\Lucas Desktop Items\\Projects\\forecasting\\.venv\\Lib\\site-packages\\statsmodels\\tsa\\statespace\\sarimax.py:966: UserWarning:\n",
      "\n",
      "Non-stationary starting autoregressive parameters found. Using zeros as starting parameters.\n",
      "\n",
      "c:\\Users\\seelc\\OneDrive\\Desktop\\Lucas Desktop Items\\Projects\\forecasting\\.venv\\Lib\\site-packages\\statsmodels\\tsa\\statespace\\sarimax.py:997: UserWarning:\n",
      "\n",
      "Non-stationary starting seasonal autoregressive Using zeros as starting parameters.\n",
      "\n",
      "78it [00:16,  4.80it/s]c:\\Users\\seelc\\OneDrive\\Desktop\\Lucas Desktop Items\\Projects\\forecasting\\.venv\\Lib\\site-packages\\statsmodels\\base\\model.py:607: ConvergenceWarning:\n",
      "\n",
      "Maximum Likelihood optimization failed to converge. Check mle_retvals\n",
      "\n",
      "79it [00:16,  4.23it/s]c:\\Users\\seelc\\OneDrive\\Desktop\\Lucas Desktop Items\\Projects\\forecasting\\.venv\\Lib\\site-packages\\statsmodels\\tsa\\statespace\\sarimax.py:966: UserWarning:\n",
      "\n",
      "Non-stationary starting autoregressive parameters found. Using zeros as starting parameters.\n",
      "\n",
      "c:\\Users\\seelc\\OneDrive\\Desktop\\Lucas Desktop Items\\Projects\\forecasting\\.venv\\Lib\\site-packages\\statsmodels\\tsa\\statespace\\sarimax.py:997: UserWarning:\n",
      "\n",
      "Non-stationary starting seasonal autoregressive Using zeros as starting parameters.\n",
      "\n",
      "c:\\Users\\seelc\\OneDrive\\Desktop\\Lucas Desktop Items\\Projects\\forecasting\\.venv\\Lib\\site-packages\\statsmodels\\base\\model.py:607: ConvergenceWarning:\n",
      "\n",
      "Maximum Likelihood optimization failed to converge. Check mle_retvals\n",
      "\n",
      "80it [00:17,  3.31it/s]c:\\Users\\seelc\\OneDrive\\Desktop\\Lucas Desktop Items\\Projects\\forecasting\\.venv\\Lib\\site-packages\\statsmodels\\tsa\\statespace\\sarimax.py:966: UserWarning:\n",
      "\n",
      "Non-stationary starting autoregressive parameters found. Using zeros as starting parameters.\n",
      "\n",
      "c:\\Users\\seelc\\OneDrive\\Desktop\\Lucas Desktop Items\\Projects\\forecasting\\.venv\\Lib\\site-packages\\statsmodels\\tsa\\statespace\\sarimax.py:966: UserWarning:\n",
      "\n",
      "Non-stationary starting autoregressive parameters found. Using zeros as starting parameters.\n",
      "\n",
      "82it [00:17,  4.73it/s]c:\\Users\\seelc\\OneDrive\\Desktop\\Lucas Desktop Items\\Projects\\forecasting\\.venv\\Lib\\site-packages\\statsmodels\\tsa\\statespace\\sarimax.py:966: UserWarning:\n",
      "\n",
      "Non-stationary starting autoregressive parameters found. Using zeros as starting parameters.\n",
      "\n",
      "c:\\Users\\seelc\\OneDrive\\Desktop\\Lucas Desktop Items\\Projects\\forecasting\\.venv\\Lib\\site-packages\\statsmodels\\base\\model.py:607: ConvergenceWarning:\n",
      "\n",
      "Maximum Likelihood optimization failed to converge. Check mle_retvals\n",
      "\n",
      "83it [00:17,  4.67it/s]c:\\Users\\seelc\\OneDrive\\Desktop\\Lucas Desktop Items\\Projects\\forecasting\\.venv\\Lib\\site-packages\\statsmodels\\tsa\\statespace\\sarimax.py:966: UserWarning:\n",
      "\n",
      "Non-stationary starting autoregressive parameters found. Using zeros as starting parameters.\n",
      "\n",
      "c:\\Users\\seelc\\OneDrive\\Desktop\\Lucas Desktop Items\\Projects\\forecasting\\.venv\\Lib\\site-packages\\statsmodels\\tsa\\statespace\\sarimax.py:1009: UserWarning:\n",
      "\n",
      "Non-invertible starting seasonal moving average Using zeros as starting parameters.\n",
      "\n",
      "c:\\Users\\seelc\\OneDrive\\Desktop\\Lucas Desktop Items\\Projects\\forecasting\\.venv\\Lib\\site-packages\\statsmodels\\base\\model.py:607: ConvergenceWarning:\n",
      "\n",
      "Maximum Likelihood optimization failed to converge. Check mle_retvals\n",
      "\n",
      "84it [00:18,  4.21it/s]c:\\Users\\seelc\\OneDrive\\Desktop\\Lucas Desktop Items\\Projects\\forecasting\\.venv\\Lib\\site-packages\\statsmodels\\tsa\\statespace\\sarimax.py:966: UserWarning:\n",
      "\n",
      "Non-stationary starting autoregressive parameters found. Using zeros as starting parameters.\n",
      "\n",
      "c:\\Users\\seelc\\OneDrive\\Desktop\\Lucas Desktop Items\\Projects\\forecasting\\.venv\\Lib\\site-packages\\statsmodels\\tsa\\statespace\\sarimax.py:997: UserWarning:\n",
      "\n",
      "Non-stationary starting seasonal autoregressive Using zeros as starting parameters.\n",
      "\n",
      "c:\\Users\\seelc\\OneDrive\\Desktop\\Lucas Desktop Items\\Projects\\forecasting\\.venv\\Lib\\site-packages\\statsmodels\\base\\model.py:607: ConvergenceWarning:\n",
      "\n",
      "Maximum Likelihood optimization failed to converge. Check mle_retvals\n",
      "\n",
      "85it [00:18,  4.64it/s]c:\\Users\\seelc\\OneDrive\\Desktop\\Lucas Desktop Items\\Projects\\forecasting\\.venv\\Lib\\site-packages\\statsmodels\\tsa\\statespace\\sarimax.py:966: UserWarning:\n",
      "\n",
      "Non-stationary starting autoregressive parameters found. Using zeros as starting parameters.\n",
      "\n",
      "c:\\Users\\seelc\\OneDrive\\Desktop\\Lucas Desktop Items\\Projects\\forecasting\\.venv\\Lib\\site-packages\\statsmodels\\tsa\\statespace\\sarimax.py:997: UserWarning:\n",
      "\n",
      "Non-stationary starting seasonal autoregressive Using zeros as starting parameters.\n",
      "\n",
      "c:\\Users\\seelc\\OneDrive\\Desktop\\Lucas Desktop Items\\Projects\\forecasting\\.venv\\Lib\\site-packages\\statsmodels\\base\\model.py:607: ConvergenceWarning:\n",
      "\n",
      "Maximum Likelihood optimization failed to converge. Check mle_retvals\n",
      "\n",
      "86it [00:18,  4.67it/s]c:\\Users\\seelc\\OneDrive\\Desktop\\Lucas Desktop Items\\Projects\\forecasting\\.venv\\Lib\\site-packages\\statsmodels\\tsa\\statespace\\sarimax.py:966: UserWarning:\n",
      "\n",
      "Non-stationary starting autoregressive parameters found. Using zeros as starting parameters.\n",
      "\n",
      "c:\\Users\\seelc\\OneDrive\\Desktop\\Lucas Desktop Items\\Projects\\forecasting\\.venv\\Lib\\site-packages\\statsmodels\\tsa\\statespace\\sarimax.py:997: UserWarning:\n",
      "\n",
      "Non-stationary starting seasonal autoregressive Using zeros as starting parameters.\n",
      "\n",
      "87it [00:18,  4.72it/s]c:\\Users\\seelc\\OneDrive\\Desktop\\Lucas Desktop Items\\Projects\\forecasting\\.venv\\Lib\\site-packages\\statsmodels\\tsa\\statespace\\sarimax.py:966: UserWarning:\n",
      "\n",
      "Non-stationary starting autoregressive parameters found. Using zeros as starting parameters.\n",
      "\n",
      "c:\\Users\\seelc\\OneDrive\\Desktop\\Lucas Desktop Items\\Projects\\forecasting\\.venv\\Lib\\site-packages\\statsmodels\\tsa\\statespace\\sarimax.py:997: UserWarning:\n",
      "\n",
      "Non-stationary starting seasonal autoregressive Using zeros as starting parameters.\n",
      "\n",
      "c:\\Users\\seelc\\OneDrive\\Desktop\\Lucas Desktop Items\\Projects\\forecasting\\.venv\\Lib\\site-packages\\statsmodels\\base\\model.py:607: ConvergenceWarning:\n",
      "\n",
      "Maximum Likelihood optimization failed to converge. Check mle_retvals\n",
      "\n",
      "88it [00:18,  4.48it/s]c:\\Users\\seelc\\OneDrive\\Desktop\\Lucas Desktop Items\\Projects\\forecasting\\.venv\\Lib\\site-packages\\statsmodels\\tsa\\statespace\\sarimax.py:966: UserWarning:\n",
      "\n",
      "Non-stationary starting autoregressive parameters found. Using zeros as starting parameters.\n",
      "\n",
      "c:\\Users\\seelc\\OneDrive\\Desktop\\Lucas Desktop Items\\Projects\\forecasting\\.venv\\Lib\\site-packages\\statsmodels\\tsa\\statespace\\sarimax.py:997: UserWarning:\n",
      "\n",
      "Non-stationary starting seasonal autoregressive Using zeros as starting parameters.\n",
      "\n",
      "c:\\Users\\seelc\\OneDrive\\Desktop\\Lucas Desktop Items\\Projects\\forecasting\\.venv\\Lib\\site-packages\\statsmodels\\base\\model.py:607: ConvergenceWarning:\n",
      "\n",
      "Maximum Likelihood optimization failed to converge. Check mle_retvals\n",
      "\n",
      "89it [00:19,  4.68it/s]c:\\Users\\seelc\\OneDrive\\Desktop\\Lucas Desktop Items\\Projects\\forecasting\\.venv\\Lib\\site-packages\\statsmodels\\tsa\\statespace\\sarimax.py:966: UserWarning:\n",
      "\n",
      "Non-stationary starting autoregressive parameters found. Using zeros as starting parameters.\n",
      "\n",
      "c:\\Users\\seelc\\OneDrive\\Desktop\\Lucas Desktop Items\\Projects\\forecasting\\.venv\\Lib\\site-packages\\statsmodels\\tsa\\statespace\\sarimax.py:997: UserWarning:\n",
      "\n",
      "Non-stationary starting seasonal autoregressive Using zeros as starting parameters.\n",
      "\n",
      "90it [00:19,  4.55it/s]c:\\Users\\seelc\\OneDrive\\Desktop\\Lucas Desktop Items\\Projects\\forecasting\\.venv\\Lib\\site-packages\\statsmodels\\tsa\\statespace\\sarimax.py:966: UserWarning:\n",
      "\n",
      "Non-stationary starting autoregressive parameters found. Using zeros as starting parameters.\n",
      "\n",
      "c:\\Users\\seelc\\OneDrive\\Desktop\\Lucas Desktop Items\\Projects\\forecasting\\.venv\\Lib\\site-packages\\statsmodels\\tsa\\statespace\\sarimax.py:997: UserWarning:\n",
      "\n",
      "Non-stationary starting seasonal autoregressive Using zeros as starting parameters.\n",
      "\n",
      "c:\\Users\\seelc\\OneDrive\\Desktop\\Lucas Desktop Items\\Projects\\forecasting\\.venv\\Lib\\site-packages\\statsmodels\\base\\model.py:607: ConvergenceWarning:\n",
      "\n",
      "Maximum Likelihood optimization failed to converge. Check mle_retvals\n",
      "\n",
      "91it [00:19,  4.22it/s]c:\\Users\\seelc\\OneDrive\\Desktop\\Lucas Desktop Items\\Projects\\forecasting\\.venv\\Lib\\site-packages\\statsmodels\\tsa\\statespace\\sarimax.py:966: UserWarning:\n",
      "\n",
      "Non-stationary starting autoregressive parameters found. Using zeros as starting parameters.\n",
      "\n",
      "c:\\Users\\seelc\\OneDrive\\Desktop\\Lucas Desktop Items\\Projects\\forecasting\\.venv\\Lib\\site-packages\\statsmodels\\tsa\\statespace\\sarimax.py:997: UserWarning:\n",
      "\n",
      "Non-stationary starting seasonal autoregressive Using zeros as starting parameters.\n",
      "\n",
      "93it [00:20,  4.06it/s]c:\\Users\\seelc\\OneDrive\\Desktop\\Lucas Desktop Items\\Projects\\forecasting\\.venv\\Lib\\site-packages\\statsmodels\\tsa\\statespace\\sarimax.py:966: UserWarning:\n",
      "\n",
      "Non-stationary starting autoregressive parameters found. Using zeros as starting parameters.\n",
      "\n",
      "c:\\Users\\seelc\\OneDrive\\Desktop\\Lucas Desktop Items\\Projects\\forecasting\\.venv\\Lib\\site-packages\\statsmodels\\tsa\\statespace\\sarimax.py:997: UserWarning:\n",
      "\n",
      "Non-stationary starting seasonal autoregressive Using zeros as starting parameters.\n",
      "\n",
      "c:\\Users\\seelc\\OneDrive\\Desktop\\Lucas Desktop Items\\Projects\\forecasting\\.venv\\Lib\\site-packages\\statsmodels\\base\\model.py:607: ConvergenceWarning:\n",
      "\n",
      "Maximum Likelihood optimization failed to converge. Check mle_retvals\n",
      "\n",
      "94it [00:20,  3.58it/s]c:\\Users\\seelc\\OneDrive\\Desktop\\Lucas Desktop Items\\Projects\\forecasting\\.venv\\Lib\\site-packages\\statsmodels\\tsa\\statespace\\sarimax.py:966: UserWarning:\n",
      "\n",
      "Non-stationary starting autoregressive parameters found. Using zeros as starting parameters.\n",
      "\n",
      "c:\\Users\\seelc\\OneDrive\\Desktop\\Lucas Desktop Items\\Projects\\forecasting\\.venv\\Lib\\site-packages\\statsmodels\\tsa\\statespace\\sarimax.py:997: UserWarning:\n",
      "\n",
      "Non-stationary starting seasonal autoregressive Using zeros as starting parameters.\n",
      "\n",
      "c:\\Users\\seelc\\OneDrive\\Desktop\\Lucas Desktop Items\\Projects\\forecasting\\.venv\\Lib\\site-packages\\statsmodels\\base\\model.py:607: ConvergenceWarning:\n",
      "\n",
      "Maximum Likelihood optimization failed to converge. Check mle_retvals\n",
      "\n",
      "95it [00:20,  3.11it/s]c:\\Users\\seelc\\OneDrive\\Desktop\\Lucas Desktop Items\\Projects\\forecasting\\.venv\\Lib\\site-packages\\statsmodels\\tsa\\statespace\\sarimax.py:966: UserWarning:\n",
      "\n",
      "Non-stationary starting autoregressive parameters found. Using zeros as starting parameters.\n",
      "\n",
      "c:\\Users\\seelc\\OneDrive\\Desktop\\Lucas Desktop Items\\Projects\\forecasting\\.venv\\Lib\\site-packages\\statsmodels\\tsa\\statespace\\sarimax.py:997: UserWarning:\n",
      "\n",
      "Non-stationary starting seasonal autoregressive Using zeros as starting parameters.\n",
      "\n",
      "96it [00:21,  2.50it/s]c:\\Users\\seelc\\OneDrive\\Desktop\\Lucas Desktop Items\\Projects\\forecasting\\.venv\\Lib\\site-packages\\statsmodels\\base\\model.py:607: ConvergenceWarning:\n",
      "\n",
      "Maximum Likelihood optimization failed to converge. Check mle_retvals\n",
      "\n",
      "97it [00:21,  3.14it/s]c:\\Users\\seelc\\OneDrive\\Desktop\\Lucas Desktop Items\\Projects\\forecasting\\.venv\\Lib\\site-packages\\statsmodels\\tsa\\statespace\\sarimax.py:966: UserWarning:\n",
      "\n",
      "Non-stationary starting autoregressive parameters found. Using zeros as starting parameters.\n",
      "\n",
      "c:\\Users\\seelc\\OneDrive\\Desktop\\Lucas Desktop Items\\Projects\\forecasting\\.venv\\Lib\\site-packages\\statsmodels\\base\\model.py:607: ConvergenceWarning:\n",
      "\n",
      "Maximum Likelihood optimization failed to converge. Check mle_retvals\n",
      "\n",
      "98it [00:21,  3.58it/s]c:\\Users\\seelc\\OneDrive\\Desktop\\Lucas Desktop Items\\Projects\\forecasting\\.venv\\Lib\\site-packages\\statsmodels\\tsa\\statespace\\sarimax.py:966: UserWarning:\n",
      "\n",
      "Non-stationary starting autoregressive parameters found. Using zeros as starting parameters.\n",
      "\n",
      "c:\\Users\\seelc\\OneDrive\\Desktop\\Lucas Desktop Items\\Projects\\forecasting\\.venv\\Lib\\site-packages\\statsmodels\\base\\model.py:607: ConvergenceWarning:\n",
      "\n",
      "Maximum Likelihood optimization failed to converge. Check mle_retvals\n",
      "\n",
      "99it [00:22,  3.66it/s]c:\\Users\\seelc\\OneDrive\\Desktop\\Lucas Desktop Items\\Projects\\forecasting\\.venv\\Lib\\site-packages\\statsmodels\\tsa\\statespace\\sarimax.py:966: UserWarning:\n",
      "\n",
      "Non-stationary starting autoregressive parameters found. Using zeros as starting parameters.\n",
      "\n",
      "c:\\Users\\seelc\\OneDrive\\Desktop\\Lucas Desktop Items\\Projects\\forecasting\\.venv\\Lib\\site-packages\\statsmodels\\tsa\\statespace\\sarimax.py:1009: UserWarning:\n",
      "\n",
      "Non-invertible starting seasonal moving average Using zeros as starting parameters.\n",
      "\n",
      "c:\\Users\\seelc\\OneDrive\\Desktop\\Lucas Desktop Items\\Projects\\forecasting\\.venv\\Lib\\site-packages\\statsmodels\\base\\model.py:607: ConvergenceWarning:\n",
      "\n",
      "Maximum Likelihood optimization failed to converge. Check mle_retvals\n",
      "\n",
      "100it [00:22,  3.57it/s]c:\\Users\\seelc\\OneDrive\\Desktop\\Lucas Desktop Items\\Projects\\forecasting\\.venv\\Lib\\site-packages\\statsmodels\\tsa\\statespace\\sarimax.py:966: UserWarning:\n",
      "\n",
      "Non-stationary starting autoregressive parameters found. Using zeros as starting parameters.\n",
      "\n",
      "c:\\Users\\seelc\\OneDrive\\Desktop\\Lucas Desktop Items\\Projects\\forecasting\\.venv\\Lib\\site-packages\\statsmodels\\tsa\\statespace\\sarimax.py:997: UserWarning:\n",
      "\n",
      "Non-stationary starting seasonal autoregressive Using zeros as starting parameters.\n",
      "\n",
      "101it [00:22,  4.03it/s]c:\\Users\\seelc\\OneDrive\\Desktop\\Lucas Desktop Items\\Projects\\forecasting\\.venv\\Lib\\site-packages\\statsmodels\\tsa\\statespace\\sarimax.py:966: UserWarning:\n",
      "\n",
      "Non-stationary starting autoregressive parameters found. Using zeros as starting parameters.\n",
      "\n",
      "c:\\Users\\seelc\\OneDrive\\Desktop\\Lucas Desktop Items\\Projects\\forecasting\\.venv\\Lib\\site-packages\\statsmodels\\tsa\\statespace\\sarimax.py:997: UserWarning:\n",
      "\n",
      "Non-stationary starting seasonal autoregressive Using zeros as starting parameters.\n",
      "\n",
      "c:\\Users\\seelc\\OneDrive\\Desktop\\Lucas Desktop Items\\Projects\\forecasting\\.venv\\Lib\\site-packages\\statsmodels\\base\\model.py:607: ConvergenceWarning:\n",
      "\n",
      "Maximum Likelihood optimization failed to converge. Check mle_retvals\n",
      "\n",
      "102it [00:22,  4.19it/s]c:\\Users\\seelc\\OneDrive\\Desktop\\Lucas Desktop Items\\Projects\\forecasting\\.venv\\Lib\\site-packages\\statsmodels\\tsa\\statespace\\sarimax.py:966: UserWarning:\n",
      "\n",
      "Non-stationary starting autoregressive parameters found. Using zeros as starting parameters.\n",
      "\n",
      "c:\\Users\\seelc\\OneDrive\\Desktop\\Lucas Desktop Items\\Projects\\forecasting\\.venv\\Lib\\site-packages\\statsmodels\\tsa\\statespace\\sarimax.py:997: UserWarning:\n",
      "\n",
      "Non-stationary starting seasonal autoregressive Using zeros as starting parameters.\n",
      "\n",
      "c:\\Users\\seelc\\OneDrive\\Desktop\\Lucas Desktop Items\\Projects\\forecasting\\.venv\\Lib\\site-packages\\statsmodels\\base\\model.py:607: ConvergenceWarning:\n",
      "\n",
      "Maximum Likelihood optimization failed to converge. Check mle_retvals\n",
      "\n",
      "103it [00:23,  3.92it/s]c:\\Users\\seelc\\OneDrive\\Desktop\\Lucas Desktop Items\\Projects\\forecasting\\.venv\\Lib\\site-packages\\statsmodels\\tsa\\statespace\\sarimax.py:966: UserWarning:\n",
      "\n",
      "Non-stationary starting autoregressive parameters found. Using zeros as starting parameters.\n",
      "\n",
      "c:\\Users\\seelc\\OneDrive\\Desktop\\Lucas Desktop Items\\Projects\\forecasting\\.venv\\Lib\\site-packages\\statsmodels\\tsa\\statespace\\sarimax.py:997: UserWarning:\n",
      "\n",
      "Non-stationary starting seasonal autoregressive Using zeros as starting parameters.\n",
      "\n",
      "c:\\Users\\seelc\\OneDrive\\Desktop\\Lucas Desktop Items\\Projects\\forecasting\\.venv\\Lib\\site-packages\\statsmodels\\base\\model.py:607: ConvergenceWarning:\n",
      "\n",
      "Maximum Likelihood optimization failed to converge. Check mle_retvals\n",
      "\n",
      "104it [00:23,  3.53it/s]c:\\Users\\seelc\\OneDrive\\Desktop\\Lucas Desktop Items\\Projects\\forecasting\\.venv\\Lib\\site-packages\\statsmodels\\tsa\\statespace\\sarimax.py:966: UserWarning:\n",
      "\n",
      "Non-stationary starting autoregressive parameters found. Using zeros as starting parameters.\n",
      "\n",
      "c:\\Users\\seelc\\OneDrive\\Desktop\\Lucas Desktop Items\\Projects\\forecasting\\.venv\\Lib\\site-packages\\statsmodels\\tsa\\statespace\\sarimax.py:997: UserWarning:\n",
      "\n",
      "Non-stationary starting seasonal autoregressive Using zeros as starting parameters.\n",
      "\n",
      "107it [00:24,  3.93it/s]c:\\Users\\seelc\\OneDrive\\Desktop\\Lucas Desktop Items\\Projects\\forecasting\\.venv\\Lib\\site-packages\\statsmodels\\tsa\\statespace\\sarimax.py:966: UserWarning:\n",
      "\n",
      "Non-stationary starting autoregressive parameters found. Using zeros as starting parameters.\n",
      "\n",
      "c:\\Users\\seelc\\OneDrive\\Desktop\\Lucas Desktop Items\\Projects\\forecasting\\.venv\\Lib\\site-packages\\statsmodels\\tsa\\statespace\\sarimax.py:997: UserWarning:\n",
      "\n",
      "Non-stationary starting seasonal autoregressive Using zeros as starting parameters.\n",
      "\n",
      "108it [00:24,  3.99it/s]c:\\Users\\seelc\\OneDrive\\Desktop\\Lucas Desktop Items\\Projects\\forecasting\\.venv\\Lib\\site-packages\\statsmodels\\base\\model.py:607: ConvergenceWarning:\n",
      "\n",
      "Maximum Likelihood optimization failed to converge. Check mle_retvals\n",
      "\n",
      "109it [00:24,  2.94it/s]c:\\Users\\seelc\\OneDrive\\Desktop\\Lucas Desktop Items\\Projects\\forecasting\\.venv\\Lib\\site-packages\\statsmodels\\tsa\\statespace\\sarimax.py:966: UserWarning:\n",
      "\n",
      "Non-stationary starting autoregressive parameters found. Using zeros as starting parameters.\n",
      "\n",
      "c:\\Users\\seelc\\OneDrive\\Desktop\\Lucas Desktop Items\\Projects\\forecasting\\.venv\\Lib\\site-packages\\statsmodels\\tsa\\statespace\\sarimax.py:997: UserWarning:\n",
      "\n",
      "Non-stationary starting seasonal autoregressive Using zeros as starting parameters.\n",
      "\n",
      "110it [00:25,  3.22it/s]c:\\Users\\seelc\\OneDrive\\Desktop\\Lucas Desktop Items\\Projects\\forecasting\\.venv\\Lib\\site-packages\\statsmodels\\base\\model.py:607: ConvergenceWarning:\n",
      "\n",
      "Maximum Likelihood optimization failed to converge. Check mle_retvals\n",
      "\n",
      "111it [00:25,  2.81it/s]c:\\Users\\seelc\\OneDrive\\Desktop\\Lucas Desktop Items\\Projects\\forecasting\\.venv\\Lib\\site-packages\\statsmodels\\tsa\\statespace\\sarimax.py:966: UserWarning:\n",
      "\n",
      "Non-stationary starting autoregressive parameters found. Using zeros as starting parameters.\n",
      "\n",
      "c:\\Users\\seelc\\OneDrive\\Desktop\\Lucas Desktop Items\\Projects\\forecasting\\.venv\\Lib\\site-packages\\statsmodels\\tsa\\statespace\\sarimax.py:997: UserWarning:\n",
      "\n",
      "Non-stationary starting seasonal autoregressive Using zeros as starting parameters.\n",
      "\n",
      "112it [00:25,  2.74it/s]c:\\Users\\seelc\\OneDrive\\Desktop\\Lucas Desktop Items\\Projects\\forecasting\\.venv\\Lib\\site-packages\\statsmodels\\base\\model.py:607: ConvergenceWarning:\n",
      "\n",
      "Maximum Likelihood optimization failed to converge. Check mle_retvals\n",
      "\n",
      "113it [00:26,  3.31it/s]c:\\Users\\seelc\\OneDrive\\Desktop\\Lucas Desktop Items\\Projects\\forecasting\\.venv\\Lib\\site-packages\\statsmodels\\tsa\\statespace\\sarimax.py:966: UserWarning:\n",
      "\n",
      "Non-stationary starting autoregressive parameters found. Using zeros as starting parameters.\n",
      "\n",
      "c:\\Users\\seelc\\OneDrive\\Desktop\\Lucas Desktop Items\\Projects\\forecasting\\.venv\\Lib\\site-packages\\statsmodels\\base\\model.py:607: ConvergenceWarning:\n",
      "\n",
      "Maximum Likelihood optimization failed to converge. Check mle_retvals\n",
      "\n",
      "114it [00:26,  3.76it/s]c:\\Users\\seelc\\OneDrive\\Desktop\\Lucas Desktop Items\\Projects\\forecasting\\.venv\\Lib\\site-packages\\statsmodels\\tsa\\statespace\\sarimax.py:966: UserWarning:\n",
      "\n",
      "Non-stationary starting autoregressive parameters found. Using zeros as starting parameters.\n",
      "\n",
      "c:\\Users\\seelc\\OneDrive\\Desktop\\Lucas Desktop Items\\Projects\\forecasting\\.venv\\Lib\\site-packages\\statsmodels\\base\\model.py:607: ConvergenceWarning:\n",
      "\n",
      "Maximum Likelihood optimization failed to converge. Check mle_retvals\n",
      "\n",
      "115it [00:26,  3.38it/s]c:\\Users\\seelc\\OneDrive\\Desktop\\Lucas Desktop Items\\Projects\\forecasting\\.venv\\Lib\\site-packages\\statsmodels\\tsa\\statespace\\sarimax.py:966: UserWarning:\n",
      "\n",
      "Non-stationary starting autoregressive parameters found. Using zeros as starting parameters.\n",
      "\n",
      "c:\\Users\\seelc\\OneDrive\\Desktop\\Lucas Desktop Items\\Projects\\forecasting\\.venv\\Lib\\site-packages\\statsmodels\\tsa\\statespace\\sarimax.py:1009: UserWarning:\n",
      "\n",
      "Non-invertible starting seasonal moving average Using zeros as starting parameters.\n",
      "\n",
      "c:\\Users\\seelc\\OneDrive\\Desktop\\Lucas Desktop Items\\Projects\\forecasting\\.venv\\Lib\\site-packages\\statsmodels\\base\\model.py:607: ConvergenceWarning:\n",
      "\n",
      "Maximum Likelihood optimization failed to converge. Check mle_retvals\n",
      "\n",
      "116it [00:26,  3.41it/s]c:\\Users\\seelc\\OneDrive\\Desktop\\Lucas Desktop Items\\Projects\\forecasting\\.venv\\Lib\\site-packages\\statsmodels\\tsa\\statespace\\sarimax.py:966: UserWarning:\n",
      "\n",
      "Non-stationary starting autoregressive parameters found. Using zeros as starting parameters.\n",
      "\n",
      "c:\\Users\\seelc\\OneDrive\\Desktop\\Lucas Desktop Items\\Projects\\forecasting\\.venv\\Lib\\site-packages\\statsmodels\\tsa\\statespace\\sarimax.py:997: UserWarning:\n",
      "\n",
      "Non-stationary starting seasonal autoregressive Using zeros as starting parameters.\n",
      "\n",
      "c:\\Users\\seelc\\OneDrive\\Desktop\\Lucas Desktop Items\\Projects\\forecasting\\.venv\\Lib\\site-packages\\statsmodels\\base\\model.py:607: ConvergenceWarning:\n",
      "\n",
      "Maximum Likelihood optimization failed to converge. Check mle_retvals\n",
      "\n",
      "117it [00:27,  3.58it/s]c:\\Users\\seelc\\OneDrive\\Desktop\\Lucas Desktop Items\\Projects\\forecasting\\.venv\\Lib\\site-packages\\statsmodels\\tsa\\statespace\\sarimax.py:966: UserWarning:\n",
      "\n",
      "Non-stationary starting autoregressive parameters found. Using zeros as starting parameters.\n",
      "\n",
      "c:\\Users\\seelc\\OneDrive\\Desktop\\Lucas Desktop Items\\Projects\\forecasting\\.venv\\Lib\\site-packages\\statsmodels\\tsa\\statespace\\sarimax.py:997: UserWarning:\n",
      "\n",
      "Non-stationary starting seasonal autoregressive Using zeros as starting parameters.\n",
      "\n",
      "c:\\Users\\seelc\\OneDrive\\Desktop\\Lucas Desktop Items\\Projects\\forecasting\\.venv\\Lib\\site-packages\\statsmodels\\base\\model.py:607: ConvergenceWarning:\n",
      "\n",
      "Maximum Likelihood optimization failed to converge. Check mle_retvals\n",
      "\n",
      "118it [00:27,  3.72it/s]c:\\Users\\seelc\\OneDrive\\Desktop\\Lucas Desktop Items\\Projects\\forecasting\\.venv\\Lib\\site-packages\\statsmodels\\tsa\\statespace\\sarimax.py:966: UserWarning:\n",
      "\n",
      "Non-stationary starting autoregressive parameters found. Using zeros as starting parameters.\n",
      "\n",
      "c:\\Users\\seelc\\OneDrive\\Desktop\\Lucas Desktop Items\\Projects\\forecasting\\.venv\\Lib\\site-packages\\statsmodels\\tsa\\statespace\\sarimax.py:997: UserWarning:\n",
      "\n",
      "Non-stationary starting seasonal autoregressive Using zeros as starting parameters.\n",
      "\n",
      "c:\\Users\\seelc\\OneDrive\\Desktop\\Lucas Desktop Items\\Projects\\forecasting\\.venv\\Lib\\site-packages\\statsmodels\\base\\model.py:607: ConvergenceWarning:\n",
      "\n",
      "Maximum Likelihood optimization failed to converge. Check mle_retvals\n",
      "\n",
      "119it [00:27,  3.35it/s]c:\\Users\\seelc\\OneDrive\\Desktop\\Lucas Desktop Items\\Projects\\forecasting\\.venv\\Lib\\site-packages\\statsmodels\\tsa\\statespace\\sarimax.py:966: UserWarning:\n",
      "\n",
      "Non-stationary starting autoregressive parameters found. Using zeros as starting parameters.\n",
      "\n",
      "c:\\Users\\seelc\\OneDrive\\Desktop\\Lucas Desktop Items\\Projects\\forecasting\\.venv\\Lib\\site-packages\\statsmodels\\tsa\\statespace\\sarimax.py:997: UserWarning:\n",
      "\n",
      "Non-stationary starting seasonal autoregressive Using zeros as starting parameters.\n",
      "\n",
      "120it [00:28,  3.01it/s]c:\\Users\\seelc\\OneDrive\\Desktop\\Lucas Desktop Items\\Projects\\forecasting\\.venv\\Lib\\site-packages\\statsmodels\\tsa\\statespace\\sarimax.py:966: UserWarning:\n",
      "\n",
      "Non-stationary starting autoregressive parameters found. Using zeros as starting parameters.\n",
      "\n",
      "c:\\Users\\seelc\\OneDrive\\Desktop\\Lucas Desktop Items\\Projects\\forecasting\\.venv\\Lib\\site-packages\\statsmodels\\tsa\\statespace\\sarimax.py:997: UserWarning:\n",
      "\n",
      "Non-stationary starting seasonal autoregressive Using zeros as starting parameters.\n",
      "\n",
      "c:\\Users\\seelc\\OneDrive\\Desktop\\Lucas Desktop Items\\Projects\\forecasting\\.venv\\Lib\\site-packages\\statsmodels\\base\\model.py:607: ConvergenceWarning:\n",
      "\n",
      "Maximum Likelihood optimization failed to converge. Check mle_retvals\n",
      "\n",
      "121it [00:28,  3.04it/s]c:\\Users\\seelc\\OneDrive\\Desktop\\Lucas Desktop Items\\Projects\\forecasting\\.venv\\Lib\\site-packages\\statsmodels\\tsa\\statespace\\sarimax.py:966: UserWarning:\n",
      "\n",
      "Non-stationary starting autoregressive parameters found. Using zeros as starting parameters.\n",
      "\n",
      "c:\\Users\\seelc\\OneDrive\\Desktop\\Lucas Desktop Items\\Projects\\forecasting\\.venv\\Lib\\site-packages\\statsmodels\\tsa\\statespace\\sarimax.py:997: UserWarning:\n",
      "\n",
      "Non-stationary starting seasonal autoregressive Using zeros as starting parameters.\n",
      "\n",
      "c:\\Users\\seelc\\OneDrive\\Desktop\\Lucas Desktop Items\\Projects\\forecasting\\.venv\\Lib\\site-packages\\statsmodels\\base\\model.py:607: ConvergenceWarning:\n",
      "\n",
      "Maximum Likelihood optimization failed to converge. Check mle_retvals\n",
      "\n",
      "122it [00:28,  2.97it/s]c:\\Users\\seelc\\OneDrive\\Desktop\\Lucas Desktop Items\\Projects\\forecasting\\.venv\\Lib\\site-packages\\statsmodels\\tsa\\statespace\\sarimax.py:966: UserWarning:\n",
      "\n",
      "Non-stationary starting autoregressive parameters found. Using zeros as starting parameters.\n",
      "\n",
      "c:\\Users\\seelc\\OneDrive\\Desktop\\Lucas Desktop Items\\Projects\\forecasting\\.venv\\Lib\\site-packages\\statsmodels\\tsa\\statespace\\sarimax.py:997: UserWarning:\n",
      "\n",
      "Non-stationary starting seasonal autoregressive Using zeros as starting parameters.\n",
      "\n",
      "c:\\Users\\seelc\\OneDrive\\Desktop\\Lucas Desktop Items\\Projects\\forecasting\\.venv\\Lib\\site-packages\\statsmodels\\base\\model.py:607: ConvergenceWarning:\n",
      "\n",
      "Maximum Likelihood optimization failed to converge. Check mle_retvals\n",
      "\n",
      "123it [00:29,  2.80it/s]c:\\Users\\seelc\\OneDrive\\Desktop\\Lucas Desktop Items\\Projects\\forecasting\\.venv\\Lib\\site-packages\\statsmodels\\tsa\\statespace\\sarimax.py:966: UserWarning:\n",
      "\n",
      "Non-stationary starting autoregressive parameters found. Using zeros as starting parameters.\n",
      "\n",
      "c:\\Users\\seelc\\OneDrive\\Desktop\\Lucas Desktop Items\\Projects\\forecasting\\.venv\\Lib\\site-packages\\statsmodels\\tsa\\statespace\\sarimax.py:997: UserWarning:\n",
      "\n",
      "Non-stationary starting seasonal autoregressive Using zeros as starting parameters.\n",
      "\n",
      "c:\\Users\\seelc\\OneDrive\\Desktop\\Lucas Desktop Items\\Projects\\forecasting\\.venv\\Lib\\site-packages\\statsmodels\\base\\model.py:607: ConvergenceWarning:\n",
      "\n",
      "Maximum Likelihood optimization failed to converge. Check mle_retvals\n",
      "\n",
      "124it [00:29,  2.64it/s]c:\\Users\\seelc\\OneDrive\\Desktop\\Lucas Desktop Items\\Projects\\forecasting\\.venv\\Lib\\site-packages\\statsmodels\\tsa\\statespace\\sarimax.py:966: UserWarning:\n",
      "\n",
      "Non-stationary starting autoregressive parameters found. Using zeros as starting parameters.\n",
      "\n",
      "c:\\Users\\seelc\\OneDrive\\Desktop\\Lucas Desktop Items\\Projects\\forecasting\\.venv\\Lib\\site-packages\\statsmodels\\tsa\\statespace\\sarimax.py:997: UserWarning:\n",
      "\n",
      "Non-stationary starting seasonal autoregressive Using zeros as starting parameters.\n",
      "\n",
      "c:\\Users\\seelc\\OneDrive\\Desktop\\Lucas Desktop Items\\Projects\\forecasting\\.venv\\Lib\\site-packages\\statsmodels\\base\\model.py:607: ConvergenceWarning:\n",
      "\n",
      "Maximum Likelihood optimization failed to converge. Check mle_retvals\n",
      "\n",
      "125it [00:30,  2.65it/s]c:\\Users\\seelc\\OneDrive\\Desktop\\Lucas Desktop Items\\Projects\\forecasting\\.venv\\Lib\\site-packages\\statsmodels\\tsa\\statespace\\sarimax.py:966: UserWarning:\n",
      "\n",
      "Non-stationary starting autoregressive parameters found. Using zeros as starting parameters.\n",
      "\n",
      "c:\\Users\\seelc\\OneDrive\\Desktop\\Lucas Desktop Items\\Projects\\forecasting\\.venv\\Lib\\site-packages\\statsmodels\\tsa\\statespace\\sarimax.py:997: UserWarning:\n",
      "\n",
      "Non-stationary starting seasonal autoregressive Using zeros as starting parameters.\n",
      "\n",
      "c:\\Users\\seelc\\OneDrive\\Desktop\\Lucas Desktop Items\\Projects\\forecasting\\.venv\\Lib\\site-packages\\statsmodels\\base\\model.py:607: ConvergenceWarning:\n",
      "\n",
      "Maximum Likelihood optimization failed to converge. Check mle_retvals\n",
      "\n",
      "126it [00:30,  2.64it/s]c:\\Users\\seelc\\OneDrive\\Desktop\\Lucas Desktop Items\\Projects\\forecasting\\.venv\\Lib\\site-packages\\statsmodels\\tsa\\statespace\\sarimax.py:966: UserWarning:\n",
      "\n",
      "Non-stationary starting autoregressive parameters found. Using zeros as starting parameters.\n",
      "\n",
      "c:\\Users\\seelc\\OneDrive\\Desktop\\Lucas Desktop Items\\Projects\\forecasting\\.venv\\Lib\\site-packages\\statsmodels\\tsa\\statespace\\sarimax.py:997: UserWarning:\n",
      "\n",
      "Non-stationary starting seasonal autoregressive Using zeros as starting parameters.\n",
      "\n",
      "127it [00:30,  2.73it/s]c:\\Users\\seelc\\OneDrive\\Desktop\\Lucas Desktop Items\\Projects\\forecasting\\.venv\\Lib\\site-packages\\statsmodels\\base\\model.py:607: ConvergenceWarning:\n",
      "\n",
      "Maximum Likelihood optimization failed to converge. Check mle_retvals\n",
      "\n",
      "128it [00:31,  2.54it/s]c:\\Users\\seelc\\OneDrive\\Desktop\\Lucas Desktop Items\\Projects\\forecasting\\.venv\\Lib\\site-packages\\statsmodels\\tsa\\statespace\\sarimax.py:966: UserWarning:\n",
      "\n",
      "Non-stationary starting autoregressive parameters found. Using zeros as starting parameters.\n",
      "\n",
      "c:\\Users\\seelc\\OneDrive\\Desktop\\Lucas Desktop Items\\Projects\\forecasting\\.venv\\Lib\\site-packages\\statsmodels\\tsa\\statespace\\sarimax.py:966: UserWarning:\n",
      "\n",
      "Non-stationary starting autoregressive parameters found. Using zeros as starting parameters.\n",
      "\n",
      "130it [00:31,  4.06it/s]c:\\Users\\seelc\\OneDrive\\Desktop\\Lucas Desktop Items\\Projects\\forecasting\\.venv\\Lib\\site-packages\\statsmodels\\tsa\\statespace\\sarimax.py:966: UserWarning:\n",
      "\n",
      "Non-stationary starting autoregressive parameters found. Using zeros as starting parameters.\n",
      "\n",
      "131it [00:31,  4.52it/s]c:\\Users\\seelc\\OneDrive\\Desktop\\Lucas Desktop Items\\Projects\\forecasting\\.venv\\Lib\\site-packages\\statsmodels\\tsa\\statespace\\sarimax.py:966: UserWarning:\n",
      "\n",
      "Non-stationary starting autoregressive parameters found. Using zeros as starting parameters.\n",
      "\n",
      "c:\\Users\\seelc\\OneDrive\\Desktop\\Lucas Desktop Items\\Projects\\forecasting\\.venv\\Lib\\site-packages\\statsmodels\\tsa\\statespace\\sarimax.py:1009: UserWarning:\n",
      "\n",
      "Non-invertible starting seasonal moving average Using zeros as starting parameters.\n",
      "\n",
      "132it [00:31,  4.55it/s]c:\\Users\\seelc\\OneDrive\\Desktop\\Lucas Desktop Items\\Projects\\forecasting\\.venv\\Lib\\site-packages\\statsmodels\\tsa\\statespace\\sarimax.py:966: UserWarning:\n",
      "\n",
      "Non-stationary starting autoregressive parameters found. Using zeros as starting parameters.\n",
      "\n",
      "c:\\Users\\seelc\\OneDrive\\Desktop\\Lucas Desktop Items\\Projects\\forecasting\\.venv\\Lib\\site-packages\\statsmodels\\tsa\\statespace\\sarimax.py:997: UserWarning:\n",
      "\n",
      "Non-stationary starting seasonal autoregressive Using zeros as starting parameters.\n",
      "\n",
      "c:\\Users\\seelc\\OneDrive\\Desktop\\Lucas Desktop Items\\Projects\\forecasting\\.venv\\Lib\\site-packages\\statsmodels\\tsa\\statespace\\sarimax.py:966: UserWarning:\n",
      "\n",
      "Non-stationary starting autoregressive parameters found. Using zeros as starting parameters.\n",
      "\n",
      "c:\\Users\\seelc\\OneDrive\\Desktop\\Lucas Desktop Items\\Projects\\forecasting\\.venv\\Lib\\site-packages\\statsmodels\\tsa\\statespace\\sarimax.py:997: UserWarning:\n",
      "\n",
      "Non-stationary starting seasonal autoregressive Using zeros as starting parameters.\n",
      "\n",
      "134it [00:31,  6.02it/s]c:\\Users\\seelc\\OneDrive\\Desktop\\Lucas Desktop Items\\Projects\\forecasting\\.venv\\Lib\\site-packages\\statsmodels\\tsa\\statespace\\sarimax.py:966: UserWarning:\n",
      "\n",
      "Non-stationary starting autoregressive parameters found. Using zeros as starting parameters.\n",
      "\n",
      "c:\\Users\\seelc\\OneDrive\\Desktop\\Lucas Desktop Items\\Projects\\forecasting\\.venv\\Lib\\site-packages\\statsmodels\\tsa\\statespace\\sarimax.py:997: UserWarning:\n",
      "\n",
      "Non-stationary starting seasonal autoregressive Using zeros as starting parameters.\n",
      "\n",
      "135it [00:32,  6.11it/s]c:\\Users\\seelc\\OneDrive\\Desktop\\Lucas Desktop Items\\Projects\\forecasting\\.venv\\Lib\\site-packages\\statsmodels\\tsa\\statespace\\sarimax.py:966: UserWarning:\n",
      "\n",
      "Non-stationary starting autoregressive parameters found. Using zeros as starting parameters.\n",
      "\n",
      "c:\\Users\\seelc\\OneDrive\\Desktop\\Lucas Desktop Items\\Projects\\forecasting\\.venv\\Lib\\site-packages\\statsmodels\\tsa\\statespace\\sarimax.py:997: UserWarning:\n",
      "\n",
      "Non-stationary starting seasonal autoregressive Using zeros as starting parameters.\n",
      "\n",
      "c:\\Users\\seelc\\OneDrive\\Desktop\\Lucas Desktop Items\\Projects\\forecasting\\.venv\\Lib\\site-packages\\statsmodels\\base\\model.py:607: ConvergenceWarning:\n",
      "\n",
      "Maximum Likelihood optimization failed to converge. Check mle_retvals\n",
      "\n",
      "136it [00:32,  5.51it/s]c:\\Users\\seelc\\OneDrive\\Desktop\\Lucas Desktop Items\\Projects\\forecasting\\.venv\\Lib\\site-packages\\statsmodels\\tsa\\statespace\\sarimax.py:966: UserWarning:\n",
      "\n",
      "Non-stationary starting autoregressive parameters found. Using zeros as starting parameters.\n",
      "\n",
      "c:\\Users\\seelc\\OneDrive\\Desktop\\Lucas Desktop Items\\Projects\\forecasting\\.venv\\Lib\\site-packages\\statsmodels\\tsa\\statespace\\sarimax.py:997: UserWarning:\n",
      "\n",
      "Non-stationary starting seasonal autoregressive Using zeros as starting parameters.\n",
      "\n",
      "c:\\Users\\seelc\\OneDrive\\Desktop\\Lucas Desktop Items\\Projects\\forecasting\\.venv\\Lib\\site-packages\\statsmodels\\base\\model.py:607: ConvergenceWarning:\n",
      "\n",
      "Maximum Likelihood optimization failed to converge. Check mle_retvals\n",
      "\n",
      "137it [00:32,  5.42it/s]c:\\Users\\seelc\\OneDrive\\Desktop\\Lucas Desktop Items\\Projects\\forecasting\\.venv\\Lib\\site-packages\\statsmodels\\tsa\\statespace\\sarimax.py:966: UserWarning:\n",
      "\n",
      "Non-stationary starting autoregressive parameters found. Using zeros as starting parameters.\n",
      "\n",
      "c:\\Users\\seelc\\OneDrive\\Desktop\\Lucas Desktop Items\\Projects\\forecasting\\.venv\\Lib\\site-packages\\statsmodels\\tsa\\statespace\\sarimax.py:997: UserWarning:\n",
      "\n",
      "Non-stationary starting seasonal autoregressive Using zeros as starting parameters.\n",
      "\n",
      "c:\\Users\\seelc\\OneDrive\\Desktop\\Lucas Desktop Items\\Projects\\forecasting\\.venv\\Lib\\site-packages\\statsmodels\\base\\model.py:607: ConvergenceWarning:\n",
      "\n",
      "Maximum Likelihood optimization failed to converge. Check mle_retvals\n",
      "\n",
      "138it [00:32,  5.01it/s]c:\\Users\\seelc\\OneDrive\\Desktop\\Lucas Desktop Items\\Projects\\forecasting\\.venv\\Lib\\site-packages\\statsmodels\\tsa\\statespace\\sarimax.py:966: UserWarning:\n",
      "\n",
      "Non-stationary starting autoregressive parameters found. Using zeros as starting parameters.\n",
      "\n",
      "c:\\Users\\seelc\\OneDrive\\Desktop\\Lucas Desktop Items\\Projects\\forecasting\\.venv\\Lib\\site-packages\\statsmodels\\tsa\\statespace\\sarimax.py:997: UserWarning:\n",
      "\n",
      "Non-stationary starting seasonal autoregressive Using zeros as starting parameters.\n",
      "\n",
      "c:\\Users\\seelc\\OneDrive\\Desktop\\Lucas Desktop Items\\Projects\\forecasting\\.venv\\Lib\\site-packages\\statsmodels\\base\\model.py:607: ConvergenceWarning:\n",
      "\n",
      "Maximum Likelihood optimization failed to converge. Check mle_retvals\n",
      "\n",
      "139it [00:33,  4.59it/s]c:\\Users\\seelc\\OneDrive\\Desktop\\Lucas Desktop Items\\Projects\\forecasting\\.venv\\Lib\\site-packages\\statsmodels\\tsa\\statespace\\sarimax.py:966: UserWarning:\n",
      "\n",
      "Non-stationary starting autoregressive parameters found. Using zeros as starting parameters.\n",
      "\n",
      "c:\\Users\\seelc\\OneDrive\\Desktop\\Lucas Desktop Items\\Projects\\forecasting\\.venv\\Lib\\site-packages\\statsmodels\\tsa\\statespace\\sarimax.py:997: UserWarning:\n",
      "\n",
      "Non-stationary starting seasonal autoregressive Using zeros as starting parameters.\n",
      "\n",
      "c:\\Users\\seelc\\OneDrive\\Desktop\\Lucas Desktop Items\\Projects\\forecasting\\.venv\\Lib\\site-packages\\statsmodels\\base\\model.py:607: ConvergenceWarning:\n",
      "\n",
      "Maximum Likelihood optimization failed to converge. Check mle_retvals\n",
      "\n",
      "140it [00:33,  3.67it/s]c:\\Users\\seelc\\OneDrive\\Desktop\\Lucas Desktop Items\\Projects\\forecasting\\.venv\\Lib\\site-packages\\statsmodels\\tsa\\statespace\\sarimax.py:966: UserWarning:\n",
      "\n",
      "Non-stationary starting autoregressive parameters found. Using zeros as starting parameters.\n",
      "\n",
      "c:\\Users\\seelc\\OneDrive\\Desktop\\Lucas Desktop Items\\Projects\\forecasting\\.venv\\Lib\\site-packages\\statsmodels\\tsa\\statespace\\sarimax.py:997: UserWarning:\n",
      "\n",
      "Non-stationary starting seasonal autoregressive Using zeros as starting parameters.\n",
      "\n",
      "141it [00:33,  4.01it/s]c:\\Users\\seelc\\OneDrive\\Desktop\\Lucas Desktop Items\\Projects\\forecasting\\.venv\\Lib\\site-packages\\statsmodels\\tsa\\statespace\\sarimax.py:966: UserWarning:\n",
      "\n",
      "Non-stationary starting autoregressive parameters found. Using zeros as starting parameters.\n",
      "\n",
      "c:\\Users\\seelc\\OneDrive\\Desktop\\Lucas Desktop Items\\Projects\\forecasting\\.venv\\Lib\\site-packages\\statsmodels\\tsa\\statespace\\sarimax.py:997: UserWarning:\n",
      "\n",
      "Non-stationary starting seasonal autoregressive Using zeros as starting parameters.\n",
      "\n",
      "142it [00:34,  3.05it/s]c:\\Users\\seelc\\OneDrive\\Desktop\\Lucas Desktop Items\\Projects\\forecasting\\.venv\\Lib\\site-packages\\statsmodels\\tsa\\statespace\\sarimax.py:966: UserWarning:\n",
      "\n",
      "Non-stationary starting autoregressive parameters found. Using zeros as starting parameters.\n",
      "\n",
      "c:\\Users\\seelc\\OneDrive\\Desktop\\Lucas Desktop Items\\Projects\\forecasting\\.venv\\Lib\\site-packages\\statsmodels\\tsa\\statespace\\sarimax.py:997: UserWarning:\n",
      "\n",
      "Non-stationary starting seasonal autoregressive Using zeros as starting parameters.\n",
      "\n",
      "c:\\Users\\seelc\\OneDrive\\Desktop\\Lucas Desktop Items\\Projects\\forecasting\\.venv\\Lib\\site-packages\\statsmodels\\base\\model.py:607: ConvergenceWarning:\n",
      "\n",
      "Maximum Likelihood optimization failed to converge. Check mle_retvals\n",
      "\n",
      "143it [00:34,  2.83it/s]c:\\Users\\seelc\\OneDrive\\Desktop\\Lucas Desktop Items\\Projects\\forecasting\\.venv\\Lib\\site-packages\\statsmodels\\tsa\\statespace\\sarimax.py:966: UserWarning:\n",
      "\n",
      "Non-stationary starting autoregressive parameters found. Using zeros as starting parameters.\n",
      "\n",
      "c:\\Users\\seelc\\OneDrive\\Desktop\\Lucas Desktop Items\\Projects\\forecasting\\.venv\\Lib\\site-packages\\statsmodels\\tsa\\statespace\\sarimax.py:997: UserWarning:\n",
      "\n",
      "Non-stationary starting seasonal autoregressive Using zeros as starting parameters.\n",
      "\n",
      "c:\\Users\\seelc\\OneDrive\\Desktop\\Lucas Desktop Items\\Projects\\forecasting\\.venv\\Lib\\site-packages\\statsmodels\\base\\model.py:607: ConvergenceWarning:\n",
      "\n",
      "Maximum Likelihood optimization failed to converge. Check mle_retvals\n",
      "\n",
      "144it [00:34,  2.98it/s]c:\\Users\\seelc\\OneDrive\\Desktop\\Lucas Desktop Items\\Projects\\forecasting\\.venv\\Lib\\site-packages\\statsmodels\\tsa\\statespace\\sarimax.py:966: UserWarning:\n",
      "\n",
      "Non-stationary starting autoregressive parameters found. Using zeros as starting parameters.\n",
      "\n",
      "c:\\Users\\seelc\\OneDrive\\Desktop\\Lucas Desktop Items\\Projects\\forecasting\\.venv\\Lib\\site-packages\\statsmodels\\tsa\\statespace\\sarimax.py:966: UserWarning:\n",
      "\n",
      "Non-stationary starting autoregressive parameters found. Using zeros as starting parameters.\n",
      "\n",
      "146it [00:35,  4.34it/s]c:\\Users\\seelc\\OneDrive\\Desktop\\Lucas Desktop Items\\Projects\\forecasting\\.venv\\Lib\\site-packages\\statsmodels\\tsa\\statespace\\sarimax.py:966: UserWarning:\n",
      "\n",
      "Non-stationary starting autoregressive parameters found. Using zeros as starting parameters.\n",
      "\n",
      "147it [00:35,  4.38it/s]c:\\Users\\seelc\\OneDrive\\Desktop\\Lucas Desktop Items\\Projects\\forecasting\\.venv\\Lib\\site-packages\\statsmodels\\tsa\\statespace\\sarimax.py:966: UserWarning:\n",
      "\n",
      "Non-stationary starting autoregressive parameters found. Using zeros as starting parameters.\n",
      "\n",
      "c:\\Users\\seelc\\OneDrive\\Desktop\\Lucas Desktop Items\\Projects\\forecasting\\.venv\\Lib\\site-packages\\statsmodels\\tsa\\statespace\\sarimax.py:1009: UserWarning:\n",
      "\n",
      "Non-invertible starting seasonal moving average Using zeros as starting parameters.\n",
      "\n",
      "148it [00:35,  4.11it/s]c:\\Users\\seelc\\OneDrive\\Desktop\\Lucas Desktop Items\\Projects\\forecasting\\.venv\\Lib\\site-packages\\statsmodels\\tsa\\statespace\\sarimax.py:966: UserWarning:\n",
      "\n",
      "Non-stationary starting autoregressive parameters found. Using zeros as starting parameters.\n",
      "\n",
      "c:\\Users\\seelc\\OneDrive\\Desktop\\Lucas Desktop Items\\Projects\\forecasting\\.venv\\Lib\\site-packages\\statsmodels\\tsa\\statespace\\sarimax.py:997: UserWarning:\n",
      "\n",
      "Non-stationary starting seasonal autoregressive Using zeros as starting parameters.\n",
      "\n",
      "c:\\Users\\seelc\\OneDrive\\Desktop\\Lucas Desktop Items\\Projects\\forecasting\\.venv\\Lib\\site-packages\\statsmodels\\base\\model.py:607: ConvergenceWarning:\n",
      "\n",
      "Maximum Likelihood optimization failed to converge. Check mle_retvals\n",
      "\n",
      "150it [00:35,  4.54it/s]c:\\Users\\seelc\\OneDrive\\Desktop\\Lucas Desktop Items\\Projects\\forecasting\\.venv\\Lib\\site-packages\\statsmodels\\tsa\\statespace\\sarimax.py:966: UserWarning:\n",
      "\n",
      "Non-stationary starting autoregressive parameters found. Using zeros as starting parameters.\n",
      "\n",
      "c:\\Users\\seelc\\OneDrive\\Desktop\\Lucas Desktop Items\\Projects\\forecasting\\.venv\\Lib\\site-packages\\statsmodels\\tsa\\statespace\\sarimax.py:997: UserWarning:\n",
      "\n",
      "Non-stationary starting seasonal autoregressive Using zeros as starting parameters.\n",
      "\n",
      "c:\\Users\\seelc\\OneDrive\\Desktop\\Lucas Desktop Items\\Projects\\forecasting\\.venv\\Lib\\site-packages\\statsmodels\\base\\model.py:607: ConvergenceWarning:\n",
      "\n",
      "Maximum Likelihood optimization failed to converge. Check mle_retvals\n",
      "\n",
      "151it [00:36,  3.52it/s]c:\\Users\\seelc\\OneDrive\\Desktop\\Lucas Desktop Items\\Projects\\forecasting\\.venv\\Lib\\site-packages\\statsmodels\\tsa\\statespace\\sarimax.py:966: UserWarning:\n",
      "\n",
      "Non-stationary starting autoregressive parameters found. Using zeros as starting parameters.\n",
      "\n",
      "c:\\Users\\seelc\\OneDrive\\Desktop\\Lucas Desktop Items\\Projects\\forecasting\\.venv\\Lib\\site-packages\\statsmodels\\tsa\\statespace\\sarimax.py:997: UserWarning:\n",
      "\n",
      "Non-stationary starting seasonal autoregressive Using zeros as starting parameters.\n",
      "\n",
      "c:\\Users\\seelc\\OneDrive\\Desktop\\Lucas Desktop Items\\Projects\\forecasting\\.venv\\Lib\\site-packages\\statsmodels\\base\\model.py:607: ConvergenceWarning:\n",
      "\n",
      "Maximum Likelihood optimization failed to converge. Check mle_retvals\n",
      "\n",
      "152it [00:36,  2.97it/s]c:\\Users\\seelc\\OneDrive\\Desktop\\Lucas Desktop Items\\Projects\\forecasting\\.venv\\Lib\\site-packages\\statsmodels\\tsa\\statespace\\sarimax.py:966: UserWarning:\n",
      "\n",
      "Non-stationary starting autoregressive parameters found. Using zeros as starting parameters.\n",
      "\n",
      "c:\\Users\\seelc\\OneDrive\\Desktop\\Lucas Desktop Items\\Projects\\forecasting\\.venv\\Lib\\site-packages\\statsmodels\\tsa\\statespace\\sarimax.py:997: UserWarning:\n",
      "\n",
      "Non-stationary starting seasonal autoregressive Using zeros as starting parameters.\n",
      "\n",
      "c:\\Users\\seelc\\OneDrive\\Desktop\\Lucas Desktop Items\\Projects\\forecasting\\.venv\\Lib\\site-packages\\statsmodels\\base\\model.py:607: ConvergenceWarning:\n",
      "\n",
      "Maximum Likelihood optimization failed to converge. Check mle_retvals\n",
      "\n",
      "153it [00:37,  3.21it/s]c:\\Users\\seelc\\OneDrive\\Desktop\\Lucas Desktop Items\\Projects\\forecasting\\.venv\\Lib\\site-packages\\statsmodels\\tsa\\statespace\\sarimax.py:966: UserWarning:\n",
      "\n",
      "Non-stationary starting autoregressive parameters found. Using zeros as starting parameters.\n",
      "\n",
      "c:\\Users\\seelc\\OneDrive\\Desktop\\Lucas Desktop Items\\Projects\\forecasting\\.venv\\Lib\\site-packages\\statsmodels\\tsa\\statespace\\sarimax.py:997: UserWarning:\n",
      "\n",
      "Non-stationary starting seasonal autoregressive Using zeros as starting parameters.\n",
      "\n",
      "c:\\Users\\seelc\\OneDrive\\Desktop\\Lucas Desktop Items\\Projects\\forecasting\\.venv\\Lib\\site-packages\\statsmodels\\base\\model.py:607: ConvergenceWarning:\n",
      "\n",
      "Maximum Likelihood optimization failed to converge. Check mle_retvals\n",
      "\n",
      "154it [00:37,  3.37it/s]c:\\Users\\seelc\\OneDrive\\Desktop\\Lucas Desktop Items\\Projects\\forecasting\\.venv\\Lib\\site-packages\\statsmodels\\tsa\\statespace\\sarimax.py:966: UserWarning:\n",
      "\n",
      "Non-stationary starting autoregressive parameters found. Using zeros as starting parameters.\n",
      "\n",
      "c:\\Users\\seelc\\OneDrive\\Desktop\\Lucas Desktop Items\\Projects\\forecasting\\.venv\\Lib\\site-packages\\statsmodels\\tsa\\statespace\\sarimax.py:997: UserWarning:\n",
      "\n",
      "Non-stationary starting seasonal autoregressive Using zeros as starting parameters.\n",
      "\n",
      "c:\\Users\\seelc\\OneDrive\\Desktop\\Lucas Desktop Items\\Projects\\forecasting\\.venv\\Lib\\site-packages\\statsmodels\\base\\model.py:607: ConvergenceWarning:\n",
      "\n",
      "Maximum Likelihood optimization failed to converge. Check mle_retvals\n",
      "\n",
      "155it [00:37,  3.19it/s]c:\\Users\\seelc\\OneDrive\\Desktop\\Lucas Desktop Items\\Projects\\forecasting\\.venv\\Lib\\site-packages\\statsmodels\\tsa\\statespace\\sarimax.py:966: UserWarning:\n",
      "\n",
      "Non-stationary starting autoregressive parameters found. Using zeros as starting parameters.\n",
      "\n",
      "c:\\Users\\seelc\\OneDrive\\Desktop\\Lucas Desktop Items\\Projects\\forecasting\\.venv\\Lib\\site-packages\\statsmodels\\tsa\\statespace\\sarimax.py:997: UserWarning:\n",
      "\n",
      "Non-stationary starting seasonal autoregressive Using zeros as starting parameters.\n",
      "\n",
      "c:\\Users\\seelc\\OneDrive\\Desktop\\Lucas Desktop Items\\Projects\\forecasting\\.venv\\Lib\\site-packages\\statsmodels\\base\\model.py:607: ConvergenceWarning:\n",
      "\n",
      "Maximum Likelihood optimization failed to converge. Check mle_retvals\n",
      "\n",
      "156it [00:38,  2.95it/s]c:\\Users\\seelc\\OneDrive\\Desktop\\Lucas Desktop Items\\Projects\\forecasting\\.venv\\Lib\\site-packages\\statsmodels\\tsa\\statespace\\sarimax.py:966: UserWarning:\n",
      "\n",
      "Non-stationary starting autoregressive parameters found. Using zeros as starting parameters.\n",
      "\n",
      "c:\\Users\\seelc\\OneDrive\\Desktop\\Lucas Desktop Items\\Projects\\forecasting\\.venv\\Lib\\site-packages\\statsmodels\\tsa\\statespace\\sarimax.py:997: UserWarning:\n",
      "\n",
      "Non-stationary starting seasonal autoregressive Using zeros as starting parameters.\n",
      "\n",
      "c:\\Users\\seelc\\OneDrive\\Desktop\\Lucas Desktop Items\\Projects\\forecasting\\.venv\\Lib\\site-packages\\statsmodels\\base\\model.py:607: ConvergenceWarning:\n",
      "\n",
      "Maximum Likelihood optimization failed to converge. Check mle_retvals\n",
      "\n",
      "157it [00:38,  3.11it/s]c:\\Users\\seelc\\OneDrive\\Desktop\\Lucas Desktop Items\\Projects\\forecasting\\.venv\\Lib\\site-packages\\statsmodels\\tsa\\statespace\\sarimax.py:966: UserWarning:\n",
      "\n",
      "Non-stationary starting autoregressive parameters found. Using zeros as starting parameters.\n",
      "\n",
      "c:\\Users\\seelc\\OneDrive\\Desktop\\Lucas Desktop Items\\Projects\\forecasting\\.venv\\Lib\\site-packages\\statsmodels\\tsa\\statespace\\sarimax.py:997: UserWarning:\n",
      "\n",
      "Non-stationary starting seasonal autoregressive Using zeros as starting parameters.\n",
      "\n",
      "c:\\Users\\seelc\\OneDrive\\Desktop\\Lucas Desktop Items\\Projects\\forecasting\\.venv\\Lib\\site-packages\\statsmodels\\base\\model.py:607: ConvergenceWarning:\n",
      "\n",
      "Maximum Likelihood optimization failed to converge. Check mle_retvals\n",
      "\n",
      "158it [00:38,  3.17it/s]c:\\Users\\seelc\\OneDrive\\Desktop\\Lucas Desktop Items\\Projects\\forecasting\\.venv\\Lib\\site-packages\\statsmodels\\tsa\\statespace\\sarimax.py:966: UserWarning:\n",
      "\n",
      "Non-stationary starting autoregressive parameters found. Using zeros as starting parameters.\n",
      "\n",
      "c:\\Users\\seelc\\OneDrive\\Desktop\\Lucas Desktop Items\\Projects\\forecasting\\.venv\\Lib\\site-packages\\statsmodels\\tsa\\statespace\\sarimax.py:997: UserWarning:\n",
      "\n",
      "Non-stationary starting seasonal autoregressive Using zeros as starting parameters.\n",
      "\n",
      "c:\\Users\\seelc\\OneDrive\\Desktop\\Lucas Desktop Items\\Projects\\forecasting\\.venv\\Lib\\site-packages\\statsmodels\\base\\model.py:607: ConvergenceWarning:\n",
      "\n",
      "Maximum Likelihood optimization failed to converge. Check mle_retvals\n",
      "\n",
      "159it [00:39,  3.06it/s]c:\\Users\\seelc\\OneDrive\\Desktop\\Lucas Desktop Items\\Projects\\forecasting\\.venv\\Lib\\site-packages\\statsmodels\\tsa\\statespace\\sarimax.py:966: UserWarning:\n",
      "\n",
      "Non-stationary starting autoregressive parameters found. Using zeros as starting parameters.\n",
      "\n",
      "c:\\Users\\seelc\\OneDrive\\Desktop\\Lucas Desktop Items\\Projects\\forecasting\\.venv\\Lib\\site-packages\\statsmodels\\tsa\\statespace\\sarimax.py:997: UserWarning:\n",
      "\n",
      "Non-stationary starting seasonal autoregressive Using zeros as starting parameters.\n",
      "\n",
      "c:\\Users\\seelc\\OneDrive\\Desktop\\Lucas Desktop Items\\Projects\\forecasting\\.venv\\Lib\\site-packages\\statsmodels\\base\\model.py:607: ConvergenceWarning:\n",
      "\n",
      "Maximum Likelihood optimization failed to converge. Check mle_retvals\n",
      "\n",
      "160it [00:39,  2.88it/s]c:\\Users\\seelc\\OneDrive\\Desktop\\Lucas Desktop Items\\Projects\\forecasting\\.venv\\Lib\\site-packages\\statsmodels\\tsa\\statespace\\sarimax.py:966: UserWarning:\n",
      "\n",
      "Non-stationary starting autoregressive parameters found. Using zeros as starting parameters.\n",
      "\n",
      "c:\\Users\\seelc\\OneDrive\\Desktop\\Lucas Desktop Items\\Projects\\forecasting\\.venv\\Lib\\site-packages\\statsmodels\\tsa\\statespace\\sarimax.py:978: UserWarning:\n",
      "\n",
      "Non-invertible starting MA parameters found. Using zeros as starting parameters.\n",
      "\n",
      "161it [00:39,  3.65it/s]c:\\Users\\seelc\\OneDrive\\Desktop\\Lucas Desktop Items\\Projects\\forecasting\\.venv\\Lib\\site-packages\\statsmodels\\tsa\\statespace\\sarimax.py:966: UserWarning:\n",
      "\n",
      "Non-stationary starting autoregressive parameters found. Using zeros as starting parameters.\n",
      "\n",
      "c:\\Users\\seelc\\OneDrive\\Desktop\\Lucas Desktop Items\\Projects\\forecasting\\.venv\\Lib\\site-packages\\statsmodels\\tsa\\statespace\\sarimax.py:978: UserWarning:\n",
      "\n",
      "Non-invertible starting MA parameters found. Using zeros as starting parameters.\n",
      "\n",
      "162it [00:39,  4.27it/s]c:\\Users\\seelc\\OneDrive\\Desktop\\Lucas Desktop Items\\Projects\\forecasting\\.venv\\Lib\\site-packages\\statsmodels\\tsa\\statespace\\sarimax.py:966: UserWarning:\n",
      "\n",
      "Non-stationary starting autoregressive parameters found. Using zeros as starting parameters.\n",
      "\n",
      "c:\\Users\\seelc\\OneDrive\\Desktop\\Lucas Desktop Items\\Projects\\forecasting\\.venv\\Lib\\site-packages\\statsmodels\\tsa\\statespace\\sarimax.py:978: UserWarning:\n",
      "\n",
      "Non-invertible starting MA parameters found. Using zeros as starting parameters.\n",
      "\n",
      "163it [00:39,  4.60it/s]c:\\Users\\seelc\\OneDrive\\Desktop\\Lucas Desktop Items\\Projects\\forecasting\\.venv\\Lib\\site-packages\\statsmodels\\tsa\\statespace\\sarimax.py:966: UserWarning:\n",
      "\n",
      "Non-stationary starting autoregressive parameters found. Using zeros as starting parameters.\n",
      "\n",
      "c:\\Users\\seelc\\OneDrive\\Desktop\\Lucas Desktop Items\\Projects\\forecasting\\.venv\\Lib\\site-packages\\statsmodels\\tsa\\statespace\\sarimax.py:978: UserWarning:\n",
      "\n",
      "Non-invertible starting MA parameters found. Using zeros as starting parameters.\n",
      "\n",
      "c:\\Users\\seelc\\OneDrive\\Desktop\\Lucas Desktop Items\\Projects\\forecasting\\.venv\\Lib\\site-packages\\statsmodels\\tsa\\statespace\\sarimax.py:1009: UserWarning:\n",
      "\n",
      "Non-invertible starting seasonal moving average Using zeros as starting parameters.\n",
      "\n",
      "164it [00:40,  4.27it/s]c:\\Users\\seelc\\OneDrive\\Desktop\\Lucas Desktop Items\\Projects\\forecasting\\.venv\\Lib\\site-packages\\statsmodels\\tsa\\statespace\\sarimax.py:966: UserWarning:\n",
      "\n",
      "Non-stationary starting autoregressive parameters found. Using zeros as starting parameters.\n",
      "\n",
      "c:\\Users\\seelc\\OneDrive\\Desktop\\Lucas Desktop Items\\Projects\\forecasting\\.venv\\Lib\\site-packages\\statsmodels\\tsa\\statespace\\sarimax.py:978: UserWarning:\n",
      "\n",
      "Non-invertible starting MA parameters found. Using zeros as starting parameters.\n",
      "\n",
      "c:\\Users\\seelc\\OneDrive\\Desktop\\Lucas Desktop Items\\Projects\\forecasting\\.venv\\Lib\\site-packages\\statsmodels\\tsa\\statespace\\sarimax.py:997: UserWarning:\n",
      "\n",
      "Non-stationary starting seasonal autoregressive Using zeros as starting parameters.\n",
      "\n",
      "165it [00:40,  4.91it/s]c:\\Users\\seelc\\OneDrive\\Desktop\\Lucas Desktop Items\\Projects\\forecasting\\.venv\\Lib\\site-packages\\statsmodels\\tsa\\statespace\\sarimax.py:966: UserWarning:\n",
      "\n",
      "Non-stationary starting autoregressive parameters found. Using zeros as starting parameters.\n",
      "\n",
      "c:\\Users\\seelc\\OneDrive\\Desktop\\Lucas Desktop Items\\Projects\\forecasting\\.venv\\Lib\\site-packages\\statsmodels\\tsa\\statespace\\sarimax.py:978: UserWarning:\n",
      "\n",
      "Non-invertible starting MA parameters found. Using zeros as starting parameters.\n",
      "\n",
      "c:\\Users\\seelc\\OneDrive\\Desktop\\Lucas Desktop Items\\Projects\\forecasting\\.venv\\Lib\\site-packages\\statsmodels\\tsa\\statespace\\sarimax.py:997: UserWarning:\n",
      "\n",
      "Non-stationary starting seasonal autoregressive Using zeros as starting parameters.\n",
      "\n",
      "166it [00:40,  4.96it/s]c:\\Users\\seelc\\OneDrive\\Desktop\\Lucas Desktop Items\\Projects\\forecasting\\.venv\\Lib\\site-packages\\statsmodels\\tsa\\statespace\\sarimax.py:966: UserWarning:\n",
      "\n",
      "Non-stationary starting autoregressive parameters found. Using zeros as starting parameters.\n",
      "\n",
      "c:\\Users\\seelc\\OneDrive\\Desktop\\Lucas Desktop Items\\Projects\\forecasting\\.venv\\Lib\\site-packages\\statsmodels\\tsa\\statespace\\sarimax.py:978: UserWarning:\n",
      "\n",
      "Non-invertible starting MA parameters found. Using zeros as starting parameters.\n",
      "\n",
      "c:\\Users\\seelc\\OneDrive\\Desktop\\Lucas Desktop Items\\Projects\\forecasting\\.venv\\Lib\\site-packages\\statsmodels\\tsa\\statespace\\sarimax.py:997: UserWarning:\n",
      "\n",
      "Non-stationary starting seasonal autoregressive Using zeros as starting parameters.\n",
      "\n",
      "c:\\Users\\seelc\\OneDrive\\Desktop\\Lucas Desktop Items\\Projects\\forecasting\\.venv\\Lib\\site-packages\\statsmodels\\base\\model.py:607: ConvergenceWarning:\n",
      "\n",
      "Maximum Likelihood optimization failed to converge. Check mle_retvals\n",
      "\n",
      "167it [00:40,  4.48it/s]c:\\Users\\seelc\\OneDrive\\Desktop\\Lucas Desktop Items\\Projects\\forecasting\\.venv\\Lib\\site-packages\\statsmodels\\tsa\\statespace\\sarimax.py:966: UserWarning:\n",
      "\n",
      "Non-stationary starting autoregressive parameters found. Using zeros as starting parameters.\n",
      "\n",
      "c:\\Users\\seelc\\OneDrive\\Desktop\\Lucas Desktop Items\\Projects\\forecasting\\.venv\\Lib\\site-packages\\statsmodels\\tsa\\statespace\\sarimax.py:978: UserWarning:\n",
      "\n",
      "Non-invertible starting MA parameters found. Using zeros as starting parameters.\n",
      "\n",
      "c:\\Users\\seelc\\OneDrive\\Desktop\\Lucas Desktop Items\\Projects\\forecasting\\.venv\\Lib\\site-packages\\statsmodels\\tsa\\statespace\\sarimax.py:997: UserWarning:\n",
      "\n",
      "Non-stationary starting seasonal autoregressive Using zeros as starting parameters.\n",
      "\n",
      "c:\\Users\\seelc\\OneDrive\\Desktop\\Lucas Desktop Items\\Projects\\forecasting\\.venv\\Lib\\site-packages\\statsmodels\\base\\model.py:607: ConvergenceWarning:\n",
      "\n",
      "Maximum Likelihood optimization failed to converge. Check mle_retvals\n",
      "\n",
      "168it [00:41,  4.11it/s]c:\\Users\\seelc\\OneDrive\\Desktop\\Lucas Desktop Items\\Projects\\forecasting\\.venv\\Lib\\site-packages\\statsmodels\\tsa\\statespace\\sarimax.py:966: UserWarning:\n",
      "\n",
      "Non-stationary starting autoregressive parameters found. Using zeros as starting parameters.\n",
      "\n",
      "c:\\Users\\seelc\\OneDrive\\Desktop\\Lucas Desktop Items\\Projects\\forecasting\\.venv\\Lib\\site-packages\\statsmodels\\tsa\\statespace\\sarimax.py:978: UserWarning:\n",
      "\n",
      "Non-invertible starting MA parameters found. Using zeros as starting parameters.\n",
      "\n",
      "c:\\Users\\seelc\\OneDrive\\Desktop\\Lucas Desktop Items\\Projects\\forecasting\\.venv\\Lib\\site-packages\\statsmodels\\tsa\\statespace\\sarimax.py:997: UserWarning:\n",
      "\n",
      "Non-stationary starting seasonal autoregressive Using zeros as starting parameters.\n",
      "\n",
      "169it [00:41,  4.47it/s]c:\\Users\\seelc\\OneDrive\\Desktop\\Lucas Desktop Items\\Projects\\forecasting\\.venv\\Lib\\site-packages\\statsmodels\\tsa\\statespace\\sarimax.py:966: UserWarning:\n",
      "\n",
      "Non-stationary starting autoregressive parameters found. Using zeros as starting parameters.\n",
      "\n",
      "c:\\Users\\seelc\\OneDrive\\Desktop\\Lucas Desktop Items\\Projects\\forecasting\\.venv\\Lib\\site-packages\\statsmodels\\tsa\\statespace\\sarimax.py:978: UserWarning:\n",
      "\n",
      "Non-invertible starting MA parameters found. Using zeros as starting parameters.\n",
      "\n",
      "c:\\Users\\seelc\\OneDrive\\Desktop\\Lucas Desktop Items\\Projects\\forecasting\\.venv\\Lib\\site-packages\\statsmodels\\tsa\\statespace\\sarimax.py:997: UserWarning:\n",
      "\n",
      "Non-stationary starting seasonal autoregressive Using zeros as starting parameters.\n",
      "\n",
      "c:\\Users\\seelc\\OneDrive\\Desktop\\Lucas Desktop Items\\Projects\\forecasting\\.venv\\Lib\\site-packages\\statsmodels\\base\\model.py:607: ConvergenceWarning:\n",
      "\n",
      "Maximum Likelihood optimization failed to converge. Check mle_retvals\n",
      "\n",
      "170it [00:41,  4.30it/s]c:\\Users\\seelc\\OneDrive\\Desktop\\Lucas Desktop Items\\Projects\\forecasting\\.venv\\Lib\\site-packages\\statsmodels\\tsa\\statespace\\sarimax.py:966: UserWarning:\n",
      "\n",
      "Non-stationary starting autoregressive parameters found. Using zeros as starting parameters.\n",
      "\n",
      "c:\\Users\\seelc\\OneDrive\\Desktop\\Lucas Desktop Items\\Projects\\forecasting\\.venv\\Lib\\site-packages\\statsmodels\\tsa\\statespace\\sarimax.py:978: UserWarning:\n",
      "\n",
      "Non-invertible starting MA parameters found. Using zeros as starting parameters.\n",
      "\n",
      "c:\\Users\\seelc\\OneDrive\\Desktop\\Lucas Desktop Items\\Projects\\forecasting\\.venv\\Lib\\site-packages\\statsmodels\\tsa\\statespace\\sarimax.py:997: UserWarning:\n",
      "\n",
      "Non-stationary starting seasonal autoregressive Using zeros as starting parameters.\n",
      "\n",
      "c:\\Users\\seelc\\OneDrive\\Desktop\\Lucas Desktop Items\\Projects\\forecasting\\.venv\\Lib\\site-packages\\statsmodels\\base\\model.py:607: ConvergenceWarning:\n",
      "\n",
      "Maximum Likelihood optimization failed to converge. Check mle_retvals\n",
      "\n",
      "171it [00:41,  3.87it/s]c:\\Users\\seelc\\OneDrive\\Desktop\\Lucas Desktop Items\\Projects\\forecasting\\.venv\\Lib\\site-packages\\statsmodels\\tsa\\statespace\\sarimax.py:966: UserWarning:\n",
      "\n",
      "Non-stationary starting autoregressive parameters found. Using zeros as starting parameters.\n",
      "\n",
      "c:\\Users\\seelc\\OneDrive\\Desktop\\Lucas Desktop Items\\Projects\\forecasting\\.venv\\Lib\\site-packages\\statsmodels\\tsa\\statespace\\sarimax.py:978: UserWarning:\n",
      "\n",
      "Non-invertible starting MA parameters found. Using zeros as starting parameters.\n",
      "\n",
      "c:\\Users\\seelc\\OneDrive\\Desktop\\Lucas Desktop Items\\Projects\\forecasting\\.venv\\Lib\\site-packages\\statsmodels\\tsa\\statespace\\sarimax.py:997: UserWarning:\n",
      "\n",
      "Non-stationary starting seasonal autoregressive Using zeros as starting parameters.\n",
      "\n",
      "c:\\Users\\seelc\\OneDrive\\Desktop\\Lucas Desktop Items\\Projects\\forecasting\\.venv\\Lib\\site-packages\\statsmodels\\base\\model.py:607: ConvergenceWarning:\n",
      "\n",
      "Maximum Likelihood optimization failed to converge. Check mle_retvals\n",
      "\n",
      "172it [00:42,  3.47it/s]c:\\Users\\seelc\\OneDrive\\Desktop\\Lucas Desktop Items\\Projects\\forecasting\\.venv\\Lib\\site-packages\\statsmodels\\tsa\\statespace\\sarimax.py:966: UserWarning:\n",
      "\n",
      "Non-stationary starting autoregressive parameters found. Using zeros as starting parameters.\n",
      "\n",
      "c:\\Users\\seelc\\OneDrive\\Desktop\\Lucas Desktop Items\\Projects\\forecasting\\.venv\\Lib\\site-packages\\statsmodels\\tsa\\statespace\\sarimax.py:978: UserWarning:\n",
      "\n",
      "Non-invertible starting MA parameters found. Using zeros as starting parameters.\n",
      "\n",
      "c:\\Users\\seelc\\OneDrive\\Desktop\\Lucas Desktop Items\\Projects\\forecasting\\.venv\\Lib\\site-packages\\statsmodels\\tsa\\statespace\\sarimax.py:997: UserWarning:\n",
      "\n",
      "Non-stationary starting seasonal autoregressive Using zeros as starting parameters.\n",
      "\n",
      "173it [00:42,  3.61it/s]c:\\Users\\seelc\\OneDrive\\Desktop\\Lucas Desktop Items\\Projects\\forecasting\\.venv\\Lib\\site-packages\\statsmodels\\tsa\\statespace\\sarimax.py:966: UserWarning:\n",
      "\n",
      "Non-stationary starting autoregressive parameters found. Using zeros as starting parameters.\n",
      "\n",
      "c:\\Users\\seelc\\OneDrive\\Desktop\\Lucas Desktop Items\\Projects\\forecasting\\.venv\\Lib\\site-packages\\statsmodels\\tsa\\statespace\\sarimax.py:978: UserWarning:\n",
      "\n",
      "Non-invertible starting MA parameters found. Using zeros as starting parameters.\n",
      "\n",
      "c:\\Users\\seelc\\OneDrive\\Desktop\\Lucas Desktop Items\\Projects\\forecasting\\.venv\\Lib\\site-packages\\statsmodels\\tsa\\statespace\\sarimax.py:997: UserWarning:\n",
      "\n",
      "Non-stationary starting seasonal autoregressive Using zeros as starting parameters.\n",
      "\n",
      "c:\\Users\\seelc\\OneDrive\\Desktop\\Lucas Desktop Items\\Projects\\forecasting\\.venv\\Lib\\site-packages\\statsmodels\\base\\model.py:607: ConvergenceWarning:\n",
      "\n",
      "Maximum Likelihood optimization failed to converge. Check mle_retvals\n",
      "\n",
      "174it [00:42,  3.42it/s]c:\\Users\\seelc\\OneDrive\\Desktop\\Lucas Desktop Items\\Projects\\forecasting\\.venv\\Lib\\site-packages\\statsmodels\\tsa\\statespace\\sarimax.py:966: UserWarning:\n",
      "\n",
      "Non-stationary starting autoregressive parameters found. Using zeros as starting parameters.\n",
      "\n",
      "c:\\Users\\seelc\\OneDrive\\Desktop\\Lucas Desktop Items\\Projects\\forecasting\\.venv\\Lib\\site-packages\\statsmodels\\tsa\\statespace\\sarimax.py:978: UserWarning:\n",
      "\n",
      "Non-invertible starting MA parameters found. Using zeros as starting parameters.\n",
      "\n",
      "c:\\Users\\seelc\\OneDrive\\Desktop\\Lucas Desktop Items\\Projects\\forecasting\\.venv\\Lib\\site-packages\\statsmodels\\tsa\\statespace\\sarimax.py:997: UserWarning:\n",
      "\n",
      "Non-stationary starting seasonal autoregressive Using zeros as starting parameters.\n",
      "\n",
      "c:\\Users\\seelc\\OneDrive\\Desktop\\Lucas Desktop Items\\Projects\\forecasting\\.venv\\Lib\\site-packages\\statsmodels\\base\\model.py:607: ConvergenceWarning:\n",
      "\n",
      "Maximum Likelihood optimization failed to converge. Check mle_retvals\n",
      "\n",
      "175it [00:43,  3.17it/s]c:\\Users\\seelc\\OneDrive\\Desktop\\Lucas Desktop Items\\Projects\\forecasting\\.venv\\Lib\\site-packages\\statsmodels\\tsa\\statespace\\sarimax.py:966: UserWarning:\n",
      "\n",
      "Non-stationary starting autoregressive parameters found. Using zeros as starting parameters.\n",
      "\n",
      "c:\\Users\\seelc\\OneDrive\\Desktop\\Lucas Desktop Items\\Projects\\forecasting\\.venv\\Lib\\site-packages\\statsmodels\\tsa\\statespace\\sarimax.py:978: UserWarning:\n",
      "\n",
      "Non-invertible starting MA parameters found. Using zeros as starting parameters.\n",
      "\n",
      "c:\\Users\\seelc\\OneDrive\\Desktop\\Lucas Desktop Items\\Projects\\forecasting\\.venv\\Lib\\site-packages\\statsmodels\\tsa\\statespace\\sarimax.py:997: UserWarning:\n",
      "\n",
      "Non-stationary starting seasonal autoregressive Using zeros as starting parameters.\n",
      "\n",
      "c:\\Users\\seelc\\OneDrive\\Desktop\\Lucas Desktop Items\\Projects\\forecasting\\.venv\\Lib\\site-packages\\statsmodels\\base\\model.py:607: ConvergenceWarning:\n",
      "\n",
      "Maximum Likelihood optimization failed to converge. Check mle_retvals\n",
      "\n",
      "176it [00:43,  2.98it/s]c:\\Users\\seelc\\OneDrive\\Desktop\\Lucas Desktop Items\\Projects\\forecasting\\.venv\\Lib\\site-packages\\statsmodels\\tsa\\statespace\\sarimax.py:966: UserWarning:\n",
      "\n",
      "Non-stationary starting autoregressive parameters found. Using zeros as starting parameters.\n",
      "\n",
      "177it [00:43,  3.67it/s]c:\\Users\\seelc\\OneDrive\\Desktop\\Lucas Desktop Items\\Projects\\forecasting\\.venv\\Lib\\site-packages\\statsmodels\\tsa\\statespace\\sarimax.py:966: UserWarning:\n",
      "\n",
      "Non-stationary starting autoregressive parameters found. Using zeros as starting parameters.\n",
      "\n",
      "c:\\Users\\seelc\\OneDrive\\Desktop\\Lucas Desktop Items\\Projects\\forecasting\\.venv\\Lib\\site-packages\\statsmodels\\base\\model.py:607: ConvergenceWarning:\n",
      "\n",
      "Maximum Likelihood optimization failed to converge. Check mle_retvals\n",
      "\n",
      "178it [00:43,  4.05it/s]c:\\Users\\seelc\\OneDrive\\Desktop\\Lucas Desktop Items\\Projects\\forecasting\\.venv\\Lib\\site-packages\\statsmodels\\tsa\\statespace\\sarimax.py:966: UserWarning:\n",
      "\n",
      "Non-stationary starting autoregressive parameters found. Using zeros as starting parameters.\n",
      "\n",
      "c:\\Users\\seelc\\OneDrive\\Desktop\\Lucas Desktop Items\\Projects\\forecasting\\.venv\\Lib\\site-packages\\statsmodels\\base\\model.py:607: ConvergenceWarning:\n",
      "\n",
      "Maximum Likelihood optimization failed to converge. Check mle_retvals\n",
      "\n",
      "179it [00:44,  3.94it/s]c:\\Users\\seelc\\OneDrive\\Desktop\\Lucas Desktop Items\\Projects\\forecasting\\.venv\\Lib\\site-packages\\statsmodels\\tsa\\statespace\\sarimax.py:966: UserWarning:\n",
      "\n",
      "Non-stationary starting autoregressive parameters found. Using zeros as starting parameters.\n",
      "\n",
      "c:\\Users\\seelc\\OneDrive\\Desktop\\Lucas Desktop Items\\Projects\\forecasting\\.venv\\Lib\\site-packages\\statsmodels\\tsa\\statespace\\sarimax.py:1009: UserWarning:\n",
      "\n",
      "Non-invertible starting seasonal moving average Using zeros as starting parameters.\n",
      "\n",
      "c:\\Users\\seelc\\OneDrive\\Desktop\\Lucas Desktop Items\\Projects\\forecasting\\.venv\\Lib\\site-packages\\statsmodels\\base\\model.py:607: ConvergenceWarning:\n",
      "\n",
      "Maximum Likelihood optimization failed to converge. Check mle_retvals\n",
      "\n",
      "180it [00:44,  3.80it/s]c:\\Users\\seelc\\OneDrive\\Desktop\\Lucas Desktop Items\\Projects\\forecasting\\.venv\\Lib\\site-packages\\statsmodels\\tsa\\statespace\\sarimax.py:966: UserWarning:\n",
      "\n",
      "Non-stationary starting autoregressive parameters found. Using zeros as starting parameters.\n",
      "\n",
      "c:\\Users\\seelc\\OneDrive\\Desktop\\Lucas Desktop Items\\Projects\\forecasting\\.venv\\Lib\\site-packages\\statsmodels\\tsa\\statespace\\sarimax.py:997: UserWarning:\n",
      "\n",
      "Non-stationary starting seasonal autoregressive Using zeros as starting parameters.\n",
      "\n",
      "c:\\Users\\seelc\\OneDrive\\Desktop\\Lucas Desktop Items\\Projects\\forecasting\\.venv\\Lib\\site-packages\\statsmodels\\base\\model.py:607: ConvergenceWarning:\n",
      "\n",
      "Maximum Likelihood optimization failed to converge. Check mle_retvals\n",
      "\n",
      "181it [00:44,  3.91it/s]c:\\Users\\seelc\\OneDrive\\Desktop\\Lucas Desktop Items\\Projects\\forecasting\\.venv\\Lib\\site-packages\\statsmodels\\tsa\\statespace\\sarimax.py:966: UserWarning:\n",
      "\n",
      "Non-stationary starting autoregressive parameters found. Using zeros as starting parameters.\n",
      "\n",
      "c:\\Users\\seelc\\OneDrive\\Desktop\\Lucas Desktop Items\\Projects\\forecasting\\.venv\\Lib\\site-packages\\statsmodels\\tsa\\statespace\\sarimax.py:997: UserWarning:\n",
      "\n",
      "Non-stationary starting seasonal autoregressive Using zeros as starting parameters.\n",
      "\n",
      "182it [00:44,  4.07it/s]c:\\Users\\seelc\\OneDrive\\Desktop\\Lucas Desktop Items\\Projects\\forecasting\\.venv\\Lib\\site-packages\\statsmodels\\tsa\\statespace\\sarimax.py:966: UserWarning:\n",
      "\n",
      "Non-stationary starting autoregressive parameters found. Using zeros as starting parameters.\n",
      "\n",
      "c:\\Users\\seelc\\OneDrive\\Desktop\\Lucas Desktop Items\\Projects\\forecasting\\.venv\\Lib\\site-packages\\statsmodels\\tsa\\statespace\\sarimax.py:997: UserWarning:\n",
      "\n",
      "Non-stationary starting seasonal autoregressive Using zeros as starting parameters.\n",
      "\n",
      "c:\\Users\\seelc\\OneDrive\\Desktop\\Lucas Desktop Items\\Projects\\forecasting\\.venv\\Lib\\site-packages\\statsmodels\\base\\model.py:607: ConvergenceWarning:\n",
      "\n",
      "Maximum Likelihood optimization failed to converge. Check mle_retvals\n",
      "\n",
      "183it [00:45,  3.79it/s]c:\\Users\\seelc\\OneDrive\\Desktop\\Lucas Desktop Items\\Projects\\forecasting\\.venv\\Lib\\site-packages\\statsmodels\\tsa\\statespace\\sarimax.py:966: UserWarning:\n",
      "\n",
      "Non-stationary starting autoregressive parameters found. Using zeros as starting parameters.\n",
      "\n",
      "c:\\Users\\seelc\\OneDrive\\Desktop\\Lucas Desktop Items\\Projects\\forecasting\\.venv\\Lib\\site-packages\\statsmodels\\tsa\\statespace\\sarimax.py:997: UserWarning:\n",
      "\n",
      "Non-stationary starting seasonal autoregressive Using zeros as starting parameters.\n",
      "\n",
      "c:\\Users\\seelc\\OneDrive\\Desktop\\Lucas Desktop Items\\Projects\\forecasting\\.venv\\Lib\\site-packages\\statsmodels\\base\\model.py:607: ConvergenceWarning:\n",
      "\n",
      "Maximum Likelihood optimization failed to converge. Check mle_retvals\n",
      "\n",
      "184it [00:45,  3.54it/s]c:\\Users\\seelc\\OneDrive\\Desktop\\Lucas Desktop Items\\Projects\\forecasting\\.venv\\Lib\\site-packages\\statsmodels\\tsa\\statespace\\sarimax.py:966: UserWarning:\n",
      "\n",
      "Non-stationary starting autoregressive parameters found. Using zeros as starting parameters.\n",
      "\n",
      "c:\\Users\\seelc\\OneDrive\\Desktop\\Lucas Desktop Items\\Projects\\forecasting\\.venv\\Lib\\site-packages\\statsmodels\\tsa\\statespace\\sarimax.py:997: UserWarning:\n",
      "\n",
      "Non-stationary starting seasonal autoregressive Using zeros as starting parameters.\n",
      "\n",
      "c:\\Users\\seelc\\OneDrive\\Desktop\\Lucas Desktop Items\\Projects\\forecasting\\.venv\\Lib\\site-packages\\statsmodels\\base\\model.py:607: ConvergenceWarning:\n",
      "\n",
      "Maximum Likelihood optimization failed to converge. Check mle_retvals\n",
      "\n",
      "185it [00:45,  3.70it/s]c:\\Users\\seelc\\OneDrive\\Desktop\\Lucas Desktop Items\\Projects\\forecasting\\.venv\\Lib\\site-packages\\statsmodels\\tsa\\statespace\\sarimax.py:966: UserWarning:\n",
      "\n",
      "Non-stationary starting autoregressive parameters found. Using zeros as starting parameters.\n",
      "\n",
      "c:\\Users\\seelc\\OneDrive\\Desktop\\Lucas Desktop Items\\Projects\\forecasting\\.venv\\Lib\\site-packages\\statsmodels\\tsa\\statespace\\sarimax.py:997: UserWarning:\n",
      "\n",
      "Non-stationary starting seasonal autoregressive Using zeros as starting parameters.\n",
      "\n",
      "186it [00:46,  3.77it/s]c:\\Users\\seelc\\OneDrive\\Desktop\\Lucas Desktop Items\\Projects\\forecasting\\.venv\\Lib\\site-packages\\statsmodels\\tsa\\statespace\\sarimax.py:966: UserWarning:\n",
      "\n",
      "Non-stationary starting autoregressive parameters found. Using zeros as starting parameters.\n",
      "\n",
      "c:\\Users\\seelc\\OneDrive\\Desktop\\Lucas Desktop Items\\Projects\\forecasting\\.venv\\Lib\\site-packages\\statsmodels\\tsa\\statespace\\sarimax.py:997: UserWarning:\n",
      "\n",
      "Non-stationary starting seasonal autoregressive Using zeros as starting parameters.\n",
      "\n",
      "c:\\Users\\seelc\\OneDrive\\Desktop\\Lucas Desktop Items\\Projects\\forecasting\\.venv\\Lib\\site-packages\\statsmodels\\base\\model.py:607: ConvergenceWarning:\n",
      "\n",
      "Maximum Likelihood optimization failed to converge. Check mle_retvals\n",
      "\n",
      "187it [00:46,  3.46it/s]c:\\Users\\seelc\\OneDrive\\Desktop\\Lucas Desktop Items\\Projects\\forecasting\\.venv\\Lib\\site-packages\\statsmodels\\tsa\\statespace\\sarimax.py:966: UserWarning:\n",
      "\n",
      "Non-stationary starting autoregressive parameters found. Using zeros as starting parameters.\n",
      "\n",
      "c:\\Users\\seelc\\OneDrive\\Desktop\\Lucas Desktop Items\\Projects\\forecasting\\.venv\\Lib\\site-packages\\statsmodels\\tsa\\statespace\\sarimax.py:997: UserWarning:\n",
      "\n",
      "Non-stationary starting seasonal autoregressive Using zeros as starting parameters.\n",
      "\n",
      "c:\\Users\\seelc\\OneDrive\\Desktop\\Lucas Desktop Items\\Projects\\forecasting\\.venv\\Lib\\site-packages\\statsmodels\\base\\model.py:607: ConvergenceWarning:\n",
      "\n",
      "Maximum Likelihood optimization failed to converge. Check mle_retvals\n",
      "\n",
      "188it [00:46,  2.55it/s]c:\\Users\\seelc\\OneDrive\\Desktop\\Lucas Desktop Items\\Projects\\forecasting\\.venv\\Lib\\site-packages\\statsmodels\\tsa\\statespace\\sarimax.py:966: UserWarning:\n",
      "\n",
      "Non-stationary starting autoregressive parameters found. Using zeros as starting parameters.\n",
      "\n",
      "c:\\Users\\seelc\\OneDrive\\Desktop\\Lucas Desktop Items\\Projects\\forecasting\\.venv\\Lib\\site-packages\\statsmodels\\tsa\\statespace\\sarimax.py:997: UserWarning:\n",
      "\n",
      "Non-stationary starting seasonal autoregressive Using zeros as starting parameters.\n",
      "\n",
      "c:\\Users\\seelc\\OneDrive\\Desktop\\Lucas Desktop Items\\Projects\\forecasting\\.venv\\Lib\\site-packages\\statsmodels\\base\\model.py:607: ConvergenceWarning:\n",
      "\n",
      "Maximum Likelihood optimization failed to converge. Check mle_retvals\n",
      "\n",
      "189it [00:47,  2.70it/s]c:\\Users\\seelc\\OneDrive\\Desktop\\Lucas Desktop Items\\Projects\\forecasting\\.venv\\Lib\\site-packages\\statsmodels\\tsa\\statespace\\sarimax.py:966: UserWarning:\n",
      "\n",
      "Non-stationary starting autoregressive parameters found. Using zeros as starting parameters.\n",
      "\n",
      "c:\\Users\\seelc\\OneDrive\\Desktop\\Lucas Desktop Items\\Projects\\forecasting\\.venv\\Lib\\site-packages\\statsmodels\\tsa\\statespace\\sarimax.py:997: UserWarning:\n",
      "\n",
      "Non-stationary starting seasonal autoregressive Using zeros as starting parameters.\n",
      "\n",
      "c:\\Users\\seelc\\OneDrive\\Desktop\\Lucas Desktop Items\\Projects\\forecasting\\.venv\\Lib\\site-packages\\statsmodels\\base\\model.py:607: ConvergenceWarning:\n",
      "\n",
      "Maximum Likelihood optimization failed to converge. Check mle_retvals\n",
      "\n",
      "190it [00:47,  2.66it/s]c:\\Users\\seelc\\OneDrive\\Desktop\\Lucas Desktop Items\\Projects\\forecasting\\.venv\\Lib\\site-packages\\statsmodels\\tsa\\statespace\\sarimax.py:966: UserWarning:\n",
      "\n",
      "Non-stationary starting autoregressive parameters found. Using zeros as starting parameters.\n",
      "\n",
      "c:\\Users\\seelc\\OneDrive\\Desktop\\Lucas Desktop Items\\Projects\\forecasting\\.venv\\Lib\\site-packages\\statsmodels\\tsa\\statespace\\sarimax.py:997: UserWarning:\n",
      "\n",
      "Non-stationary starting seasonal autoregressive Using zeros as starting parameters.\n",
      "\n",
      "c:\\Users\\seelc\\OneDrive\\Desktop\\Lucas Desktop Items\\Projects\\forecasting\\.venv\\Lib\\site-packages\\statsmodels\\base\\model.py:607: ConvergenceWarning:\n",
      "\n",
      "Maximum Likelihood optimization failed to converge. Check mle_retvals\n",
      "\n",
      "191it [00:48,  2.49it/s]c:\\Users\\seelc\\OneDrive\\Desktop\\Lucas Desktop Items\\Projects\\forecasting\\.venv\\Lib\\site-packages\\statsmodels\\tsa\\statespace\\sarimax.py:966: UserWarning:\n",
      "\n",
      "Non-stationary starting autoregressive parameters found. Using zeros as starting parameters.\n",
      "\n",
      "c:\\Users\\seelc\\OneDrive\\Desktop\\Lucas Desktop Items\\Projects\\forecasting\\.venv\\Lib\\site-packages\\statsmodels\\tsa\\statespace\\sarimax.py:997: UserWarning:\n",
      "\n",
      "Non-stationary starting seasonal autoregressive Using zeros as starting parameters.\n",
      "\n",
      "c:\\Users\\seelc\\OneDrive\\Desktop\\Lucas Desktop Items\\Projects\\forecasting\\.venv\\Lib\\site-packages\\statsmodels\\base\\model.py:607: ConvergenceWarning:\n",
      "\n",
      "Maximum Likelihood optimization failed to converge. Check mle_retvals\n",
      "\n",
      "192it [00:48,  2.44it/s]c:\\Users\\seelc\\OneDrive\\Desktop\\Lucas Desktop Items\\Projects\\forecasting\\.venv\\Lib\\site-packages\\statsmodels\\tsa\\statespace\\sarimax.py:966: UserWarning:\n",
      "\n",
      "Non-stationary starting autoregressive parameters found. Using zeros as starting parameters.\n",
      "\n",
      "c:\\Users\\seelc\\OneDrive\\Desktop\\Lucas Desktop Items\\Projects\\forecasting\\.venv\\Lib\\site-packages\\statsmodels\\tsa\\statespace\\sarimax.py:966: UserWarning:\n",
      "\n",
      "Non-stationary starting autoregressive parameters found. Using zeros as starting parameters.\n",
      "\n",
      "194it [00:48,  3.79it/s]c:\\Users\\seelc\\OneDrive\\Desktop\\Lucas Desktop Items\\Projects\\forecasting\\.venv\\Lib\\site-packages\\statsmodels\\tsa\\statespace\\sarimax.py:966: UserWarning:\n",
      "\n",
      "Non-stationary starting autoregressive parameters found. Using zeros as starting parameters.\n",
      "\n",
      "195it [00:48,  4.02it/s]c:\\Users\\seelc\\OneDrive\\Desktop\\Lucas Desktop Items\\Projects\\forecasting\\.venv\\Lib\\site-packages\\statsmodels\\tsa\\statespace\\sarimax.py:1009: UserWarning:\n",
      "\n",
      "Non-invertible starting seasonal moving average Using zeros as starting parameters.\n",
      "\n",
      "c:\\Users\\seelc\\OneDrive\\Desktop\\Lucas Desktop Items\\Projects\\forecasting\\.venv\\Lib\\site-packages\\statsmodels\\base\\model.py:607: ConvergenceWarning:\n",
      "\n",
      "Maximum Likelihood optimization failed to converge. Check mle_retvals\n",
      "\n",
      "196it [00:49,  3.86it/s]c:\\Users\\seelc\\OneDrive\\Desktop\\Lucas Desktop Items\\Projects\\forecasting\\.venv\\Lib\\site-packages\\statsmodels\\tsa\\statespace\\sarimax.py:966: UserWarning:\n",
      "\n",
      "Non-stationary starting autoregressive parameters found. Using zeros as starting parameters.\n",
      "\n",
      "c:\\Users\\seelc\\OneDrive\\Desktop\\Lucas Desktop Items\\Projects\\forecasting\\.venv\\Lib\\site-packages\\statsmodels\\tsa\\statespace\\sarimax.py:997: UserWarning:\n",
      "\n",
      "Non-stationary starting seasonal autoregressive Using zeros as starting parameters.\n",
      "\n",
      "c:\\Users\\seelc\\OneDrive\\Desktop\\Lucas Desktop Items\\Projects\\forecasting\\.venv\\Lib\\site-packages\\statsmodels\\base\\model.py:607: ConvergenceWarning:\n",
      "\n",
      "Maximum Likelihood optimization failed to converge. Check mle_retvals\n",
      "\n",
      "197it [00:49,  4.22it/s]c:\\Users\\seelc\\OneDrive\\Desktop\\Lucas Desktop Items\\Projects\\forecasting\\.venv\\Lib\\site-packages\\statsmodels\\tsa\\statespace\\sarimax.py:966: UserWarning:\n",
      "\n",
      "Non-stationary starting autoregressive parameters found. Using zeros as starting parameters.\n",
      "\n",
      "c:\\Users\\seelc\\OneDrive\\Desktop\\Lucas Desktop Items\\Projects\\forecasting\\.venv\\Lib\\site-packages\\statsmodels\\tsa\\statespace\\sarimax.py:997: UserWarning:\n",
      "\n",
      "Non-stationary starting seasonal autoregressive Using zeros as starting parameters.\n",
      "\n",
      "198it [00:49,  4.68it/s]c:\\Users\\seelc\\OneDrive\\Desktop\\Lucas Desktop Items\\Projects\\forecasting\\.venv\\Lib\\site-packages\\statsmodels\\tsa\\statespace\\sarimax.py:966: UserWarning:\n",
      "\n",
      "Non-stationary starting autoregressive parameters found. Using zeros as starting parameters.\n",
      "\n",
      "c:\\Users\\seelc\\OneDrive\\Desktop\\Lucas Desktop Items\\Projects\\forecasting\\.venv\\Lib\\site-packages\\statsmodels\\tsa\\statespace\\sarimax.py:997: UserWarning:\n",
      "\n",
      "Non-stationary starting seasonal autoregressive Using zeros as starting parameters.\n",
      "\n",
      "199it [00:49,  4.82it/s]c:\\Users\\seelc\\OneDrive\\Desktop\\Lucas Desktop Items\\Projects\\forecasting\\.venv\\Lib\\site-packages\\statsmodels\\tsa\\statespace\\sarimax.py:966: UserWarning:\n",
      "\n",
      "Non-stationary starting autoregressive parameters found. Using zeros as starting parameters.\n",
      "\n",
      "c:\\Users\\seelc\\OneDrive\\Desktop\\Lucas Desktop Items\\Projects\\forecasting\\.venv\\Lib\\site-packages\\statsmodels\\tsa\\statespace\\sarimax.py:997: UserWarning:\n",
      "\n",
      "Non-stationary starting seasonal autoregressive Using zeros as starting parameters.\n",
      "\n",
      "c:\\Users\\seelc\\OneDrive\\Desktop\\Lucas Desktop Items\\Projects\\forecasting\\.venv\\Lib\\site-packages\\statsmodels\\base\\model.py:607: ConvergenceWarning:\n",
      "\n",
      "Maximum Likelihood optimization failed to converge. Check mle_retvals\n",
      "\n",
      "200it [00:50,  4.47it/s]c:\\Users\\seelc\\OneDrive\\Desktop\\Lucas Desktop Items\\Projects\\forecasting\\.venv\\Lib\\site-packages\\statsmodels\\tsa\\statespace\\sarimax.py:966: UserWarning:\n",
      "\n",
      "Non-stationary starting autoregressive parameters found. Using zeros as starting parameters.\n",
      "\n",
      "c:\\Users\\seelc\\OneDrive\\Desktop\\Lucas Desktop Items\\Projects\\forecasting\\.venv\\Lib\\site-packages\\statsmodels\\tsa\\statespace\\sarimax.py:997: UserWarning:\n",
      "\n",
      "Non-stationary starting seasonal autoregressive Using zeros as starting parameters.\n",
      "\n",
      "201it [00:50,  4.63it/s]c:\\Users\\seelc\\OneDrive\\Desktop\\Lucas Desktop Items\\Projects\\forecasting\\.venv\\Lib\\site-packages\\statsmodels\\tsa\\statespace\\sarimax.py:966: UserWarning:\n",
      "\n",
      "Non-stationary starting autoregressive parameters found. Using zeros as starting parameters.\n",
      "\n",
      "c:\\Users\\seelc\\OneDrive\\Desktop\\Lucas Desktop Items\\Projects\\forecasting\\.venv\\Lib\\site-packages\\statsmodels\\tsa\\statespace\\sarimax.py:997: UserWarning:\n",
      "\n",
      "Non-stationary starting seasonal autoregressive Using zeros as starting parameters.\n",
      "\n",
      "202it [00:50,  3.94it/s]c:\\Users\\seelc\\OneDrive\\Desktop\\Lucas Desktop Items\\Projects\\forecasting\\.venv\\Lib\\site-packages\\statsmodels\\base\\model.py:607: ConvergenceWarning:\n",
      "\n",
      "Maximum Likelihood optimization failed to converge. Check mle_retvals\n",
      "\n",
      "203it [00:50,  3.89it/s]c:\\Users\\seelc\\OneDrive\\Desktop\\Lucas Desktop Items\\Projects\\forecasting\\.venv\\Lib\\site-packages\\statsmodels\\tsa\\statespace\\sarimax.py:966: UserWarning:\n",
      "\n",
      "Non-stationary starting autoregressive parameters found. Using zeros as starting parameters.\n",
      "\n",
      "c:\\Users\\seelc\\OneDrive\\Desktop\\Lucas Desktop Items\\Projects\\forecasting\\.venv\\Lib\\site-packages\\statsmodels\\tsa\\statespace\\sarimax.py:997: UserWarning:\n",
      "\n",
      "Non-stationary starting seasonal autoregressive Using zeros as starting parameters.\n",
      "\n",
      "204it [00:51,  3.71it/s]c:\\Users\\seelc\\OneDrive\\Desktop\\Lucas Desktop Items\\Projects\\forecasting\\.venv\\Lib\\site-packages\\statsmodels\\base\\model.py:607: ConvergenceWarning:\n",
      "\n",
      "Maximum Likelihood optimization failed to converge. Check mle_retvals\n",
      "\n",
      "205it [00:51,  3.71it/s]c:\\Users\\seelc\\OneDrive\\Desktop\\Lucas Desktop Items\\Projects\\forecasting\\.venv\\Lib\\site-packages\\statsmodels\\tsa\\statespace\\sarimax.py:966: UserWarning:\n",
      "\n",
      "Non-stationary starting autoregressive parameters found. Using zeros as starting parameters.\n",
      "\n",
      "c:\\Users\\seelc\\OneDrive\\Desktop\\Lucas Desktop Items\\Projects\\forecasting\\.venv\\Lib\\site-packages\\statsmodels\\tsa\\statespace\\sarimax.py:997: UserWarning:\n",
      "\n",
      "Non-stationary starting seasonal autoregressive Using zeros as starting parameters.\n",
      "\n",
      "c:\\Users\\seelc\\OneDrive\\Desktop\\Lucas Desktop Items\\Projects\\forecasting\\.venv\\Lib\\site-packages\\statsmodels\\base\\model.py:607: ConvergenceWarning:\n",
      "\n",
      "Maximum Likelihood optimization failed to converge. Check mle_retvals\n",
      "\n",
      "206it [00:51,  3.41it/s]c:\\Users\\seelc\\OneDrive\\Desktop\\Lucas Desktop Items\\Projects\\forecasting\\.venv\\Lib\\site-packages\\statsmodels\\tsa\\statespace\\sarimax.py:966: UserWarning:\n",
      "\n",
      "Non-stationary starting autoregressive parameters found. Using zeros as starting parameters.\n",
      "\n",
      "c:\\Users\\seelc\\OneDrive\\Desktop\\Lucas Desktop Items\\Projects\\forecasting\\.venv\\Lib\\site-packages\\statsmodels\\tsa\\statespace\\sarimax.py:997: UserWarning:\n",
      "\n",
      "Non-stationary starting seasonal autoregressive Using zeros as starting parameters.\n",
      "\n",
      "c:\\Users\\seelc\\OneDrive\\Desktop\\Lucas Desktop Items\\Projects\\forecasting\\.venv\\Lib\\site-packages\\statsmodels\\base\\model.py:607: ConvergenceWarning:\n",
      "\n",
      "Maximum Likelihood optimization failed to converge. Check mle_retvals\n",
      "\n",
      "207it [00:52,  3.01it/s]c:\\Users\\seelc\\OneDrive\\Desktop\\Lucas Desktop Items\\Projects\\forecasting\\.venv\\Lib\\site-packages\\statsmodels\\tsa\\statespace\\sarimax.py:966: UserWarning:\n",
      "\n",
      "Non-stationary starting autoregressive parameters found. Using zeros as starting parameters.\n",
      "\n",
      "c:\\Users\\seelc\\OneDrive\\Desktop\\Lucas Desktop Items\\Projects\\forecasting\\.venv\\Lib\\site-packages\\statsmodels\\tsa\\statespace\\sarimax.py:997: UserWarning:\n",
      "\n",
      "Non-stationary starting seasonal autoregressive Using zeros as starting parameters.\n",
      "\n",
      "c:\\Users\\seelc\\OneDrive\\Desktop\\Lucas Desktop Items\\Projects\\forecasting\\.venv\\Lib\\site-packages\\statsmodels\\base\\model.py:607: ConvergenceWarning:\n",
      "\n",
      "Maximum Likelihood optimization failed to converge. Check mle_retvals\n",
      "\n",
      "208it [00:52,  2.96it/s]c:\\Users\\seelc\\OneDrive\\Desktop\\Lucas Desktop Items\\Projects\\forecasting\\.venv\\Lib\\site-packages\\statsmodels\\tsa\\statespace\\sarimax.py:966: UserWarning:\n",
      "\n",
      "Non-stationary starting autoregressive parameters found. Using zeros as starting parameters.\n",
      "\n",
      "209it [00:52,  3.68it/s]c:\\Users\\seelc\\OneDrive\\Desktop\\Lucas Desktop Items\\Projects\\forecasting\\.venv\\Lib\\site-packages\\statsmodels\\tsa\\statespace\\sarimax.py:966: UserWarning:\n",
      "\n",
      "Non-stationary starting autoregressive parameters found. Using zeros as starting parameters.\n",
      "\n",
      "c:\\Users\\seelc\\OneDrive\\Desktop\\Lucas Desktop Items\\Projects\\forecasting\\.venv\\Lib\\site-packages\\statsmodels\\base\\model.py:607: ConvergenceWarning:\n",
      "\n",
      "Maximum Likelihood optimization failed to converge. Check mle_retvals\n",
      "\n",
      "210it [00:52,  4.09it/s]c:\\Users\\seelc\\OneDrive\\Desktop\\Lucas Desktop Items\\Projects\\forecasting\\.venv\\Lib\\site-packages\\statsmodels\\tsa\\statespace\\sarimax.py:966: UserWarning:\n",
      "\n",
      "Non-stationary starting autoregressive parameters found. Using zeros as starting parameters.\n",
      "\n",
      "c:\\Users\\seelc\\OneDrive\\Desktop\\Lucas Desktop Items\\Projects\\forecasting\\.venv\\Lib\\site-packages\\statsmodels\\base\\model.py:607: ConvergenceWarning:\n",
      "\n",
      "Maximum Likelihood optimization failed to converge. Check mle_retvals\n",
      "\n",
      "211it [00:53,  4.27it/s]c:\\Users\\seelc\\OneDrive\\Desktop\\Lucas Desktop Items\\Projects\\forecasting\\.venv\\Lib\\site-packages\\statsmodels\\tsa\\statespace\\sarimax.py:966: UserWarning:\n",
      "\n",
      "Non-stationary starting autoregressive parameters found. Using zeros as starting parameters.\n",
      "\n",
      "c:\\Users\\seelc\\OneDrive\\Desktop\\Lucas Desktop Items\\Projects\\forecasting\\.venv\\Lib\\site-packages\\statsmodels\\tsa\\statespace\\sarimax.py:1009: UserWarning:\n",
      "\n",
      "Non-invertible starting seasonal moving average Using zeros as starting parameters.\n",
      "\n",
      "c:\\Users\\seelc\\OneDrive\\Desktop\\Lucas Desktop Items\\Projects\\forecasting\\.venv\\Lib\\site-packages\\statsmodels\\base\\model.py:607: ConvergenceWarning:\n",
      "\n",
      "Maximum Likelihood optimization failed to converge. Check mle_retvals\n",
      "\n",
      "212it [00:53,  4.02it/s]c:\\Users\\seelc\\OneDrive\\Desktop\\Lucas Desktop Items\\Projects\\forecasting\\.venv\\Lib\\site-packages\\statsmodels\\tsa\\statespace\\sarimax.py:966: UserWarning:\n",
      "\n",
      "Non-stationary starting autoregressive parameters found. Using zeros as starting parameters.\n",
      "\n",
      "c:\\Users\\seelc\\OneDrive\\Desktop\\Lucas Desktop Items\\Projects\\forecasting\\.venv\\Lib\\site-packages\\statsmodels\\tsa\\statespace\\sarimax.py:997: UserWarning:\n",
      "\n",
      "Non-stationary starting seasonal autoregressive Using zeros as starting parameters.\n",
      "\n",
      "213it [00:53,  4.50it/s]c:\\Users\\seelc\\OneDrive\\Desktop\\Lucas Desktop Items\\Projects\\forecasting\\.venv\\Lib\\site-packages\\statsmodels\\tsa\\statespace\\sarimax.py:966: UserWarning:\n",
      "\n",
      "Non-stationary starting autoregressive parameters found. Using zeros as starting parameters.\n",
      "\n",
      "c:\\Users\\seelc\\OneDrive\\Desktop\\Lucas Desktop Items\\Projects\\forecasting\\.venv\\Lib\\site-packages\\statsmodels\\tsa\\statespace\\sarimax.py:997: UserWarning:\n",
      "\n",
      "Non-stationary starting seasonal autoregressive Using zeros as starting parameters.\n",
      "\n",
      "c:\\Users\\seelc\\OneDrive\\Desktop\\Lucas Desktop Items\\Projects\\forecasting\\.venv\\Lib\\site-packages\\statsmodels\\base\\model.py:607: ConvergenceWarning:\n",
      "\n",
      "Maximum Likelihood optimization failed to converge. Check mle_retvals\n",
      "\n",
      "214it [00:53,  4.50it/s]c:\\Users\\seelc\\OneDrive\\Desktop\\Lucas Desktop Items\\Projects\\forecasting\\.venv\\Lib\\site-packages\\statsmodels\\tsa\\statespace\\sarimax.py:966: UserWarning:\n",
      "\n",
      "Non-stationary starting autoregressive parameters found. Using zeros as starting parameters.\n",
      "\n",
      "c:\\Users\\seelc\\OneDrive\\Desktop\\Lucas Desktop Items\\Projects\\forecasting\\.venv\\Lib\\site-packages\\statsmodels\\tsa\\statespace\\sarimax.py:997: UserWarning:\n",
      "\n",
      "Non-stationary starting seasonal autoregressive Using zeros as starting parameters.\n",
      "\n",
      "215it [00:54,  4.00it/s]c:\\Users\\seelc\\OneDrive\\Desktop\\Lucas Desktop Items\\Projects\\forecasting\\.venv\\Lib\\site-packages\\statsmodels\\tsa\\statespace\\sarimax.py:966: UserWarning:\n",
      "\n",
      "Non-stationary starting autoregressive parameters found. Using zeros as starting parameters.\n",
      "\n",
      "c:\\Users\\seelc\\OneDrive\\Desktop\\Lucas Desktop Items\\Projects\\forecasting\\.venv\\Lib\\site-packages\\statsmodels\\tsa\\statespace\\sarimax.py:997: UserWarning:\n",
      "\n",
      "Non-stationary starting seasonal autoregressive Using zeros as starting parameters.\n",
      "\n",
      "c:\\Users\\seelc\\OneDrive\\Desktop\\Lucas Desktop Items\\Projects\\forecasting\\.venv\\Lib\\site-packages\\statsmodels\\base\\model.py:607: ConvergenceWarning:\n",
      "\n",
      "Maximum Likelihood optimization failed to converge. Check mle_retvals\n",
      "\n",
      "216it [00:54,  3.49it/s]c:\\Users\\seelc\\OneDrive\\Desktop\\Lucas Desktop Items\\Projects\\forecasting\\.venv\\Lib\\site-packages\\statsmodels\\tsa\\statespace\\sarimax.py:966: UserWarning:\n",
      "\n",
      "Non-stationary starting autoregressive parameters found. Using zeros as starting parameters.\n",
      "\n",
      "c:\\Users\\seelc\\OneDrive\\Desktop\\Lucas Desktop Items\\Projects\\forecasting\\.venv\\Lib\\site-packages\\statsmodels\\tsa\\statespace\\sarimax.py:997: UserWarning:\n",
      "\n",
      "Non-stationary starting seasonal autoregressive Using zeros as starting parameters.\n",
      "\n",
      "c:\\Users\\seelc\\OneDrive\\Desktop\\Lucas Desktop Items\\Projects\\forecasting\\.venv\\Lib\\site-packages\\statsmodels\\base\\model.py:607: ConvergenceWarning:\n",
      "\n",
      "Maximum Likelihood optimization failed to converge. Check mle_retvals\n",
      "\n",
      "217it [00:54,  3.58it/s]c:\\Users\\seelc\\OneDrive\\Desktop\\Lucas Desktop Items\\Projects\\forecasting\\.venv\\Lib\\site-packages\\statsmodels\\tsa\\statespace\\sarimax.py:966: UserWarning:\n",
      "\n",
      "Non-stationary starting autoregressive parameters found. Using zeros as starting parameters.\n",
      "\n",
      "c:\\Users\\seelc\\OneDrive\\Desktop\\Lucas Desktop Items\\Projects\\forecasting\\.venv\\Lib\\site-packages\\statsmodels\\tsa\\statespace\\sarimax.py:997: UserWarning:\n",
      "\n",
      "Non-stationary starting seasonal autoregressive Using zeros as starting parameters.\n",
      "\n",
      "c:\\Users\\seelc\\OneDrive\\Desktop\\Lucas Desktop Items\\Projects\\forecasting\\.venv\\Lib\\site-packages\\statsmodels\\base\\model.py:607: ConvergenceWarning:\n",
      "\n",
      "Maximum Likelihood optimization failed to converge. Check mle_retvals\n",
      "\n",
      "218it [00:55,  2.17it/s]c:\\Users\\seelc\\OneDrive\\Desktop\\Lucas Desktop Items\\Projects\\forecasting\\.venv\\Lib\\site-packages\\statsmodels\\tsa\\statespace\\sarimax.py:966: UserWarning:\n",
      "\n",
      "Non-stationary starting autoregressive parameters found. Using zeros as starting parameters.\n",
      "\n",
      "c:\\Users\\seelc\\OneDrive\\Desktop\\Lucas Desktop Items\\Projects\\forecasting\\.venv\\Lib\\site-packages\\statsmodels\\tsa\\statespace\\sarimax.py:997: UserWarning:\n",
      "\n",
      "Non-stationary starting seasonal autoregressive Using zeros as starting parameters.\n",
      "\n",
      "219it [00:55,  2.60it/s]c:\\Users\\seelc\\OneDrive\\Desktop\\Lucas Desktop Items\\Projects\\forecasting\\.venv\\Lib\\site-packages\\statsmodels\\base\\model.py:607: ConvergenceWarning:\n",
      "\n",
      "Maximum Likelihood optimization failed to converge. Check mle_retvals\n",
      "\n",
      "220it [00:56,  2.31it/s]c:\\Users\\seelc\\OneDrive\\Desktop\\Lucas Desktop Items\\Projects\\forecasting\\.venv\\Lib\\site-packages\\statsmodels\\tsa\\statespace\\sarimax.py:966: UserWarning:\n",
      "\n",
      "Non-stationary starting autoregressive parameters found. Using zeros as starting parameters.\n",
      "\n",
      "c:\\Users\\seelc\\OneDrive\\Desktop\\Lucas Desktop Items\\Projects\\forecasting\\.venv\\Lib\\site-packages\\statsmodels\\tsa\\statespace\\sarimax.py:997: UserWarning:\n",
      "\n",
      "Non-stationary starting seasonal autoregressive Using zeros as starting parameters.\n",
      "\n",
      "c:\\Users\\seelc\\OneDrive\\Desktop\\Lucas Desktop Items\\Projects\\forecasting\\.venv\\Lib\\site-packages\\statsmodels\\base\\model.py:607: ConvergenceWarning:\n",
      "\n",
      "Maximum Likelihood optimization failed to converge. Check mle_retvals\n",
      "\n",
      "221it [00:56,  2.55it/s]c:\\Users\\seelc\\OneDrive\\Desktop\\Lucas Desktop Items\\Projects\\forecasting\\.venv\\Lib\\site-packages\\statsmodels\\tsa\\statespace\\sarimax.py:966: UserWarning:\n",
      "\n",
      "Non-stationary starting autoregressive parameters found. Using zeros as starting parameters.\n",
      "\n",
      "c:\\Users\\seelc\\OneDrive\\Desktop\\Lucas Desktop Items\\Projects\\forecasting\\.venv\\Lib\\site-packages\\statsmodels\\tsa\\statespace\\sarimax.py:997: UserWarning:\n",
      "\n",
      "Non-stationary starting seasonal autoregressive Using zeros as starting parameters.\n",
      "\n",
      "c:\\Users\\seelc\\OneDrive\\Desktop\\Lucas Desktop Items\\Projects\\forecasting\\.venv\\Lib\\site-packages\\statsmodels\\base\\model.py:607: ConvergenceWarning:\n",
      "\n",
      "Maximum Likelihood optimization failed to converge. Check mle_retvals\n",
      "\n",
      "222it [00:57,  2.48it/s]c:\\Users\\seelc\\OneDrive\\Desktop\\Lucas Desktop Items\\Projects\\forecasting\\.venv\\Lib\\site-packages\\statsmodels\\tsa\\statespace\\sarimax.py:966: UserWarning:\n",
      "\n",
      "Non-stationary starting autoregressive parameters found. Using zeros as starting parameters.\n",
      "\n",
      "c:\\Users\\seelc\\OneDrive\\Desktop\\Lucas Desktop Items\\Projects\\forecasting\\.venv\\Lib\\site-packages\\statsmodels\\tsa\\statespace\\sarimax.py:997: UserWarning:\n",
      "\n",
      "Non-stationary starting seasonal autoregressive Using zeros as starting parameters.\n",
      "\n",
      "c:\\Users\\seelc\\OneDrive\\Desktop\\Lucas Desktop Items\\Projects\\forecasting\\.venv\\Lib\\site-packages\\statsmodels\\base\\model.py:607: ConvergenceWarning:\n",
      "\n",
      "Maximum Likelihood optimization failed to converge. Check mle_retvals\n",
      "\n",
      "223it [00:57,  2.28it/s]c:\\Users\\seelc\\OneDrive\\Desktop\\Lucas Desktop Items\\Projects\\forecasting\\.venv\\Lib\\site-packages\\statsmodels\\tsa\\statespace\\sarimax.py:966: UserWarning:\n",
      "\n",
      "Non-stationary starting autoregressive parameters found. Using zeros as starting parameters.\n",
      "\n",
      "c:\\Users\\seelc\\OneDrive\\Desktop\\Lucas Desktop Items\\Projects\\forecasting\\.venv\\Lib\\site-packages\\statsmodels\\tsa\\statespace\\sarimax.py:997: UserWarning:\n",
      "\n",
      "Non-stationary starting seasonal autoregressive Using zeros as starting parameters.\n",
      "\n",
      "c:\\Users\\seelc\\OneDrive\\Desktop\\Lucas Desktop Items\\Projects\\forecasting\\.venv\\Lib\\site-packages\\statsmodels\\base\\model.py:607: ConvergenceWarning:\n",
      "\n",
      "Maximum Likelihood optimization failed to converge. Check mle_retvals\n",
      "\n",
      "224it [00:57,  2.31it/s]c:\\Users\\seelc\\OneDrive\\Desktop\\Lucas Desktop Items\\Projects\\forecasting\\.venv\\Lib\\site-packages\\statsmodels\\tsa\\statespace\\sarimax.py:966: UserWarning:\n",
      "\n",
      "Non-stationary starting autoregressive parameters found. Using zeros as starting parameters.\n",
      "\n",
      "c:\\Users\\seelc\\OneDrive\\Desktop\\Lucas Desktop Items\\Projects\\forecasting\\.venv\\Lib\\site-packages\\statsmodels\\tsa\\statespace\\sarimax.py:978: UserWarning:\n",
      "\n",
      "Non-invertible starting MA parameters found. Using zeros as starting parameters.\n",
      "\n",
      "225it [00:58,  2.97it/s]c:\\Users\\seelc\\OneDrive\\Desktop\\Lucas Desktop Items\\Projects\\forecasting\\.venv\\Lib\\site-packages\\statsmodels\\tsa\\statespace\\sarimax.py:966: UserWarning:\n",
      "\n",
      "Non-stationary starting autoregressive parameters found. Using zeros as starting parameters.\n",
      "\n",
      "c:\\Users\\seelc\\OneDrive\\Desktop\\Lucas Desktop Items\\Projects\\forecasting\\.venv\\Lib\\site-packages\\statsmodels\\tsa\\statespace\\sarimax.py:978: UserWarning:\n",
      "\n",
      "Non-invertible starting MA parameters found. Using zeros as starting parameters.\n",
      "\n",
      "226it [00:58,  3.64it/s]c:\\Users\\seelc\\OneDrive\\Desktop\\Lucas Desktop Items\\Projects\\forecasting\\.venv\\Lib\\site-packages\\statsmodels\\tsa\\statespace\\sarimax.py:966: UserWarning:\n",
      "\n",
      "Non-stationary starting autoregressive parameters found. Using zeros as starting parameters.\n",
      "\n",
      "c:\\Users\\seelc\\OneDrive\\Desktop\\Lucas Desktop Items\\Projects\\forecasting\\.venv\\Lib\\site-packages\\statsmodels\\tsa\\statespace\\sarimax.py:978: UserWarning:\n",
      "\n",
      "Non-invertible starting MA parameters found. Using zeros as starting parameters.\n",
      "\n",
      "c:\\Users\\seelc\\OneDrive\\Desktop\\Lucas Desktop Items\\Projects\\forecasting\\.venv\\Lib\\site-packages\\statsmodels\\base\\model.py:607: ConvergenceWarning:\n",
      "\n",
      "Maximum Likelihood optimization failed to converge. Check mle_retvals\n",
      "\n",
      "227it [00:58,  3.73it/s]c:\\Users\\seelc\\OneDrive\\Desktop\\Lucas Desktop Items\\Projects\\forecasting\\.venv\\Lib\\site-packages\\statsmodels\\tsa\\statespace\\sarimax.py:966: UserWarning:\n",
      "\n",
      "Non-stationary starting autoregressive parameters found. Using zeros as starting parameters.\n",
      "\n",
      "c:\\Users\\seelc\\OneDrive\\Desktop\\Lucas Desktop Items\\Projects\\forecasting\\.venv\\Lib\\site-packages\\statsmodels\\tsa\\statespace\\sarimax.py:978: UserWarning:\n",
      "\n",
      "Non-invertible starting MA parameters found. Using zeros as starting parameters.\n",
      "\n",
      "c:\\Users\\seelc\\OneDrive\\Desktop\\Lucas Desktop Items\\Projects\\forecasting\\.venv\\Lib\\site-packages\\statsmodels\\tsa\\statespace\\sarimax.py:1009: UserWarning:\n",
      "\n",
      "Non-invertible starting seasonal moving average Using zeros as starting parameters.\n",
      "\n",
      "c:\\Users\\seelc\\OneDrive\\Desktop\\Lucas Desktop Items\\Projects\\forecasting\\.venv\\Lib\\site-packages\\statsmodels\\base\\model.py:607: ConvergenceWarning:\n",
      "\n",
      "Maximum Likelihood optimization failed to converge. Check mle_retvals\n",
      "\n",
      "228it [00:58,  3.56it/s]c:\\Users\\seelc\\OneDrive\\Desktop\\Lucas Desktop Items\\Projects\\forecasting\\.venv\\Lib\\site-packages\\statsmodels\\tsa\\statespace\\sarimax.py:966: UserWarning:\n",
      "\n",
      "Non-stationary starting autoregressive parameters found. Using zeros as starting parameters.\n",
      "\n",
      "c:\\Users\\seelc\\OneDrive\\Desktop\\Lucas Desktop Items\\Projects\\forecasting\\.venv\\Lib\\site-packages\\statsmodels\\tsa\\statespace\\sarimax.py:978: UserWarning:\n",
      "\n",
      "Non-invertible starting MA parameters found. Using zeros as starting parameters.\n",
      "\n",
      "c:\\Users\\seelc\\OneDrive\\Desktop\\Lucas Desktop Items\\Projects\\forecasting\\.venv\\Lib\\site-packages\\statsmodels\\tsa\\statespace\\sarimax.py:997: UserWarning:\n",
      "\n",
      "Non-stationary starting seasonal autoregressive Using zeros as starting parameters.\n",
      "\n",
      "c:\\Users\\seelc\\OneDrive\\Desktop\\Lucas Desktop Items\\Projects\\forecasting\\.venv\\Lib\\site-packages\\statsmodels\\base\\model.py:607: ConvergenceWarning:\n",
      "\n",
      "Maximum Likelihood optimization failed to converge. Check mle_retvals\n",
      "\n",
      "229it [00:58,  3.90it/s]c:\\Users\\seelc\\OneDrive\\Desktop\\Lucas Desktop Items\\Projects\\forecasting\\.venv\\Lib\\site-packages\\statsmodels\\tsa\\statespace\\sarimax.py:966: UserWarning:\n",
      "\n",
      "Non-stationary starting autoregressive parameters found. Using zeros as starting parameters.\n",
      "\n",
      "c:\\Users\\seelc\\OneDrive\\Desktop\\Lucas Desktop Items\\Projects\\forecasting\\.venv\\Lib\\site-packages\\statsmodels\\tsa\\statespace\\sarimax.py:978: UserWarning:\n",
      "\n",
      "Non-invertible starting MA parameters found. Using zeros as starting parameters.\n",
      "\n",
      "c:\\Users\\seelc\\OneDrive\\Desktop\\Lucas Desktop Items\\Projects\\forecasting\\.venv\\Lib\\site-packages\\statsmodels\\tsa\\statespace\\sarimax.py:997: UserWarning:\n",
      "\n",
      "Non-stationary starting seasonal autoregressive Using zeros as starting parameters.\n",
      "\n",
      "c:\\Users\\seelc\\OneDrive\\Desktop\\Lucas Desktop Items\\Projects\\forecasting\\.venv\\Lib\\site-packages\\statsmodels\\base\\model.py:607: ConvergenceWarning:\n",
      "\n",
      "Maximum Likelihood optimization failed to converge. Check mle_retvals\n",
      "\n",
      "230it [00:59,  4.03it/s]c:\\Users\\seelc\\OneDrive\\Desktop\\Lucas Desktop Items\\Projects\\forecasting\\.venv\\Lib\\site-packages\\statsmodels\\tsa\\statespace\\sarimax.py:966: UserWarning:\n",
      "\n",
      "Non-stationary starting autoregressive parameters found. Using zeros as starting parameters.\n",
      "\n",
      "c:\\Users\\seelc\\OneDrive\\Desktop\\Lucas Desktop Items\\Projects\\forecasting\\.venv\\Lib\\site-packages\\statsmodels\\tsa\\statespace\\sarimax.py:978: UserWarning:\n",
      "\n",
      "Non-invertible starting MA parameters found. Using zeros as starting parameters.\n",
      "\n",
      "c:\\Users\\seelc\\OneDrive\\Desktop\\Lucas Desktop Items\\Projects\\forecasting\\.venv\\Lib\\site-packages\\statsmodels\\tsa\\statespace\\sarimax.py:997: UserWarning:\n",
      "\n",
      "Non-stationary starting seasonal autoregressive Using zeros as starting parameters.\n",
      "\n",
      "c:\\Users\\seelc\\OneDrive\\Desktop\\Lucas Desktop Items\\Projects\\forecasting\\.venv\\Lib\\site-packages\\statsmodels\\base\\model.py:607: ConvergenceWarning:\n",
      "\n",
      "Maximum Likelihood optimization failed to converge. Check mle_retvals\n",
      "\n",
      "231it [00:59,  3.76it/s]c:\\Users\\seelc\\OneDrive\\Desktop\\Lucas Desktop Items\\Projects\\forecasting\\.venv\\Lib\\site-packages\\statsmodels\\tsa\\statespace\\sarimax.py:966: UserWarning:\n",
      "\n",
      "Non-stationary starting autoregressive parameters found. Using zeros as starting parameters.\n",
      "\n",
      "c:\\Users\\seelc\\OneDrive\\Desktop\\Lucas Desktop Items\\Projects\\forecasting\\.venv\\Lib\\site-packages\\statsmodels\\tsa\\statespace\\sarimax.py:978: UserWarning:\n",
      "\n",
      "Non-invertible starting MA parameters found. Using zeros as starting parameters.\n",
      "\n",
      "c:\\Users\\seelc\\OneDrive\\Desktop\\Lucas Desktop Items\\Projects\\forecasting\\.venv\\Lib\\site-packages\\statsmodels\\tsa\\statespace\\sarimax.py:997: UserWarning:\n",
      "\n",
      "Non-stationary starting seasonal autoregressive Using zeros as starting parameters.\n",
      "\n",
      "c:\\Users\\seelc\\OneDrive\\Desktop\\Lucas Desktop Items\\Projects\\forecasting\\.venv\\Lib\\site-packages\\statsmodels\\base\\model.py:607: ConvergenceWarning:\n",
      "\n",
      "Maximum Likelihood optimization failed to converge. Check mle_retvals\n",
      "\n",
      "232it [00:59,  3.45it/s]c:\\Users\\seelc\\OneDrive\\Desktop\\Lucas Desktop Items\\Projects\\forecasting\\.venv\\Lib\\site-packages\\statsmodels\\tsa\\statespace\\sarimax.py:966: UserWarning:\n",
      "\n",
      "Non-stationary starting autoregressive parameters found. Using zeros as starting parameters.\n",
      "\n",
      "c:\\Users\\seelc\\OneDrive\\Desktop\\Lucas Desktop Items\\Projects\\forecasting\\.venv\\Lib\\site-packages\\statsmodels\\tsa\\statespace\\sarimax.py:978: UserWarning:\n",
      "\n",
      "Non-invertible starting MA parameters found. Using zeros as starting parameters.\n",
      "\n",
      "c:\\Users\\seelc\\OneDrive\\Desktop\\Lucas Desktop Items\\Projects\\forecasting\\.venv\\Lib\\site-packages\\statsmodels\\tsa\\statespace\\sarimax.py:997: UserWarning:\n",
      "\n",
      "Non-stationary starting seasonal autoregressive Using zeros as starting parameters.\n",
      "\n",
      "c:\\Users\\seelc\\OneDrive\\Desktop\\Lucas Desktop Items\\Projects\\forecasting\\.venv\\Lib\\site-packages\\statsmodels\\base\\model.py:607: ConvergenceWarning:\n",
      "\n",
      "Maximum Likelihood optimization failed to converge. Check mle_retvals\n",
      "\n",
      "233it [01:00,  3.56it/s]c:\\Users\\seelc\\OneDrive\\Desktop\\Lucas Desktop Items\\Projects\\forecasting\\.venv\\Lib\\site-packages\\statsmodels\\tsa\\statespace\\sarimax.py:966: UserWarning:\n",
      "\n",
      "Non-stationary starting autoregressive parameters found. Using zeros as starting parameters.\n",
      "\n",
      "c:\\Users\\seelc\\OneDrive\\Desktop\\Lucas Desktop Items\\Projects\\forecasting\\.venv\\Lib\\site-packages\\statsmodels\\tsa\\statespace\\sarimax.py:978: UserWarning:\n",
      "\n",
      "Non-invertible starting MA parameters found. Using zeros as starting parameters.\n",
      "\n",
      "c:\\Users\\seelc\\OneDrive\\Desktop\\Lucas Desktop Items\\Projects\\forecasting\\.venv\\Lib\\site-packages\\statsmodels\\tsa\\statespace\\sarimax.py:997: UserWarning:\n",
      "\n",
      "Non-stationary starting seasonal autoregressive Using zeros as starting parameters.\n",
      "\n",
      "c:\\Users\\seelc\\OneDrive\\Desktop\\Lucas Desktop Items\\Projects\\forecasting\\.venv\\Lib\\site-packages\\statsmodels\\base\\model.py:607: ConvergenceWarning:\n",
      "\n",
      "Maximum Likelihood optimization failed to converge. Check mle_retvals\n",
      "\n",
      "234it [01:00,  3.50it/s]c:\\Users\\seelc\\OneDrive\\Desktop\\Lucas Desktop Items\\Projects\\forecasting\\.venv\\Lib\\site-packages\\statsmodels\\tsa\\statespace\\sarimax.py:966: UserWarning:\n",
      "\n",
      "Non-stationary starting autoregressive parameters found. Using zeros as starting parameters.\n",
      "\n",
      "c:\\Users\\seelc\\OneDrive\\Desktop\\Lucas Desktop Items\\Projects\\forecasting\\.venv\\Lib\\site-packages\\statsmodels\\tsa\\statespace\\sarimax.py:978: UserWarning:\n",
      "\n",
      "Non-invertible starting MA parameters found. Using zeros as starting parameters.\n",
      "\n",
      "c:\\Users\\seelc\\OneDrive\\Desktop\\Lucas Desktop Items\\Projects\\forecasting\\.venv\\Lib\\site-packages\\statsmodels\\tsa\\statespace\\sarimax.py:997: UserWarning:\n",
      "\n",
      "Non-stationary starting seasonal autoregressive Using zeros as starting parameters.\n",
      "\n",
      "c:\\Users\\seelc\\OneDrive\\Desktop\\Lucas Desktop Items\\Projects\\forecasting\\.venv\\Lib\\site-packages\\statsmodels\\base\\model.py:607: ConvergenceWarning:\n",
      "\n",
      "Maximum Likelihood optimization failed to converge. Check mle_retvals\n",
      "\n",
      "235it [01:00,  3.43it/s]c:\\Users\\seelc\\OneDrive\\Desktop\\Lucas Desktop Items\\Projects\\forecasting\\.venv\\Lib\\site-packages\\statsmodels\\tsa\\statespace\\sarimax.py:966: UserWarning:\n",
      "\n",
      "Non-stationary starting autoregressive parameters found. Using zeros as starting parameters.\n",
      "\n",
      "c:\\Users\\seelc\\OneDrive\\Desktop\\Lucas Desktop Items\\Projects\\forecasting\\.venv\\Lib\\site-packages\\statsmodels\\tsa\\statespace\\sarimax.py:978: UserWarning:\n",
      "\n",
      "Non-invertible starting MA parameters found. Using zeros as starting parameters.\n",
      "\n",
      "c:\\Users\\seelc\\OneDrive\\Desktop\\Lucas Desktop Items\\Projects\\forecasting\\.venv\\Lib\\site-packages\\statsmodels\\tsa\\statespace\\sarimax.py:997: UserWarning:\n",
      "\n",
      "Non-stationary starting seasonal autoregressive Using zeros as starting parameters.\n",
      "\n",
      "c:\\Users\\seelc\\OneDrive\\Desktop\\Lucas Desktop Items\\Projects\\forecasting\\.venv\\Lib\\site-packages\\statsmodels\\base\\model.py:607: ConvergenceWarning:\n",
      "\n",
      "Maximum Likelihood optimization failed to converge. Check mle_retvals\n",
      "\n",
      "236it [01:01,  3.19it/s]c:\\Users\\seelc\\OneDrive\\Desktop\\Lucas Desktop Items\\Projects\\forecasting\\.venv\\Lib\\site-packages\\statsmodels\\tsa\\statespace\\sarimax.py:966: UserWarning:\n",
      "\n",
      "Non-stationary starting autoregressive parameters found. Using zeros as starting parameters.\n",
      "\n",
      "c:\\Users\\seelc\\OneDrive\\Desktop\\Lucas Desktop Items\\Projects\\forecasting\\.venv\\Lib\\site-packages\\statsmodels\\tsa\\statespace\\sarimax.py:978: UserWarning:\n",
      "\n",
      "Non-invertible starting MA parameters found. Using zeros as starting parameters.\n",
      "\n",
      "c:\\Users\\seelc\\OneDrive\\Desktop\\Lucas Desktop Items\\Projects\\forecasting\\.venv\\Lib\\site-packages\\statsmodels\\tsa\\statespace\\sarimax.py:997: UserWarning:\n",
      "\n",
      "Non-stationary starting seasonal autoregressive Using zeros as starting parameters.\n",
      "\n",
      "c:\\Users\\seelc\\OneDrive\\Desktop\\Lucas Desktop Items\\Projects\\forecasting\\.venv\\Lib\\site-packages\\statsmodels\\base\\model.py:607: ConvergenceWarning:\n",
      "\n",
      "Maximum Likelihood optimization failed to converge. Check mle_retvals\n",
      "\n",
      "237it [01:01,  3.20it/s]c:\\Users\\seelc\\OneDrive\\Desktop\\Lucas Desktop Items\\Projects\\forecasting\\.venv\\Lib\\site-packages\\statsmodels\\tsa\\statespace\\sarimax.py:966: UserWarning:\n",
      "\n",
      "Non-stationary starting autoregressive parameters found. Using zeros as starting parameters.\n",
      "\n",
      "c:\\Users\\seelc\\OneDrive\\Desktop\\Lucas Desktop Items\\Projects\\forecasting\\.venv\\Lib\\site-packages\\statsmodels\\tsa\\statespace\\sarimax.py:978: UserWarning:\n",
      "\n",
      "Non-invertible starting MA parameters found. Using zeros as starting parameters.\n",
      "\n",
      "c:\\Users\\seelc\\OneDrive\\Desktop\\Lucas Desktop Items\\Projects\\forecasting\\.venv\\Lib\\site-packages\\statsmodels\\tsa\\statespace\\sarimax.py:997: UserWarning:\n",
      "\n",
      "Non-stationary starting seasonal autoregressive Using zeros as starting parameters.\n",
      "\n",
      "c:\\Users\\seelc\\OneDrive\\Desktop\\Lucas Desktop Items\\Projects\\forecasting\\.venv\\Lib\\site-packages\\statsmodels\\base\\model.py:607: ConvergenceWarning:\n",
      "\n",
      "Maximum Likelihood optimization failed to converge. Check mle_retvals\n",
      "\n",
      "238it [01:01,  3.03it/s]c:\\Users\\seelc\\OneDrive\\Desktop\\Lucas Desktop Items\\Projects\\forecasting\\.venv\\Lib\\site-packages\\statsmodels\\tsa\\statespace\\sarimax.py:966: UserWarning:\n",
      "\n",
      "Non-stationary starting autoregressive parameters found. Using zeros as starting parameters.\n",
      "\n",
      "c:\\Users\\seelc\\OneDrive\\Desktop\\Lucas Desktop Items\\Projects\\forecasting\\.venv\\Lib\\site-packages\\statsmodels\\tsa\\statespace\\sarimax.py:978: UserWarning:\n",
      "\n",
      "Non-invertible starting MA parameters found. Using zeros as starting parameters.\n",
      "\n",
      "c:\\Users\\seelc\\OneDrive\\Desktop\\Lucas Desktop Items\\Projects\\forecasting\\.venv\\Lib\\site-packages\\statsmodels\\tsa\\statespace\\sarimax.py:997: UserWarning:\n",
      "\n",
      "Non-stationary starting seasonal autoregressive Using zeros as starting parameters.\n",
      "\n",
      "c:\\Users\\seelc\\OneDrive\\Desktop\\Lucas Desktop Items\\Projects\\forecasting\\.venv\\Lib\\site-packages\\statsmodels\\base\\model.py:607: ConvergenceWarning:\n",
      "\n",
      "Maximum Likelihood optimization failed to converge. Check mle_retvals\n",
      "\n",
      "239it [01:02,  2.85it/s]c:\\Users\\seelc\\OneDrive\\Desktop\\Lucas Desktop Items\\Projects\\forecasting\\.venv\\Lib\\site-packages\\statsmodels\\tsa\\statespace\\sarimax.py:966: UserWarning:\n",
      "\n",
      "Non-stationary starting autoregressive parameters found. Using zeros as starting parameters.\n",
      "\n",
      "c:\\Users\\seelc\\OneDrive\\Desktop\\Lucas Desktop Items\\Projects\\forecasting\\.venv\\Lib\\site-packages\\statsmodels\\tsa\\statespace\\sarimax.py:978: UserWarning:\n",
      "\n",
      "Non-invertible starting MA parameters found. Using zeros as starting parameters.\n",
      "\n",
      "c:\\Users\\seelc\\OneDrive\\Desktop\\Lucas Desktop Items\\Projects\\forecasting\\.venv\\Lib\\site-packages\\statsmodels\\tsa\\statespace\\sarimax.py:997: UserWarning:\n",
      "\n",
      "Non-stationary starting seasonal autoregressive Using zeros as starting parameters.\n",
      "\n",
      "c:\\Users\\seelc\\OneDrive\\Desktop\\Lucas Desktop Items\\Projects\\forecasting\\.venv\\Lib\\site-packages\\statsmodels\\base\\model.py:607: ConvergenceWarning:\n",
      "\n",
      "Maximum Likelihood optimization failed to converge. Check mle_retvals\n",
      "\n",
      "240it [01:02,  2.75it/s]c:\\Users\\seelc\\OneDrive\\Desktop\\Lucas Desktop Items\\Projects\\forecasting\\.venv\\Lib\\site-packages\\statsmodels\\tsa\\statespace\\sarimax.py:966: UserWarning:\n",
      "\n",
      "Non-stationary starting autoregressive parameters found. Using zeros as starting parameters.\n",
      "\n",
      "c:\\Users\\seelc\\OneDrive\\Desktop\\Lucas Desktop Items\\Projects\\forecasting\\.venv\\Lib\\site-packages\\statsmodels\\base\\model.py:607: ConvergenceWarning:\n",
      "\n",
      "Maximum Likelihood optimization failed to converge. Check mle_retvals\n",
      "\n",
      "241it [01:02,  3.28it/s]c:\\Users\\seelc\\OneDrive\\Desktop\\Lucas Desktop Items\\Projects\\forecasting\\.venv\\Lib\\site-packages\\statsmodels\\tsa\\statespace\\sarimax.py:966: UserWarning:\n",
      "\n",
      "Non-stationary starting autoregressive parameters found. Using zeros as starting parameters.\n",
      "\n",
      "c:\\Users\\seelc\\OneDrive\\Desktop\\Lucas Desktop Items\\Projects\\forecasting\\.venv\\Lib\\site-packages\\statsmodels\\base\\model.py:607: ConvergenceWarning:\n",
      "\n",
      "Maximum Likelihood optimization failed to converge. Check mle_retvals\n",
      "\n",
      "242it [01:02,  3.65it/s]c:\\Users\\seelc\\OneDrive\\Desktop\\Lucas Desktop Items\\Projects\\forecasting\\.venv\\Lib\\site-packages\\statsmodels\\tsa\\statespace\\sarimax.py:966: UserWarning:\n",
      "\n",
      "Non-stationary starting autoregressive parameters found. Using zeros as starting parameters.\n",
      "\n",
      "c:\\Users\\seelc\\OneDrive\\Desktop\\Lucas Desktop Items\\Projects\\forecasting\\.venv\\Lib\\site-packages\\statsmodels\\base\\model.py:607: ConvergenceWarning:\n",
      "\n",
      "Maximum Likelihood optimization failed to converge. Check mle_retvals\n",
      "\n",
      "243it [01:03,  3.69it/s]c:\\Users\\seelc\\OneDrive\\Desktop\\Lucas Desktop Items\\Projects\\forecasting\\.venv\\Lib\\site-packages\\statsmodels\\tsa\\statespace\\sarimax.py:966: UserWarning:\n",
      "\n",
      "Non-stationary starting autoregressive parameters found. Using zeros as starting parameters.\n",
      "\n",
      "c:\\Users\\seelc\\OneDrive\\Desktop\\Lucas Desktop Items\\Projects\\forecasting\\.venv\\Lib\\site-packages\\statsmodels\\tsa\\statespace\\sarimax.py:1009: UserWarning:\n",
      "\n",
      "Non-invertible starting seasonal moving average Using zeros as starting parameters.\n",
      "\n",
      "c:\\Users\\seelc\\OneDrive\\Desktop\\Lucas Desktop Items\\Projects\\forecasting\\.venv\\Lib\\site-packages\\statsmodels\\base\\model.py:607: ConvergenceWarning:\n",
      "\n",
      "Maximum Likelihood optimization failed to converge. Check mle_retvals\n",
      "\n",
      "244it [01:03,  3.45it/s]c:\\Users\\seelc\\OneDrive\\Desktop\\Lucas Desktop Items\\Projects\\forecasting\\.venv\\Lib\\site-packages\\statsmodels\\tsa\\statespace\\sarimax.py:966: UserWarning:\n",
      "\n",
      "Non-stationary starting autoregressive parameters found. Using zeros as starting parameters.\n",
      "\n",
      "c:\\Users\\seelc\\OneDrive\\Desktop\\Lucas Desktop Items\\Projects\\forecasting\\.venv\\Lib\\site-packages\\statsmodels\\tsa\\statespace\\sarimax.py:997: UserWarning:\n",
      "\n",
      "Non-stationary starting seasonal autoregressive Using zeros as starting parameters.\n",
      "\n",
      "c:\\Users\\seelc\\OneDrive\\Desktop\\Lucas Desktop Items\\Projects\\forecasting\\.venv\\Lib\\site-packages\\statsmodels\\base\\model.py:607: ConvergenceWarning:\n",
      "\n",
      "Maximum Likelihood optimization failed to converge. Check mle_retvals\n",
      "\n",
      "245it [01:03,  3.71it/s]c:\\Users\\seelc\\OneDrive\\Desktop\\Lucas Desktop Items\\Projects\\forecasting\\.venv\\Lib\\site-packages\\statsmodels\\tsa\\statespace\\sarimax.py:966: UserWarning:\n",
      "\n",
      "Non-stationary starting autoregressive parameters found. Using zeros as starting parameters.\n",
      "\n",
      "c:\\Users\\seelc\\OneDrive\\Desktop\\Lucas Desktop Items\\Projects\\forecasting\\.venv\\Lib\\site-packages\\statsmodels\\tsa\\statespace\\sarimax.py:997: UserWarning:\n",
      "\n",
      "Non-stationary starting seasonal autoregressive Using zeros as starting parameters.\n",
      "\n",
      "c:\\Users\\seelc\\OneDrive\\Desktop\\Lucas Desktop Items\\Projects\\forecasting\\.venv\\Lib\\site-packages\\statsmodels\\base\\model.py:607: ConvergenceWarning:\n",
      "\n",
      "Maximum Likelihood optimization failed to converge. Check mle_retvals\n",
      "\n",
      "246it [01:04,  3.83it/s]c:\\Users\\seelc\\OneDrive\\Desktop\\Lucas Desktop Items\\Projects\\forecasting\\.venv\\Lib\\site-packages\\statsmodels\\tsa\\statespace\\sarimax.py:966: UserWarning:\n",
      "\n",
      "Non-stationary starting autoregressive parameters found. Using zeros as starting parameters.\n",
      "\n",
      "c:\\Users\\seelc\\OneDrive\\Desktop\\Lucas Desktop Items\\Projects\\forecasting\\.venv\\Lib\\site-packages\\statsmodels\\tsa\\statespace\\sarimax.py:997: UserWarning:\n",
      "\n",
      "Non-stationary starting seasonal autoregressive Using zeros as starting parameters.\n",
      "\n",
      "c:\\Users\\seelc\\OneDrive\\Desktop\\Lucas Desktop Items\\Projects\\forecasting\\.venv\\Lib\\site-packages\\statsmodels\\base\\model.py:607: ConvergenceWarning:\n",
      "\n",
      "Maximum Likelihood optimization failed to converge. Check mle_retvals\n",
      "\n",
      "247it [01:04,  3.56it/s]c:\\Users\\seelc\\OneDrive\\Desktop\\Lucas Desktop Items\\Projects\\forecasting\\.venv\\Lib\\site-packages\\statsmodels\\tsa\\statespace\\sarimax.py:966: UserWarning:\n",
      "\n",
      "Non-stationary starting autoregressive parameters found. Using zeros as starting parameters.\n",
      "\n",
      "c:\\Users\\seelc\\OneDrive\\Desktop\\Lucas Desktop Items\\Projects\\forecasting\\.venv\\Lib\\site-packages\\statsmodels\\tsa\\statespace\\sarimax.py:997: UserWarning:\n",
      "\n",
      "Non-stationary starting seasonal autoregressive Using zeros as starting parameters.\n",
      "\n",
      "c:\\Users\\seelc\\OneDrive\\Desktop\\Lucas Desktop Items\\Projects\\forecasting\\.venv\\Lib\\site-packages\\statsmodels\\base\\model.py:607: ConvergenceWarning:\n",
      "\n",
      "Maximum Likelihood optimization failed to converge. Check mle_retvals\n",
      "\n",
      "248it [01:04,  3.29it/s]c:\\Users\\seelc\\OneDrive\\Desktop\\Lucas Desktop Items\\Projects\\forecasting\\.venv\\Lib\\site-packages\\statsmodels\\tsa\\statespace\\sarimax.py:966: UserWarning:\n",
      "\n",
      "Non-stationary starting autoregressive parameters found. Using zeros as starting parameters.\n",
      "\n",
      "c:\\Users\\seelc\\OneDrive\\Desktop\\Lucas Desktop Items\\Projects\\forecasting\\.venv\\Lib\\site-packages\\statsmodels\\tsa\\statespace\\sarimax.py:997: UserWarning:\n",
      "\n",
      "Non-stationary starting seasonal autoregressive Using zeros as starting parameters.\n",
      "\n",
      "c:\\Users\\seelc\\OneDrive\\Desktop\\Lucas Desktop Items\\Projects\\forecasting\\.venv\\Lib\\site-packages\\statsmodels\\base\\model.py:607: ConvergenceWarning:\n",
      "\n",
      "Maximum Likelihood optimization failed to converge. Check mle_retvals\n",
      "\n",
      "249it [01:04,  3.36it/s]c:\\Users\\seelc\\OneDrive\\Desktop\\Lucas Desktop Items\\Projects\\forecasting\\.venv\\Lib\\site-packages\\statsmodels\\tsa\\statespace\\sarimax.py:966: UserWarning:\n",
      "\n",
      "Non-stationary starting autoregressive parameters found. Using zeros as starting parameters.\n",
      "\n",
      "c:\\Users\\seelc\\OneDrive\\Desktop\\Lucas Desktop Items\\Projects\\forecasting\\.venv\\Lib\\site-packages\\statsmodels\\tsa\\statespace\\sarimax.py:997: UserWarning:\n",
      "\n",
      "Non-stationary starting seasonal autoregressive Using zeros as starting parameters.\n",
      "\n",
      "c:\\Users\\seelc\\OneDrive\\Desktop\\Lucas Desktop Items\\Projects\\forecasting\\.venv\\Lib\\site-packages\\statsmodels\\base\\model.py:607: ConvergenceWarning:\n",
      "\n",
      "Maximum Likelihood optimization failed to converge. Check mle_retvals\n",
      "\n",
      "250it [01:05,  3.24it/s]c:\\Users\\seelc\\OneDrive\\Desktop\\Lucas Desktop Items\\Projects\\forecasting\\.venv\\Lib\\site-packages\\statsmodels\\tsa\\statespace\\sarimax.py:966: UserWarning:\n",
      "\n",
      "Non-stationary starting autoregressive parameters found. Using zeros as starting parameters.\n",
      "\n",
      "c:\\Users\\seelc\\OneDrive\\Desktop\\Lucas Desktop Items\\Projects\\forecasting\\.venv\\Lib\\site-packages\\statsmodels\\tsa\\statespace\\sarimax.py:997: UserWarning:\n",
      "\n",
      "Non-stationary starting seasonal autoregressive Using zeros as starting parameters.\n",
      "\n",
      "c:\\Users\\seelc\\OneDrive\\Desktop\\Lucas Desktop Items\\Projects\\forecasting\\.venv\\Lib\\site-packages\\statsmodels\\base\\model.py:607: ConvergenceWarning:\n",
      "\n",
      "Maximum Likelihood optimization failed to converge. Check mle_retvals\n",
      "\n",
      "251it [01:05,  3.14it/s]c:\\Users\\seelc\\OneDrive\\Desktop\\Lucas Desktop Items\\Projects\\forecasting\\.venv\\Lib\\site-packages\\statsmodels\\tsa\\statespace\\sarimax.py:966: UserWarning:\n",
      "\n",
      "Non-stationary starting autoregressive parameters found. Using zeros as starting parameters.\n",
      "\n",
      "c:\\Users\\seelc\\OneDrive\\Desktop\\Lucas Desktop Items\\Projects\\forecasting\\.venv\\Lib\\site-packages\\statsmodels\\tsa\\statespace\\sarimax.py:997: UserWarning:\n",
      "\n",
      "Non-stationary starting seasonal autoregressive Using zeros as starting parameters.\n",
      "\n",
      "c:\\Users\\seelc\\OneDrive\\Desktop\\Lucas Desktop Items\\Projects\\forecasting\\.venv\\Lib\\site-packages\\statsmodels\\base\\model.py:607: ConvergenceWarning:\n",
      "\n",
      "Maximum Likelihood optimization failed to converge. Check mle_retvals\n",
      "\n",
      "252it [01:06,  2.90it/s]c:\\Users\\seelc\\OneDrive\\Desktop\\Lucas Desktop Items\\Projects\\forecasting\\.venv\\Lib\\site-packages\\statsmodels\\tsa\\statespace\\sarimax.py:966: UserWarning:\n",
      "\n",
      "Non-stationary starting autoregressive parameters found. Using zeros as starting parameters.\n",
      "\n",
      "c:\\Users\\seelc\\OneDrive\\Desktop\\Lucas Desktop Items\\Projects\\forecasting\\.venv\\Lib\\site-packages\\statsmodels\\tsa\\statespace\\sarimax.py:997: UserWarning:\n",
      "\n",
      "Non-stationary starting seasonal autoregressive Using zeros as starting parameters.\n",
      "\n",
      "c:\\Users\\seelc\\OneDrive\\Desktop\\Lucas Desktop Items\\Projects\\forecasting\\.venv\\Lib\\site-packages\\statsmodels\\base\\model.py:607: ConvergenceWarning:\n",
      "\n",
      "Maximum Likelihood optimization failed to converge. Check mle_retvals\n",
      "\n",
      "253it [01:06,  2.95it/s]c:\\Users\\seelc\\OneDrive\\Desktop\\Lucas Desktop Items\\Projects\\forecasting\\.venv\\Lib\\site-packages\\statsmodels\\tsa\\statespace\\sarimax.py:966: UserWarning:\n",
      "\n",
      "Non-stationary starting autoregressive parameters found. Using zeros as starting parameters.\n",
      "\n",
      "c:\\Users\\seelc\\OneDrive\\Desktop\\Lucas Desktop Items\\Projects\\forecasting\\.venv\\Lib\\site-packages\\statsmodels\\tsa\\statespace\\sarimax.py:997: UserWarning:\n",
      "\n",
      "Non-stationary starting seasonal autoregressive Using zeros as starting parameters.\n",
      "\n",
      "c:\\Users\\seelc\\OneDrive\\Desktop\\Lucas Desktop Items\\Projects\\forecasting\\.venv\\Lib\\site-packages\\statsmodels\\base\\model.py:607: ConvergenceWarning:\n",
      "\n",
      "Maximum Likelihood optimization failed to converge. Check mle_retvals\n",
      "\n",
      "254it [01:06,  2.86it/s]c:\\Users\\seelc\\OneDrive\\Desktop\\Lucas Desktop Items\\Projects\\forecasting\\.venv\\Lib\\site-packages\\statsmodels\\tsa\\statespace\\sarimax.py:966: UserWarning:\n",
      "\n",
      "Non-stationary starting autoregressive parameters found. Using zeros as starting parameters.\n",
      "\n",
      "c:\\Users\\seelc\\OneDrive\\Desktop\\Lucas Desktop Items\\Projects\\forecasting\\.venv\\Lib\\site-packages\\statsmodels\\tsa\\statespace\\sarimax.py:997: UserWarning:\n",
      "\n",
      "Non-stationary starting seasonal autoregressive Using zeros as starting parameters.\n",
      "\n",
      "c:\\Users\\seelc\\OneDrive\\Desktop\\Lucas Desktop Items\\Projects\\forecasting\\.venv\\Lib\\site-packages\\statsmodels\\base\\model.py:607: ConvergenceWarning:\n",
      "\n",
      "Maximum Likelihood optimization failed to converge. Check mle_retvals\n",
      "\n",
      "255it [01:07,  2.41it/s]c:\\Users\\seelc\\OneDrive\\Desktop\\Lucas Desktop Items\\Projects\\forecasting\\.venv\\Lib\\site-packages\\statsmodels\\tsa\\statespace\\sarimax.py:966: UserWarning:\n",
      "\n",
      "Non-stationary starting autoregressive parameters found. Using zeros as starting parameters.\n",
      "\n",
      "c:\\Users\\seelc\\OneDrive\\Desktop\\Lucas Desktop Items\\Projects\\forecasting\\.venv\\Lib\\site-packages\\statsmodels\\tsa\\statespace\\sarimax.py:997: UserWarning:\n",
      "\n",
      "Non-stationary starting seasonal autoregressive Using zeros as starting parameters.\n",
      "\n",
      "c:\\Users\\seelc\\OneDrive\\Desktop\\Lucas Desktop Items\\Projects\\forecasting\\.venv\\Lib\\site-packages\\statsmodels\\base\\model.py:607: ConvergenceWarning:\n",
      "\n",
      "Maximum Likelihood optimization failed to converge. Check mle_retvals\n",
      "\n",
      "256it [01:07,  3.78it/s]"
     ]
    },
    {
     "name": "stdout",
     "output_type": "stream",
     "text": [
      "                (p,d,q)          AIC\n",
      "0    (0, 0, 3, 2, 0, 1)    14.000000\n",
      "1    (0, 0, 3, 3, 0, 0)    14.000000\n",
      "2    (2, 0, 1, 1, 0, 3)    16.000000\n",
      "3    (0, 0, 3, 3, 0, 2)    18.000000\n",
      "4    (2, 0, 3, 2, 0, 3)    22.000000\n",
      "..                  ...          ...\n",
      "231  (0, 0, 2, 2, 0, 1)  1245.628732\n",
      "232  (0, 0, 2, 3, 0, 2)  1256.874426\n",
      "233  (0, 0, 3, 3, 0, 3)  1257.035561\n",
      "234  (0, 0, 2, 3, 0, 3)  1257.106895\n",
      "235  (0, 0, 0, 0, 0, 0)  1300.899310\n",
      "\n",
      "[236 rows x 2 columns]\n"
     ]
    },
    {
     "name": "stderr",
     "output_type": "stream",
     "text": [
      "\n"
     ]
    }
   ],
   "source": [
    "# Defining modeling function\n",
    "def optimize_SARIMA(endog,  order_list):\n",
    "    results = []\n",
    "    for order in tqdm(order_list):\n",
    "        try:\n",
    "            \n",
    "            model = SARIMAX(\n",
    "                endog,\n",
    "                order = (order[0], order[1], order[2]),\n",
    "                seasonal_order=(order[3], order[4], order[5], 4),\n",
    "                simple_differencing=False).fit(disp = False)\n",
    "            aic = model.aic\n",
    "            results.append([order, aic])\n",
    "        except:\n",
    "            continue\n",
    "    results_df = pd.DataFrame(results)\n",
    "    results_df.columns = ['(p,d,q)', 'AIC']\n",
    "    # sorting results\n",
    "    results_df = results_df.sort_values(by = 'AIC', ascending = True).reset_index(drop = True)\n",
    "\n",
    "    return results_df\n",
    "\n",
    "\n",
    "# normal variables\n",
    "p = range(0, 4, 1)\n",
    "d = range(0,1,1)\n",
    "q = range(0, 4, 1)\n",
    "sp = range(0, 4, 1)\n",
    "sd = range(0,1,1)\n",
    "sq = range(0, 4, 1)\n",
    "# Combining parameters\n",
    "parameters = product(p,d, q, sp, sd, sq)\n",
    "\n",
    "# Training models\n",
    "results_sarima_df = optimize_SARIMA(df[target_variable_transformed], parameters)\n",
    "\n",
    "# viewing results\n",
    "print(results_sarima_df.sort_values(by = ['AIC']))"
   ]
  }
 ],
 "metadata": {
  "kernelspec": {
   "display_name": ".venv",
   "language": "python",
   "name": "python3"
  },
  "language_info": {
   "codemirror_mode": {
    "name": "ipython",
    "version": 3
   },
   "file_extension": ".py",
   "mimetype": "text/x-python",
   "name": "python",
   "nbconvert_exporter": "python",
   "pygments_lexer": "ipython3",
   "version": "3.12.5"
  }
 },
 "nbformat": 4,
 "nbformat_minor": 2
}
