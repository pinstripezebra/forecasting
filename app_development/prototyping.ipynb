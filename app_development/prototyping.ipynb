{
 "cells": [
  {
   "cell_type": "code",
   "execution_count": 1,
   "metadata": {},
   "outputs": [],
   "source": [
    "from openmeteopy import OpenMeteo\n",
    "from openmeteopy.hourly import HourlyForecast\n",
    "from openmeteopy.daily import DailyForecast\n",
    "from openmeteopy.options import ForecastOptions\n",
    "\n"
   ]
  },
  {
   "cell_type": "code",
   "execution_count": 20,
   "metadata": {},
   "outputs": [
    {
     "name": "stdout",
     "output_type": "stream",
     "text": [
      "                  temperature_2m  cloudcover  windspeed_10m\n",
      "time                                                       \n",
      "2024-10-30T00:00            11.6         100            3.1\n",
      "2024-10-30T01:00            11.1         100            1.3\n",
      "2024-10-30T02:00            10.3          41            2.2\n",
      "2024-10-30T03:00             9.2           1            6.0\n",
      "2024-10-30T04:00             8.3           0            5.5\n",
      "...                          ...         ...            ...\n",
      "2024-11-05T19:00            10.5          60           13.2\n",
      "2024-11-05T20:00            11.2          64           15.2\n",
      "2024-11-05T21:00            11.6          67           16.4\n",
      "2024-11-05T22:00            11.6          57           16.2\n",
      "2024-11-05T23:00            11.4          46           15.0\n",
      "\n",
      "[168 rows x 3 columns]\n"
     ]
    }
   ],
   "source": [
    "# Creating hourly forecast object\n",
    "hourly = HourlyForecast()\n",
    "\n",
    "\n",
    "latitude = 45.5152\n",
    "longitude = -122.6784\n",
    "\n",
    "# Defining variables we want to return\n",
    "hourly = hourly.temperature_2m()\n",
    "hourly = hourly.cloudcover()\n",
    "hourly = hourly.windspeed_10m()\n",
    "\n",
    "# Selecting options\n",
    "options = ForecastOptions(latitude = latitude, \n",
    "                          longitude = longitude,\n",
    "                          forecast_days=3)\n",
    "\n",
    "# Pulling Data\n",
    "client = OpenMeteo(options, hourly)\n",
    "\n",
    "# Download data\n",
    "meteo = client.get_pandas()\n",
    "print(meteo)"
   ]
  },
  {
   "cell_type": "code",
   "execution_count": null,
   "metadata": {},
   "outputs": [],
   "source": []
  }
 ],
 "metadata": {
  "kernelspec": {
   "display_name": ".venv",
   "language": "python",
   "name": "python3"
  },
  "language_info": {
   "codemirror_mode": {
    "name": "ipython",
    "version": 3
   },
   "file_extension": ".py",
   "mimetype": "text/x-python",
   "name": "python",
   "nbconvert_exporter": "python",
   "pygments_lexer": "ipython3",
   "version": "3.12.5"
  }
 },
 "nbformat": 4,
 "nbformat_minor": 2
}
