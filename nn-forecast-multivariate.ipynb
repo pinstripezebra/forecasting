{
 "cells": [
  {
   "cell_type": "code",
   "execution_count": 98,
   "metadata": {},
   "outputs": [],
   "source": [
    "import datetime\n",
    "\n",
    "import numpy as np\n",
    "import pandas as pd\n",
    "import seaborn as sns\n",
    "import tensorflow as tf\n",
    "import matplotlib.pyplot as plt\n",
    "\n",
    "import tensorflow as tf\n",
    "from tensorflow.keras.models import Sequential\n",
    "from tensorflow.keras.layers import Dense\n",
    "from tensorflow.keras.layers import LSTM\n",
    "from sklearn.preprocessing import MinMaxScaler\n",
    "from sklearn.metrics import mean_absolute_percentage_error\n",
    "import warnings\n",
    "warnings.filterwarnings('ignore')\n",
    "\n",
    "# Importing custom libraries\n",
    "import sys\n",
    "sys.path.append('/utilities/')\n",
    "from utilities.data_manipulation import pivot_dataframe, convert_to_supervised, rename_dataframe_supervised, plot_results\n",
    "\n",
    "# Random seed for reproducibility\n",
    "tf.random.set_seed(42)\n",
    "\n",
    "REFRESH_DATA = False\n",
    "DATA_QUANTITY = 200"
   ]
  },
  {
   "cell_type": "markdown",
   "metadata": {},
   "source": [
    "### Loading Data"
   ]
  },
  {
   "cell_type": "code",
   "execution_count": 99,
   "metadata": {},
   "outputs": [
    {
     "data": {
      "text/html": [
       "<div>\n",
       "<style scoped>\n",
       "    .dataframe tbody tr th:only-of-type {\n",
       "        vertical-align: middle;\n",
       "    }\n",
       "\n",
       "    .dataframe tbody tr th {\n",
       "        vertical-align: top;\n",
       "    }\n",
       "\n",
       "    .dataframe thead th {\n",
       "        text-align: right;\n",
       "    }\n",
       "</style>\n",
       "<table border=\"1\" class=\"dataframe\">\n",
       "  <thead>\n",
       "    <tr style=\"text-align: right;\">\n",
       "      <th></th>\n",
       "      <th>Value</th>\n",
       "      <th>location</th>\n",
       "      <th>parameter</th>\n",
       "      <th>longitude</th>\n",
       "      <th>latitude</th>\n",
       "      <th>Date</th>\n",
       "    </tr>\n",
       "  </thead>\n",
       "  <tbody>\n",
       "    <tr>\n",
       "      <th>0</th>\n",
       "      <td>2.8</td>\n",
       "      <td>1064</td>\n",
       "      <td>pm25</td>\n",
       "      <td>-122.602877</td>\n",
       "      <td>45.496641</td>\n",
       "      <td>2024-08-22 12:00:00+00:00</td>\n",
       "    </tr>\n",
       "    <tr>\n",
       "      <th>1</th>\n",
       "      <td>2.7</td>\n",
       "      <td>1064</td>\n",
       "      <td>pm25</td>\n",
       "      <td>-122.602877</td>\n",
       "      <td>45.496641</td>\n",
       "      <td>2024-08-22 11:00:00+00:00</td>\n",
       "    </tr>\n",
       "    <tr>\n",
       "      <th>2</th>\n",
       "      <td>2.6</td>\n",
       "      <td>1064</td>\n",
       "      <td>pm25</td>\n",
       "      <td>-122.602877</td>\n",
       "      <td>45.496641</td>\n",
       "      <td>2024-08-22 10:00:00+00:00</td>\n",
       "    </tr>\n",
       "    <tr>\n",
       "      <th>3</th>\n",
       "      <td>2.7</td>\n",
       "      <td>1064</td>\n",
       "      <td>pm25</td>\n",
       "      <td>-122.602877</td>\n",
       "      <td>45.496641</td>\n",
       "      <td>2024-08-22 09:00:00+00:00</td>\n",
       "    </tr>\n",
       "    <tr>\n",
       "      <th>4</th>\n",
       "      <td>2.6</td>\n",
       "      <td>1064</td>\n",
       "      <td>pm25</td>\n",
       "      <td>-122.602877</td>\n",
       "      <td>45.496641</td>\n",
       "      <td>2024-08-22 08:00:00+00:00</td>\n",
       "    </tr>\n",
       "    <tr>\n",
       "      <th>5</th>\n",
       "      <td>2.5</td>\n",
       "      <td>1064</td>\n",
       "      <td>pm25</td>\n",
       "      <td>-122.602877</td>\n",
       "      <td>45.496641</td>\n",
       "      <td>2024-08-22 07:00:00+00:00</td>\n",
       "    </tr>\n",
       "    <tr>\n",
       "      <th>6</th>\n",
       "      <td>2.4</td>\n",
       "      <td>1064</td>\n",
       "      <td>pm25</td>\n",
       "      <td>-122.602877</td>\n",
       "      <td>45.496641</td>\n",
       "      <td>2024-08-22 06:00:00+00:00</td>\n",
       "    </tr>\n",
       "    <tr>\n",
       "      <th>7</th>\n",
       "      <td>2.7</td>\n",
       "      <td>1064</td>\n",
       "      <td>pm25</td>\n",
       "      <td>-122.602877</td>\n",
       "      <td>45.496641</td>\n",
       "      <td>2024-08-22 05:00:00+00:00</td>\n",
       "    </tr>\n",
       "    <tr>\n",
       "      <th>8</th>\n",
       "      <td>2.7</td>\n",
       "      <td>1064</td>\n",
       "      <td>pm25</td>\n",
       "      <td>-122.602877</td>\n",
       "      <td>45.496641</td>\n",
       "      <td>2024-08-22 04:00:00+00:00</td>\n",
       "    </tr>\n",
       "    <tr>\n",
       "      <th>9</th>\n",
       "      <td>2.9</td>\n",
       "      <td>1064</td>\n",
       "      <td>pm25</td>\n",
       "      <td>-122.602877</td>\n",
       "      <td>45.496641</td>\n",
       "      <td>2024-08-22 03:00:00+00:00</td>\n",
       "    </tr>\n",
       "  </tbody>\n",
       "</table>\n",
       "</div>"
      ],
      "text/plain": [
       "   Value location parameter   longitude   latitude                       Date\n",
       "0    2.8     1064      pm25 -122.602877  45.496641  2024-08-22 12:00:00+00:00\n",
       "1    2.7     1064      pm25 -122.602877  45.496641  2024-08-22 11:00:00+00:00\n",
       "2    2.6     1064      pm25 -122.602877  45.496641  2024-08-22 10:00:00+00:00\n",
       "3    2.7     1064      pm25 -122.602877  45.496641  2024-08-22 09:00:00+00:00\n",
       "4    2.6     1064      pm25 -122.602877  45.496641  2024-08-22 08:00:00+00:00\n",
       "5    2.5     1064      pm25 -122.602877  45.496641  2024-08-22 07:00:00+00:00\n",
       "6    2.4     1064      pm25 -122.602877  45.496641  2024-08-22 06:00:00+00:00\n",
       "7    2.7     1064      pm25 -122.602877  45.496641  2024-08-22 05:00:00+00:00\n",
       "8    2.7     1064      pm25 -122.602877  45.496641  2024-08-22 04:00:00+00:00\n",
       "9    2.9     1064      pm25 -122.602877  45.496641  2024-08-22 03:00:00+00:00"
      ]
     },
     "execution_count": 99,
     "metadata": {},
     "output_type": "execute_result"
    }
   ],
   "source": [
    "# Defining city id's\n",
    "ids = ['1064', '1067']\n",
    "\n",
    "\n",
    "# Creating \n",
    "combined_df = []\n",
    "if REFRESH_DATA:\n",
    "    air_measurements = []\n",
    "    # Iterating through sensor locations and creating object to store data for each\n",
    "    for location in ids:\n",
    "        quality = AirQuality(location)\n",
    "        quality.pull_data(DATA_QUANTITY )\n",
    "        air_measurements.append(quality.raw_data)\n",
    "\n",
    "    combined_df = pd.concat(air_measurements)\n",
    "    combined_df.to_csv('./Data/air_polution.csv')\n",
    "else:\n",
    "    combined_df = pd.read_csv('./Data/air_polution.csv')\n",
    "    combined_df = combined_df.drop(columns = ['Unnamed: 0'])\n",
    "\n",
    "combined_df['location'] = combined_df['location'].astype(str)\n",
    "combined_df = combined_df.drop(columns = ['Date'])\n",
    "combined_df = combined_df.rename(columns = {'Data_Converted': 'Date'})\n",
    "combined_df = combined_df[combined_df['location'].isin(ids)].reset_index(drop=True)\n",
    "combined_df.head(10)"
   ]
  },
  {
   "cell_type": "code",
   "execution_count": 100,
   "metadata": {},
   "outputs": [
    {
     "data": {
      "text/html": [
       "<div>\n",
       "<style scoped>\n",
       "    .dataframe tbody tr th:only-of-type {\n",
       "        vertical-align: middle;\n",
       "    }\n",
       "\n",
       "    .dataframe tbody tr th {\n",
       "        vertical-align: top;\n",
       "    }\n",
       "\n",
       "    .dataframe thead th {\n",
       "        text-align: right;\n",
       "    }\n",
       "</style>\n",
       "<table border=\"1\" class=\"dataframe\">\n",
       "  <thead>\n",
       "    <tr style=\"text-align: right;\">\n",
       "      <th></th>\n",
       "      <th>1064</th>\n",
       "      <th>1067</th>\n",
       "      <th>Date</th>\n",
       "    </tr>\n",
       "  </thead>\n",
       "  <tbody>\n",
       "    <tr>\n",
       "      <th>0</th>\n",
       "      <td>5.2</td>\n",
       "      <td>5.0</td>\n",
       "      <td>2024-08-14 05:00:00+00:00</td>\n",
       "    </tr>\n",
       "    <tr>\n",
       "      <th>1</th>\n",
       "      <td>5.4</td>\n",
       "      <td>5.0</td>\n",
       "      <td>2024-08-14 06:00:00+00:00</td>\n",
       "    </tr>\n",
       "    <tr>\n",
       "      <th>2</th>\n",
       "      <td>5.3</td>\n",
       "      <td>5.2</td>\n",
       "      <td>2024-08-14 07:00:00+00:00</td>\n",
       "    </tr>\n",
       "    <tr>\n",
       "      <th>3</th>\n",
       "      <td>5.4</td>\n",
       "      <td>5.3</td>\n",
       "      <td>2024-08-14 08:00:00+00:00</td>\n",
       "    </tr>\n",
       "    <tr>\n",
       "      <th>4</th>\n",
       "      <td>5.6</td>\n",
       "      <td>5.3</td>\n",
       "      <td>2024-08-14 09:00:00+00:00</td>\n",
       "    </tr>\n",
       "    <tr>\n",
       "      <th>5</th>\n",
       "      <td>6.0</td>\n",
       "      <td>5.5</td>\n",
       "      <td>2024-08-14 10:00:00+00:00</td>\n",
       "    </tr>\n",
       "    <tr>\n",
       "      <th>6</th>\n",
       "      <td>6.3</td>\n",
       "      <td>5.6</td>\n",
       "      <td>2024-08-14 11:00:00+00:00</td>\n",
       "    </tr>\n",
       "    <tr>\n",
       "      <th>7</th>\n",
       "      <td>6.0</td>\n",
       "      <td>5.6</td>\n",
       "      <td>2024-08-14 12:00:00+00:00</td>\n",
       "    </tr>\n",
       "    <tr>\n",
       "      <th>8</th>\n",
       "      <td>6.1</td>\n",
       "      <td>5.8</td>\n",
       "      <td>2024-08-14 13:00:00+00:00</td>\n",
       "    </tr>\n",
       "    <tr>\n",
       "      <th>9</th>\n",
       "      <td>6.2</td>\n",
       "      <td>5.8</td>\n",
       "      <td>2024-08-14 14:00:00+00:00</td>\n",
       "    </tr>\n",
       "  </tbody>\n",
       "</table>\n",
       "</div>"
      ],
      "text/plain": [
       "   1064  1067                       Date\n",
       "0   5.2   5.0  2024-08-14 05:00:00+00:00\n",
       "1   5.4   5.0  2024-08-14 06:00:00+00:00\n",
       "2   5.3   5.2  2024-08-14 07:00:00+00:00\n",
       "3   5.4   5.3  2024-08-14 08:00:00+00:00\n",
       "4   5.6   5.3  2024-08-14 09:00:00+00:00\n",
       "5   6.0   5.5  2024-08-14 10:00:00+00:00\n",
       "6   6.3   5.6  2024-08-14 11:00:00+00:00\n",
       "7   6.0   5.6  2024-08-14 12:00:00+00:00\n",
       "8   6.1   5.8  2024-08-14 13:00:00+00:00\n",
       "9   6.2   5.8  2024-08-14 14:00:00+00:00"
      ]
     },
     "execution_count": 100,
     "metadata": {},
     "output_type": "execute_result"
    }
   ],
   "source": [
    "identifier_col = 'location'\n",
    "value_col = 'Value'\n",
    "formatted_df = pivot_dataframe(combined_df, identifier_col, value_col)\n",
    "formatted_df.head(10)"
   ]
  },
  {
   "cell_type": "markdown",
   "metadata": {},
   "source": [
    "### First Trying with Just One Series"
   ]
  },
  {
   "cell_type": "code",
   "execution_count": 101,
   "metadata": {},
   "outputs": [
    {
     "data": {
      "text/html": [
       "<div>\n",
       "<style scoped>\n",
       "    .dataframe tbody tr th:only-of-type {\n",
       "        vertical-align: middle;\n",
       "    }\n",
       "\n",
       "    .dataframe tbody tr th {\n",
       "        vertical-align: top;\n",
       "    }\n",
       "\n",
       "    .dataframe thead th {\n",
       "        text-align: right;\n",
       "    }\n",
       "</style>\n",
       "<table border=\"1\" class=\"dataframe\">\n",
       "  <thead>\n",
       "    <tr style=\"text-align: right;\">\n",
       "      <th></th>\n",
       "      <th>1064</th>\n",
       "      <th>1067</th>\n",
       "      <th>Date</th>\n",
       "    </tr>\n",
       "  </thead>\n",
       "  <tbody>\n",
       "    <tr>\n",
       "      <th>0</th>\n",
       "      <td>0.252174</td>\n",
       "      <td>0.397436</td>\n",
       "      <td>2024-08-14 05:00:00+00:00</td>\n",
       "    </tr>\n",
       "    <tr>\n",
       "      <th>1</th>\n",
       "      <td>0.269565</td>\n",
       "      <td>0.397436</td>\n",
       "      <td>2024-08-14 06:00:00+00:00</td>\n",
       "    </tr>\n",
       "    <tr>\n",
       "      <th>2</th>\n",
       "      <td>0.260870</td>\n",
       "      <td>0.423077</td>\n",
       "      <td>2024-08-14 07:00:00+00:00</td>\n",
       "    </tr>\n",
       "    <tr>\n",
       "      <th>3</th>\n",
       "      <td>0.269565</td>\n",
       "      <td>0.435897</td>\n",
       "      <td>2024-08-14 08:00:00+00:00</td>\n",
       "    </tr>\n",
       "    <tr>\n",
       "      <th>4</th>\n",
       "      <td>0.286957</td>\n",
       "      <td>0.435897</td>\n",
       "      <td>2024-08-14 09:00:00+00:00</td>\n",
       "    </tr>\n",
       "    <tr>\n",
       "      <th>5</th>\n",
       "      <td>0.321739</td>\n",
       "      <td>0.461538</td>\n",
       "      <td>2024-08-14 10:00:00+00:00</td>\n",
       "    </tr>\n",
       "    <tr>\n",
       "      <th>6</th>\n",
       "      <td>0.347826</td>\n",
       "      <td>0.474359</td>\n",
       "      <td>2024-08-14 11:00:00+00:00</td>\n",
       "    </tr>\n",
       "    <tr>\n",
       "      <th>7</th>\n",
       "      <td>0.321739</td>\n",
       "      <td>0.474359</td>\n",
       "      <td>2024-08-14 12:00:00+00:00</td>\n",
       "    </tr>\n",
       "    <tr>\n",
       "      <th>8</th>\n",
       "      <td>0.330435</td>\n",
       "      <td>0.500000</td>\n",
       "      <td>2024-08-14 13:00:00+00:00</td>\n",
       "    </tr>\n",
       "    <tr>\n",
       "      <th>9</th>\n",
       "      <td>0.339130</td>\n",
       "      <td>0.500000</td>\n",
       "      <td>2024-08-14 14:00:00+00:00</td>\n",
       "    </tr>\n",
       "  </tbody>\n",
       "</table>\n",
       "</div>"
      ],
      "text/plain": [
       "       1064      1067                       Date\n",
       "0  0.252174  0.397436  2024-08-14 05:00:00+00:00\n",
       "1  0.269565  0.397436  2024-08-14 06:00:00+00:00\n",
       "2  0.260870  0.423077  2024-08-14 07:00:00+00:00\n",
       "3  0.269565  0.435897  2024-08-14 08:00:00+00:00\n",
       "4  0.286957  0.435897  2024-08-14 09:00:00+00:00\n",
       "5  0.321739  0.461538  2024-08-14 10:00:00+00:00\n",
       "6  0.347826  0.474359  2024-08-14 11:00:00+00:00\n",
       "7  0.321739  0.474359  2024-08-14 12:00:00+00:00\n",
       "8  0.330435  0.500000  2024-08-14 13:00:00+00:00\n",
       "9  0.339130  0.500000  2024-08-14 14:00:00+00:00"
      ]
     },
     "execution_count": 101,
     "metadata": {},
     "output_type": "execute_result"
    }
   ],
   "source": [
    "# creating scalar\n",
    "scaler = MinMaxScaler(feature_range=(0, 1))\n",
    "\n",
    "# Normalizing target columns\n",
    "for col in ids:\n",
    "    formatted_df [col] = scaler.fit_transform(formatted_df[[col]])\n",
    "formatted_df.head(10)"
   ]
  },
  {
   "cell_type": "markdown",
   "metadata": {},
   "source": [
    "### Creating Training Set"
   ]
  },
  {
   "cell_type": "code",
   "execution_count": 102,
   "metadata": {},
   "outputs": [
    {
     "name": "stdout",
     "output_type": "stream",
     "text": [
      "140 60\n"
     ]
    },
    {
     "data": {
      "text/html": [
       "<div>\n",
       "<style scoped>\n",
       "    .dataframe tbody tr th:only-of-type {\n",
       "        vertical-align: middle;\n",
       "    }\n",
       "\n",
       "    .dataframe tbody tr th {\n",
       "        vertical-align: top;\n",
       "    }\n",
       "\n",
       "    .dataframe thead th {\n",
       "        text-align: right;\n",
       "    }\n",
       "</style>\n",
       "<table border=\"1\" class=\"dataframe\">\n",
       "  <thead>\n",
       "    <tr style=\"text-align: right;\">\n",
       "      <th></th>\n",
       "      <th>1064</th>\n",
       "      <th>1067</th>\n",
       "      <th>Date</th>\n",
       "    </tr>\n",
       "  </thead>\n",
       "  <tbody>\n",
       "    <tr>\n",
       "      <th>140</th>\n",
       "      <td>0.121739</td>\n",
       "      <td>0.205128</td>\n",
       "      <td>2024-08-20 01:00:00+00:00</td>\n",
       "    </tr>\n",
       "    <tr>\n",
       "      <th>141</th>\n",
       "      <td>0.147826</td>\n",
       "      <td>0.243590</td>\n",
       "      <td>2024-08-20 02:00:00+00:00</td>\n",
       "    </tr>\n",
       "    <tr>\n",
       "      <th>142</th>\n",
       "      <td>0.139130</td>\n",
       "      <td>0.217949</td>\n",
       "      <td>2024-08-20 03:00:00+00:00</td>\n",
       "    </tr>\n",
       "    <tr>\n",
       "      <th>143</th>\n",
       "      <td>0.173913</td>\n",
       "      <td>0.269231</td>\n",
       "      <td>2024-08-20 04:00:00+00:00</td>\n",
       "    </tr>\n",
       "    <tr>\n",
       "      <th>144</th>\n",
       "      <td>0.304348</td>\n",
       "      <td>0.230769</td>\n",
       "      <td>2024-08-20 05:00:00+00:00</td>\n",
       "    </tr>\n",
       "    <tr>\n",
       "      <th>145</th>\n",
       "      <td>0.269565</td>\n",
       "      <td>0.256410</td>\n",
       "      <td>2024-08-20 06:00:00+00:00</td>\n",
       "    </tr>\n",
       "    <tr>\n",
       "      <th>146</th>\n",
       "      <td>0.286957</td>\n",
       "      <td>0.256410</td>\n",
       "      <td>2024-08-20 07:00:00+00:00</td>\n",
       "    </tr>\n",
       "    <tr>\n",
       "      <th>147</th>\n",
       "      <td>0.269565</td>\n",
       "      <td>0.243590</td>\n",
       "      <td>2024-08-20 08:00:00+00:00</td>\n",
       "    </tr>\n",
       "    <tr>\n",
       "      <th>148</th>\n",
       "      <td>0.252174</td>\n",
       "      <td>0.256410</td>\n",
       "      <td>2024-08-20 09:00:00+00:00</td>\n",
       "    </tr>\n",
       "    <tr>\n",
       "      <th>149</th>\n",
       "      <td>0.243478</td>\n",
       "      <td>0.320513</td>\n",
       "      <td>2024-08-20 10:00:00+00:00</td>\n",
       "    </tr>\n",
       "  </tbody>\n",
       "</table>\n",
       "</div>"
      ],
      "text/plain": [
       "         1064      1067                       Date\n",
       "140  0.121739  0.205128  2024-08-20 01:00:00+00:00\n",
       "141  0.147826  0.243590  2024-08-20 02:00:00+00:00\n",
       "142  0.139130  0.217949  2024-08-20 03:00:00+00:00\n",
       "143  0.173913  0.269231  2024-08-20 04:00:00+00:00\n",
       "144  0.304348  0.230769  2024-08-20 05:00:00+00:00\n",
       "145  0.269565  0.256410  2024-08-20 06:00:00+00:00\n",
       "146  0.286957  0.256410  2024-08-20 07:00:00+00:00\n",
       "147  0.269565  0.243590  2024-08-20 08:00:00+00:00\n",
       "148  0.252174  0.256410  2024-08-20 09:00:00+00:00\n",
       "149  0.243478  0.320513  2024-08-20 10:00:00+00:00"
      ]
     },
     "execution_count": 102,
     "metadata": {},
     "output_type": "execute_result"
    }
   ],
   "source": [
    "# setting test/train ratio\n",
    "total_observations = len(formatted_df)\n",
    "train_ratio = 0.7\n",
    "\n",
    "# performing time based test/train split\n",
    "train_df = formatted_df[:int(total_observations * train_ratio)]\n",
    "test_df = formatted_df[int(total_observations * train_ratio):]\n",
    "print(len(train_df), len(test_df))\n",
    "test_df.head(10)\n"
   ]
  },
  {
   "cell_type": "code",
   "execution_count": 103,
   "metadata": {},
   "outputs": [
    {
     "name": "stdout",
     "output_type": "stream",
     "text": [
      "Index(['1064', '1067', 'Date'], dtype='object')\n"
     ]
    }
   ],
   "source": [
    "print(test_df.columns)"
   ]
  },
  {
   "cell_type": "markdown",
   "metadata": {},
   "source": [
    "### Converting Data to Windowed Format"
   ]
  },
  {
   "cell_type": "code",
   "execution_count": 104,
   "metadata": {},
   "outputs": [
    {
     "name": "stdout",
     "output_type": "stream",
     "text": [
      "(134, 2)\n"
     ]
    }
   ],
   "source": [
    "timesteps = 6\n",
    "features = 2\n",
    "\n",
    "count = 0\n",
    "# Storing results\n",
    "train_x_all, test_x_all = np.array([]), np.array([])\n",
    "train_y_all, test_y_all = np.array([]), np.array([])\n",
    "\n",
    "# Iterating through each series of interest\n",
    "for val in ids:\n",
    "\n",
    "    train_vals, test_vals = train_df[val].values, test_df[val].values\n",
    "\n",
    "    # Transforming to time series                                                                                                                                                       \n",
    "    train_data, test_data = convert_to_supervised(train_vals, n_in=timesteps), convert_to_supervised(test_vals, n_in=timesteps)\n",
    "\n",
    "    # Converting to dataframe\n",
    "    train_df_sup, test_df_sup = rename_dataframe_supervised(pd.DataFrame(train_data)), rename_dataframe_supervised(pd.DataFrame(test_data))\n",
    "\n",
    "    # Separating x and y\n",
    "    train_y, train_x = train_df_sup['t'].to_numpy(), train_df_sup.drop(columns = ['t']).to_numpy()\n",
    "    test_y, test_x = test_df_sup['t'].to_numpy(), test_df_sup.drop(columns = ['t']).to_numpy()\n",
    "\n",
    "    if count == 0:\n",
    "        train_x_all = train_x\n",
    "        train_y_all = train_y\n",
    "        test_x_all = test_x\n",
    "        test_y_all = test_y\n",
    "    else:\n",
    "        train_x_all = np.concatenate((train_x_all, train_x), axis = 1)\n",
    "        train_y_all = np.stack((train_y_all, train_y), axis = 0)\n",
    "        test_x_all = np.concatenate((test_x_all, test_x), axis = 1)\n",
    "        test_y_all = np.stack((test_y_all, test_y), axis = 0)\n",
    "\n",
    "    count += 1\n",
    "train_y_all = train_y_all.T\n",
    "test_y_all = test_y_all.T\n",
    "print(train_y_all.shape)\n"
   ]
  },
  {
   "cell_type": "code",
   "execution_count": 105,
   "metadata": {},
   "outputs": [],
   "source": [
    "# reshape input to be [samples, time steps, features]\n",
    "# otherwise known as [rows x timesteps into future x columns]\n",
    "train_x_all = np.reshape(train_x_all, (train_x_all.shape[0], 1, train_x_all.shape[1]))\n",
    "test_x_all = np.reshape(test_x_all, (test_x_all.shape[0], 1, test_x_all.shape[1]))\n"
   ]
  },
  {
   "cell_type": "code",
   "execution_count": 106,
   "metadata": {},
   "outputs": [
    {
     "name": "stdout",
     "output_type": "stream",
     "text": [
      "Train X shape: (134, 1, 12)\n",
      "Train y shape: (134, 2)\n"
     ]
    }
   ],
   "source": [
    "print('Train X shape:', train_x_all.shape)\n",
    "print('Train y shape:', train_y_all.shape)"
   ]
  },
  {
   "cell_type": "markdown",
   "metadata": {},
   "source": [
    "### Now we can Make a Model"
   ]
  },
  {
   "cell_type": "code",
   "execution_count": 109,
   "metadata": {},
   "outputs": [
    {
     "name": "stdout",
     "output_type": "stream",
     "text": [
      "Epoch 1/100\n",
      "Epoch 2/100\n",
      "Epoch 3/100\n",
      "Epoch 4/100\n",
      "Epoch 5/100\n",
      "Epoch 6/100\n",
      "Epoch 7/100\n",
      "Epoch 8/100\n",
      "Epoch 9/100\n",
      "Epoch 10/100\n",
      "Epoch 11/100\n",
      "Epoch 12/100\n",
      "Epoch 13/100\n",
      "Epoch 14/100\n",
      "Epoch 15/100\n",
      "Epoch 16/100\n",
      "Epoch 17/100\n",
      "Epoch 18/100\n",
      "Epoch 19/100\n",
      "Epoch 20/100\n",
      "Epoch 21/100\n",
      "Epoch 22/100\n",
      "Epoch 23/100\n",
      "Epoch 24/100\n",
      "Epoch 25/100\n",
      "Epoch 26/100\n",
      "Epoch 27/100\n",
      "Epoch 28/100\n",
      "Epoch 29/100\n",
      "Epoch 30/100\n",
      "Epoch 31/100\n",
      "Epoch 32/100\n",
      "Epoch 33/100\n",
      "Epoch 34/100\n",
      "Epoch 35/100\n",
      "Epoch 36/100\n",
      "Epoch 37/100\n",
      "Epoch 38/100\n",
      "Epoch 39/100\n",
      "Epoch 40/100\n",
      "Epoch 41/100\n",
      "Epoch 42/100\n",
      "Epoch 43/100\n",
      "Epoch 44/100\n",
      "Epoch 45/100\n",
      "Epoch 46/100\n",
      "Epoch 47/100\n",
      "Epoch 48/100\n",
      "Epoch 49/100\n",
      "Epoch 50/100\n",
      "Epoch 51/100\n",
      "Epoch 52/100\n",
      "Epoch 53/100\n",
      "Epoch 54/100\n",
      "Epoch 55/100\n",
      "Epoch 56/100\n",
      "Epoch 57/100\n",
      "Epoch 58/100\n",
      "Epoch 59/100\n",
      "Epoch 60/100\n",
      "Epoch 61/100\n",
      "Epoch 62/100\n",
      "Epoch 63/100\n",
      "Epoch 64/100\n",
      "Epoch 65/100\n",
      "Epoch 66/100\n",
      "Epoch 67/100\n",
      "Epoch 68/100\n",
      "Epoch 69/100\n",
      "Epoch 70/100\n",
      "Epoch 71/100\n",
      "Epoch 72/100\n",
      "Epoch 73/100\n",
      "Epoch 74/100\n",
      "Epoch 75/100\n",
      "Epoch 76/100\n",
      "Epoch 77/100\n",
      "Epoch 78/100\n",
      "Epoch 79/100\n",
      "Epoch 80/100\n",
      "Epoch 81/100\n",
      "Epoch 82/100\n",
      "Epoch 83/100\n",
      "Epoch 84/100\n",
      "Epoch 85/100\n",
      "Epoch 86/100\n",
      "Epoch 87/100\n",
      "Epoch 88/100\n",
      "Epoch 89/100\n",
      "Epoch 90/100\n",
      "Epoch 91/100\n",
      "Epoch 92/100\n",
      "Epoch 93/100\n",
      "Epoch 94/100\n",
      "Epoch 95/100\n",
      "Epoch 96/100\n",
      "Epoch 97/100\n",
      "Epoch 98/100\n",
      "Epoch 99/100\n",
      "Epoch 100/100\n",
      "\u001b[1m5/5\u001b[0m \u001b[32m━━━━━━━━━━━━━━━━━━━━\u001b[0m\u001b[37m\u001b[0m \u001b[1m0s\u001b[0m 17ms/step\n",
      "\u001b[1m2/2\u001b[0m \u001b[32m━━━━━━━━━━━━━━━━━━━━\u001b[0m\u001b[37m\u001b[0m \u001b[1m0s\u001b[0m 2ms/step\n"
     ]
    }
   ],
   "source": [
    "# defining and training model\n",
    "model = Sequential()\n",
    "model.add(LSTM(4, input_shape=(1, int(timesteps * features))))\n",
    "model.add(Dense(2))\n",
    "model.compile(loss='mean_squared_error', optimizer='adam')\n",
    "model.fit(train_x_all, train_y_all, epochs=100, batch_size=1, verbose=3)\n",
    "\n",
    "# make predictions\n",
    "trainPredict = model.predict(train_x_all)\n",
    "testPredict = model.predict(test_x_all)\n",
    "\n",
    "\n",
    "# inverting predictions back to initial scale\n",
    "trainPredict = scaler.inverse_transform(trainPredict)\n",
    "trainY = scaler.inverse_transform([train_y])\n",
    "testPredict = scaler.inverse_transform(testPredict)\n",
    "testY = scaler.inverse_transform([test_y])"
   ]
  },
  {
   "cell_type": "code",
   "execution_count": 110,
   "metadata": {},
   "outputs": [
    {
     "name": "stdout",
     "output_type": "stream",
     "text": [
      "Train Score: 0.168 MAPE\n",
      "Test Score: 0.183 MAPE\n"
     ]
    }
   ],
   "source": [
    "# calculate root mean squared error\n",
    "trainScore = mean_absolute_percentage_error(trainY[0], trainPredict[:,0])\n",
    "print('Train Score: %.3f MAPE' % (trainScore))\n",
    "testScore = mean_absolute_percentage_error(testY[0], testPredict[:,0])\n",
    "print('Test Score: %.3f MAPE' % (testScore))"
   ]
  },
  {
   "cell_type": "markdown",
   "metadata": {},
   "source": [
    "### Comparing to Naive Approach\n",
    "The simplest approach would be predicting the future value is equal to the previous value. We'll do this and evaluate its performance."
   ]
  },
  {
   "cell_type": "code",
   "execution_count": 111,
   "metadata": {},
   "outputs": [
    {
     "name": "stdout",
     "output_type": "stream",
     "text": [
      "Test Score: 0.073 MAPE\n"
     ]
    }
   ],
   "source": [
    "base_df= pivot_dataframe(combined_df, identifier_col, value_col)[['Date', '1064']]\n",
    "future_y = base_df['1064'].iloc[1:]\n",
    "naive_pred = base_df['1064'].iloc[:-1]\n",
    "\n",
    "# calculating mape with naive approach\n",
    "naive_mape =  mean_absolute_percentage_error(future_y, naive_pred)\n",
    "print('Test Score: %.3f MAPE' % (naive_mape))\n"
   ]
  },
  {
   "cell_type": "markdown",
   "metadata": {},
   "source": [
    "Can see that LSTM performs just slightly better than our naive approach although the naive approach works surprisingly well in this case."
   ]
  },
  {
   "cell_type": "markdown",
   "metadata": {},
   "source": [
    "### Plotting Results"
   ]
  },
  {
   "cell_type": "code",
   "execution_count": 51,
   "metadata": {},
   "outputs": [
    {
     "name": "stdout",
     "output_type": "stream",
     "text": [
      "188\n"
     ]
    },
    {
     "data": {
      "text/html": [
       "<div>\n",
       "<style scoped>\n",
       "    .dataframe tbody tr th:only-of-type {\n",
       "        vertical-align: middle;\n",
       "    }\n",
       "\n",
       "    .dataframe tbody tr th {\n",
       "        vertical-align: top;\n",
       "    }\n",
       "\n",
       "    .dataframe thead th {\n",
       "        text-align: right;\n",
       "    }\n",
       "</style>\n",
       "<table border=\"1\" class=\"dataframe\">\n",
       "  <thead>\n",
       "    <tr style=\"text-align: right;\">\n",
       "      <th></th>\n",
       "      <th>Date</th>\n",
       "      <th>1064</th>\n",
       "      <th>Prediction_Type</th>\n",
       "      <th>Prediction</th>\n",
       "    </tr>\n",
       "  </thead>\n",
       "  <tbody>\n",
       "    <tr>\n",
       "      <th>12</th>\n",
       "      <td>2024-08-14 17:00:00+00:00</td>\n",
       "      <td>6.6</td>\n",
       "      <td>Train</td>\n",
       "      <td>5.508803</td>\n",
       "    </tr>\n",
       "    <tr>\n",
       "      <th>13</th>\n",
       "      <td>2024-08-14 18:00:00+00:00</td>\n",
       "      <td>6.6</td>\n",
       "      <td>Train</td>\n",
       "      <td>5.610999</td>\n",
       "    </tr>\n",
       "    <tr>\n",
       "      <th>14</th>\n",
       "      <td>2024-08-14 19:00:00+00:00</td>\n",
       "      <td>6.8</td>\n",
       "      <td>Train</td>\n",
       "      <td>5.596773</td>\n",
       "    </tr>\n",
       "    <tr>\n",
       "      <th>15</th>\n",
       "      <td>2024-08-14 20:00:00+00:00</td>\n",
       "      <td>7.4</td>\n",
       "      <td>Train</td>\n",
       "      <td>5.797921</td>\n",
       "    </tr>\n",
       "    <tr>\n",
       "      <th>16</th>\n",
       "      <td>2024-08-14 21:00:00+00:00</td>\n",
       "      <td>6.9</td>\n",
       "      <td>Train</td>\n",
       "      <td>5.790516</td>\n",
       "    </tr>\n",
       "    <tr>\n",
       "      <th>17</th>\n",
       "      <td>2024-08-14 22:00:00+00:00</td>\n",
       "      <td>6.9</td>\n",
       "      <td>Train</td>\n",
       "      <td>6.084451</td>\n",
       "    </tr>\n",
       "    <tr>\n",
       "      <th>18</th>\n",
       "      <td>2024-08-14 23:00:00+00:00</td>\n",
       "      <td>7.5</td>\n",
       "      <td>Train</td>\n",
       "      <td>6.518331</td>\n",
       "    </tr>\n",
       "    <tr>\n",
       "      <th>19</th>\n",
       "      <td>2024-08-15 00:00:00+00:00</td>\n",
       "      <td>7.5</td>\n",
       "      <td>Train</td>\n",
       "      <td>6.253768</td>\n",
       "    </tr>\n",
       "    <tr>\n",
       "      <th>20</th>\n",
       "      <td>2024-08-15 01:00:00+00:00</td>\n",
       "      <td>7.8</td>\n",
       "      <td>Train</td>\n",
       "      <td>6.076821</td>\n",
       "    </tr>\n",
       "    <tr>\n",
       "      <th>21</th>\n",
       "      <td>2024-08-15 02:00:00+00:00</td>\n",
       "      <td>7.3</td>\n",
       "      <td>Train</td>\n",
       "      <td>5.222235</td>\n",
       "    </tr>\n",
       "  </tbody>\n",
       "</table>\n",
       "</div>"
      ],
      "text/plain": [
       "                         Date  1064 Prediction_Type  Prediction\n",
       "12  2024-08-14 17:00:00+00:00   6.6           Train    5.508803\n",
       "13  2024-08-14 18:00:00+00:00   6.6           Train    5.610999\n",
       "14  2024-08-14 19:00:00+00:00   6.8           Train    5.596773\n",
       "15  2024-08-14 20:00:00+00:00   7.4           Train    5.797921\n",
       "16  2024-08-14 21:00:00+00:00   6.9           Train    5.790516\n",
       "17  2024-08-14 22:00:00+00:00   6.9           Train    6.084451\n",
       "18  2024-08-14 23:00:00+00:00   7.5           Train    6.518331\n",
       "19  2024-08-15 00:00:00+00:00   7.5           Train    6.253768\n",
       "20  2024-08-15 01:00:00+00:00   7.8           Train    6.076821\n",
       "21  2024-08-15 02:00:00+00:00   7.3           Train    5.222235"
      ]
     },
     "execution_count": 51,
     "metadata": {},
     "output_type": "execute_result"
    }
   ],
   "source": [
    "predictions = np.append(trainPredict[:,0], testPredict[:,0])\n",
    "prediction_type = ['Train'] * len(trainPredict[:,0]) + ['Test'] * len(testPredict[:,0])\n",
    "\n",
    "eval_df = base_df.iloc[timesteps*2:]\n",
    "print(len(eval_df))\n",
    "eval_df['Prediction_Type'] = prediction_type\n",
    "eval_df['Prediction'] = predictions\n",
    "eval_df.head(10)\n"
   ]
  },
  {
   "cell_type": "code",
   "execution_count": 52,
   "metadata": {},
   "outputs": [
    {
     "data": {
      "application/vnd.plotly.v1+json": {
       "config": {
        "plotlyServerURL": "https://plot.ly"
       },
       "data": [
        {
         "mode": "lines",
         "name": "Actual",
         "type": "scatter",
         "x": [
          "2024-08-14 17:00:00+00:00",
          "2024-08-14 18:00:00+00:00",
          "2024-08-14 19:00:00+00:00",
          "2024-08-14 20:00:00+00:00",
          "2024-08-14 21:00:00+00:00",
          "2024-08-14 22:00:00+00:00",
          "2024-08-14 23:00:00+00:00",
          "2024-08-15 00:00:00+00:00",
          "2024-08-15 01:00:00+00:00",
          "2024-08-15 02:00:00+00:00",
          "2024-08-15 03:00:00+00:00",
          "2024-08-15 04:00:00+00:00",
          "2024-08-15 05:00:00+00:00",
          "2024-08-15 06:00:00+00:00",
          "2024-08-15 07:00:00+00:00",
          "2024-08-15 08:00:00+00:00",
          "2024-08-15 09:00:00+00:00",
          "2024-08-15 10:00:00+00:00",
          "2024-08-15 11:00:00+00:00",
          "2024-08-15 12:00:00+00:00",
          "2024-08-15 13:00:00+00:00",
          "2024-08-15 14:00:00+00:00",
          "2024-08-15 15:00:00+00:00",
          "2024-08-15 16:00:00+00:00",
          "2024-08-15 17:00:00+00:00",
          "2024-08-15 18:00:00+00:00",
          "2024-08-15 19:00:00+00:00",
          "2024-08-15 20:00:00+00:00",
          "2024-08-15 21:00:00+00:00",
          "2024-08-15 22:00:00+00:00",
          "2024-08-15 23:00:00+00:00",
          "2024-08-16 00:00:00+00:00",
          "2024-08-16 01:00:00+00:00",
          "2024-08-16 02:00:00+00:00",
          "2024-08-16 03:00:00+00:00",
          "2024-08-16 04:00:00+00:00",
          "2024-08-16 05:00:00+00:00",
          "2024-08-16 06:00:00+00:00",
          "2024-08-16 07:00:00+00:00",
          "2024-08-16 08:00:00+00:00",
          "2024-08-16 09:00:00+00:00",
          "2024-08-16 10:00:00+00:00",
          "2024-08-16 11:00:00+00:00",
          "2024-08-16 12:00:00+00:00",
          "2024-08-16 13:00:00+00:00",
          "2024-08-16 14:00:00+00:00",
          "2024-08-16 15:00:00+00:00",
          "2024-08-16 16:00:00+00:00",
          "2024-08-16 17:00:00+00:00",
          "2024-08-16 18:00:00+00:00",
          "2024-08-16 19:00:00+00:00",
          "2024-08-16 20:00:00+00:00",
          "2024-08-16 21:00:00+00:00",
          "2024-08-16 22:00:00+00:00",
          "2024-08-16 23:00:00+00:00",
          "2024-08-17 00:00:00+00:00",
          "2024-08-17 01:00:00+00:00",
          "2024-08-17 02:00:00+00:00",
          "2024-08-17 03:00:00+00:00",
          "2024-08-17 04:00:00+00:00",
          "2024-08-17 05:00:00+00:00",
          "2024-08-17 06:00:00+00:00",
          "2024-08-17 07:00:00+00:00",
          "2024-08-17 08:00:00+00:00",
          "2024-08-17 09:00:00+00:00",
          "2024-08-17 10:00:00+00:00",
          "2024-08-17 11:00:00+00:00",
          "2024-08-17 12:00:00+00:00",
          "2024-08-17 13:00:00+00:00",
          "2024-08-17 14:00:00+00:00",
          "2024-08-17 15:00:00+00:00",
          "2024-08-17 16:00:00+00:00",
          "2024-08-17 17:00:00+00:00",
          "2024-08-17 18:00:00+00:00",
          "2024-08-17 19:00:00+00:00",
          "2024-08-17 20:00:00+00:00",
          "2024-08-17 21:00:00+00:00",
          "2024-08-17 22:00:00+00:00",
          "2024-08-17 23:00:00+00:00",
          "2024-08-18 00:00:00+00:00",
          "2024-08-18 01:00:00+00:00",
          "2024-08-18 02:00:00+00:00",
          "2024-08-18 03:00:00+00:00",
          "2024-08-18 04:00:00+00:00",
          "2024-08-18 05:00:00+00:00",
          "2024-08-18 06:00:00+00:00",
          "2024-08-18 07:00:00+00:00",
          "2024-08-18 08:00:00+00:00",
          "2024-08-18 09:00:00+00:00",
          "2024-08-18 10:00:00+00:00",
          "2024-08-18 11:00:00+00:00",
          "2024-08-18 12:00:00+00:00",
          "2024-08-18 13:00:00+00:00",
          "2024-08-18 14:00:00+00:00",
          "2024-08-18 15:00:00+00:00",
          "2024-08-18 16:00:00+00:00",
          "2024-08-18 17:00:00+00:00",
          "2024-08-18 18:00:00+00:00",
          "2024-08-18 19:00:00+00:00",
          "2024-08-18 20:00:00+00:00",
          "2024-08-18 21:00:00+00:00",
          "2024-08-18 22:00:00+00:00",
          "2024-08-18 23:00:00+00:00",
          "2024-08-19 00:00:00+00:00",
          "2024-08-19 01:00:00+00:00",
          "2024-08-19 02:00:00+00:00",
          "2024-08-19 03:00:00+00:00",
          "2024-08-19 04:00:00+00:00",
          "2024-08-19 05:00:00+00:00",
          "2024-08-19 06:00:00+00:00",
          "2024-08-19 07:00:00+00:00",
          "2024-08-19 08:00:00+00:00",
          "2024-08-19 09:00:00+00:00",
          "2024-08-19 10:00:00+00:00",
          "2024-08-19 11:00:00+00:00",
          "2024-08-19 12:00:00+00:00",
          "2024-08-19 13:00:00+00:00",
          "2024-08-19 14:00:00+00:00",
          "2024-08-19 15:00:00+00:00",
          "2024-08-19 16:00:00+00:00",
          "2024-08-19 17:00:00+00:00",
          "2024-08-19 18:00:00+00:00",
          "2024-08-19 19:00:00+00:00",
          "2024-08-19 20:00:00+00:00",
          "2024-08-19 21:00:00+00:00",
          "2024-08-19 22:00:00+00:00",
          "2024-08-19 23:00:00+00:00",
          "2024-08-20 00:00:00+00:00",
          "2024-08-20 01:00:00+00:00",
          "2024-08-20 02:00:00+00:00",
          "2024-08-20 03:00:00+00:00",
          "2024-08-20 04:00:00+00:00",
          "2024-08-20 05:00:00+00:00",
          "2024-08-20 06:00:00+00:00",
          "2024-08-20 07:00:00+00:00",
          "2024-08-20 08:00:00+00:00",
          "2024-08-20 09:00:00+00:00",
          "2024-08-20 10:00:00+00:00",
          "2024-08-20 11:00:00+00:00",
          "2024-08-20 12:00:00+00:00",
          "2024-08-20 13:00:00+00:00",
          "2024-08-20 14:00:00+00:00",
          "2024-08-20 15:00:00+00:00",
          "2024-08-20 16:00:00+00:00",
          "2024-08-20 17:00:00+00:00",
          "2024-08-20 18:00:00+00:00",
          "2024-08-20 19:00:00+00:00",
          "2024-08-20 20:00:00+00:00",
          "2024-08-20 21:00:00+00:00",
          "2024-08-20 22:00:00+00:00",
          "2024-08-20 23:00:00+00:00",
          "2024-08-21 00:00:00+00:00",
          "2024-08-21 01:00:00+00:00",
          "2024-08-21 02:00:00+00:00",
          "2024-08-21 03:00:00+00:00",
          "2024-08-21 04:00:00+00:00",
          "2024-08-21 05:00:00+00:00",
          "2024-08-21 06:00:00+00:00",
          "2024-08-21 07:00:00+00:00",
          "2024-08-21 08:00:00+00:00",
          "2024-08-21 09:00:00+00:00",
          "2024-08-21 10:00:00+00:00",
          "2024-08-21 11:00:00+00:00",
          "2024-08-21 12:00:00+00:00",
          "2024-08-21 13:00:00+00:00",
          "2024-08-21 14:00:00+00:00",
          "2024-08-21 15:00:00+00:00",
          "2024-08-21 16:00:00+00:00",
          "2024-08-21 17:00:00+00:00",
          "2024-08-21 18:00:00+00:00",
          "2024-08-21 19:00:00+00:00",
          "2024-08-21 20:00:00+00:00",
          "2024-08-21 21:00:00+00:00",
          "2024-08-21 22:00:00+00:00",
          "2024-08-21 23:00:00+00:00",
          "2024-08-22 00:00:00+00:00",
          "2024-08-22 01:00:00+00:00",
          "2024-08-22 02:00:00+00:00",
          "2024-08-22 03:00:00+00:00",
          "2024-08-22 04:00:00+00:00",
          "2024-08-22 05:00:00+00:00",
          "2024-08-22 06:00:00+00:00",
          "2024-08-22 07:00:00+00:00",
          "2024-08-22 08:00:00+00:00",
          "2024-08-22 09:00:00+00:00",
          "2024-08-22 10:00:00+00:00",
          "2024-08-22 11:00:00+00:00",
          "2024-08-22 12:00:00+00:00"
         ],
         "y": [
          6.6,
          6.6,
          6.8,
          7.4,
          6.9,
          6.9,
          7.5,
          7.5,
          7.8,
          7.3,
          7.2,
          6.9,
          6.8,
          7.2,
          6.8,
          6.3,
          5.7,
          4.8,
          4.6,
          4.4,
          4.5,
          4.5,
          4.6,
          5,
          6.8,
          6.9,
          7,
          7.1,
          7.2,
          7.5,
          6.6,
          4.8,
          3.9,
          4.2,
          3.9,
          3.3,
          2.8,
          2.3,
          2.5,
          2.6,
          2.4,
          2.6,
          2.6,
          3,
          2.7,
          3.3,
          3,
          2.6,
          2.7,
          2.7,
          2.9,
          3,
          3.3,
          3.4,
          3.3,
          3.4,
          3.5,
          3.6,
          3.5,
          3.5,
          3.6,
          4.5,
          4.8,
          5,
          5.2,
          5.6,
          5.6,
          5.6,
          5.7,
          5.9,
          6,
          6,
          6.2,
          6.5,
          8.3,
          9.2,
          9.6,
          10.2,
          9.4,
          8.3,
          7.6,
          8.8,
          9.2,
          9.8,
          11.3,
          13.5,
          13.8,
          11.5,
          11.7,
          11.3,
          9.5,
          7.5,
          6.1,
          7,
          6.2,
          5.5,
          5.1,
          4.8,
          3.1,
          3.2,
          3,
          2.8,
          3,
          2.8,
          3.2,
          3.3,
          3.6,
          4.3,
          4.4,
          4.7,
          5,
          5.2,
          5.3,
          5.2,
          5.4,
          5.8,
          5.9,
          5.3,
          5.5,
          5.2,
          4.8,
          4.6,
          4.3,
          4.4,
          4,
          3.6,
          3.8,
          3.9,
          3.7,
          4,
          3.9,
          4.3,
          5.8,
          5.4,
          5.6,
          5.4,
          5.2,
          5.1,
          5,
          4.8,
          4.7,
          4.5,
          4.5,
          4.5,
          5,
          4.8,
          4.7,
          5.7,
          7,
          7,
          7.9,
          8.4,
          7.6,
          8.6,
          9.3,
          9.1,
          5.9,
          5.9,
          6,
          6.2,
          5.7,
          5.2,
          5.2,
          5.3,
          5.4,
          4.7,
          4.6,
          4.6,
          5.1,
          4.3,
          4,
          4.3,
          4.4,
          4.1,
          3.6,
          3,
          2.9,
          2.9,
          2.9,
          2.7,
          2.7,
          2.4,
          2.5,
          2.6,
          2.7,
          2.6,
          2.7,
          2.8
         ]
        },
        {
         "mode": "markers",
         "name": "Train Prediction",
         "type": "scatter",
         "x": [
          "2024-08-14 17:00:00+00:00",
          "2024-08-14 18:00:00+00:00",
          "2024-08-14 19:00:00+00:00",
          "2024-08-14 20:00:00+00:00",
          "2024-08-14 21:00:00+00:00",
          "2024-08-14 22:00:00+00:00",
          "2024-08-14 23:00:00+00:00",
          "2024-08-15 00:00:00+00:00",
          "2024-08-15 01:00:00+00:00",
          "2024-08-15 02:00:00+00:00",
          "2024-08-15 03:00:00+00:00",
          "2024-08-15 04:00:00+00:00",
          "2024-08-15 05:00:00+00:00",
          "2024-08-15 06:00:00+00:00",
          "2024-08-15 07:00:00+00:00",
          "2024-08-15 08:00:00+00:00",
          "2024-08-15 09:00:00+00:00",
          "2024-08-15 10:00:00+00:00",
          "2024-08-15 11:00:00+00:00",
          "2024-08-15 12:00:00+00:00",
          "2024-08-15 13:00:00+00:00",
          "2024-08-15 14:00:00+00:00",
          "2024-08-15 15:00:00+00:00",
          "2024-08-15 16:00:00+00:00",
          "2024-08-15 17:00:00+00:00",
          "2024-08-15 18:00:00+00:00",
          "2024-08-15 19:00:00+00:00",
          "2024-08-15 20:00:00+00:00",
          "2024-08-15 21:00:00+00:00",
          "2024-08-15 22:00:00+00:00",
          "2024-08-15 23:00:00+00:00",
          "2024-08-16 00:00:00+00:00",
          "2024-08-16 01:00:00+00:00",
          "2024-08-16 02:00:00+00:00",
          "2024-08-16 03:00:00+00:00",
          "2024-08-16 04:00:00+00:00",
          "2024-08-16 05:00:00+00:00",
          "2024-08-16 06:00:00+00:00",
          "2024-08-16 07:00:00+00:00",
          "2024-08-16 08:00:00+00:00",
          "2024-08-16 09:00:00+00:00",
          "2024-08-16 10:00:00+00:00",
          "2024-08-16 11:00:00+00:00",
          "2024-08-16 12:00:00+00:00",
          "2024-08-16 13:00:00+00:00",
          "2024-08-16 14:00:00+00:00",
          "2024-08-16 15:00:00+00:00",
          "2024-08-16 16:00:00+00:00",
          "2024-08-16 17:00:00+00:00",
          "2024-08-16 18:00:00+00:00",
          "2024-08-16 19:00:00+00:00",
          "2024-08-16 20:00:00+00:00",
          "2024-08-16 21:00:00+00:00",
          "2024-08-16 22:00:00+00:00",
          "2024-08-16 23:00:00+00:00",
          "2024-08-17 00:00:00+00:00",
          "2024-08-17 01:00:00+00:00",
          "2024-08-17 02:00:00+00:00",
          "2024-08-17 03:00:00+00:00",
          "2024-08-17 04:00:00+00:00",
          "2024-08-17 05:00:00+00:00",
          "2024-08-17 06:00:00+00:00",
          "2024-08-17 07:00:00+00:00",
          "2024-08-17 08:00:00+00:00",
          "2024-08-17 09:00:00+00:00",
          "2024-08-17 10:00:00+00:00",
          "2024-08-17 11:00:00+00:00",
          "2024-08-17 12:00:00+00:00",
          "2024-08-17 13:00:00+00:00",
          "2024-08-17 14:00:00+00:00",
          "2024-08-17 15:00:00+00:00",
          "2024-08-17 16:00:00+00:00",
          "2024-08-17 17:00:00+00:00",
          "2024-08-17 18:00:00+00:00",
          "2024-08-17 19:00:00+00:00",
          "2024-08-17 20:00:00+00:00",
          "2024-08-17 21:00:00+00:00",
          "2024-08-17 22:00:00+00:00",
          "2024-08-17 23:00:00+00:00",
          "2024-08-18 00:00:00+00:00",
          "2024-08-18 01:00:00+00:00",
          "2024-08-18 02:00:00+00:00",
          "2024-08-18 03:00:00+00:00",
          "2024-08-18 04:00:00+00:00",
          "2024-08-18 05:00:00+00:00",
          "2024-08-18 06:00:00+00:00",
          "2024-08-18 07:00:00+00:00",
          "2024-08-18 08:00:00+00:00",
          "2024-08-18 09:00:00+00:00",
          "2024-08-18 10:00:00+00:00",
          "2024-08-18 11:00:00+00:00",
          "2024-08-18 12:00:00+00:00",
          "2024-08-18 13:00:00+00:00",
          "2024-08-18 14:00:00+00:00",
          "2024-08-18 15:00:00+00:00",
          "2024-08-18 16:00:00+00:00",
          "2024-08-18 17:00:00+00:00",
          "2024-08-18 18:00:00+00:00",
          "2024-08-18 19:00:00+00:00",
          "2024-08-18 20:00:00+00:00",
          "2024-08-18 21:00:00+00:00",
          "2024-08-18 22:00:00+00:00",
          "2024-08-18 23:00:00+00:00",
          "2024-08-19 00:00:00+00:00",
          "2024-08-19 01:00:00+00:00",
          "2024-08-19 02:00:00+00:00",
          "2024-08-19 03:00:00+00:00",
          "2024-08-19 04:00:00+00:00",
          "2024-08-19 05:00:00+00:00",
          "2024-08-19 06:00:00+00:00",
          "2024-08-19 07:00:00+00:00",
          "2024-08-19 08:00:00+00:00",
          "2024-08-19 09:00:00+00:00",
          "2024-08-19 10:00:00+00:00",
          "2024-08-19 11:00:00+00:00",
          "2024-08-19 12:00:00+00:00",
          "2024-08-19 13:00:00+00:00",
          "2024-08-19 14:00:00+00:00",
          "2024-08-19 15:00:00+00:00",
          "2024-08-19 16:00:00+00:00",
          "2024-08-19 17:00:00+00:00",
          "2024-08-19 18:00:00+00:00",
          "2024-08-19 19:00:00+00:00",
          "2024-08-19 20:00:00+00:00",
          "2024-08-19 21:00:00+00:00",
          "2024-08-19 22:00:00+00:00",
          "2024-08-19 23:00:00+00:00",
          "2024-08-20 00:00:00+00:00",
          "2024-08-20 01:00:00+00:00",
          "2024-08-20 02:00:00+00:00",
          "2024-08-20 03:00:00+00:00",
          "2024-08-20 04:00:00+00:00",
          "2024-08-20 05:00:00+00:00",
          "2024-08-20 06:00:00+00:00"
         ],
         "y": [
          5.508803367614746,
          5.61099910736084,
          5.59677267074585,
          5.7979207038879395,
          5.790515899658203,
          6.084450721740723,
          6.5183305740356445,
          6.253768444061279,
          6.0768208503723145,
          5.222234725952148,
          5.431663990020752,
          6.392531871795654,
          7.100566387176514,
          7.232875823974609,
          6.873022556304932,
          6.560991287231445,
          6.486908435821533,
          6.394704341888428,
          6.454465389251709,
          5.6772589683532715,
          5.110103130340576,
          4.697185516357422,
          4.307943820953369,
          4.540737152099609,
          4.672295570373535,
          4.340794086456299,
          3.644812822341919,
          3.5713064670562744,
          3.9534778594970703,
          4.028576850891113,
          3.8119618892669678,
          3.3321425914764404,
          3.2820193767547607,
          3.3367409706115723,
          3.4606752395629883,
          3.3884410858154297,
          3.3462798595428467,
          3.5499038696289062,
          3.4692182540893555,
          3.4557082653045654,
          3.1558783054351807,
          2.8186707496643066,
          2.161231517791748,
          1.9303613901138306,
          1.8863558769226074,
          2.0993497371673584,
          2.2602319717407227,
          2.2837564945220947,
          2.282064199447632,
          2.5095858573913574,
          2.374335289001465,
          2.508430004119873,
          2.9615917205810547,
          2.8283193111419678,
          2.7986481189727783,
          2.5978593826293945,
          2.2894577980041504,
          2.194136381149292,
          2.456650495529175,
          2.60568904876709,
          2.888136625289917,
          3.1847853660583496,
          2.917603015899658,
          2.681299924850464,
          4.069395065307617,
          3.296661853790283,
          3.507965326309204,
          4.200379371643066,
          4.244378089904785,
          4.78267765045166,
          4.803952693939209,
          4.8620758056640625,
          4.895149230957031,
          4.859902858734131,
          5.102723121643066,
          5.335024833679199,
          5.542868614196777,
          5.414341926574707,
          5.675668716430664,
          5.922718048095703,
          6.30684232711792,
          6.819363117218018,
          7.694919586181641,
          7.317923545837402,
          7.348928928375244,
          7.171469688415527,
          8.753670692443848,
          6.840117931365967,
          5.145608901977539,
          5.223281383514404,
          5.227278232574463,
          6.351220607757568,
          7.499976634979248,
          8.286918640136719,
          8.0758056640625,
          8.844148635864258,
          8.24991226196289,
          7.173269748687744,
          5.734255313873291,
          4.86588716506958,
          5.413054943084717,
          6.085701942443848,
          6.596407890319824,
          6.21494722366333,
          5.056395053863525,
          4.230679035186768,
          3.5757346153259277,
          3.043769598007202,
          2.7060022354125977,
          2.9104156494140625,
          3.0829861164093018,
          2.9036765098571777,
          2.8709514141082764,
          3.0378315448760986,
          3.450054407119751,
          3.6043238639831543,
          3.5780045986175537,
          3.5512773990631104,
          3.533421039581299,
          3.7516419887542725,
          3.8836185932159424,
          3.9804434776306152,
          3.8769636154174805,
          4.0475077629089355,
          4.189339637756348,
          4.705775737762451,
          5.075284957885742,
          5.017423629760742,
          4.873294830322266,
          4.510290145874023,
          4.307504177093506,
          3.608921527862549,
          3.4724600315093994,
          3.4451687335968018
         ]
        },
        {
         "mode": "markers",
         "name": "Test Prediction",
         "type": "scatter",
         "x": [
          "2024-08-20 07:00:00+00:00",
          "2024-08-20 08:00:00+00:00",
          "2024-08-20 09:00:00+00:00",
          "2024-08-20 10:00:00+00:00",
          "2024-08-20 11:00:00+00:00",
          "2024-08-20 12:00:00+00:00",
          "2024-08-20 13:00:00+00:00",
          "2024-08-20 14:00:00+00:00",
          "2024-08-20 15:00:00+00:00",
          "2024-08-20 16:00:00+00:00",
          "2024-08-20 17:00:00+00:00",
          "2024-08-20 18:00:00+00:00",
          "2024-08-20 19:00:00+00:00",
          "2024-08-20 20:00:00+00:00",
          "2024-08-20 21:00:00+00:00",
          "2024-08-20 22:00:00+00:00",
          "2024-08-20 23:00:00+00:00",
          "2024-08-21 00:00:00+00:00",
          "2024-08-21 01:00:00+00:00",
          "2024-08-21 02:00:00+00:00",
          "2024-08-21 03:00:00+00:00",
          "2024-08-21 04:00:00+00:00",
          "2024-08-21 05:00:00+00:00",
          "2024-08-21 06:00:00+00:00",
          "2024-08-21 07:00:00+00:00",
          "2024-08-21 08:00:00+00:00",
          "2024-08-21 09:00:00+00:00",
          "2024-08-21 10:00:00+00:00",
          "2024-08-21 11:00:00+00:00",
          "2024-08-21 12:00:00+00:00",
          "2024-08-21 13:00:00+00:00",
          "2024-08-21 14:00:00+00:00",
          "2024-08-21 15:00:00+00:00",
          "2024-08-21 16:00:00+00:00",
          "2024-08-21 17:00:00+00:00",
          "2024-08-21 18:00:00+00:00",
          "2024-08-21 19:00:00+00:00",
          "2024-08-21 20:00:00+00:00",
          "2024-08-21 21:00:00+00:00",
          "2024-08-21 22:00:00+00:00",
          "2024-08-21 23:00:00+00:00",
          "2024-08-22 00:00:00+00:00",
          "2024-08-22 01:00:00+00:00",
          "2024-08-22 02:00:00+00:00",
          "2024-08-22 03:00:00+00:00",
          "2024-08-22 04:00:00+00:00",
          "2024-08-22 05:00:00+00:00",
          "2024-08-22 06:00:00+00:00",
          "2024-08-22 07:00:00+00:00",
          "2024-08-22 08:00:00+00:00",
          "2024-08-22 09:00:00+00:00",
          "2024-08-22 10:00:00+00:00",
          "2024-08-22 11:00:00+00:00",
          "2024-08-22 12:00:00+00:00"
         ],
         "y": [
          3.8185665607452393,
          3.8947315216064453,
          3.737922191619873,
          3.875117540359497,
          4.378717422485352,
          4.755043029785156,
          4.735679626464844,
          4.782768249511719,
          4.65356969833374,
          5.188746452331543,
          5.59090518951416,
          5.31906795501709,
          5.26524019241333,
          5.133921146392822,
          5.907283782958984,
          6.737932205200195,
          6.927943706512451,
          6.483728408813477,
          6.833202838897705,
          7.8610687255859375,
          8.427452087402344,
          8.133296012878418,
          6.023215293884277,
          4.338947772979736,
          4.487100601196289,
          4.722827434539795,
          5.069226264953613,
          4.894058704376221,
          4.5016679763793945,
          4.158507347106934,
          4.237324237823486,
          4.517917633056641,
          5.38613748550415,
          5.01003360748291,
          5.253618240356445,
          6.47954797744751,
          6.241458892822266,
          4.545921802520752,
          3.4154906272888184,
          3.499634265899658,
          3.455577850341797,
          3.4435465335845947,
          2.988462209701538,
          2.4217116832733154,
          2.226332664489746,
          2.7908895015716553,
          2.8199172019958496,
          2.6299426555633545,
          2.3340048789978027,
          2.440800905227661,
          2.407841444015503,
          2.583786725997925,
          2.7092342376708984,
          2.787562847137451
         ]
        }
       ],
       "layout": {
        "template": {
         "data": {
          "bar": [
           {
            "error_x": {
             "color": "#2a3f5f"
            },
            "error_y": {
             "color": "#2a3f5f"
            },
            "marker": {
             "line": {
              "color": "#E5ECF6",
              "width": 0.5
             },
             "pattern": {
              "fillmode": "overlay",
              "size": 10,
              "solidity": 0.2
             }
            },
            "type": "bar"
           }
          ],
          "barpolar": [
           {
            "marker": {
             "line": {
              "color": "#E5ECF6",
              "width": 0.5
             },
             "pattern": {
              "fillmode": "overlay",
              "size": 10,
              "solidity": 0.2
             }
            },
            "type": "barpolar"
           }
          ],
          "carpet": [
           {
            "aaxis": {
             "endlinecolor": "#2a3f5f",
             "gridcolor": "white",
             "linecolor": "white",
             "minorgridcolor": "white",
             "startlinecolor": "#2a3f5f"
            },
            "baxis": {
             "endlinecolor": "#2a3f5f",
             "gridcolor": "white",
             "linecolor": "white",
             "minorgridcolor": "white",
             "startlinecolor": "#2a3f5f"
            },
            "type": "carpet"
           }
          ],
          "choropleth": [
           {
            "colorbar": {
             "outlinewidth": 0,
             "ticks": ""
            },
            "type": "choropleth"
           }
          ],
          "contour": [
           {
            "colorbar": {
             "outlinewidth": 0,
             "ticks": ""
            },
            "colorscale": [
             [
              0,
              "#0d0887"
             ],
             [
              0.1111111111111111,
              "#46039f"
             ],
             [
              0.2222222222222222,
              "#7201a8"
             ],
             [
              0.3333333333333333,
              "#9c179e"
             ],
             [
              0.4444444444444444,
              "#bd3786"
             ],
             [
              0.5555555555555556,
              "#d8576b"
             ],
             [
              0.6666666666666666,
              "#ed7953"
             ],
             [
              0.7777777777777778,
              "#fb9f3a"
             ],
             [
              0.8888888888888888,
              "#fdca26"
             ],
             [
              1,
              "#f0f921"
             ]
            ],
            "type": "contour"
           }
          ],
          "contourcarpet": [
           {
            "colorbar": {
             "outlinewidth": 0,
             "ticks": ""
            },
            "type": "contourcarpet"
           }
          ],
          "heatmap": [
           {
            "colorbar": {
             "outlinewidth": 0,
             "ticks": ""
            },
            "colorscale": [
             [
              0,
              "#0d0887"
             ],
             [
              0.1111111111111111,
              "#46039f"
             ],
             [
              0.2222222222222222,
              "#7201a8"
             ],
             [
              0.3333333333333333,
              "#9c179e"
             ],
             [
              0.4444444444444444,
              "#bd3786"
             ],
             [
              0.5555555555555556,
              "#d8576b"
             ],
             [
              0.6666666666666666,
              "#ed7953"
             ],
             [
              0.7777777777777778,
              "#fb9f3a"
             ],
             [
              0.8888888888888888,
              "#fdca26"
             ],
             [
              1,
              "#f0f921"
             ]
            ],
            "type": "heatmap"
           }
          ],
          "heatmapgl": [
           {
            "colorbar": {
             "outlinewidth": 0,
             "ticks": ""
            },
            "colorscale": [
             [
              0,
              "#0d0887"
             ],
             [
              0.1111111111111111,
              "#46039f"
             ],
             [
              0.2222222222222222,
              "#7201a8"
             ],
             [
              0.3333333333333333,
              "#9c179e"
             ],
             [
              0.4444444444444444,
              "#bd3786"
             ],
             [
              0.5555555555555556,
              "#d8576b"
             ],
             [
              0.6666666666666666,
              "#ed7953"
             ],
             [
              0.7777777777777778,
              "#fb9f3a"
             ],
             [
              0.8888888888888888,
              "#fdca26"
             ],
             [
              1,
              "#f0f921"
             ]
            ],
            "type": "heatmapgl"
           }
          ],
          "histogram": [
           {
            "marker": {
             "pattern": {
              "fillmode": "overlay",
              "size": 10,
              "solidity": 0.2
             }
            },
            "type": "histogram"
           }
          ],
          "histogram2d": [
           {
            "colorbar": {
             "outlinewidth": 0,
             "ticks": ""
            },
            "colorscale": [
             [
              0,
              "#0d0887"
             ],
             [
              0.1111111111111111,
              "#46039f"
             ],
             [
              0.2222222222222222,
              "#7201a8"
             ],
             [
              0.3333333333333333,
              "#9c179e"
             ],
             [
              0.4444444444444444,
              "#bd3786"
             ],
             [
              0.5555555555555556,
              "#d8576b"
             ],
             [
              0.6666666666666666,
              "#ed7953"
             ],
             [
              0.7777777777777778,
              "#fb9f3a"
             ],
             [
              0.8888888888888888,
              "#fdca26"
             ],
             [
              1,
              "#f0f921"
             ]
            ],
            "type": "histogram2d"
           }
          ],
          "histogram2dcontour": [
           {
            "colorbar": {
             "outlinewidth": 0,
             "ticks": ""
            },
            "colorscale": [
             [
              0,
              "#0d0887"
             ],
             [
              0.1111111111111111,
              "#46039f"
             ],
             [
              0.2222222222222222,
              "#7201a8"
             ],
             [
              0.3333333333333333,
              "#9c179e"
             ],
             [
              0.4444444444444444,
              "#bd3786"
             ],
             [
              0.5555555555555556,
              "#d8576b"
             ],
             [
              0.6666666666666666,
              "#ed7953"
             ],
             [
              0.7777777777777778,
              "#fb9f3a"
             ],
             [
              0.8888888888888888,
              "#fdca26"
             ],
             [
              1,
              "#f0f921"
             ]
            ],
            "type": "histogram2dcontour"
           }
          ],
          "mesh3d": [
           {
            "colorbar": {
             "outlinewidth": 0,
             "ticks": ""
            },
            "type": "mesh3d"
           }
          ],
          "parcoords": [
           {
            "line": {
             "colorbar": {
              "outlinewidth": 0,
              "ticks": ""
             }
            },
            "type": "parcoords"
           }
          ],
          "pie": [
           {
            "automargin": true,
            "type": "pie"
           }
          ],
          "scatter": [
           {
            "fillpattern": {
             "fillmode": "overlay",
             "size": 10,
             "solidity": 0.2
            },
            "type": "scatter"
           }
          ],
          "scatter3d": [
           {
            "line": {
             "colorbar": {
              "outlinewidth": 0,
              "ticks": ""
             }
            },
            "marker": {
             "colorbar": {
              "outlinewidth": 0,
              "ticks": ""
             }
            },
            "type": "scatter3d"
           }
          ],
          "scattercarpet": [
           {
            "marker": {
             "colorbar": {
              "outlinewidth": 0,
              "ticks": ""
             }
            },
            "type": "scattercarpet"
           }
          ],
          "scattergeo": [
           {
            "marker": {
             "colorbar": {
              "outlinewidth": 0,
              "ticks": ""
             }
            },
            "type": "scattergeo"
           }
          ],
          "scattergl": [
           {
            "marker": {
             "colorbar": {
              "outlinewidth": 0,
              "ticks": ""
             }
            },
            "type": "scattergl"
           }
          ],
          "scattermapbox": [
           {
            "marker": {
             "colorbar": {
              "outlinewidth": 0,
              "ticks": ""
             }
            },
            "type": "scattermapbox"
           }
          ],
          "scatterpolar": [
           {
            "marker": {
             "colorbar": {
              "outlinewidth": 0,
              "ticks": ""
             }
            },
            "type": "scatterpolar"
           }
          ],
          "scatterpolargl": [
           {
            "marker": {
             "colorbar": {
              "outlinewidth": 0,
              "ticks": ""
             }
            },
            "type": "scatterpolargl"
           }
          ],
          "scatterternary": [
           {
            "marker": {
             "colorbar": {
              "outlinewidth": 0,
              "ticks": ""
             }
            },
            "type": "scatterternary"
           }
          ],
          "surface": [
           {
            "colorbar": {
             "outlinewidth": 0,
             "ticks": ""
            },
            "colorscale": [
             [
              0,
              "#0d0887"
             ],
             [
              0.1111111111111111,
              "#46039f"
             ],
             [
              0.2222222222222222,
              "#7201a8"
             ],
             [
              0.3333333333333333,
              "#9c179e"
             ],
             [
              0.4444444444444444,
              "#bd3786"
             ],
             [
              0.5555555555555556,
              "#d8576b"
             ],
             [
              0.6666666666666666,
              "#ed7953"
             ],
             [
              0.7777777777777778,
              "#fb9f3a"
             ],
             [
              0.8888888888888888,
              "#fdca26"
             ],
             [
              1,
              "#f0f921"
             ]
            ],
            "type": "surface"
           }
          ],
          "table": [
           {
            "cells": {
             "fill": {
              "color": "#EBF0F8"
             },
             "line": {
              "color": "white"
             }
            },
            "header": {
             "fill": {
              "color": "#C8D4E3"
             },
             "line": {
              "color": "white"
             }
            },
            "type": "table"
           }
          ]
         },
         "layout": {
          "annotationdefaults": {
           "arrowcolor": "#2a3f5f",
           "arrowhead": 0,
           "arrowwidth": 1
          },
          "autotypenumbers": "strict",
          "coloraxis": {
           "colorbar": {
            "outlinewidth": 0,
            "ticks": ""
           }
          },
          "colorscale": {
           "diverging": [
            [
             0,
             "#8e0152"
            ],
            [
             0.1,
             "#c51b7d"
            ],
            [
             0.2,
             "#de77ae"
            ],
            [
             0.3,
             "#f1b6da"
            ],
            [
             0.4,
             "#fde0ef"
            ],
            [
             0.5,
             "#f7f7f7"
            ],
            [
             0.6,
             "#e6f5d0"
            ],
            [
             0.7,
             "#b8e186"
            ],
            [
             0.8,
             "#7fbc41"
            ],
            [
             0.9,
             "#4d9221"
            ],
            [
             1,
             "#276419"
            ]
           ],
           "sequential": [
            [
             0,
             "#0d0887"
            ],
            [
             0.1111111111111111,
             "#46039f"
            ],
            [
             0.2222222222222222,
             "#7201a8"
            ],
            [
             0.3333333333333333,
             "#9c179e"
            ],
            [
             0.4444444444444444,
             "#bd3786"
            ],
            [
             0.5555555555555556,
             "#d8576b"
            ],
            [
             0.6666666666666666,
             "#ed7953"
            ],
            [
             0.7777777777777778,
             "#fb9f3a"
            ],
            [
             0.8888888888888888,
             "#fdca26"
            ],
            [
             1,
             "#f0f921"
            ]
           ],
           "sequentialminus": [
            [
             0,
             "#0d0887"
            ],
            [
             0.1111111111111111,
             "#46039f"
            ],
            [
             0.2222222222222222,
             "#7201a8"
            ],
            [
             0.3333333333333333,
             "#9c179e"
            ],
            [
             0.4444444444444444,
             "#bd3786"
            ],
            [
             0.5555555555555556,
             "#d8576b"
            ],
            [
             0.6666666666666666,
             "#ed7953"
            ],
            [
             0.7777777777777778,
             "#fb9f3a"
            ],
            [
             0.8888888888888888,
             "#fdca26"
            ],
            [
             1,
             "#f0f921"
            ]
           ]
          },
          "colorway": [
           "#636efa",
           "#EF553B",
           "#00cc96",
           "#ab63fa",
           "#FFA15A",
           "#19d3f3",
           "#FF6692",
           "#B6E880",
           "#FF97FF",
           "#FECB52"
          ],
          "font": {
           "color": "#2a3f5f"
          },
          "geo": {
           "bgcolor": "white",
           "lakecolor": "white",
           "landcolor": "#E5ECF6",
           "showlakes": true,
           "showland": true,
           "subunitcolor": "white"
          },
          "hoverlabel": {
           "align": "left"
          },
          "hovermode": "closest",
          "mapbox": {
           "style": "light"
          },
          "paper_bgcolor": "white",
          "plot_bgcolor": "#E5ECF6",
          "polar": {
           "angularaxis": {
            "gridcolor": "white",
            "linecolor": "white",
            "ticks": ""
           },
           "bgcolor": "#E5ECF6",
           "radialaxis": {
            "gridcolor": "white",
            "linecolor": "white",
            "ticks": ""
           }
          },
          "scene": {
           "xaxis": {
            "backgroundcolor": "#E5ECF6",
            "gridcolor": "white",
            "gridwidth": 2,
            "linecolor": "white",
            "showbackground": true,
            "ticks": "",
            "zerolinecolor": "white"
           },
           "yaxis": {
            "backgroundcolor": "#E5ECF6",
            "gridcolor": "white",
            "gridwidth": 2,
            "linecolor": "white",
            "showbackground": true,
            "ticks": "",
            "zerolinecolor": "white"
           },
           "zaxis": {
            "backgroundcolor": "#E5ECF6",
            "gridcolor": "white",
            "gridwidth": 2,
            "linecolor": "white",
            "showbackground": true,
            "ticks": "",
            "zerolinecolor": "white"
           }
          },
          "shapedefaults": {
           "line": {
            "color": "#2a3f5f"
           }
          },
          "ternary": {
           "aaxis": {
            "gridcolor": "white",
            "linecolor": "white",
            "ticks": ""
           },
           "baxis": {
            "gridcolor": "white",
            "linecolor": "white",
            "ticks": ""
           },
           "bgcolor": "#E5ECF6",
           "caxis": {
            "gridcolor": "white",
            "linecolor": "white",
            "ticks": ""
           }
          },
          "title": {
           "x": 0.05
          },
          "xaxis": {
           "automargin": true,
           "gridcolor": "white",
           "linecolor": "white",
           "ticks": "",
           "title": {
            "standoff": 15
           },
           "zerolinecolor": "white",
           "zerolinewidth": 2
          },
          "yaxis": {
           "automargin": true,
           "gridcolor": "white",
           "linecolor": "white",
           "ticks": "",
           "title": {
            "standoff": 15
           },
           "zerolinecolor": "white",
           "zerolinewidth": 2
          }
         }
        },
        "title": {
         "text": "Predicted vs. Actual, LSTM"
        }
       }
      }
     },
     "metadata": {},
     "output_type": "display_data"
    }
   ],
   "source": [
    "plot_results(eval_df, '1064', 'LSTM')"
   ]
  }
 ],
 "metadata": {
  "kernelspec": {
   "display_name": ".venv",
   "language": "python",
   "name": "python3"
  },
  "language_info": {
   "codemirror_mode": {
    "name": "ipython",
    "version": 3
   },
   "file_extension": ".py",
   "mimetype": "text/x-python",
   "name": "python",
   "nbconvert_exporter": "python",
   "pygments_lexer": "ipython3",
   "version": "3.12.5"
  }
 },
 "nbformat": 4,
 "nbformat_minor": 2
}
