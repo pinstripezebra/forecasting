{
 "cells": [
  {
   "cell_type": "code",
   "execution_count": 1,
   "metadata": {},
   "outputs": [],
   "source": [
    "import datetime\n",
    "\n",
    "import numpy as np\n",
    "import pandas as pd\n",
    "import seaborn as sns\n",
    "import tensorflow as tf\n",
    "import matplotlib.pyplot as plt\n",
    "\n",
    "import tensorflow as tf\n",
    "from tensorflow.keras.models import Sequential\n",
    "from tensorflow.keras.layers import Dense\n",
    "from tensorflow.keras.layers import LSTM\n",
    "from sklearn.preprocessing import MinMaxScaler\n",
    "from sklearn.metrics import mean_absolute_percentage_error\n",
    "import warnings\n",
    "warnings.filterwarnings('ignore')\n",
    "\n",
    "# Importing custom libraries\n",
    "import sys\n",
    "sys.path.append('/utilities/')\n",
    "from utilities.data_manipulation import pivot_dataframe, convert_to_supervised, rename_dataframe_supervised, plot_results, plot_comparison\n",
    "\n",
    "# Random seed for reproducibility\n",
    "tf.random.set_seed(42)\n",
    "\n",
    "REFRESH_DATA = False\n",
    "DATA_QUANTITY = 200"
   ]
  },
  {
   "cell_type": "markdown",
   "metadata": {},
   "source": [
    "### Loading Data"
   ]
  },
  {
   "cell_type": "code",
   "execution_count": 2,
   "metadata": {},
   "outputs": [
    {
     "data": {
      "text/html": [
       "<div>\n",
       "<style scoped>\n",
       "    .dataframe tbody tr th:only-of-type {\n",
       "        vertical-align: middle;\n",
       "    }\n",
       "\n",
       "    .dataframe tbody tr th {\n",
       "        vertical-align: top;\n",
       "    }\n",
       "\n",
       "    .dataframe thead th {\n",
       "        text-align: right;\n",
       "    }\n",
       "</style>\n",
       "<table border=\"1\" class=\"dataframe\">\n",
       "  <thead>\n",
       "    <tr style=\"text-align: right;\">\n",
       "      <th></th>\n",
       "      <th>Value</th>\n",
       "      <th>location</th>\n",
       "      <th>parameter</th>\n",
       "      <th>longitude</th>\n",
       "      <th>latitude</th>\n",
       "      <th>Date</th>\n",
       "    </tr>\n",
       "  </thead>\n",
       "  <tbody>\n",
       "    <tr>\n",
       "      <th>0</th>\n",
       "      <td>2.8</td>\n",
       "      <td>1064</td>\n",
       "      <td>pm25</td>\n",
       "      <td>-122.602877</td>\n",
       "      <td>45.496641</td>\n",
       "      <td>2024-08-22 12:00:00+00:00</td>\n",
       "    </tr>\n",
       "    <tr>\n",
       "      <th>1</th>\n",
       "      <td>2.7</td>\n",
       "      <td>1064</td>\n",
       "      <td>pm25</td>\n",
       "      <td>-122.602877</td>\n",
       "      <td>45.496641</td>\n",
       "      <td>2024-08-22 11:00:00+00:00</td>\n",
       "    </tr>\n",
       "    <tr>\n",
       "      <th>2</th>\n",
       "      <td>2.6</td>\n",
       "      <td>1064</td>\n",
       "      <td>pm25</td>\n",
       "      <td>-122.602877</td>\n",
       "      <td>45.496641</td>\n",
       "      <td>2024-08-22 10:00:00+00:00</td>\n",
       "    </tr>\n",
       "    <tr>\n",
       "      <th>3</th>\n",
       "      <td>2.7</td>\n",
       "      <td>1064</td>\n",
       "      <td>pm25</td>\n",
       "      <td>-122.602877</td>\n",
       "      <td>45.496641</td>\n",
       "      <td>2024-08-22 09:00:00+00:00</td>\n",
       "    </tr>\n",
       "    <tr>\n",
       "      <th>4</th>\n",
       "      <td>2.6</td>\n",
       "      <td>1064</td>\n",
       "      <td>pm25</td>\n",
       "      <td>-122.602877</td>\n",
       "      <td>45.496641</td>\n",
       "      <td>2024-08-22 08:00:00+00:00</td>\n",
       "    </tr>\n",
       "    <tr>\n",
       "      <th>5</th>\n",
       "      <td>2.5</td>\n",
       "      <td>1064</td>\n",
       "      <td>pm25</td>\n",
       "      <td>-122.602877</td>\n",
       "      <td>45.496641</td>\n",
       "      <td>2024-08-22 07:00:00+00:00</td>\n",
       "    </tr>\n",
       "    <tr>\n",
       "      <th>6</th>\n",
       "      <td>2.4</td>\n",
       "      <td>1064</td>\n",
       "      <td>pm25</td>\n",
       "      <td>-122.602877</td>\n",
       "      <td>45.496641</td>\n",
       "      <td>2024-08-22 06:00:00+00:00</td>\n",
       "    </tr>\n",
       "    <tr>\n",
       "      <th>7</th>\n",
       "      <td>2.7</td>\n",
       "      <td>1064</td>\n",
       "      <td>pm25</td>\n",
       "      <td>-122.602877</td>\n",
       "      <td>45.496641</td>\n",
       "      <td>2024-08-22 05:00:00+00:00</td>\n",
       "    </tr>\n",
       "    <tr>\n",
       "      <th>8</th>\n",
       "      <td>2.7</td>\n",
       "      <td>1064</td>\n",
       "      <td>pm25</td>\n",
       "      <td>-122.602877</td>\n",
       "      <td>45.496641</td>\n",
       "      <td>2024-08-22 04:00:00+00:00</td>\n",
       "    </tr>\n",
       "    <tr>\n",
       "      <th>9</th>\n",
       "      <td>2.9</td>\n",
       "      <td>1064</td>\n",
       "      <td>pm25</td>\n",
       "      <td>-122.602877</td>\n",
       "      <td>45.496641</td>\n",
       "      <td>2024-08-22 03:00:00+00:00</td>\n",
       "    </tr>\n",
       "  </tbody>\n",
       "</table>\n",
       "</div>"
      ],
      "text/plain": [
       "   Value location parameter   longitude   latitude                       Date\n",
       "0    2.8     1064      pm25 -122.602877  45.496641  2024-08-22 12:00:00+00:00\n",
       "1    2.7     1064      pm25 -122.602877  45.496641  2024-08-22 11:00:00+00:00\n",
       "2    2.6     1064      pm25 -122.602877  45.496641  2024-08-22 10:00:00+00:00\n",
       "3    2.7     1064      pm25 -122.602877  45.496641  2024-08-22 09:00:00+00:00\n",
       "4    2.6     1064      pm25 -122.602877  45.496641  2024-08-22 08:00:00+00:00\n",
       "5    2.5     1064      pm25 -122.602877  45.496641  2024-08-22 07:00:00+00:00\n",
       "6    2.4     1064      pm25 -122.602877  45.496641  2024-08-22 06:00:00+00:00\n",
       "7    2.7     1064      pm25 -122.602877  45.496641  2024-08-22 05:00:00+00:00\n",
       "8    2.7     1064      pm25 -122.602877  45.496641  2024-08-22 04:00:00+00:00\n",
       "9    2.9     1064      pm25 -122.602877  45.496641  2024-08-22 03:00:00+00:00"
      ]
     },
     "execution_count": 2,
     "metadata": {},
     "output_type": "execute_result"
    }
   ],
   "source": [
    "# Defining city id's\n",
    "ids = ['1064', '1067']\n",
    "\n",
    "\n",
    "# Creating \n",
    "combined_df = []\n",
    "if REFRESH_DATA:\n",
    "    air_measurements = []\n",
    "    # Iterating through sensor locations and creating object to store data for each\n",
    "    for location in ids:\n",
    "        quality = AirQuality(location)\n",
    "        quality.pull_data(DATA_QUANTITY )\n",
    "        air_measurements.append(quality.raw_data)\n",
    "\n",
    "    combined_df = pd.concat(air_measurements)\n",
    "    combined_df.to_csv('./Data/air_polution.csv')\n",
    "else:\n",
    "    combined_df = pd.read_csv('./Data/air_polution.csv')\n",
    "    combined_df = combined_df.drop(columns = ['Unnamed: 0'])\n",
    "\n",
    "combined_df['location'] = combined_df['location'].astype(str)\n",
    "combined_df = combined_df.drop(columns = ['Date'])\n",
    "combined_df = combined_df.rename(columns = {'Data_Converted': 'Date'})\n",
    "combined_df = combined_df[combined_df['location'].isin(ids)].reset_index(drop=True)\n",
    "combined_df.head(10)"
   ]
  },
  {
   "cell_type": "code",
   "execution_count": 3,
   "metadata": {},
   "outputs": [],
   "source": [
    "identifier_col = 'location'\n",
    "value_col = 'Value'\n",
    "formatted_df = pivot_dataframe(combined_df, identifier_col, value_col)\n",
    "formatted_df.head(10)\n",
    "formatted_df.to_csv('Data/pivoted_data.csv')"
   ]
  },
  {
   "cell_type": "markdown",
   "metadata": {},
   "source": [
    "### First Trying with Just One Series"
   ]
  },
  {
   "cell_type": "code",
   "execution_count": 4,
   "metadata": {},
   "outputs": [
    {
     "data": {
      "text/html": [
       "<div>\n",
       "<style scoped>\n",
       "    .dataframe tbody tr th:only-of-type {\n",
       "        vertical-align: middle;\n",
       "    }\n",
       "\n",
       "    .dataframe tbody tr th {\n",
       "        vertical-align: top;\n",
       "    }\n",
       "\n",
       "    .dataframe thead th {\n",
       "        text-align: right;\n",
       "    }\n",
       "</style>\n",
       "<table border=\"1\" class=\"dataframe\">\n",
       "  <thead>\n",
       "    <tr style=\"text-align: right;\">\n",
       "      <th></th>\n",
       "      <th>1064</th>\n",
       "      <th>1067</th>\n",
       "      <th>Date</th>\n",
       "    </tr>\n",
       "  </thead>\n",
       "  <tbody>\n",
       "    <tr>\n",
       "      <th>0</th>\n",
       "      <td>0.252174</td>\n",
       "      <td>0.397436</td>\n",
       "      <td>2024-08-14 05:00:00+00:00</td>\n",
       "    </tr>\n",
       "    <tr>\n",
       "      <th>1</th>\n",
       "      <td>0.269565</td>\n",
       "      <td>0.397436</td>\n",
       "      <td>2024-08-14 06:00:00+00:00</td>\n",
       "    </tr>\n",
       "    <tr>\n",
       "      <th>2</th>\n",
       "      <td>0.260870</td>\n",
       "      <td>0.423077</td>\n",
       "      <td>2024-08-14 07:00:00+00:00</td>\n",
       "    </tr>\n",
       "    <tr>\n",
       "      <th>3</th>\n",
       "      <td>0.269565</td>\n",
       "      <td>0.435897</td>\n",
       "      <td>2024-08-14 08:00:00+00:00</td>\n",
       "    </tr>\n",
       "    <tr>\n",
       "      <th>4</th>\n",
       "      <td>0.286957</td>\n",
       "      <td>0.435897</td>\n",
       "      <td>2024-08-14 09:00:00+00:00</td>\n",
       "    </tr>\n",
       "    <tr>\n",
       "      <th>5</th>\n",
       "      <td>0.321739</td>\n",
       "      <td>0.461538</td>\n",
       "      <td>2024-08-14 10:00:00+00:00</td>\n",
       "    </tr>\n",
       "    <tr>\n",
       "      <th>6</th>\n",
       "      <td>0.347826</td>\n",
       "      <td>0.474359</td>\n",
       "      <td>2024-08-14 11:00:00+00:00</td>\n",
       "    </tr>\n",
       "    <tr>\n",
       "      <th>7</th>\n",
       "      <td>0.321739</td>\n",
       "      <td>0.474359</td>\n",
       "      <td>2024-08-14 12:00:00+00:00</td>\n",
       "    </tr>\n",
       "    <tr>\n",
       "      <th>8</th>\n",
       "      <td>0.330435</td>\n",
       "      <td>0.500000</td>\n",
       "      <td>2024-08-14 13:00:00+00:00</td>\n",
       "    </tr>\n",
       "    <tr>\n",
       "      <th>9</th>\n",
       "      <td>0.339130</td>\n",
       "      <td>0.500000</td>\n",
       "      <td>2024-08-14 14:00:00+00:00</td>\n",
       "    </tr>\n",
       "  </tbody>\n",
       "</table>\n",
       "</div>"
      ],
      "text/plain": [
       "       1064      1067                       Date\n",
       "0  0.252174  0.397436  2024-08-14 05:00:00+00:00\n",
       "1  0.269565  0.397436  2024-08-14 06:00:00+00:00\n",
       "2  0.260870  0.423077  2024-08-14 07:00:00+00:00\n",
       "3  0.269565  0.435897  2024-08-14 08:00:00+00:00\n",
       "4  0.286957  0.435897  2024-08-14 09:00:00+00:00\n",
       "5  0.321739  0.461538  2024-08-14 10:00:00+00:00\n",
       "6  0.347826  0.474359  2024-08-14 11:00:00+00:00\n",
       "7  0.321739  0.474359  2024-08-14 12:00:00+00:00\n",
       "8  0.330435  0.500000  2024-08-14 13:00:00+00:00\n",
       "9  0.339130  0.500000  2024-08-14 14:00:00+00:00"
      ]
     },
     "execution_count": 4,
     "metadata": {},
     "output_type": "execute_result"
    }
   ],
   "source": [
    "# creating scalar\n",
    "scaler = MinMaxScaler(feature_range=(0, 1))\n",
    "\n",
    "# Normalizing target columns\n",
    "for col in ids:\n",
    "    formatted_df [col] = scaler.fit_transform(formatted_df[[col]])\n",
    "formatted_df.head(10)"
   ]
  },
  {
   "cell_type": "markdown",
   "metadata": {},
   "source": [
    "### Creating Training Set"
   ]
  },
  {
   "cell_type": "code",
   "execution_count": 5,
   "metadata": {},
   "outputs": [
    {
     "name": "stdout",
     "output_type": "stream",
     "text": [
      "140 60\n"
     ]
    },
    {
     "data": {
      "text/html": [
       "<div>\n",
       "<style scoped>\n",
       "    .dataframe tbody tr th:only-of-type {\n",
       "        vertical-align: middle;\n",
       "    }\n",
       "\n",
       "    .dataframe tbody tr th {\n",
       "        vertical-align: top;\n",
       "    }\n",
       "\n",
       "    .dataframe thead th {\n",
       "        text-align: right;\n",
       "    }\n",
       "</style>\n",
       "<table border=\"1\" class=\"dataframe\">\n",
       "  <thead>\n",
       "    <tr style=\"text-align: right;\">\n",
       "      <th></th>\n",
       "      <th>1064</th>\n",
       "      <th>1067</th>\n",
       "      <th>Date</th>\n",
       "    </tr>\n",
       "  </thead>\n",
       "  <tbody>\n",
       "    <tr>\n",
       "      <th>140</th>\n",
       "      <td>0.121739</td>\n",
       "      <td>0.205128</td>\n",
       "      <td>2024-08-20 01:00:00+00:00</td>\n",
       "    </tr>\n",
       "    <tr>\n",
       "      <th>141</th>\n",
       "      <td>0.147826</td>\n",
       "      <td>0.243590</td>\n",
       "      <td>2024-08-20 02:00:00+00:00</td>\n",
       "    </tr>\n",
       "    <tr>\n",
       "      <th>142</th>\n",
       "      <td>0.139130</td>\n",
       "      <td>0.217949</td>\n",
       "      <td>2024-08-20 03:00:00+00:00</td>\n",
       "    </tr>\n",
       "    <tr>\n",
       "      <th>143</th>\n",
       "      <td>0.173913</td>\n",
       "      <td>0.269231</td>\n",
       "      <td>2024-08-20 04:00:00+00:00</td>\n",
       "    </tr>\n",
       "    <tr>\n",
       "      <th>144</th>\n",
       "      <td>0.304348</td>\n",
       "      <td>0.230769</td>\n",
       "      <td>2024-08-20 05:00:00+00:00</td>\n",
       "    </tr>\n",
       "    <tr>\n",
       "      <th>145</th>\n",
       "      <td>0.269565</td>\n",
       "      <td>0.256410</td>\n",
       "      <td>2024-08-20 06:00:00+00:00</td>\n",
       "    </tr>\n",
       "    <tr>\n",
       "      <th>146</th>\n",
       "      <td>0.286957</td>\n",
       "      <td>0.256410</td>\n",
       "      <td>2024-08-20 07:00:00+00:00</td>\n",
       "    </tr>\n",
       "    <tr>\n",
       "      <th>147</th>\n",
       "      <td>0.269565</td>\n",
       "      <td>0.243590</td>\n",
       "      <td>2024-08-20 08:00:00+00:00</td>\n",
       "    </tr>\n",
       "    <tr>\n",
       "      <th>148</th>\n",
       "      <td>0.252174</td>\n",
       "      <td>0.256410</td>\n",
       "      <td>2024-08-20 09:00:00+00:00</td>\n",
       "    </tr>\n",
       "    <tr>\n",
       "      <th>149</th>\n",
       "      <td>0.243478</td>\n",
       "      <td>0.320513</td>\n",
       "      <td>2024-08-20 10:00:00+00:00</td>\n",
       "    </tr>\n",
       "  </tbody>\n",
       "</table>\n",
       "</div>"
      ],
      "text/plain": [
       "         1064      1067                       Date\n",
       "140  0.121739  0.205128  2024-08-20 01:00:00+00:00\n",
       "141  0.147826  0.243590  2024-08-20 02:00:00+00:00\n",
       "142  0.139130  0.217949  2024-08-20 03:00:00+00:00\n",
       "143  0.173913  0.269231  2024-08-20 04:00:00+00:00\n",
       "144  0.304348  0.230769  2024-08-20 05:00:00+00:00\n",
       "145  0.269565  0.256410  2024-08-20 06:00:00+00:00\n",
       "146  0.286957  0.256410  2024-08-20 07:00:00+00:00\n",
       "147  0.269565  0.243590  2024-08-20 08:00:00+00:00\n",
       "148  0.252174  0.256410  2024-08-20 09:00:00+00:00\n",
       "149  0.243478  0.320513  2024-08-20 10:00:00+00:00"
      ]
     },
     "execution_count": 5,
     "metadata": {},
     "output_type": "execute_result"
    }
   ],
   "source": [
    "# setting test/train ratio\n",
    "total_observations = len(formatted_df)\n",
    "train_ratio = 0.7\n",
    "\n",
    "# performing time based test/train split\n",
    "train_df = formatted_df[:int(total_observations * train_ratio)]\n",
    "test_df = formatted_df[int(total_observations * train_ratio):]\n",
    "print(len(train_df), len(test_df))\n",
    "test_df.head(10)\n"
   ]
  },
  {
   "cell_type": "code",
   "execution_count": 6,
   "metadata": {},
   "outputs": [
    {
     "name": "stdout",
     "output_type": "stream",
     "text": [
      "Index(['1064', '1067', 'Date'], dtype='object')\n"
     ]
    }
   ],
   "source": [
    "print(test_df.columns)"
   ]
  },
  {
   "cell_type": "markdown",
   "metadata": {},
   "source": [
    "### Converting Data to Windowed Format"
   ]
  },
  {
   "cell_type": "code",
   "execution_count": 7,
   "metadata": {},
   "outputs": [
    {
     "name": "stdout",
     "output_type": "stream",
     "text": [
      "Y-Train Shape:  (134, 2)\n",
      "X-Train Shape:  (134, 12)\n"
     ]
    }
   ],
   "source": [
    "timesteps = 6\n",
    "features = len(ids)\n",
    "\n",
    "count = 0\n",
    "# Storing results\n",
    "train_x_all, test_x_all = np.array([]), np.array([])\n",
    "train_y_all, test_y_all = np.array([]), np.array([])\n",
    "\n",
    "# Iterating through each series of interest\n",
    "for val in ids:\n",
    "\n",
    "    train_vals, test_vals = train_df[val].values, test_df[val].values\n",
    "\n",
    "    # Transforming to time series                                                                                                                                                       \n",
    "    train_data, test_data = convert_to_supervised(train_vals, n_in=timesteps), convert_to_supervised(test_vals, n_in=timesteps)\n",
    "\n",
    "    # Converting to dataframe\n",
    "    train_df_sup, test_df_sup = rename_dataframe_supervised(pd.DataFrame(train_data)), rename_dataframe_supervised(pd.DataFrame(test_data))\n",
    "\n",
    "    # Separating x and y\n",
    "    train_y, train_x = train_df_sup['t'].to_numpy(), train_df_sup.drop(columns = ['t']).to_numpy()\n",
    "    test_y, test_x = test_df_sup['t'].to_numpy(), test_df_sup.drop(columns = ['t']).to_numpy()\n",
    "\n",
    "    if count == 0:\n",
    "        train_x_all = train_x\n",
    "        train_y_all = train_y\n",
    "        test_x_all = test_x\n",
    "        test_y_all = test_y\n",
    "    else:\n",
    "        train_x_all = np.concatenate((train_x_all, train_x), axis = 1)\n",
    "        train_y_all = np.stack((train_y_all, train_y), axis = 0)\n",
    "        test_x_all = np.concatenate((test_x_all, test_x), axis = 1)\n",
    "        test_y_all = np.stack((test_y_all, test_y), axis = 0)\n",
    "\n",
    "    count += 1\n",
    "train_y_all = train_y_all.T\n",
    "test_y_all = test_y_all.T\n",
    "print('Y-Train Shape: ', train_y_all.shape)\n",
    "print('X-Train Shape: ', train_x_all.shape)\n"
   ]
  },
  {
   "cell_type": "code",
   "execution_count": 8,
   "metadata": {},
   "outputs": [],
   "source": [
    "# reshape input to be [samples, time steps, features]\n",
    "# otherwise known as [rows x timesteps into future x columns]\n",
    "train_x_all = np.reshape(train_x_all, (train_x_all.shape[0], 1, train_x_all.shape[1]))\n",
    "test_x_all = np.reshape(test_x_all, (test_x_all.shape[0], 1, test_x_all.shape[1]))\n"
   ]
  },
  {
   "cell_type": "code",
   "execution_count": 15,
   "metadata": {},
   "outputs": [
    {
     "name": "stdout",
     "output_type": "stream",
     "text": [
      "Train X shape: (134, 1, 12)\n",
      "Test X shape: (54, 1, 12)\n"
     ]
    }
   ],
   "source": [
    "print('Train X shape:', train_x_all.shape)\n",
    "print('Test X shape:', test_x_all.shape)"
   ]
  },
  {
   "cell_type": "markdown",
   "metadata": {},
   "source": [
    "### Now we can Make a Model"
   ]
  },
  {
   "cell_type": "code",
   "execution_count": 10,
   "metadata": {},
   "outputs": [
    {
     "name": "stdout",
     "output_type": "stream",
     "text": [
      "Epoch 1/100\n",
      "Epoch 2/100\n",
      "Epoch 3/100\n",
      "Epoch 4/100\n",
      "Epoch 5/100\n",
      "Epoch 6/100\n",
      "Epoch 7/100\n",
      "Epoch 8/100\n",
      "Epoch 9/100\n",
      "Epoch 10/100\n",
      "Epoch 11/100\n",
      "Epoch 12/100\n",
      "Epoch 13/100\n",
      "Epoch 14/100\n",
      "Epoch 15/100\n",
      "Epoch 16/100\n",
      "Epoch 17/100\n",
      "Epoch 18/100\n",
      "Epoch 19/100\n",
      "Epoch 20/100\n",
      "Epoch 21/100\n",
      "Epoch 22/100\n",
      "Epoch 23/100\n",
      "Epoch 24/100\n",
      "Epoch 25/100\n",
      "Epoch 26/100\n",
      "Epoch 27/100\n",
      "Epoch 28/100\n",
      "Epoch 29/100\n",
      "Epoch 30/100\n",
      "Epoch 31/100\n",
      "Epoch 32/100\n",
      "Epoch 33/100\n",
      "Epoch 34/100\n",
      "Epoch 35/100\n",
      "Epoch 36/100\n",
      "Epoch 37/100\n",
      "Epoch 38/100\n",
      "Epoch 39/100\n",
      "Epoch 40/100\n",
      "Epoch 41/100\n",
      "Epoch 42/100\n",
      "Epoch 43/100\n",
      "Epoch 44/100\n",
      "Epoch 45/100\n",
      "Epoch 46/100\n",
      "Epoch 47/100\n",
      "Epoch 48/100\n",
      "Epoch 49/100\n",
      "Epoch 50/100\n",
      "Epoch 51/100\n",
      "Epoch 52/100\n",
      "Epoch 53/100\n",
      "Epoch 54/100\n",
      "Epoch 55/100\n",
      "Epoch 56/100\n",
      "Epoch 57/100\n",
      "Epoch 58/100\n",
      "Epoch 59/100\n",
      "Epoch 60/100\n",
      "Epoch 61/100\n",
      "Epoch 62/100\n",
      "Epoch 63/100\n",
      "Epoch 64/100\n",
      "Epoch 65/100\n",
      "Epoch 66/100\n",
      "Epoch 67/100\n",
      "Epoch 68/100\n",
      "Epoch 69/100\n",
      "Epoch 70/100\n",
      "Epoch 71/100\n",
      "Epoch 72/100\n",
      "Epoch 73/100\n",
      "Epoch 74/100\n",
      "Epoch 75/100\n",
      "Epoch 76/100\n",
      "Epoch 77/100\n",
      "Epoch 78/100\n",
      "Epoch 79/100\n",
      "Epoch 80/100\n",
      "Epoch 81/100\n",
      "Epoch 82/100\n",
      "Epoch 83/100\n",
      "Epoch 84/100\n",
      "Epoch 85/100\n",
      "Epoch 86/100\n",
      "Epoch 87/100\n",
      "Epoch 88/100\n",
      "Epoch 89/100\n",
      "Epoch 90/100\n",
      "Epoch 91/100\n",
      "Epoch 92/100\n",
      "Epoch 93/100\n",
      "Epoch 94/100\n",
      "Epoch 95/100\n",
      "Epoch 96/100\n",
      "Epoch 97/100\n",
      "Epoch 98/100\n",
      "Epoch 99/100\n",
      "Epoch 100/100\n",
      "\u001b[1m5/5\u001b[0m \u001b[32m━━━━━━━━━━━━━━━━━━━━\u001b[0m\u001b[37m\u001b[0m \u001b[1m0s\u001b[0m 19ms/step\n",
      "\u001b[1m2/2\u001b[0m \u001b[32m━━━━━━━━━━━━━━━━━━━━\u001b[0m\u001b[37m\u001b[0m \u001b[1m0s\u001b[0m 1ms/step \n"
     ]
    }
   ],
   "source": [
    "units = 4\n",
    "\n",
    "# defining and training model\n",
    "model = Sequential()\n",
    "model.add(LSTM(units, input_shape=(1, int(timesteps * features))))\n",
    "model.add(Dense(features))\n",
    "model.compile(loss='mean_squared_error', optimizer='adam')\n",
    "model.fit(train_x_all, train_y_all, epochs=100, batch_size=1, verbose=3)\n",
    "\n",
    "# make predictions\n",
    "trainPredict = model.predict(train_x_all)\n",
    "testPredict = model.predict(test_x_all)\n",
    "\n",
    "\n",
    "# inverting predictions back to initial scale\n",
    "trainPredict = scaler.inverse_transform(trainPredict)\n",
    "trainY = scaler.inverse_transform([train_y])\n",
    "testPredict = scaler.inverse_transform(testPredict)\n",
    "testY = scaler.inverse_transform([test_y])"
   ]
  },
  {
   "cell_type": "markdown",
   "metadata": {},
   "source": [
    "### Examining and Graphing Data"
   ]
  },
  {
   "cell_type": "code",
   "execution_count": 18,
   "metadata": {},
   "outputs": [
    {
     "name": "stdout",
     "output_type": "stream",
     "text": [
      "(134, 2)\n",
      "(54, 2)\n",
      "2\n"
     ]
    }
   ],
   "source": [
    "print(trainPredict.shape)\n",
    "print(testPredict.shape)\n",
    "print(trainPredict.shape[1])"
   ]
  },
  {
   "cell_type": "markdown",
   "metadata": {},
   "source": [
    "### Measuring Performance"
   ]
  },
  {
   "cell_type": "code",
   "execution_count": 11,
   "metadata": {},
   "outputs": [
    {
     "name": "stdout",
     "output_type": "stream",
     "text": [
      "Train Score: 0.159 MAPE\n",
      "Test Score: 0.176 MAPE\n"
     ]
    }
   ],
   "source": [
    "# calculate root mean squared error\n",
    "trainScore = mean_absolute_percentage_error(trainY[0], trainPredict[:,0])\n",
    "print('Train Score: %.3f MAPE' % (trainScore))\n",
    "testScore = mean_absolute_percentage_error(testY[0], testPredict[:,0])\n",
    "print('Test Score: %.3f MAPE' % (testScore))"
   ]
  },
  {
   "cell_type": "markdown",
   "metadata": {},
   "source": [
    "### Comparing to Naive Approach\n",
    "The simplest approach would be predicting the future value is equal to the previous value. We'll do this and evaluate its performance."
   ]
  },
  {
   "cell_type": "code",
   "execution_count": 12,
   "metadata": {},
   "outputs": [
    {
     "name": "stdout",
     "output_type": "stream",
     "text": [
      "Test Score: 0.073 MAPE\n"
     ]
    }
   ],
   "source": [
    "base_df= pivot_dataframe(combined_df, identifier_col, value_col)[['Date', '1064']]\n",
    "future_y = base_df['1064'].iloc[1:]\n",
    "naive_pred = base_df['1064'].iloc[:-1]\n",
    "\n",
    "# calculating mape with naive approach\n",
    "naive_mape =  mean_absolute_percentage_error(future_y, naive_pred)\n",
    "print('Test Score: %.3f MAPE' % (naive_mape))\n"
   ]
  },
  {
   "cell_type": "markdown",
   "metadata": {},
   "source": [
    "Can see that LSTM performs just slightly better than our naive approach although the naive approach works surprisingly well in this case."
   ]
  },
  {
   "cell_type": "markdown",
   "metadata": {},
   "source": [
    "### Plotting Results"
   ]
  },
  {
   "cell_type": "code",
   "execution_count": 13,
   "metadata": {},
   "outputs": [
    {
     "name": "stdout",
     "output_type": "stream",
     "text": [
      "188\n"
     ]
    },
    {
     "data": {
      "text/html": [
       "<div>\n",
       "<style scoped>\n",
       "    .dataframe tbody tr th:only-of-type {\n",
       "        vertical-align: middle;\n",
       "    }\n",
       "\n",
       "    .dataframe tbody tr th {\n",
       "        vertical-align: top;\n",
       "    }\n",
       "\n",
       "    .dataframe thead th {\n",
       "        text-align: right;\n",
       "    }\n",
       "</style>\n",
       "<table border=\"1\" class=\"dataframe\">\n",
       "  <thead>\n",
       "    <tr style=\"text-align: right;\">\n",
       "      <th></th>\n",
       "      <th>Date</th>\n",
       "      <th>1064</th>\n",
       "      <th>Prediction_Type</th>\n",
       "      <th>Prediction</th>\n",
       "    </tr>\n",
       "  </thead>\n",
       "  <tbody>\n",
       "    <tr>\n",
       "      <th>12</th>\n",
       "      <td>2024-08-14 17:00:00+00:00</td>\n",
       "      <td>6.6</td>\n",
       "      <td>Train</td>\n",
       "      <td>4.532995</td>\n",
       "    </tr>\n",
       "    <tr>\n",
       "      <th>13</th>\n",
       "      <td>2024-08-14 18:00:00+00:00</td>\n",
       "      <td>6.6</td>\n",
       "      <td>Train</td>\n",
       "      <td>4.763096</td>\n",
       "    </tr>\n",
       "    <tr>\n",
       "      <th>14</th>\n",
       "      <td>2024-08-14 19:00:00+00:00</td>\n",
       "      <td>6.8</td>\n",
       "      <td>Train</td>\n",
       "      <td>4.650807</td>\n",
       "    </tr>\n",
       "    <tr>\n",
       "      <th>15</th>\n",
       "      <td>2024-08-14 20:00:00+00:00</td>\n",
       "      <td>7.4</td>\n",
       "      <td>Train</td>\n",
       "      <td>4.679879</td>\n",
       "    </tr>\n",
       "    <tr>\n",
       "      <th>16</th>\n",
       "      <td>2024-08-14 21:00:00+00:00</td>\n",
       "      <td>6.9</td>\n",
       "      <td>Train</td>\n",
       "      <td>4.720432</td>\n",
       "    </tr>\n",
       "    <tr>\n",
       "      <th>17</th>\n",
       "      <td>2024-08-14 22:00:00+00:00</td>\n",
       "      <td>6.9</td>\n",
       "      <td>Train</td>\n",
       "      <td>4.831098</td>\n",
       "    </tr>\n",
       "    <tr>\n",
       "      <th>18</th>\n",
       "      <td>2024-08-14 23:00:00+00:00</td>\n",
       "      <td>7.5</td>\n",
       "      <td>Train</td>\n",
       "      <td>4.989628</td>\n",
       "    </tr>\n",
       "    <tr>\n",
       "      <th>19</th>\n",
       "      <td>2024-08-15 00:00:00+00:00</td>\n",
       "      <td>7.5</td>\n",
       "      <td>Train</td>\n",
       "      <td>5.016342</td>\n",
       "    </tr>\n",
       "    <tr>\n",
       "      <th>20</th>\n",
       "      <td>2024-08-15 01:00:00+00:00</td>\n",
       "      <td>7.8</td>\n",
       "      <td>Train</td>\n",
       "      <td>4.983138</td>\n",
       "    </tr>\n",
       "    <tr>\n",
       "      <th>21</th>\n",
       "      <td>2024-08-15 02:00:00+00:00</td>\n",
       "      <td>7.3</td>\n",
       "      <td>Train</td>\n",
       "      <td>5.130834</td>\n",
       "    </tr>\n",
       "  </tbody>\n",
       "</table>\n",
       "</div>"
      ],
      "text/plain": [
       "                         Date  1064 Prediction_Type  Prediction\n",
       "12  2024-08-14 17:00:00+00:00   6.6           Train    4.532995\n",
       "13  2024-08-14 18:00:00+00:00   6.6           Train    4.763096\n",
       "14  2024-08-14 19:00:00+00:00   6.8           Train    4.650807\n",
       "15  2024-08-14 20:00:00+00:00   7.4           Train    4.679879\n",
       "16  2024-08-14 21:00:00+00:00   6.9           Train    4.720432\n",
       "17  2024-08-14 22:00:00+00:00   6.9           Train    4.831098\n",
       "18  2024-08-14 23:00:00+00:00   7.5           Train    4.989628\n",
       "19  2024-08-15 00:00:00+00:00   7.5           Train    5.016342\n",
       "20  2024-08-15 01:00:00+00:00   7.8           Train    4.983138\n",
       "21  2024-08-15 02:00:00+00:00   7.3           Train    5.130834"
      ]
     },
     "execution_count": 13,
     "metadata": {},
     "output_type": "execute_result"
    }
   ],
   "source": [
    "predictions = np.append(trainPredict[:,0], testPredict[:,0])\n",
    "prediction_type = ['Train'] * len(trainPredict[:,0]) + ['Test'] * len(testPredict[:,0])\n",
    "\n",
    "eval_df = base_df.iloc[timesteps*2:]\n",
    "print(len(eval_df))\n",
    "eval_df['Prediction_Type'] = prediction_type\n",
    "eval_df['Prediction'] = predictions\n",
    "eval_df.head(10)\n"
   ]
  },
  {
   "cell_type": "code",
   "execution_count": 14,
   "metadata": {},
   "outputs": [
    {
     "data": {
      "application/vnd.plotly.v1+json": {
       "config": {
        "plotlyServerURL": "https://plot.ly"
       },
       "data": [
        {
         "mode": "lines",
         "name": "Actual",
         "type": "scatter",
         "x": [
          "2024-08-14 17:00:00+00:00",
          "2024-08-14 18:00:00+00:00",
          "2024-08-14 19:00:00+00:00",
          "2024-08-14 20:00:00+00:00",
          "2024-08-14 21:00:00+00:00",
          "2024-08-14 22:00:00+00:00",
          "2024-08-14 23:00:00+00:00",
          "2024-08-15 00:00:00+00:00",
          "2024-08-15 01:00:00+00:00",
          "2024-08-15 02:00:00+00:00",
          "2024-08-15 03:00:00+00:00",
          "2024-08-15 04:00:00+00:00",
          "2024-08-15 05:00:00+00:00",
          "2024-08-15 06:00:00+00:00",
          "2024-08-15 07:00:00+00:00",
          "2024-08-15 08:00:00+00:00",
          "2024-08-15 09:00:00+00:00",
          "2024-08-15 10:00:00+00:00",
          "2024-08-15 11:00:00+00:00",
          "2024-08-15 12:00:00+00:00",
          "2024-08-15 13:00:00+00:00",
          "2024-08-15 14:00:00+00:00",
          "2024-08-15 15:00:00+00:00",
          "2024-08-15 16:00:00+00:00",
          "2024-08-15 17:00:00+00:00",
          "2024-08-15 18:00:00+00:00",
          "2024-08-15 19:00:00+00:00",
          "2024-08-15 20:00:00+00:00",
          "2024-08-15 21:00:00+00:00",
          "2024-08-15 22:00:00+00:00",
          "2024-08-15 23:00:00+00:00",
          "2024-08-16 00:00:00+00:00",
          "2024-08-16 01:00:00+00:00",
          "2024-08-16 02:00:00+00:00",
          "2024-08-16 03:00:00+00:00",
          "2024-08-16 04:00:00+00:00",
          "2024-08-16 05:00:00+00:00",
          "2024-08-16 06:00:00+00:00",
          "2024-08-16 07:00:00+00:00",
          "2024-08-16 08:00:00+00:00",
          "2024-08-16 09:00:00+00:00",
          "2024-08-16 10:00:00+00:00",
          "2024-08-16 11:00:00+00:00",
          "2024-08-16 12:00:00+00:00",
          "2024-08-16 13:00:00+00:00",
          "2024-08-16 14:00:00+00:00",
          "2024-08-16 15:00:00+00:00",
          "2024-08-16 16:00:00+00:00",
          "2024-08-16 17:00:00+00:00",
          "2024-08-16 18:00:00+00:00",
          "2024-08-16 19:00:00+00:00",
          "2024-08-16 20:00:00+00:00",
          "2024-08-16 21:00:00+00:00",
          "2024-08-16 22:00:00+00:00",
          "2024-08-16 23:00:00+00:00",
          "2024-08-17 00:00:00+00:00",
          "2024-08-17 01:00:00+00:00",
          "2024-08-17 02:00:00+00:00",
          "2024-08-17 03:00:00+00:00",
          "2024-08-17 04:00:00+00:00",
          "2024-08-17 05:00:00+00:00",
          "2024-08-17 06:00:00+00:00",
          "2024-08-17 07:00:00+00:00",
          "2024-08-17 08:00:00+00:00",
          "2024-08-17 09:00:00+00:00",
          "2024-08-17 10:00:00+00:00",
          "2024-08-17 11:00:00+00:00",
          "2024-08-17 12:00:00+00:00",
          "2024-08-17 13:00:00+00:00",
          "2024-08-17 14:00:00+00:00",
          "2024-08-17 15:00:00+00:00",
          "2024-08-17 16:00:00+00:00",
          "2024-08-17 17:00:00+00:00",
          "2024-08-17 18:00:00+00:00",
          "2024-08-17 19:00:00+00:00",
          "2024-08-17 20:00:00+00:00",
          "2024-08-17 21:00:00+00:00",
          "2024-08-17 22:00:00+00:00",
          "2024-08-17 23:00:00+00:00",
          "2024-08-18 00:00:00+00:00",
          "2024-08-18 01:00:00+00:00",
          "2024-08-18 02:00:00+00:00",
          "2024-08-18 03:00:00+00:00",
          "2024-08-18 04:00:00+00:00",
          "2024-08-18 05:00:00+00:00",
          "2024-08-18 06:00:00+00:00",
          "2024-08-18 07:00:00+00:00",
          "2024-08-18 08:00:00+00:00",
          "2024-08-18 09:00:00+00:00",
          "2024-08-18 10:00:00+00:00",
          "2024-08-18 11:00:00+00:00",
          "2024-08-18 12:00:00+00:00",
          "2024-08-18 13:00:00+00:00",
          "2024-08-18 14:00:00+00:00",
          "2024-08-18 15:00:00+00:00",
          "2024-08-18 16:00:00+00:00",
          "2024-08-18 17:00:00+00:00",
          "2024-08-18 18:00:00+00:00",
          "2024-08-18 19:00:00+00:00",
          "2024-08-18 20:00:00+00:00",
          "2024-08-18 21:00:00+00:00",
          "2024-08-18 22:00:00+00:00",
          "2024-08-18 23:00:00+00:00",
          "2024-08-19 00:00:00+00:00",
          "2024-08-19 01:00:00+00:00",
          "2024-08-19 02:00:00+00:00",
          "2024-08-19 03:00:00+00:00",
          "2024-08-19 04:00:00+00:00",
          "2024-08-19 05:00:00+00:00",
          "2024-08-19 06:00:00+00:00",
          "2024-08-19 07:00:00+00:00",
          "2024-08-19 08:00:00+00:00",
          "2024-08-19 09:00:00+00:00",
          "2024-08-19 10:00:00+00:00",
          "2024-08-19 11:00:00+00:00",
          "2024-08-19 12:00:00+00:00",
          "2024-08-19 13:00:00+00:00",
          "2024-08-19 14:00:00+00:00",
          "2024-08-19 15:00:00+00:00",
          "2024-08-19 16:00:00+00:00",
          "2024-08-19 17:00:00+00:00",
          "2024-08-19 18:00:00+00:00",
          "2024-08-19 19:00:00+00:00",
          "2024-08-19 20:00:00+00:00",
          "2024-08-19 21:00:00+00:00",
          "2024-08-19 22:00:00+00:00",
          "2024-08-19 23:00:00+00:00",
          "2024-08-20 00:00:00+00:00",
          "2024-08-20 01:00:00+00:00",
          "2024-08-20 02:00:00+00:00",
          "2024-08-20 03:00:00+00:00",
          "2024-08-20 04:00:00+00:00",
          "2024-08-20 05:00:00+00:00",
          "2024-08-20 06:00:00+00:00",
          "2024-08-20 07:00:00+00:00",
          "2024-08-20 08:00:00+00:00",
          "2024-08-20 09:00:00+00:00",
          "2024-08-20 10:00:00+00:00",
          "2024-08-20 11:00:00+00:00",
          "2024-08-20 12:00:00+00:00",
          "2024-08-20 13:00:00+00:00",
          "2024-08-20 14:00:00+00:00",
          "2024-08-20 15:00:00+00:00",
          "2024-08-20 16:00:00+00:00",
          "2024-08-20 17:00:00+00:00",
          "2024-08-20 18:00:00+00:00",
          "2024-08-20 19:00:00+00:00",
          "2024-08-20 20:00:00+00:00",
          "2024-08-20 21:00:00+00:00",
          "2024-08-20 22:00:00+00:00",
          "2024-08-20 23:00:00+00:00",
          "2024-08-21 00:00:00+00:00",
          "2024-08-21 01:00:00+00:00",
          "2024-08-21 02:00:00+00:00",
          "2024-08-21 03:00:00+00:00",
          "2024-08-21 04:00:00+00:00",
          "2024-08-21 05:00:00+00:00",
          "2024-08-21 06:00:00+00:00",
          "2024-08-21 07:00:00+00:00",
          "2024-08-21 08:00:00+00:00",
          "2024-08-21 09:00:00+00:00",
          "2024-08-21 10:00:00+00:00",
          "2024-08-21 11:00:00+00:00",
          "2024-08-21 12:00:00+00:00",
          "2024-08-21 13:00:00+00:00",
          "2024-08-21 14:00:00+00:00",
          "2024-08-21 15:00:00+00:00",
          "2024-08-21 16:00:00+00:00",
          "2024-08-21 17:00:00+00:00",
          "2024-08-21 18:00:00+00:00",
          "2024-08-21 19:00:00+00:00",
          "2024-08-21 20:00:00+00:00",
          "2024-08-21 21:00:00+00:00",
          "2024-08-21 22:00:00+00:00",
          "2024-08-21 23:00:00+00:00",
          "2024-08-22 00:00:00+00:00",
          "2024-08-22 01:00:00+00:00",
          "2024-08-22 02:00:00+00:00",
          "2024-08-22 03:00:00+00:00",
          "2024-08-22 04:00:00+00:00",
          "2024-08-22 05:00:00+00:00",
          "2024-08-22 06:00:00+00:00",
          "2024-08-22 07:00:00+00:00",
          "2024-08-22 08:00:00+00:00",
          "2024-08-22 09:00:00+00:00",
          "2024-08-22 10:00:00+00:00",
          "2024-08-22 11:00:00+00:00",
          "2024-08-22 12:00:00+00:00"
         ],
         "y": [
          6.6,
          6.6,
          6.8,
          7.4,
          6.9,
          6.9,
          7.5,
          7.5,
          7.8,
          7.3,
          7.2,
          6.9,
          6.8,
          7.2,
          6.8,
          6.3,
          5.7,
          4.8,
          4.6,
          4.4,
          4.5,
          4.5,
          4.6,
          5,
          6.8,
          6.9,
          7,
          7.1,
          7.2,
          7.5,
          6.6,
          4.8,
          3.9,
          4.2,
          3.9,
          3.3,
          2.8,
          2.3,
          2.5,
          2.6,
          2.4,
          2.6,
          2.6,
          3,
          2.7,
          3.3,
          3,
          2.6,
          2.7,
          2.7,
          2.9,
          3,
          3.3,
          3.4,
          3.3,
          3.4,
          3.5,
          3.6,
          3.5,
          3.5,
          3.6,
          4.5,
          4.8,
          5,
          5.2,
          5.6,
          5.6,
          5.6,
          5.7,
          5.9,
          6,
          6,
          6.2,
          6.5,
          8.3,
          9.2,
          9.6,
          10.2,
          9.4,
          8.3,
          7.6,
          8.8,
          9.2,
          9.8,
          11.3,
          13.5,
          13.8,
          11.5,
          11.7,
          11.3,
          9.5,
          7.5,
          6.1,
          7,
          6.2,
          5.5,
          5.1,
          4.8,
          3.1,
          3.2,
          3,
          2.8,
          3,
          2.8,
          3.2,
          3.3,
          3.6,
          4.3,
          4.4,
          4.7,
          5,
          5.2,
          5.3,
          5.2,
          5.4,
          5.8,
          5.9,
          5.3,
          5.5,
          5.2,
          4.8,
          4.6,
          4.3,
          4.4,
          4,
          3.6,
          3.8,
          3.9,
          3.7,
          4,
          3.9,
          4.3,
          5.8,
          5.4,
          5.6,
          5.4,
          5.2,
          5.1,
          5,
          4.8,
          4.7,
          4.5,
          4.5,
          4.5,
          5,
          4.8,
          4.7,
          5.7,
          7,
          7,
          7.9,
          8.4,
          7.6,
          8.6,
          9.3,
          9.1,
          5.9,
          5.9,
          6,
          6.2,
          5.7,
          5.2,
          5.2,
          5.3,
          5.4,
          4.7,
          4.6,
          4.6,
          5.1,
          4.3,
          4,
          4.3,
          4.4,
          4.1,
          3.6,
          3,
          2.9,
          2.9,
          2.9,
          2.7,
          2.7,
          2.4,
          2.5,
          2.6,
          2.7,
          2.6,
          2.7,
          2.8
         ]
        },
        {
         "mode": "markers",
         "name": "Train Prediction",
         "type": "scatter",
         "x": [
          "2024-08-14 17:00:00+00:00",
          "2024-08-14 18:00:00+00:00",
          "2024-08-14 19:00:00+00:00",
          "2024-08-14 20:00:00+00:00",
          "2024-08-14 21:00:00+00:00",
          "2024-08-14 22:00:00+00:00",
          "2024-08-14 23:00:00+00:00",
          "2024-08-15 00:00:00+00:00",
          "2024-08-15 01:00:00+00:00",
          "2024-08-15 02:00:00+00:00",
          "2024-08-15 03:00:00+00:00",
          "2024-08-15 04:00:00+00:00",
          "2024-08-15 05:00:00+00:00",
          "2024-08-15 06:00:00+00:00",
          "2024-08-15 07:00:00+00:00",
          "2024-08-15 08:00:00+00:00",
          "2024-08-15 09:00:00+00:00",
          "2024-08-15 10:00:00+00:00",
          "2024-08-15 11:00:00+00:00",
          "2024-08-15 12:00:00+00:00",
          "2024-08-15 13:00:00+00:00",
          "2024-08-15 14:00:00+00:00",
          "2024-08-15 15:00:00+00:00",
          "2024-08-15 16:00:00+00:00",
          "2024-08-15 17:00:00+00:00",
          "2024-08-15 18:00:00+00:00",
          "2024-08-15 19:00:00+00:00",
          "2024-08-15 20:00:00+00:00",
          "2024-08-15 21:00:00+00:00",
          "2024-08-15 22:00:00+00:00",
          "2024-08-15 23:00:00+00:00",
          "2024-08-16 00:00:00+00:00",
          "2024-08-16 01:00:00+00:00",
          "2024-08-16 02:00:00+00:00",
          "2024-08-16 03:00:00+00:00",
          "2024-08-16 04:00:00+00:00",
          "2024-08-16 05:00:00+00:00",
          "2024-08-16 06:00:00+00:00",
          "2024-08-16 07:00:00+00:00",
          "2024-08-16 08:00:00+00:00",
          "2024-08-16 09:00:00+00:00",
          "2024-08-16 10:00:00+00:00",
          "2024-08-16 11:00:00+00:00",
          "2024-08-16 12:00:00+00:00",
          "2024-08-16 13:00:00+00:00",
          "2024-08-16 14:00:00+00:00",
          "2024-08-16 15:00:00+00:00",
          "2024-08-16 16:00:00+00:00",
          "2024-08-16 17:00:00+00:00",
          "2024-08-16 18:00:00+00:00",
          "2024-08-16 19:00:00+00:00",
          "2024-08-16 20:00:00+00:00",
          "2024-08-16 21:00:00+00:00",
          "2024-08-16 22:00:00+00:00",
          "2024-08-16 23:00:00+00:00",
          "2024-08-17 00:00:00+00:00",
          "2024-08-17 01:00:00+00:00",
          "2024-08-17 02:00:00+00:00",
          "2024-08-17 03:00:00+00:00",
          "2024-08-17 04:00:00+00:00",
          "2024-08-17 05:00:00+00:00",
          "2024-08-17 06:00:00+00:00",
          "2024-08-17 07:00:00+00:00",
          "2024-08-17 08:00:00+00:00",
          "2024-08-17 09:00:00+00:00",
          "2024-08-17 10:00:00+00:00",
          "2024-08-17 11:00:00+00:00",
          "2024-08-17 12:00:00+00:00",
          "2024-08-17 13:00:00+00:00",
          "2024-08-17 14:00:00+00:00",
          "2024-08-17 15:00:00+00:00",
          "2024-08-17 16:00:00+00:00",
          "2024-08-17 17:00:00+00:00",
          "2024-08-17 18:00:00+00:00",
          "2024-08-17 19:00:00+00:00",
          "2024-08-17 20:00:00+00:00",
          "2024-08-17 21:00:00+00:00",
          "2024-08-17 22:00:00+00:00",
          "2024-08-17 23:00:00+00:00",
          "2024-08-18 00:00:00+00:00",
          "2024-08-18 01:00:00+00:00",
          "2024-08-18 02:00:00+00:00",
          "2024-08-18 03:00:00+00:00",
          "2024-08-18 04:00:00+00:00",
          "2024-08-18 05:00:00+00:00",
          "2024-08-18 06:00:00+00:00",
          "2024-08-18 07:00:00+00:00",
          "2024-08-18 08:00:00+00:00",
          "2024-08-18 09:00:00+00:00",
          "2024-08-18 10:00:00+00:00",
          "2024-08-18 11:00:00+00:00",
          "2024-08-18 12:00:00+00:00",
          "2024-08-18 13:00:00+00:00",
          "2024-08-18 14:00:00+00:00",
          "2024-08-18 15:00:00+00:00",
          "2024-08-18 16:00:00+00:00",
          "2024-08-18 17:00:00+00:00",
          "2024-08-18 18:00:00+00:00",
          "2024-08-18 19:00:00+00:00",
          "2024-08-18 20:00:00+00:00",
          "2024-08-18 21:00:00+00:00",
          "2024-08-18 22:00:00+00:00",
          "2024-08-18 23:00:00+00:00",
          "2024-08-19 00:00:00+00:00",
          "2024-08-19 01:00:00+00:00",
          "2024-08-19 02:00:00+00:00",
          "2024-08-19 03:00:00+00:00",
          "2024-08-19 04:00:00+00:00",
          "2024-08-19 05:00:00+00:00",
          "2024-08-19 06:00:00+00:00",
          "2024-08-19 07:00:00+00:00",
          "2024-08-19 08:00:00+00:00",
          "2024-08-19 09:00:00+00:00",
          "2024-08-19 10:00:00+00:00",
          "2024-08-19 11:00:00+00:00",
          "2024-08-19 12:00:00+00:00",
          "2024-08-19 13:00:00+00:00",
          "2024-08-19 14:00:00+00:00",
          "2024-08-19 15:00:00+00:00",
          "2024-08-19 16:00:00+00:00",
          "2024-08-19 17:00:00+00:00",
          "2024-08-19 18:00:00+00:00",
          "2024-08-19 19:00:00+00:00",
          "2024-08-19 20:00:00+00:00",
          "2024-08-19 21:00:00+00:00",
          "2024-08-19 22:00:00+00:00",
          "2024-08-19 23:00:00+00:00",
          "2024-08-20 00:00:00+00:00",
          "2024-08-20 01:00:00+00:00",
          "2024-08-20 02:00:00+00:00",
          "2024-08-20 03:00:00+00:00",
          "2024-08-20 04:00:00+00:00",
          "2024-08-20 05:00:00+00:00",
          "2024-08-20 06:00:00+00:00"
         ],
         "y": [
          4.532995223999023,
          4.763095855712891,
          4.650806903839111,
          4.679879188537598,
          4.720431804656982,
          4.831097602844238,
          4.989627838134766,
          5.0163421630859375,
          4.983138084411621,
          5.130833625793457,
          5.625422477722168,
          5.405440807342529,
          5.436323642730713,
          5.495765209197998,
          5.253875255584717,
          5.528345584869385,
          5.512498378753662,
          5.604332447052002,
          5.334150314331055,
          5.242247581481934,
          5.415810585021973,
          5.183984279632568,
          4.876559734344482,
          4.398338317871094,
          3.687257766723633,
          3.370479106903076,
          3.0680532455444336,
          3.114727258682251,
          3.3388919830322266,
          3.5932562351226807,
          3.7290453910827637,
          4.739848613739014,
          4.847204685211182,
          5.028038024902344,
          5.152899265289307,
          5.098021984100342,
          5.020417213439941,
          4.434246063232422,
          3.22908353805542,
          2.6649742126464844,
          2.7598233222961426,
          2.454925775527954,
          2.117913007736206,
          2.1119842529296875,
          1.997950792312622,
          2.1822001934051514,
          2.2598986625671387,
          2.228060483932495,
          2.3320019245147705,
          2.3938076496124268,
          2.560295820236206,
          2.4125030040740967,
          2.734516143798828,
          2.595249652862549,
          2.3300814628601074,
          2.285895824432373,
          2.357048749923706,
          2.386829137802124,
          2.5455572605133057,
          2.7806553840637207,
          2.8079957962036133,
          2.709843397140503,
          2.7162795066833496,
          2.6946969032287598,
          2.872891426086426,
          2.865384340286255,
          2.8234314918518066,
          2.7327728271484375,
          3.5451080799102783,
          3.7123115062713623,
          3.741682767868042,
          3.9895331859588623,
          4.283999443054199,
          4.259757995605469,
          4.3079400062561035,
          4.391078472137451,
          4.506452560424805,
          4.508420944213867,
          4.509524345397949,
          4.684978008270264,
          4.90941047668457,
          5.964804649353027,
          6.425145149230957,
          6.8505401611328125,
          7.180900573730469,
          6.8618550300598145,
          5.931031703948975,
          5.71551513671875,
          6.110328197479248,
          6.253943920135498,
          7.696136474609375,
          8.824155807495117,
          9.513590812683105,
          9.130151748657227,
          7.955673694610596,
          7.5813751220703125,
          7.101185321807861,
          6.221261978149414,
          4.924761772155762,
          4.174725532531738,
          4.574517250061035,
          4.584250450134277,
          4.378720283508301,
          3.9799036979675293,
          3.624744176864624,
          2.3915319442749023,
          2.476954936981201,
          2.4526166915893555,
          2.2471323013305664,
          2.4781975746154785,
          2.578274965286255,
          2.714630365371704,
          2.6702024936676025,
          2.8662617206573486,
          3.3474748134613037,
          3.428230047225952,
          3.513498306274414,
          3.6519463062286377,
          3.809521436691284,
          3.886878490447998,
          3.851386785507202,
          3.9586105346679688,
          4.141759872436523,
          4.225135326385498,
          3.879647970199585,
          4.115838050842285,
          3.8851702213287354,
          3.5577375888824463,
          3.355750322341919,
          3.2261409759521484,
          3.3156936168670654,
          3.0766992568969727,
          2.8336310386657715,
          2.9712016582489014
         ]
        },
        {
         "mode": "markers",
         "name": "Test Prediction",
         "type": "scatter",
         "x": [
          "2024-08-20 07:00:00+00:00",
          "2024-08-20 08:00:00+00:00",
          "2024-08-20 09:00:00+00:00",
          "2024-08-20 10:00:00+00:00",
          "2024-08-20 11:00:00+00:00",
          "2024-08-20 12:00:00+00:00",
          "2024-08-20 13:00:00+00:00",
          "2024-08-20 14:00:00+00:00",
          "2024-08-20 15:00:00+00:00",
          "2024-08-20 16:00:00+00:00",
          "2024-08-20 17:00:00+00:00",
          "2024-08-20 18:00:00+00:00",
          "2024-08-20 19:00:00+00:00",
          "2024-08-20 20:00:00+00:00",
          "2024-08-20 21:00:00+00:00",
          "2024-08-20 22:00:00+00:00",
          "2024-08-20 23:00:00+00:00",
          "2024-08-21 00:00:00+00:00",
          "2024-08-21 01:00:00+00:00",
          "2024-08-21 02:00:00+00:00",
          "2024-08-21 03:00:00+00:00",
          "2024-08-21 04:00:00+00:00",
          "2024-08-21 05:00:00+00:00",
          "2024-08-21 06:00:00+00:00",
          "2024-08-21 07:00:00+00:00",
          "2024-08-21 08:00:00+00:00",
          "2024-08-21 09:00:00+00:00",
          "2024-08-21 10:00:00+00:00",
          "2024-08-21 11:00:00+00:00",
          "2024-08-21 12:00:00+00:00",
          "2024-08-21 13:00:00+00:00",
          "2024-08-21 14:00:00+00:00",
          "2024-08-21 15:00:00+00:00",
          "2024-08-21 16:00:00+00:00",
          "2024-08-21 17:00:00+00:00",
          "2024-08-21 18:00:00+00:00",
          "2024-08-21 19:00:00+00:00",
          "2024-08-21 20:00:00+00:00",
          "2024-08-21 21:00:00+00:00",
          "2024-08-21 22:00:00+00:00",
          "2024-08-21 23:00:00+00:00",
          "2024-08-22 00:00:00+00:00",
          "2024-08-22 01:00:00+00:00",
          "2024-08-22 02:00:00+00:00",
          "2024-08-22 03:00:00+00:00",
          "2024-08-22 04:00:00+00:00",
          "2024-08-22 05:00:00+00:00",
          "2024-08-22 06:00:00+00:00",
          "2024-08-22 07:00:00+00:00",
          "2024-08-22 08:00:00+00:00",
          "2024-08-22 09:00:00+00:00",
          "2024-08-22 10:00:00+00:00",
          "2024-08-22 11:00:00+00:00",
          "2024-08-22 12:00:00+00:00"
         ],
         "y": [
          4.033621788024902,
          4.138401985168457,
          4.072586536407471,
          3.873645544052124,
          3.6964621543884277,
          3.752622365951538,
          3.554140090942383,
          3.4302873611450195,
          3.352267026901245,
          3.4593899250030518,
          3.518970251083374,
          3.8558857440948486,
          3.673879861831665,
          3.6744232177734375,
          4.424649238586426,
          5.261950492858887,
          5.278439521789551,
          5.805469989776611,
          6.058242321014404,
          5.646421432495117,
          6.114943504333496,
          6.319793701171875,
          6.523192882537842,
          4.654808044433594,
          4.50640869140625,
          4.6073503494262695,
          4.604929447174072,
          4.143974304199219,
          3.979011058807373,
          3.830064058303833,
          3.8688716888427734,
          3.984577178955078,
          3.6763088703155518,
          3.574981451034546,
          3.4435882568359375,
          3.6672797203063965,
          3.407151699066162,
          3.2299323081970215,
          3.133568525314331,
          3.385246992111206,
          3.451561212539673,
          3.0890650749206543,
          2.464158535003662,
          2.2871599197387695,
          2.2310309410095215,
          2.4061596393585205,
          2.4234213829040527,
          2.4018654823303223,
          2.120851993560791,
          2.262627124786377,
          2.359661102294922,
          2.456033229827881,
          2.361558198928833,
          2.4607412815093994
         ]
        }
       ],
       "layout": {
        "template": {
         "data": {
          "bar": [
           {
            "error_x": {
             "color": "#2a3f5f"
            },
            "error_y": {
             "color": "#2a3f5f"
            },
            "marker": {
             "line": {
              "color": "#E5ECF6",
              "width": 0.5
             },
             "pattern": {
              "fillmode": "overlay",
              "size": 10,
              "solidity": 0.2
             }
            },
            "type": "bar"
           }
          ],
          "barpolar": [
           {
            "marker": {
             "line": {
              "color": "#E5ECF6",
              "width": 0.5
             },
             "pattern": {
              "fillmode": "overlay",
              "size": 10,
              "solidity": 0.2
             }
            },
            "type": "barpolar"
           }
          ],
          "carpet": [
           {
            "aaxis": {
             "endlinecolor": "#2a3f5f",
             "gridcolor": "white",
             "linecolor": "white",
             "minorgridcolor": "white",
             "startlinecolor": "#2a3f5f"
            },
            "baxis": {
             "endlinecolor": "#2a3f5f",
             "gridcolor": "white",
             "linecolor": "white",
             "minorgridcolor": "white",
             "startlinecolor": "#2a3f5f"
            },
            "type": "carpet"
           }
          ],
          "choropleth": [
           {
            "colorbar": {
             "outlinewidth": 0,
             "ticks": ""
            },
            "type": "choropleth"
           }
          ],
          "contour": [
           {
            "colorbar": {
             "outlinewidth": 0,
             "ticks": ""
            },
            "colorscale": [
             [
              0,
              "#0d0887"
             ],
             [
              0.1111111111111111,
              "#46039f"
             ],
             [
              0.2222222222222222,
              "#7201a8"
             ],
             [
              0.3333333333333333,
              "#9c179e"
             ],
             [
              0.4444444444444444,
              "#bd3786"
             ],
             [
              0.5555555555555556,
              "#d8576b"
             ],
             [
              0.6666666666666666,
              "#ed7953"
             ],
             [
              0.7777777777777778,
              "#fb9f3a"
             ],
             [
              0.8888888888888888,
              "#fdca26"
             ],
             [
              1,
              "#f0f921"
             ]
            ],
            "type": "contour"
           }
          ],
          "contourcarpet": [
           {
            "colorbar": {
             "outlinewidth": 0,
             "ticks": ""
            },
            "type": "contourcarpet"
           }
          ],
          "heatmap": [
           {
            "colorbar": {
             "outlinewidth": 0,
             "ticks": ""
            },
            "colorscale": [
             [
              0,
              "#0d0887"
             ],
             [
              0.1111111111111111,
              "#46039f"
             ],
             [
              0.2222222222222222,
              "#7201a8"
             ],
             [
              0.3333333333333333,
              "#9c179e"
             ],
             [
              0.4444444444444444,
              "#bd3786"
             ],
             [
              0.5555555555555556,
              "#d8576b"
             ],
             [
              0.6666666666666666,
              "#ed7953"
             ],
             [
              0.7777777777777778,
              "#fb9f3a"
             ],
             [
              0.8888888888888888,
              "#fdca26"
             ],
             [
              1,
              "#f0f921"
             ]
            ],
            "type": "heatmap"
           }
          ],
          "heatmapgl": [
           {
            "colorbar": {
             "outlinewidth": 0,
             "ticks": ""
            },
            "colorscale": [
             [
              0,
              "#0d0887"
             ],
             [
              0.1111111111111111,
              "#46039f"
             ],
             [
              0.2222222222222222,
              "#7201a8"
             ],
             [
              0.3333333333333333,
              "#9c179e"
             ],
             [
              0.4444444444444444,
              "#bd3786"
             ],
             [
              0.5555555555555556,
              "#d8576b"
             ],
             [
              0.6666666666666666,
              "#ed7953"
             ],
             [
              0.7777777777777778,
              "#fb9f3a"
             ],
             [
              0.8888888888888888,
              "#fdca26"
             ],
             [
              1,
              "#f0f921"
             ]
            ],
            "type": "heatmapgl"
           }
          ],
          "histogram": [
           {
            "marker": {
             "pattern": {
              "fillmode": "overlay",
              "size": 10,
              "solidity": 0.2
             }
            },
            "type": "histogram"
           }
          ],
          "histogram2d": [
           {
            "colorbar": {
             "outlinewidth": 0,
             "ticks": ""
            },
            "colorscale": [
             [
              0,
              "#0d0887"
             ],
             [
              0.1111111111111111,
              "#46039f"
             ],
             [
              0.2222222222222222,
              "#7201a8"
             ],
             [
              0.3333333333333333,
              "#9c179e"
             ],
             [
              0.4444444444444444,
              "#bd3786"
             ],
             [
              0.5555555555555556,
              "#d8576b"
             ],
             [
              0.6666666666666666,
              "#ed7953"
             ],
             [
              0.7777777777777778,
              "#fb9f3a"
             ],
             [
              0.8888888888888888,
              "#fdca26"
             ],
             [
              1,
              "#f0f921"
             ]
            ],
            "type": "histogram2d"
           }
          ],
          "histogram2dcontour": [
           {
            "colorbar": {
             "outlinewidth": 0,
             "ticks": ""
            },
            "colorscale": [
             [
              0,
              "#0d0887"
             ],
             [
              0.1111111111111111,
              "#46039f"
             ],
             [
              0.2222222222222222,
              "#7201a8"
             ],
             [
              0.3333333333333333,
              "#9c179e"
             ],
             [
              0.4444444444444444,
              "#bd3786"
             ],
             [
              0.5555555555555556,
              "#d8576b"
             ],
             [
              0.6666666666666666,
              "#ed7953"
             ],
             [
              0.7777777777777778,
              "#fb9f3a"
             ],
             [
              0.8888888888888888,
              "#fdca26"
             ],
             [
              1,
              "#f0f921"
             ]
            ],
            "type": "histogram2dcontour"
           }
          ],
          "mesh3d": [
           {
            "colorbar": {
             "outlinewidth": 0,
             "ticks": ""
            },
            "type": "mesh3d"
           }
          ],
          "parcoords": [
           {
            "line": {
             "colorbar": {
              "outlinewidth": 0,
              "ticks": ""
             }
            },
            "type": "parcoords"
           }
          ],
          "pie": [
           {
            "automargin": true,
            "type": "pie"
           }
          ],
          "scatter": [
           {
            "fillpattern": {
             "fillmode": "overlay",
             "size": 10,
             "solidity": 0.2
            },
            "type": "scatter"
           }
          ],
          "scatter3d": [
           {
            "line": {
             "colorbar": {
              "outlinewidth": 0,
              "ticks": ""
             }
            },
            "marker": {
             "colorbar": {
              "outlinewidth": 0,
              "ticks": ""
             }
            },
            "type": "scatter3d"
           }
          ],
          "scattercarpet": [
           {
            "marker": {
             "colorbar": {
              "outlinewidth": 0,
              "ticks": ""
             }
            },
            "type": "scattercarpet"
           }
          ],
          "scattergeo": [
           {
            "marker": {
             "colorbar": {
              "outlinewidth": 0,
              "ticks": ""
             }
            },
            "type": "scattergeo"
           }
          ],
          "scattergl": [
           {
            "marker": {
             "colorbar": {
              "outlinewidth": 0,
              "ticks": ""
             }
            },
            "type": "scattergl"
           }
          ],
          "scattermapbox": [
           {
            "marker": {
             "colorbar": {
              "outlinewidth": 0,
              "ticks": ""
             }
            },
            "type": "scattermapbox"
           }
          ],
          "scatterpolar": [
           {
            "marker": {
             "colorbar": {
              "outlinewidth": 0,
              "ticks": ""
             }
            },
            "type": "scatterpolar"
           }
          ],
          "scatterpolargl": [
           {
            "marker": {
             "colorbar": {
              "outlinewidth": 0,
              "ticks": ""
             }
            },
            "type": "scatterpolargl"
           }
          ],
          "scatterternary": [
           {
            "marker": {
             "colorbar": {
              "outlinewidth": 0,
              "ticks": ""
             }
            },
            "type": "scatterternary"
           }
          ],
          "surface": [
           {
            "colorbar": {
             "outlinewidth": 0,
             "ticks": ""
            },
            "colorscale": [
             [
              0,
              "#0d0887"
             ],
             [
              0.1111111111111111,
              "#46039f"
             ],
             [
              0.2222222222222222,
              "#7201a8"
             ],
             [
              0.3333333333333333,
              "#9c179e"
             ],
             [
              0.4444444444444444,
              "#bd3786"
             ],
             [
              0.5555555555555556,
              "#d8576b"
             ],
             [
              0.6666666666666666,
              "#ed7953"
             ],
             [
              0.7777777777777778,
              "#fb9f3a"
             ],
             [
              0.8888888888888888,
              "#fdca26"
             ],
             [
              1,
              "#f0f921"
             ]
            ],
            "type": "surface"
           }
          ],
          "table": [
           {
            "cells": {
             "fill": {
              "color": "#EBF0F8"
             },
             "line": {
              "color": "white"
             }
            },
            "header": {
             "fill": {
              "color": "#C8D4E3"
             },
             "line": {
              "color": "white"
             }
            },
            "type": "table"
           }
          ]
         },
         "layout": {
          "annotationdefaults": {
           "arrowcolor": "#2a3f5f",
           "arrowhead": 0,
           "arrowwidth": 1
          },
          "autotypenumbers": "strict",
          "coloraxis": {
           "colorbar": {
            "outlinewidth": 0,
            "ticks": ""
           }
          },
          "colorscale": {
           "diverging": [
            [
             0,
             "#8e0152"
            ],
            [
             0.1,
             "#c51b7d"
            ],
            [
             0.2,
             "#de77ae"
            ],
            [
             0.3,
             "#f1b6da"
            ],
            [
             0.4,
             "#fde0ef"
            ],
            [
             0.5,
             "#f7f7f7"
            ],
            [
             0.6,
             "#e6f5d0"
            ],
            [
             0.7,
             "#b8e186"
            ],
            [
             0.8,
             "#7fbc41"
            ],
            [
             0.9,
             "#4d9221"
            ],
            [
             1,
             "#276419"
            ]
           ],
           "sequential": [
            [
             0,
             "#0d0887"
            ],
            [
             0.1111111111111111,
             "#46039f"
            ],
            [
             0.2222222222222222,
             "#7201a8"
            ],
            [
             0.3333333333333333,
             "#9c179e"
            ],
            [
             0.4444444444444444,
             "#bd3786"
            ],
            [
             0.5555555555555556,
             "#d8576b"
            ],
            [
             0.6666666666666666,
             "#ed7953"
            ],
            [
             0.7777777777777778,
             "#fb9f3a"
            ],
            [
             0.8888888888888888,
             "#fdca26"
            ],
            [
             1,
             "#f0f921"
            ]
           ],
           "sequentialminus": [
            [
             0,
             "#0d0887"
            ],
            [
             0.1111111111111111,
             "#46039f"
            ],
            [
             0.2222222222222222,
             "#7201a8"
            ],
            [
             0.3333333333333333,
             "#9c179e"
            ],
            [
             0.4444444444444444,
             "#bd3786"
            ],
            [
             0.5555555555555556,
             "#d8576b"
            ],
            [
             0.6666666666666666,
             "#ed7953"
            ],
            [
             0.7777777777777778,
             "#fb9f3a"
            ],
            [
             0.8888888888888888,
             "#fdca26"
            ],
            [
             1,
             "#f0f921"
            ]
           ]
          },
          "colorway": [
           "#636efa",
           "#EF553B",
           "#00cc96",
           "#ab63fa",
           "#FFA15A",
           "#19d3f3",
           "#FF6692",
           "#B6E880",
           "#FF97FF",
           "#FECB52"
          ],
          "font": {
           "color": "#2a3f5f"
          },
          "geo": {
           "bgcolor": "white",
           "lakecolor": "white",
           "landcolor": "#E5ECF6",
           "showlakes": true,
           "showland": true,
           "subunitcolor": "white"
          },
          "hoverlabel": {
           "align": "left"
          },
          "hovermode": "closest",
          "mapbox": {
           "style": "light"
          },
          "paper_bgcolor": "white",
          "plot_bgcolor": "#E5ECF6",
          "polar": {
           "angularaxis": {
            "gridcolor": "white",
            "linecolor": "white",
            "ticks": ""
           },
           "bgcolor": "#E5ECF6",
           "radialaxis": {
            "gridcolor": "white",
            "linecolor": "white",
            "ticks": ""
           }
          },
          "scene": {
           "xaxis": {
            "backgroundcolor": "#E5ECF6",
            "gridcolor": "white",
            "gridwidth": 2,
            "linecolor": "white",
            "showbackground": true,
            "ticks": "",
            "zerolinecolor": "white"
           },
           "yaxis": {
            "backgroundcolor": "#E5ECF6",
            "gridcolor": "white",
            "gridwidth": 2,
            "linecolor": "white",
            "showbackground": true,
            "ticks": "",
            "zerolinecolor": "white"
           },
           "zaxis": {
            "backgroundcolor": "#E5ECF6",
            "gridcolor": "white",
            "gridwidth": 2,
            "linecolor": "white",
            "showbackground": true,
            "ticks": "",
            "zerolinecolor": "white"
           }
          },
          "shapedefaults": {
           "line": {
            "color": "#2a3f5f"
           }
          },
          "ternary": {
           "aaxis": {
            "gridcolor": "white",
            "linecolor": "white",
            "ticks": ""
           },
           "baxis": {
            "gridcolor": "white",
            "linecolor": "white",
            "ticks": ""
           },
           "bgcolor": "#E5ECF6",
           "caxis": {
            "gridcolor": "white",
            "linecolor": "white",
            "ticks": ""
           }
          },
          "title": {
           "x": 0.05
          },
          "xaxis": {
           "automargin": true,
           "gridcolor": "white",
           "linecolor": "white",
           "ticks": "",
           "title": {
            "standoff": 15
           },
           "zerolinecolor": "white",
           "zerolinewidth": 2
          },
          "yaxis": {
           "automargin": true,
           "gridcolor": "white",
           "linecolor": "white",
           "ticks": "",
           "title": {
            "standoff": 15
           },
           "zerolinecolor": "white",
           "zerolinewidth": 2
          }
         }
        },
        "title": {
         "text": "Predicted vs. Actual, LSTM"
        }
       }
      }
     },
     "metadata": {},
     "output_type": "display_data"
    }
   ],
   "source": [
    "series_name = '1064'\n",
    "model_type = 'LSTM'\n",
    "\n",
    "plot_results(eval_df, series_name, model_type)"
   ]
  }
 ],
 "metadata": {
  "kernelspec": {
   "display_name": ".venv",
   "language": "python",
   "name": "python3"
  },
  "language_info": {
   "codemirror_mode": {
    "name": "ipython",
    "version": 3
   },
   "file_extension": ".py",
   "mimetype": "text/x-python",
   "name": "python",
   "nbconvert_exporter": "python",
   "pygments_lexer": "ipython3",
   "version": "3.12.5"
  }
 },
 "nbformat": 4,
 "nbformat_minor": 2
}
